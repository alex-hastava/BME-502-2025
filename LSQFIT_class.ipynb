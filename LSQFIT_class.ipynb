{
 "cells": [
  {
   "cell_type": "code",
   "execution_count": 3,
   "id": "2130cecd-9456-41eb-a195-58e8fb5b89ab",
   "metadata": {},
   "outputs": [
    {
     "name": "stderr",
     "output_type": "stream",
     "text": [
      "\u001b[32m\u001b[1m  Activating\u001b[22m\u001b[39m project at `~/Documents/programming/BME-502-2025`\n"
     ]
    }
   ],
   "source": [
    "import Pkg\n",
    "Pkg.activate(\".\")"
   ]
  },
  {
   "cell_type": "code",
   "execution_count": 4,
   "id": "89f9952e-2925-41b0-9a8f-4f3af18c66e6",
   "metadata": {},
   "outputs": [
    {
     "name": "stderr",
     "output_type": "stream",
     "text": [
      "\u001b[32m\u001b[1m    Updating\u001b[22m\u001b[39m registry at `~/.julia/registries/NeurobloxRegistry`\n",
      "\u001b[32m\u001b[1m    Updating\u001b[22m\u001b[39m git-repo `https://github.com/Neuroblox/NeurobloxRegistry`\n",
      "\u001b[32m\u001b[1m    Updating\u001b[22m\u001b[39m registry at `~/.julia/registries/General.toml`\n",
      "\u001b[32m\u001b[1m   Resolving\u001b[22m\u001b[39m package versions...\n",
      "\u001b[32m\u001b[1m  No Changes\u001b[22m\u001b[39m to `~/Documents/programming/BME-502-2025/Project.toml`\n",
      "\u001b[32m\u001b[1m  No Changes\u001b[22m\u001b[39m to `~/Documents/programming/BME-502-2025/Manifest.toml`\n"
     ]
    }
   ],
   "source": [
    "Pkg.add([\"NonlinearSolve\",\"Random\",\"Plots\",\"ForwardDiff\",\"LsqFit\",\"Statistics\"])"
   ]
  },
  {
   "cell_type": "code",
   "execution_count": 5,
   "id": "33a220d3-c722-44df-9e74-a7759d5fe38e",
   "metadata": {},
   "outputs": [],
   "source": [
    "using Plots, Random, ForwardDiff, NonlinearSolve, LsqFit, Statistics "
   ]
  },
  {
   "cell_type": "code",
   "execution_count": 6,
   "id": "83c1874a-4014-49ae-8f5e-43232e849f4f",
   "metadata": {},
   "outputs": [
    {
     "data": {
      "text/plain": [
       "11-element Vector{Float64}:\n",
       " 0.0\n",
       " 0.1\n",
       " 0.2\n",
       " 0.3\n",
       " 0.4\n",
       " 0.5\n",
       " 0.6\n",
       " 0.7\n",
       " 0.8\n",
       " 0.9\n",
       " 1.0"
      ]
     },
     "execution_count": 6,
     "metadata": {},
     "output_type": "execute_result"
    }
   ],
   "source": [
    "x = collect(0:0.1:1)"
   ]
  },
  {
   "cell_type": "code",
   "execution_count": 7,
   "id": "1cea096f-3a2b-409f-9e71-3c9782e02305",
   "metadata": {},
   "outputs": [
    {
     "data": {
      "text/plain": [
       "11-element Vector{Float64}:\n",
       " 2.0\n",
       " 1.6374615061559636\n",
       " 1.3406400920712787\n",
       " 1.097623272188053\n",
       " 0.8986579282344431\n",
       " 0.7357588823428847\n",
       " 0.6023884238244043\n",
       " 0.493193927883213\n",
       " 0.40379303598931077\n",
       " 0.33059777644317306\n",
       " 0.2706705664732254"
      ]
     },
     "execution_count": 7,
     "metadata": {},
     "output_type": "execute_result"
    }
   ],
   "source": [
    "y = 2 .* exp.(-2x)"
   ]
  },
  {
   "cell_type": "code",
   "execution_count": 8,
   "id": "2d99d517-0dc2-4775-a75c-d42e91165966",
   "metadata": {},
   "outputs": [
    {
     "data": {
      "image/png": "[encoded data removed]",
      "image/svg+xml": [
       "<?xml version=\"1.0\" encoding=\"utf-8\"?>\n",
       "<svg xmlns=\"http://www.w3.org/2000/svg\" xmlns:xlink=\"http://www.w3.org/1999/xlink\" width=\"600\" height=\"400\" viewBox=\"0 0 2400 1600\">\n",
       "<defs>\n",
       "  <clipPath id=\"clip820\">\n",
       "    <rect x=\"0\" y=\"0\" width=\"2400\" height=\"1600\"/>\n",
       "  </clipPath>\n",
       "</defs>\n",
       "<path clip-path=\"url(#clip820)\" d=\"M0 1600 L2400 1600 L2400 8.88178e-14 L0 8.88178e-14  Z\" fill=\"#ffffff\" fill-rule=\"evenodd\" fill-opacity=\"1\"/>\n",
       "<defs>\n",
       "  <clipPath id=\"clip821\">\n",
       "    <rect x=\"480\" y=\"0\" width=\"1681\" height=\"1600\"/>\n",
       "  </clipPath>\n",
       "</defs>\n",
       "<path clip-path=\"url(#clip820)\" d=\"M155.765 1486.45 L2352.76 1486.45 L2352.76 47.2441 L155.765 47.2441  Z\" fill=\"#ffffff\" fill-rule=\"evenodd\" fill-opacity=\"1\"/>\n",
       "<defs>\n",
       "  <clipPath id=\"clip822\">\n",
       "    <rect x=\"155\" y=\"47\" width=\"2198\" height=\"1440\"/>\n",
       "  </clipPath>\n",
       "</defs>\n",
       "<polyline clip-path=\"url(#clip822)\" style=\"stroke:#000000; stroke-linecap:round; stroke-linejoin:round; stroke-width:2; stroke-opacity:0.1; fill:none\" points=\"217.944,1486.45 217.944,47.2441 \"/>\n",
       "<polyline clip-path=\"url(#clip822)\" style=\"stroke:#000000; stroke-linecap:round; stroke-linejoin:round; stroke-width:2; stroke-opacity:0.1; fill:none\" points=\"736.102,1486.45 736.102,47.2441 \"/>\n",
       "<polyline clip-path=\"url(#clip822)\" style=\"stroke:#000000; stroke-linecap:round; stroke-linejoin:round; stroke-width:2; stroke-opacity:0.1; fill:none\" points=\"1254.26,1486.45 1254.26,47.2441 \"/>\n",
       "<polyline clip-path=\"url(#clip822)\" style=\"stroke:#000000; stroke-linecap:round; stroke-linejoin:round; stroke-width:2; stroke-opacity:0.1; fill:none\" points=\"1772.42,1486.45 1772.42,47.2441 \"/>\n",
       "<polyline clip-path=\"url(#clip822)\" style=\"stroke:#000000; stroke-linecap:round; stroke-linejoin:round; stroke-width:2; stroke-opacity:0.1; fill:none\" points=\"2290.58,1486.45 2290.58,47.2441 \"/>\n",
       "<polyline clip-path=\"url(#clip822)\" style=\"stroke:#000000; stroke-linecap:round; stroke-linejoin:round; stroke-width:2; stroke-opacity:0.1; fill:none\" points=\"155.765,1265.66 2352.76,1265.66 \"/>\n",
       "<polyline clip-path=\"url(#clip822)\" style=\"stroke:#000000; stroke-linecap:round; stroke-linejoin:round; stroke-width:2; stroke-opacity:0.1; fill:none\" points=\"155.765,873.101 2352.76,873.101 \"/>\n",
       "<polyline clip-path=\"url(#clip822)\" style=\"stroke:#000000; stroke-linecap:round; stroke-linejoin:round; stroke-width:2; stroke-opacity:0.1; fill:none\" points=\"155.765,480.539 2352.76,480.539 \"/>\n",
       "<polyline clip-path=\"url(#clip822)\" style=\"stroke:#000000; stroke-linecap:round; stroke-linejoin:round; stroke-width:2; stroke-opacity:0.1; fill:none\" points=\"155.765,87.9763 2352.76,87.9763 \"/>\n",
       "<polyline clip-path=\"url(#clip820)\" style=\"stroke:#000000; stroke-linecap:round; stroke-linejoin:round; stroke-width:4; stroke-opacity:1; fill:none\" points=\"155.765,1486.45 2352.76,1486.45 \"/>\n",
       "<polyline clip-path=\"url(#clip820)\" style=\"stroke:#000000; stroke-linecap:round; stroke-linejoin:round; stroke-width:4; stroke-opacity:1; fill:none\" points=\"217.944,1486.45 217.944,1467.55 \"/>\n",
       "<polyline clip-path=\"url(#clip820)\" style=\"stroke:#000000; stroke-linecap:round; stroke-linejoin:round; stroke-width:4; stroke-opacity:1; fill:none\" points=\"736.102,1486.45 736.102,1467.55 \"/>\n",
       "<polyline clip-path=\"url(#clip820)\" style=\"stroke:#000000; stroke-linecap:round; stroke-linejoin:round; stroke-width:4; stroke-opacity:1; fill:none\" points=\"1254.26,1486.45 1254.26,1467.55 \"/>\n",
       "<polyline clip-path=\"url(#clip820)\" style=\"stroke:#000000; stroke-linecap:round; stroke-linejoin:round; stroke-width:4; stroke-opacity:1; fill:none\" points=\"1772.42,1486.45 1772.42,1467.55 \"/>\n",
       "<polyline clip-path=\"url(#clip820)\" style=\"stroke:#000000; stroke-linecap:round; stroke-linejoin:round; stroke-width:4; stroke-opacity:1; fill:none\" points=\"2290.58,1486.45 2290.58,1467.55 \"/>\n",
       "<path clip-path=\"url(#clip820)\" d=\"M180.247 1517.37 Q176.636 1517.37 174.808 1520.93 Q173.002 1524.47 173.002 1531.6 Q173.002 1538.71 174.808 1542.27 Q176.636 1545.82 180.247 1545.82 Q183.882 1545.82 185.687 1542.27 Q187.516 1538.71 187.516 1531.6 Q187.516 1524.47 185.687 1520.93 Q183.882 1517.37 180.247 1517.37 M180.247 1513.66 Q186.057 1513.66 189.113 1518.27 Q192.192 1522.85 192.192 1531.6 Q192.192 1540.33 189.113 1544.94 Q186.057 1549.52 180.247 1549.52 Q174.437 1549.52 171.358 1544.94 Q168.303 1540.33 168.303 1531.6 Q168.303 1522.85 171.358 1518.27 Q174.437 1513.66 180.247 1513.66 Z\" fill=\"#000000\" fill-rule=\"nonzero\" fill-opacity=\"1\" /><path clip-path=\"url(#clip820)\" d=\"M200.409 1542.97 L205.294 1542.97 L205.294 1548.85 L200.409 1548.85 L200.409 1542.97 Z\" fill=\"#000000\" fill-rule=\"nonzero\" fill-opacity=\"1\" /><path clip-path=\"url(#clip820)\" d=\"M225.479 1517.37 Q221.867 1517.37 220.039 1520.93 Q218.233 1524.47 218.233 1531.6 Q218.233 1538.71 220.039 1542.27 Q221.867 1545.82 225.479 1545.82 Q229.113 1545.82 230.918 1542.27 Q232.747 1538.71 232.747 1531.6 Q232.747 1524.47 230.918 1520.93 Q229.113 1517.37 225.479 1517.37 M225.479 1513.66 Q231.289 1513.66 234.344 1518.27 Q237.423 1522.85 237.423 1531.6 Q237.423 1540.33 234.344 1544.94 Q231.289 1549.52 225.479 1549.52 Q219.668 1549.52 216.59 1544.94 Q213.534 1540.33 213.534 1531.6 Q213.534 1522.85 216.59 1518.27 Q219.668 1513.66 225.479 1513.66 Z\" fill=\"#000000\" fill-rule=\"nonzero\" fill-opacity=\"1\" /><path clip-path=\"url(#clip820)\" d=\"M255.64 1517.37 Q252.029 1517.37 250.201 1520.93 Q248.395 1524.47 248.395 1531.6 Q248.395 1538.71 250.201 1542.27 Q252.029 1545.82 255.64 1545.82 Q259.275 1545.82 261.08 1542.27 Q262.909 1538.71 262.909 1531.6 Q262.909 1524.47 261.08 1520.93 Q259.275 1517.37 255.64 1517.37 M255.64 1513.66 Q261.451 1513.66 264.506 1518.27 Q267.585 1522.85 267.585 1531.6 Q267.585 1540.33 264.506 1544.94 Q261.451 1549.52 255.64 1549.52 Q249.83 1549.52 246.752 1544.94 Q243.696 1540.33 243.696 1531.6 Q243.696 1522.85 246.752 1518.27 Q249.83 1513.66 255.64 1513.66 Z\" fill=\"#000000\" fill-rule=\"nonzero\" fill-opacity=\"1\" /><path clip-path=\"url(#clip820)\" d=\"M698.903 1517.37 Q695.292 1517.37 693.463 1520.93 Q691.658 1524.47 691.658 1531.6 Q691.658 1538.71 693.463 1542.27 Q695.292 1545.82 698.903 1545.82 Q702.538 1545.82 704.343 1542.27 Q706.172 1538.71 706.172 1531.6 Q706.172 1524.47 704.343 1520.93 Q702.538 1517.37 698.903 1517.37 M698.903 1513.66 Q704.713 1513.66 707.769 1518.27 Q710.848 1522.85 710.848 1531.6 Q710.848 1540.33 707.769 1544.94 Q704.713 1549.52 698.903 1549.52 Q693.093 1549.52 690.014 1544.94 Q686.959 1540.33 686.959 1531.6 Q686.959 1522.85 690.014 1518.27 Q693.093 1513.66 698.903 1513.66 Z\" fill=\"#000000\" fill-rule=\"nonzero\" fill-opacity=\"1\" /><path clip-path=\"url(#clip820)\" d=\"M719.065 1542.97 L723.949 1542.97 L723.949 1548.85 L719.065 1548.85 L719.065 1542.97 Z\" fill=\"#000000\" fill-rule=\"nonzero\" fill-opacity=\"1\" /><path clip-path=\"url(#clip820)\" d=\"M738.162 1544.91 L754.482 1544.91 L754.482 1548.85 L732.537 1548.85 L732.537 1544.91 Q735.199 1542.16 739.783 1537.53 Q744.389 1532.88 745.57 1531.53 Q747.815 1529.01 748.695 1527.27 Q749.597 1525.51 749.597 1523.82 Q749.597 1521.07 747.653 1519.33 Q745.732 1517.6 742.63 1517.6 Q740.431 1517.6 737.977 1518.36 Q735.547 1519.13 732.769 1520.68 L732.769 1515.95 Q735.593 1514.82 738.047 1514.24 Q740.5 1513.66 742.537 1513.66 Q747.908 1513.66 751.102 1516.35 Q754.296 1519.03 754.296 1523.52 Q754.296 1525.65 753.486 1527.57 Q752.699 1529.47 750.593 1532.07 Q750.014 1532.74 746.912 1535.95 Q743.81 1539.15 738.162 1544.91 Z\" fill=\"#000000\" fill-rule=\"nonzero\" fill-opacity=\"1\" /><path clip-path=\"url(#clip820)\" d=\"M764.343 1514.29 L782.699 1514.29 L782.699 1518.22 L768.625 1518.22 L768.625 1526.7 Q769.644 1526.35 770.662 1526.19 Q771.681 1526 772.699 1526 Q778.486 1526 781.866 1529.17 Q785.245 1532.34 785.245 1537.76 Q785.245 1543.34 781.773 1546.44 Q778.301 1549.52 771.982 1549.52 Q769.806 1549.52 767.537 1549.15 Q765.292 1548.78 762.884 1548.04 L762.884 1543.34 Q764.968 1544.47 767.19 1545.03 Q769.412 1545.58 771.889 1545.58 Q775.894 1545.58 778.232 1543.48 Q780.57 1541.37 780.57 1537.76 Q780.57 1534.15 778.232 1532.04 Q775.894 1529.94 771.889 1529.94 Q770.014 1529.94 768.139 1530.35 Q766.287 1530.77 764.343 1531.65 L764.343 1514.29 Z\" fill=\"#000000\" fill-rule=\"nonzero\" fill-opacity=\"1\" /><path clip-path=\"url(#clip820)\" d=\"M1216.56 1517.37 Q1212.95 1517.37 1211.12 1520.93 Q1209.32 1524.47 1209.32 1531.6 Q1209.32 1538.71 1211.12 1542.27 Q1212.95 1545.82 1216.56 1545.82 Q1220.2 1545.82 1222 1542.27 Q1223.83 1538.71 1223.83 1531.6 Q1223.83 1524.47 1222 1520.93 Q1220.2 1517.37 1216.56 1517.37 M1216.56 1513.66 Q1222.37 1513.66 1225.43 1518.27 Q1228.51 1522.85 1228.51 1531.6 Q1228.51 1540.33 1225.43 1544.94 Q1222.37 1549.52 1216.56 1549.52 Q1210.75 1549.52 1207.68 1544.94 Q1204.62 1540.33 1204.62 1531.6 Q1204.62 1522.85 1207.68 1518.27 Q1210.75 1513.66 1216.56 1513.66 Z\" fill=\"#000000\" fill-rule=\"nonzero\" fill-opacity=\"1\" /><path clip-path=\"url(#clip820)\" d=\"M1236.73 1542.97 L1241.61 1542.97 L1241.61 1548.85 L1236.73 1548.85 L1236.73 1542.97 Z\" fill=\"#000000\" fill-rule=\"nonzero\" fill-opacity=\"1\" /><path clip-path=\"url(#clip820)\" d=\"M1251.84 1514.29 L1270.2 1514.29 L1270.2 1518.22 L1256.12 1518.22 L1256.12 1526.7 Q1257.14 1526.35 1258.16 1526.19 Q1259.18 1526 1260.2 1526 Q1265.98 1526 1269.36 1529.17 Q1272.74 1532.34 1272.74 1537.76 Q1272.74 1543.34 1269.27 1546.44 Q1265.8 1549.52 1259.48 1549.52 Q1257.3 1549.52 1255.04 1549.15 Q1252.79 1548.78 1250.38 1548.04 L1250.38 1543.34 Q1252.47 1544.47 1254.69 1545.03 Q1256.91 1545.58 1259.39 1545.58 Q1263.39 1545.58 1265.73 1543.48 Q1268.07 1541.37 1268.07 1537.76 Q1268.07 1534.15 1265.73 1532.04 Q1263.39 1529.94 1259.39 1529.94 Q1257.51 1529.94 1255.64 1530.35 Q1253.79 1530.77 1251.84 1531.65 L1251.84 1514.29 Z\" fill=\"#000000\" fill-rule=\"nonzero\" fill-opacity=\"1\" /><path clip-path=\"url(#clip820)\" d=\"M1291.96 1517.37 Q1288.35 1517.37 1286.52 1520.93 Q1284.71 1524.47 1284.71 1531.6 Q1284.71 1538.71 1286.52 1542.27 Q1288.35 1545.82 1291.96 1545.82 Q1295.59 1545.82 1297.4 1542.27 Q1299.23 1538.71 1299.23 1531.6 Q1299.23 1524.47 1297.4 1520.93 Q1295.59 1517.37 1291.96 1517.37 M1291.96 1513.66 Q1297.77 1513.66 1300.82 1518.27 Q1303.9 1522.85 1303.9 1531.6 Q1303.9 1540.33 1300.82 1544.94 Q1297.77 1549.52 1291.96 1549.52 Q1286.15 1549.52 1283.07 1544.94 Q1280.01 1540.33 1280.01 1531.6 Q1280.01 1522.85 1283.07 1518.27 Q1286.15 1513.66 1291.96 1513.66 Z\" fill=\"#000000\" fill-rule=\"nonzero\" fill-opacity=\"1\" /><path clip-path=\"url(#clip820)\" d=\"M1735.22 1517.37 Q1731.61 1517.37 1729.78 1520.93 Q1727.97 1524.47 1727.97 1531.6 Q1727.97 1538.71 1729.78 1542.27 Q1731.61 1545.82 1735.22 1545.82 Q1738.85 1545.82 1740.66 1542.27 Q1742.49 1538.71 1742.49 1531.6 Q1742.49 1524.47 1740.66 1520.93 Q1738.85 1517.37 1735.22 1517.37 M1735.22 1513.66 Q1741.03 1513.66 1744.09 1518.27 Q1747.16 1522.85 1747.16 1531.6 Q1747.16 1540.33 1744.09 1544.94 Q1741.03 1549.52 1735.22 1549.52 Q1729.41 1549.52 1726.33 1544.94 Q1723.28 1540.33 1723.28 1531.6 Q1723.28 1522.85 1726.33 1518.27 Q1729.41 1513.66 1735.22 1513.66 Z\" fill=\"#000000\" fill-rule=\"nonzero\" fill-opacity=\"1\" /><path clip-path=\"url(#clip820)\" d=\"M1755.38 1542.97 L1760.27 1542.97 L1760.27 1548.85 L1755.38 1548.85 L1755.38 1542.97 Z\" fill=\"#000000\" fill-rule=\"nonzero\" fill-opacity=\"1\" /><path clip-path=\"url(#clip820)\" d=\"M1769.27 1514.29 L1791.49 1514.29 L1791.49 1516.28 L1778.95 1548.85 L1774.06 1548.85 L1785.87 1518.22 L1769.27 1518.22 L1769.27 1514.29 Z\" fill=\"#000000\" fill-rule=\"nonzero\" fill-opacity=\"1\" /><path clip-path=\"url(#clip820)\" d=\"M1800.66 1514.29 L1819.02 1514.29 L1819.02 1518.22 L1804.94 1518.22 L1804.94 1526.7 Q1805.96 1526.35 1806.98 1526.19 Q1808 1526 1809.02 1526 Q1814.8 1526 1818.18 1529.17 Q1821.56 1532.34 1821.56 1537.76 Q1821.56 1543.34 1818.09 1546.44 Q1814.62 1549.52 1808.3 1549.52 Q1806.12 1549.52 1803.85 1549.15 Q1801.61 1548.78 1799.2 1548.04 L1799.2 1543.34 Q1801.28 1544.47 1803.51 1545.03 Q1805.73 1545.58 1808.21 1545.58 Q1812.21 1545.58 1814.55 1543.48 Q1816.89 1541.37 1816.89 1537.76 Q1816.89 1534.15 1814.55 1532.04 Q1812.21 1529.94 1808.21 1529.94 Q1806.33 1529.94 1804.46 1530.35 Q1802.6 1530.77 1800.66 1531.65 L1800.66 1514.29 Z\" fill=\"#000000\" fill-rule=\"nonzero\" fill-opacity=\"1\" /><path clip-path=\"url(#clip820)\" d=\"M2242.65 1544.91 L2250.29 1544.91 L2250.29 1518.55 L2241.98 1520.21 L2241.98 1515.95 L2250.24 1514.29 L2254.92 1514.29 L2254.92 1544.91 L2262.56 1544.91 L2262.56 1548.85 L2242.65 1548.85 L2242.65 1544.91 Z\" fill=\"#000000\" fill-rule=\"nonzero\" fill-opacity=\"1\" /><path clip-path=\"url(#clip820)\" d=\"M2272 1542.97 L2276.88 1542.97 L2276.88 1548.85 L2272 1548.85 L2272 1542.97 Z\" fill=\"#000000\" fill-rule=\"nonzero\" fill-opacity=\"1\" /><path clip-path=\"url(#clip820)\" d=\"M2297.07 1517.37 Q2293.46 1517.37 2291.63 1520.93 Q2289.82 1524.47 2289.82 1531.6 Q2289.82 1538.71 2291.63 1542.27 Q2293.46 1545.82 2297.07 1545.82 Q2300.7 1545.82 2302.51 1542.27 Q2304.34 1538.71 2304.34 1531.6 Q2304.34 1524.47 2302.51 1520.93 Q2300.7 1517.37 2297.07 1517.37 M2297.07 1513.66 Q2302.88 1513.66 2305.94 1518.27 Q2309.01 1522.85 2309.01 1531.6 Q2309.01 1540.33 2305.94 1544.94 Q2302.88 1549.52 2297.07 1549.52 Q2291.26 1549.52 2288.18 1544.94 Q2285.13 1540.33 2285.13 1531.6 Q2285.13 1522.85 2288.18 1518.27 Q2291.26 1513.66 2297.07 1513.66 Z\" fill=\"#000000\" fill-rule=\"nonzero\" fill-opacity=\"1\" /><path clip-path=\"url(#clip820)\" d=\"M2327.23 1517.37 Q2323.62 1517.37 2321.79 1520.93 Q2319.99 1524.47 2319.99 1531.6 Q2319.99 1538.71 2321.79 1542.27 Q2323.62 1545.82 2327.23 1545.82 Q2330.87 1545.82 2332.67 1542.27 Q2334.5 1538.71 2334.5 1531.6 Q2334.5 1524.47 2332.67 1520.93 Q2330.87 1517.37 2327.23 1517.37 M2327.23 1513.66 Q2333.04 1513.66 2336.1 1518.27 Q2339.18 1522.85 2339.18 1531.6 Q2339.18 1540.33 2336.1 1544.94 Q2333.04 1549.52 2327.23 1549.52 Q2321.42 1549.52 2318.34 1544.94 Q2315.29 1540.33 2315.29 1531.6 Q2315.29 1522.85 2318.34 1518.27 Q2321.42 1513.66 2327.23 1513.66 Z\" fill=\"#000000\" fill-rule=\"nonzero\" fill-opacity=\"1\" /><polyline clip-path=\"url(#clip820)\" style=\"stroke:#000000; stroke-linecap:round; stroke-linejoin:round; stroke-width:4; stroke-opacity:1; fill:none\" points=\"155.765,1486.45 155.765,47.2441 \"/>\n",
       "<polyline clip-path=\"url(#clip820)\" style=\"stroke:#000000; stroke-linecap:round; stroke-linejoin:round; stroke-width:4; stroke-opacity:1; fill:none\" points=\"155.765,1265.66 174.663,1265.66 \"/>\n",
       "<polyline clip-path=\"url(#clip820)\" style=\"stroke:#000000; stroke-linecap:round; stroke-linejoin:round; stroke-width:4; stroke-opacity:1; fill:none\" points=\"155.765,873.101 174.663,873.101 \"/>\n",
       "<polyline clip-path=\"url(#clip820)\" style=\"stroke:#000000; stroke-linecap:round; stroke-linejoin:round; stroke-width:4; stroke-opacity:1; fill:none\" points=\"155.765,480.539 174.663,480.539 \"/>\n",
       "<polyline clip-path=\"url(#clip820)\" style=\"stroke:#000000; stroke-linecap:round; stroke-linejoin:round; stroke-width:4; stroke-opacity:1; fill:none\" points=\"155.765,87.9763 174.663,87.9763 \"/>\n",
       "<path clip-path=\"url(#clip820)\" d=\"M63.5847 1251.46 Q59.9736 1251.46 58.1449 1255.03 Q56.3393 1258.57 56.3393 1265.7 Q56.3393 1272.8 58.1449 1276.37 Q59.9736 1279.91 63.5847 1279.91 Q67.2189 1279.91 69.0244 1276.37 Q70.8531 1272.8 70.8531 1265.7 Q70.8531 1258.57 69.0244 1255.03 Q67.2189 1251.46 63.5847 1251.46 M63.5847 1247.76 Q69.3948 1247.76 72.4503 1252.36 Q75.529 1256.95 75.529 1265.7 Q75.529 1274.42 72.4503 1279.03 Q69.3948 1283.61 63.5847 1283.61 Q57.7745 1283.61 54.6958 1279.03 Q51.6403 1274.42 51.6403 1265.7 Q51.6403 1256.95 54.6958 1252.36 Q57.7745 1247.76 63.5847 1247.76 Z\" fill=\"#000000\" fill-rule=\"nonzero\" fill-opacity=\"1\" /><path clip-path=\"url(#clip820)\" d=\"M83.7466 1277.06 L88.6308 1277.06 L88.6308 1282.94 L83.7466 1282.94 L83.7466 1277.06 Z\" fill=\"#000000\" fill-rule=\"nonzero\" fill-opacity=\"1\" /><path clip-path=\"url(#clip820)\" d=\"M98.8622 1248.38 L117.219 1248.38 L117.219 1252.32 L103.145 1252.32 L103.145 1260.79 Q104.163 1260.44 105.182 1260.28 Q106.2 1260.1 107.219 1260.1 Q113.006 1260.1 116.385 1263.27 Q119.765 1266.44 119.765 1271.86 Q119.765 1277.43 116.293 1280.54 Q112.82 1283.61 106.501 1283.61 Q104.325 1283.61 102.057 1283.24 Q99.8113 1282.87 97.4039 1282.13 L97.4039 1277.43 Q99.4872 1278.57 101.709 1279.12 Q103.932 1279.68 106.408 1279.68 Q110.413 1279.68 112.751 1277.57 Q115.089 1275.47 115.089 1271.86 Q115.089 1268.24 112.751 1266.14 Q110.413 1264.03 106.408 1264.03 Q104.534 1264.03 102.659 1264.45 Q100.807 1264.86 98.8622 1265.74 L98.8622 1248.38 Z\" fill=\"#000000\" fill-rule=\"nonzero\" fill-opacity=\"1\" /><path clip-path=\"url(#clip820)\" d=\"M53.3995 886.446 L61.0384 886.446 L61.0384 860.08 L52.7282 861.747 L52.7282 857.488 L60.9921 855.821 L65.668 855.821 L65.668 886.446 L73.3068 886.446 L73.3068 890.381 L53.3995 890.381 L53.3995 886.446 Z\" fill=\"#000000\" fill-rule=\"nonzero\" fill-opacity=\"1\" /><path clip-path=\"url(#clip820)\" d=\"M82.7512 884.501 L87.6354 884.501 L87.6354 890.381 L82.7512 890.381 L82.7512 884.501 Z\" fill=\"#000000\" fill-rule=\"nonzero\" fill-opacity=\"1\" /><path clip-path=\"url(#clip820)\" d=\"M107.821 858.9 Q104.209 858.9 102.381 862.465 Q100.575 866.006 100.575 873.136 Q100.575 880.242 102.381 883.807 Q104.209 887.349 107.821 887.349 Q111.455 887.349 113.26 883.807 Q115.089 880.242 115.089 873.136 Q115.089 866.006 113.26 862.465 Q111.455 858.9 107.821 858.9 M107.821 855.196 Q113.631 855.196 116.686 859.803 Q119.765 864.386 119.765 873.136 Q119.765 881.863 116.686 886.469 Q113.631 891.052 107.821 891.052 Q102.01 891.052 98.9317 886.469 Q95.8761 881.863 95.8761 873.136 Q95.8761 864.386 98.9317 859.803 Q102.01 855.196 107.821 855.196 Z\" fill=\"#000000\" fill-rule=\"nonzero\" fill-opacity=\"1\" /><path clip-path=\"url(#clip820)\" d=\"M54.3949 493.884 L62.0337 493.884 L62.0337 467.518 L53.7236 469.185 L53.7236 464.925 L61.9874 463.259 L66.6633 463.259 L66.6633 493.884 L74.3022 493.884 L74.3022 497.819 L54.3949 497.819 L54.3949 493.884 Z\" fill=\"#000000\" fill-rule=\"nonzero\" fill-opacity=\"1\" /><path clip-path=\"url(#clip820)\" d=\"M83.7466 491.939 L88.6308 491.939 L88.6308 497.819 L83.7466 497.819 L83.7466 491.939 Z\" fill=\"#000000\" fill-rule=\"nonzero\" fill-opacity=\"1\" /><path clip-path=\"url(#clip820)\" d=\"M98.8622 463.259 L117.219 463.259 L117.219 467.194 L103.145 467.194 L103.145 475.666 Q104.163 475.319 105.182 475.157 Q106.2 474.972 107.219 474.972 Q113.006 474.972 116.385 478.143 Q119.765 481.314 119.765 486.731 Q119.765 492.309 116.293 495.411 Q112.82 498.49 106.501 498.49 Q104.325 498.49 102.057 498.12 Q99.8113 497.749 97.4039 497.008 L97.4039 492.309 Q99.4872 493.444 101.709 493.999 Q103.932 494.555 106.408 494.555 Q110.413 494.555 112.751 492.448 Q115.089 490.342 115.089 486.731 Q115.089 483.12 112.751 481.013 Q110.413 478.907 106.408 478.907 Q104.534 478.907 102.659 479.323 Q100.807 479.74 98.8622 480.62 L98.8622 463.259 Z\" fill=\"#000000\" fill-rule=\"nonzero\" fill-opacity=\"1\" /><path clip-path=\"url(#clip820)\" d=\"M56.6171 101.321 L72.9365 101.321 L72.9365 105.256 L50.9921 105.256 L50.9921 101.321 Q53.6541 98.5665 58.2375 93.9369 Q62.8439 89.2841 64.0245 87.9416 Q66.2698 85.4184 67.1494 83.6823 Q68.0522 81.9231 68.0522 80.2333 Q68.0522 77.4786 66.1078 75.7425 Q64.1865 74.0064 61.0847 74.0064 Q58.8856 74.0064 56.4319 74.7703 Q54.0014 75.5342 51.2236 77.0851 L51.2236 72.3629 Q54.0477 71.2287 56.5014 70.65 Q58.955 70.0713 60.9921 70.0713 Q66.3624 70.0713 69.5568 72.7565 Q72.7513 75.4416 72.7513 79.9323 Q72.7513 82.062 71.9411 83.9832 Q71.1541 85.8814 69.0476 88.474 Q68.4689 89.1453 65.367 92.3628 Q62.2652 95.5573 56.6171 101.321 Z\" fill=\"#000000\" fill-rule=\"nonzero\" fill-opacity=\"1\" /><path clip-path=\"url(#clip820)\" d=\"M82.7512 99.3767 L87.6354 99.3767 L87.6354 105.256 L82.7512 105.256 L82.7512 99.3767 Z\" fill=\"#000000\" fill-rule=\"nonzero\" fill-opacity=\"1\" /><path clip-path=\"url(#clip820)\" d=\"M107.821 73.775 Q104.209 73.775 102.381 77.3398 Q100.575 80.8814 100.575 88.011 Q100.575 95.1174 102.381 98.6822 Q104.209 102.224 107.821 102.224 Q111.455 102.224 113.26 98.6822 Q115.089 95.1174 115.089 88.011 Q115.089 80.8814 113.26 77.3398 Q111.455 73.775 107.821 73.775 M107.821 70.0713 Q113.631 70.0713 116.686 74.6777 Q119.765 79.261 119.765 88.011 Q119.765 96.7378 116.686 101.344 Q113.631 105.928 107.821 105.928 Q102.01 105.928 98.9317 101.344 Q95.8761 96.7378 95.8761 88.011 Q95.8761 79.261 98.9317 74.6777 Q102.01 70.0713 107.821 70.0713 Z\" fill=\"#000000\" fill-rule=\"nonzero\" fill-opacity=\"1\" /><circle clip-path=\"url(#clip822)\" cx=\"217.944\" cy=\"87.9763\" r=\"14.4\" fill=\"#009af9\" fill-rule=\"evenodd\" fill-opacity=\"1\" stroke=\"#000000\" stroke-opacity=\"1\" stroke-width=\"3.2\"/>\n",
       "<circle clip-path=\"url(#clip822)\" cx=\"425.207\" cy=\"372.614\" r=\"14.4\" fill=\"#009af9\" fill-rule=\"evenodd\" fill-opacity=\"1\" stroke=\"#000000\" stroke-opacity=\"1\" stroke-width=\"3.2\"/>\n",
       "<circle clip-path=\"url(#clip822)\" cx=\"632.47\" cy=\"605.656\" r=\"14.4\" fill=\"#009af9\" fill-rule=\"evenodd\" fill-opacity=\"1\" stroke=\"#000000\" stroke-opacity=\"1\" stroke-width=\"3.2\"/>\n",
       "<circle clip-path=\"url(#clip822)\" cx=\"839.734\" cy=\"796.455\" r=\"14.4\" fill=\"#009af9\" fill-rule=\"evenodd\" fill-opacity=\"1\" stroke=\"#000000\" stroke-opacity=\"1\" stroke-width=\"3.2\"/>\n",
       "<circle clip-path=\"url(#clip822)\" cx=\"1047\" cy=\"952.667\" r=\"14.4\" fill=\"#009af9\" fill-rule=\"evenodd\" fill-opacity=\"1\" stroke=\"#000000\" stroke-opacity=\"1\" stroke-width=\"3.2\"/>\n",
       "<circle clip-path=\"url(#clip822)\" cx=\"1254.26\" cy=\"1080.56\" r=\"14.4\" fill=\"#009af9\" fill-rule=\"evenodd\" fill-opacity=\"1\" stroke=\"#000000\" stroke-opacity=\"1\" stroke-width=\"3.2\"/>\n",
       "<circle clip-path=\"url(#clip822)\" cx=\"1461.52\" cy=\"1185.28\" r=\"14.4\" fill=\"#009af9\" fill-rule=\"evenodd\" fill-opacity=\"1\" stroke=\"#000000\" stroke-opacity=\"1\" stroke-width=\"3.2\"/>\n",
       "<circle clip-path=\"url(#clip822)\" cx=\"1668.79\" cy=\"1271.01\" r=\"14.4\" fill=\"#009af9\" fill-rule=\"evenodd\" fill-opacity=\"1\" stroke=\"#000000\" stroke-opacity=\"1\" stroke-width=\"3.2\"/>\n",
       "<circle clip-path=\"url(#clip822)\" cx=\"1876.05\" cy=\"1341.2\" r=\"14.4\" fill=\"#009af9\" fill-rule=\"evenodd\" fill-opacity=\"1\" stroke=\"#000000\" stroke-opacity=\"1\" stroke-width=\"3.2\"/>\n",
       "<circle clip-path=\"url(#clip822)\" cx=\"2083.31\" cy=\"1398.67\" r=\"14.4\" fill=\"#009af9\" fill-rule=\"evenodd\" fill-opacity=\"1\" stroke=\"#000000\" stroke-opacity=\"1\" stroke-width=\"3.2\"/>\n",
       "<circle clip-path=\"url(#clip822)\" cx=\"2290.58\" cy=\"1445.72\" r=\"14.4\" fill=\"#009af9\" fill-rule=\"evenodd\" fill-opacity=\"1\" stroke=\"#000000\" stroke-opacity=\"1\" stroke-width=\"3.2\"/>\n",
       "<path clip-path=\"url(#clip820)\" d=\"M2007.39 198.898 L2279.52 198.898 L2279.52 95.2176 L2007.39 95.2176  Z\" fill=\"#ffffff\" fill-rule=\"evenodd\" fill-opacity=\"1\"/>\n",
       "<polyline clip-path=\"url(#clip820)\" style=\"stroke:#000000; stroke-linecap:round; stroke-linejoin:round; stroke-width:4; stroke-opacity:1; fill:none\" points=\"2007.39,198.898 2279.52,198.898 2279.52,95.2176 2007.39,95.2176 2007.39,198.898 \"/>\n",
       "<circle clip-path=\"url(#clip820)\" cx=\"2105.04\" cy=\"147.058\" r=\"20.48\" fill=\"#009af9\" fill-rule=\"evenodd\" fill-opacity=\"1\" stroke=\"#000000\" stroke-opacity=\"1\" stroke-width=\"4.55111\"/>\n",
       "<path clip-path=\"url(#clip820)\" d=\"M2216.52 166.745 Q2214.72 171.375 2213.01 172.787 Q2211.29 174.199 2208.42 174.199 L2205.02 174.199 L2205.02 170.634 L2207.52 170.634 Q2209.28 170.634 2210.25 169.8 Q2211.22 168.967 2212.4 165.865 L2213.17 163.921 L2202.68 138.412 L2207.2 138.412 L2215.3 158.689 L2223.4 138.412 L2227.91 138.412 L2216.52 166.745 Z\" fill=\"#000000\" fill-rule=\"nonzero\" fill-opacity=\"1\" /><path clip-path=\"url(#clip820)\" d=\"M2235.2 160.402 L2242.84 160.402 L2242.84 134.037 L2234.53 135.703 L2234.53 131.444 L2242.8 129.778 L2247.47 129.778 L2247.47 160.402 L2255.11 160.402 L2255.11 164.338 L2235.2 164.338 L2235.2 160.402 Z\" fill=\"#000000\" fill-rule=\"nonzero\" fill-opacity=\"1\" /></svg>\n"
      ],
      "text/html": [
       "<?xml version=\"1.0\" encoding=\"utf-8\"?>\n",
       "<svg xmlns=\"http://www.w3.org/2000/svg\" xmlns:xlink=\"http://www.w3.org/1999/xlink\" width=\"600\" height=\"400\" viewBox=\"0 0 2400 1600\">\n",
       "<defs>\n",
       "  <clipPath id=\"clip870\">\n",
       "    <rect x=\"0\" y=\"0\" width=\"2400\" height=\"1600\"/>\n",
       "  </clipPath>\n",
       "</defs>\n",
       "<path clip-path=\"url(#clip870)\" d=\"M0 1600 L2400 1600 L2400 8.88178e-14 L0 8.88178e-14  Z\" fill=\"#ffffff\" fill-rule=\"evenodd\" fill-opacity=\"1\"/>\n",
       "<defs>\n",
       "  <clipPath id=\"clip871\">\n",
       "    <rect x=\"480\" y=\"0\" width=\"1681\" height=\"1600\"/>\n",
       "  </clipPath>\n",
       "</defs>\n",
       "<path clip-path=\"url(#clip870)\" d=\"M155.765 1486.45 L2352.76 1486.45 L2352.76 47.2441 L155.765 47.2441  Z\" fill=\"#ffffff\" fill-rule=\"evenodd\" fill-opacity=\"1\"/>\n",
       "<defs>\n",
       "  <clipPath id=\"clip872\">\n",
       "    <rect x=\"155\" y=\"47\" width=\"2198\" height=\"1440\"/>\n",
       "  </clipPath>\n",
       "</defs>\n",
       "<polyline clip-path=\"url(#clip872)\" style=\"stroke:#000000; stroke-linecap:round; stroke-linejoin:round; stroke-width:2; stroke-opacity:0.1; fill:none\" points=\"217.944,1486.45 217.944,47.2441 \"/>\n",
       "<polyline clip-path=\"url(#clip872)\" style=\"stroke:#000000; stroke-linecap:round; stroke-linejoin:round; stroke-width:2; stroke-opacity:0.1; fill:none\" points=\"736.102,1486.45 736.102,47.2441 \"/>\n",
       "<polyline clip-path=\"url(#clip872)\" style=\"stroke:#000000; stroke-linecap:round; stroke-linejoin:round; stroke-width:2; stroke-opacity:0.1; fill:none\" points=\"1254.26,1486.45 1254.26,47.2441 \"/>\n",
       "<polyline clip-path=\"url(#clip872)\" style=\"stroke:#000000; stroke-linecap:round; stroke-linejoin:round; stroke-width:2; stroke-opacity:0.1; fill:none\" points=\"1772.42,1486.45 1772.42,47.2441 \"/>\n",
       "<polyline clip-path=\"url(#clip872)\" style=\"stroke:#000000; stroke-linecap:round; stroke-linejoin:round; stroke-width:2; stroke-opacity:0.1; fill:none\" points=\"2290.58,1486.45 2290.58,47.2441 \"/>\n",
       "<polyline clip-path=\"url(#clip872)\" style=\"stroke:#000000; stroke-linecap:round; stroke-linejoin:round; stroke-width:2; stroke-opacity:0.1; fill:none\" points=\"155.765,1265.66 2352.76,1265.66 \"/>\n",
       "<polyline clip-path=\"url(#clip872)\" style=\"stroke:#000000; stroke-linecap:round; stroke-linejoin:round; stroke-width:2; stroke-opacity:0.1; fill:none\" points=\"155.765,873.101 2352.76,873.101 \"/>\n",
       "<polyline clip-path=\"url(#clip872)\" style=\"stroke:#000000; stroke-linecap:round; stroke-linejoin:round; stroke-width:2; stroke-opacity:0.1; fill:none\" points=\"155.765,480.539 2352.76,480.539 \"/>\n",
       "<polyline clip-path=\"url(#clip872)\" style=\"stroke:#000000; stroke-linecap:round; stroke-linejoin:round; stroke-width:2; stroke-opacity:0.1; fill:none\" points=\"155.765,87.9763 2352.76,87.9763 \"/>\n",
       "<polyline clip-path=\"url(#clip870)\" style=\"stroke:#000000; stroke-linecap:round; stroke-linejoin:round; stroke-width:4; stroke-opacity:1; fill:none\" points=\"155.765,1486.45 2352.76,1486.45 \"/>\n",
       "<polyline clip-path=\"url(#clip870)\" style=\"stroke:#000000; stroke-linecap:round; stroke-linejoin:round; stroke-width:4; stroke-opacity:1; fill:none\" points=\"217.944,1486.45 217.944,1467.55 \"/>\n",
       "<polyline clip-path=\"url(#clip870)\" style=\"stroke:#000000; stroke-linecap:round; stroke-linejoin:round; stroke-width:4; stroke-opacity:1; fill:none\" points=\"736.102,1486.45 736.102,1467.55 \"/>\n",
       "<polyline clip-path=\"url(#clip870)\" style=\"stroke:#000000; stroke-linecap:round; stroke-linejoin:round; stroke-width:4; stroke-opacity:1; fill:none\" points=\"1254.26,1486.45 1254.26,1467.55 \"/>\n",
       "<polyline clip-path=\"url(#clip870)\" style=\"stroke:#000000; stroke-linecap:round; stroke-linejoin:round; stroke-width:4; stroke-opacity:1; fill:none\" points=\"1772.42,1486.45 1772.42,1467.55 \"/>\n",
       "<polyline clip-path=\"url(#clip870)\" style=\"stroke:#000000; stroke-linecap:round; stroke-linejoin:round; stroke-width:4; stroke-opacity:1; fill:none\" points=\"2290.58,1486.45 2290.58,1467.55 \"/>\n",
       "<path clip-path=\"url(#clip870)\" d=\"M180.247 1517.37 Q176.636 1517.37 174.808 1520.93 Q173.002 1524.47 173.002 1531.6 Q173.002 1538.71 174.808 1542.27 Q176.636 1545.82 180.247 1545.82 Q183.882 1545.82 185.687 1542.27 Q187.516 1538.71 187.516 1531.6 Q187.516 1524.47 185.687 1520.93 Q183.882 1517.37 180.247 1517.37 M180.247 1513.66 Q186.057 1513.66 189.113 1518.27 Q192.192 1522.85 192.192 1531.6 Q192.192 1540.33 189.113 1544.94 Q186.057 1549.52 180.247 1549.52 Q174.437 1549.52 171.358 1544.94 Q168.303 1540.33 168.303 1531.6 Q168.303 1522.85 171.358 1518.27 Q174.437 1513.66 180.247 1513.66 Z\" fill=\"#000000\" fill-rule=\"nonzero\" fill-opacity=\"1\" /><path clip-path=\"url(#clip870)\" d=\"M200.409 1542.97 L205.294 1542.97 L205.294 1548.85 L200.409 1548.85 L200.409 1542.97 Z\" fill=\"#000000\" fill-rule=\"nonzero\" fill-opacity=\"1\" /><path clip-path=\"url(#clip870)\" d=\"M225.479 1517.37 Q221.867 1517.37 220.039 1520.93 Q218.233 1524.47 218.233 1531.6 Q218.233 1538.71 220.039 1542.27 Q221.867 1545.82 225.479 1545.82 Q229.113 1545.82 230.918 1542.27 Q232.747 1538.71 232.747 1531.6 Q232.747 1524.47 230.918 1520.93 Q229.113 1517.37 225.479 1517.37 M225.479 1513.66 Q231.289 1513.66 234.344 1518.27 Q237.423 1522.85 237.423 1531.6 Q237.423 1540.33 234.344 1544.94 Q231.289 1549.52 225.479 1549.52 Q219.668 1549.52 216.59 1544.94 Q213.534 1540.33 213.534 1531.6 Q213.534 1522.85 216.59 1518.27 Q219.668 1513.66 225.479 1513.66 Z\" fill=\"#000000\" fill-rule=\"nonzero\" fill-opacity=\"1\" /><path clip-path=\"url(#clip870)\" d=\"M255.64 1517.37 Q252.029 1517.37 250.201 1520.93 Q248.395 1524.47 248.395 1531.6 Q248.395 1538.71 250.201 1542.27 Q252.029 1545.82 255.64 1545.82 Q259.275 1545.82 261.08 1542.27 Q262.909 1538.71 262.909 1531.6 Q262.909 1524.47 261.08 1520.93 Q259.275 1517.37 255.64 1517.37 M255.64 1513.66 Q261.451 1513.66 264.506 1518.27 Q267.585 1522.85 267.585 1531.6 Q267.585 1540.33 264.506 1544.94 Q261.451 1549.52 255.64 1549.52 Q249.83 1549.52 246.752 1544.94 Q243.696 1540.33 243.696 1531.6 Q243.696 1522.85 246.752 1518.27 Q249.83 1513.66 255.64 1513.66 Z\" fill=\"#000000\" fill-rule=\"nonzero\" fill-opacity=\"1\" /><path clip-path=\"url(#clip870)\" d=\"M698.903 1517.37 Q695.292 1517.37 693.463 1520.93 Q691.658 1524.47 691.658 1531.6 Q691.658 1538.71 693.463 1542.27 Q695.292 1545.82 698.903 1545.82 Q702.538 1545.82 704.343 1542.27 Q706.172 1538.71 706.172 1531.6 Q706.172 1524.47 704.343 1520.93 Q702.538 1517.37 698.903 1517.37 M698.903 1513.66 Q704.713 1513.66 707.769 1518.27 Q710.848 1522.85 710.848 1531.6 Q710.848 1540.33 707.769 1544.94 Q704.713 1549.52 698.903 1549.52 Q693.093 1549.52 690.014 1544.94 Q686.959 1540.33 686.959 1531.6 Q686.959 1522.85 690.014 1518.27 Q693.093 1513.66 698.903 1513.66 Z\" fill=\"#000000\" fill-rule=\"nonzero\" fill-opacity=\"1\" /><path clip-path=\"url(#clip870)\" d=\"M719.065 1542.97 L723.949 1542.97 L723.949 1548.85 L719.065 1548.85 L719.065 1542.97 Z\" fill=\"#000000\" fill-rule=\"nonzero\" fill-opacity=\"1\" /><path clip-path=\"url(#clip870)\" d=\"M738.162 1544.91 L754.482 1544.91 L754.482 1548.85 L732.537 1548.85 L732.537 1544.91 Q735.199 1542.16 739.783 1537.53 Q744.389 1532.88 745.57 1531.53 Q747.815 1529.01 748.695 1527.27 Q749.597 1525.51 749.597 1523.82 Q749.597 1521.07 747.653 1519.33 Q745.732 1517.6 742.63 1517.6 Q740.431 1517.6 737.977 1518.36 Q735.547 1519.13 732.769 1520.68 L732.769 1515.95 Q735.593 1514.82 738.047 1514.24 Q740.5 1513.66 742.537 1513.66 Q747.908 1513.66 751.102 1516.35 Q754.296 1519.03 754.296 1523.52 Q754.296 1525.65 753.486 1527.57 Q752.699 1529.47 750.593 1532.07 Q750.014 1532.74 746.912 1535.95 Q743.81 1539.15 738.162 1544.91 Z\" fill=\"#000000\" fill-rule=\"nonzero\" fill-opacity=\"1\" /><path clip-path=\"url(#clip870)\" d=\"M764.343 1514.29 L782.699 1514.29 L782.699 1518.22 L768.625 1518.22 L768.625 1526.7 Q769.644 1526.35 770.662 1526.19 Q771.681 1526 772.699 1526 Q778.486 1526 781.866 1529.17 Q785.245 1532.34 785.245 1537.76 Q785.245 1543.34 781.773 1546.44 Q778.301 1549.52 771.982 1549.52 Q769.806 1549.52 767.537 1549.15 Q765.292 1548.78 762.884 1548.04 L762.884 1543.34 Q764.968 1544.47 767.19 1545.03 Q769.412 1545.58 771.889 1545.58 Q775.894 1545.58 778.232 1543.48 Q780.57 1541.37 780.57 1537.76 Q780.57 1534.15 778.232 1532.04 Q775.894 1529.94 771.889 1529.94 Q770.014 1529.94 768.139 1530.35 Q766.287 1530.77 764.343 1531.65 L764.343 1514.29 Z\" fill=\"#000000\" fill-rule=\"nonzero\" fill-opacity=\"1\" /><path clip-path=\"url(#clip870)\" d=\"M1216.56 1517.37 Q1212.95 1517.37 1211.12 1520.93 Q1209.32 1524.47 1209.32 1531.6 Q1209.32 1538.71 1211.12 1542.27 Q1212.95 1545.82 1216.56 1545.82 Q1220.2 1545.82 1222 1542.27 Q1223.83 1538.71 1223.83 1531.6 Q1223.83 1524.47 1222 1520.93 Q1220.2 1517.37 1216.56 1517.37 M1216.56 1513.66 Q1222.37 1513.66 1225.43 1518.27 Q1228.51 1522.85 1228.51 1531.6 Q1228.51 1540.33 1225.43 1544.94 Q1222.37 1549.52 1216.56 1549.52 Q1210.75 1549.52 1207.68 1544.94 Q1204.62 1540.33 1204.62 1531.6 Q1204.62 1522.85 1207.68 1518.27 Q1210.75 1513.66 1216.56 1513.66 Z\" fill=\"#000000\" fill-rule=\"nonzero\" fill-opacity=\"1\" /><path clip-path=\"url(#clip870)\" d=\"M1236.73 1542.97 L1241.61 1542.97 L1241.61 1548.85 L1236.73 1548.85 L1236.73 1542.97 Z\" fill=\"#000000\" fill-rule=\"nonzero\" fill-opacity=\"1\" /><path clip-path=\"url(#clip870)\" d=\"M1251.84 1514.29 L1270.2 1514.29 L1270.2 1518.22 L1256.12 1518.22 L1256.12 1526.7 Q1257.14 1526.35 1258.16 1526.19 Q1259.18 1526 1260.2 1526 Q1265.98 1526 1269.36 1529.17 Q1272.74 1532.34 1272.74 1537.76 Q1272.74 1543.34 1269.27 1546.44 Q1265.8 1549.52 1259.48 1549.52 Q1257.3 1549.52 1255.04 1549.15 Q1252.79 1548.78 1250.38 1548.04 L1250.38 1543.34 Q1252.47 1544.47 1254.69 1545.03 Q1256.91 1545.58 1259.39 1545.58 Q1263.39 1545.58 1265.73 1543.48 Q1268.07 1541.37 1268.07 1537.76 Q1268.07 1534.15 1265.73 1532.04 Q1263.39 1529.94 1259.39 1529.94 Q1257.51 1529.94 1255.64 1530.35 Q1253.79 1530.77 1251.84 1531.65 L1251.84 1514.29 Z\" fill=\"#000000\" fill-rule=\"nonzero\" fill-opacity=\"1\" /><path clip-path=\"url(#clip870)\" d=\"M1291.96 1517.37 Q1288.35 1517.37 1286.52 1520.93 Q1284.71 1524.47 1284.71 1531.6 Q1284.71 1538.71 1286.52 1542.27 Q1288.35 1545.82 1291.96 1545.82 Q1295.59 1545.82 1297.4 1542.27 Q1299.23 1538.71 1299.23 1531.6 Q1299.23 1524.47 1297.4 1520.93 Q1295.59 1517.37 1291.96 1517.37 M1291.96 1513.66 Q1297.77 1513.66 1300.82 1518.27 Q1303.9 1522.85 1303.9 1531.6 Q1303.9 1540.33 1300.82 1544.94 Q1297.77 1549.52 1291.96 1549.52 Q1286.15 1549.52 1283.07 1544.94 Q1280.01 1540.33 1280.01 1531.6 Q1280.01 1522.85 1283.07 1518.27 Q1286.15 1513.66 1291.96 1513.66 Z\" fill=\"#000000\" fill-rule=\"nonzero\" fill-opacity=\"1\" /><path clip-path=\"url(#clip870)\" d=\"M1735.22 1517.37 Q1731.61 1517.37 1729.78 1520.93 Q1727.97 1524.47 1727.97 1531.6 Q1727.97 1538.71 1729.78 1542.27 Q1731.61 1545.82 1735.22 1545.82 Q1738.85 1545.82 1740.66 1542.27 Q1742.49 1538.71 1742.49 1531.6 Q1742.49 1524.47 1740.66 1520.93 Q1738.85 1517.37 1735.22 1517.37 M1735.22 1513.66 Q1741.03 1513.66 1744.09 1518.27 Q1747.16 1522.85 1747.16 1531.6 Q1747.16 1540.33 1744.09 1544.94 Q1741.03 1549.52 1735.22 1549.52 Q1729.41 1549.52 1726.33 1544.94 Q1723.28 1540.33 1723.28 1531.6 Q1723.28 1522.85 1726.33 1518.27 Q1729.41 1513.66 1735.22 1513.66 Z\" fill=\"#000000\" fill-rule=\"nonzero\" fill-opacity=\"1\" /><path clip-path=\"url(#clip870)\" d=\"M1755.38 1542.97 L1760.27 1542.97 L1760.27 1548.85 L1755.38 1548.85 L1755.38 1542.97 Z\" fill=\"#000000\" fill-rule=\"nonzero\" fill-opacity=\"1\" /><path clip-path=\"url(#clip870)\" d=\"M1769.27 1514.29 L1791.49 1514.29 L1791.49 1516.28 L1778.95 1548.85 L1774.06 1548.85 L1785.87 1518.22 L1769.27 1518.22 L1769.27 1514.29 Z\" fill=\"#000000\" fill-rule=\"nonzero\" fill-opacity=\"1\" /><path clip-path=\"url(#clip870)\" d=\"M1800.66 1514.29 L1819.02 1514.29 L1819.02 1518.22 L1804.94 1518.22 L1804.94 1526.7 Q1805.96 1526.35 1806.98 1526.19 Q1808 1526 1809.02 1526 Q1814.8 1526 1818.18 1529.17 Q1821.56 1532.34 1821.56 1537.76 Q1821.56 1543.34 1818.09 1546.44 Q1814.62 1549.52 1808.3 1549.52 Q1806.12 1549.52 1803.85 1549.15 Q1801.61 1548.78 1799.2 1548.04 L1799.2 1543.34 Q1801.28 1544.47 1803.51 1545.03 Q1805.73 1545.58 1808.21 1545.58 Q1812.21 1545.58 1814.55 1543.48 Q1816.89 1541.37 1816.89 1537.76 Q1816.89 1534.15 1814.55 1532.04 Q1812.21 1529.94 1808.21 1529.94 Q1806.33 1529.94 1804.46 1530.35 Q1802.6 1530.77 1800.66 1531.65 L1800.66 1514.29 Z\" fill=\"#000000\" fill-rule=\"nonzero\" fill-opacity=\"1\" /><path clip-path=\"url(#clip870)\" d=\"M2242.65 1544.91 L2250.29 1544.91 L2250.29 1518.55 L2241.98 1520.21 L2241.98 1515.95 L2250.24 1514.29 L2254.92 1514.29 L2254.92 1544.91 L2262.56 1544.91 L2262.56 1548.85 L2242.65 1548.85 L2242.65 1544.91 Z\" fill=\"#000000\" fill-rule=\"nonzero\" fill-opacity=\"1\" /><path clip-path=\"url(#clip870)\" d=\"M2272 1542.97 L2276.88 1542.97 L2276.88 1548.85 L2272 1548.85 L2272 1542.97 Z\" fill=\"#000000\" fill-rule=\"nonzero\" fill-opacity=\"1\" /><path clip-path=\"url(#clip870)\" d=\"M2297.07 1517.37 Q2293.46 1517.37 2291.63 1520.93 Q2289.82 1524.47 2289.82 1531.6 Q2289.82 1538.71 2291.63 1542.27 Q2293.46 1545.82 2297.07 1545.82 Q2300.7 1545.82 2302.51 1542.27 Q2304.34 1538.71 2304.34 1531.6 Q2304.34 1524.47 2302.51 1520.93 Q2300.7 1517.37 2297.07 1517.37 M2297.07 1513.66 Q2302.88 1513.66 2305.94 1518.27 Q2309.01 1522.85 2309.01 1531.6 Q2309.01 1540.33 2305.94 1544.94 Q2302.88 1549.52 2297.07 1549.52 Q2291.26 1549.52 2288.18 1544.94 Q2285.13 1540.33 2285.13 1531.6 Q2285.13 1522.85 2288.18 1518.27 Q2291.26 1513.66 2297.07 1513.66 Z\" fill=\"#000000\" fill-rule=\"nonzero\" fill-opacity=\"1\" /><path clip-path=\"url(#clip870)\" d=\"M2327.23 1517.37 Q2323.62 1517.37 2321.79 1520.93 Q2319.99 1524.47 2319.99 1531.6 Q2319.99 1538.71 2321.79 1542.27 Q2323.62 1545.82 2327.23 1545.82 Q2330.87 1545.82 2332.67 1542.27 Q2334.5 1538.71 2334.5 1531.6 Q2334.5 1524.47 2332.67 1520.93 Q2330.87 1517.37 2327.23 1517.37 M2327.23 1513.66 Q2333.04 1513.66 2336.1 1518.27 Q2339.18 1522.85 2339.18 1531.6 Q2339.18 1540.33 2336.1 1544.94 Q2333.04 1549.52 2327.23 1549.52 Q2321.42 1549.52 2318.34 1544.94 Q2315.29 1540.33 2315.29 1531.6 Q2315.29 1522.85 2318.34 1518.27 Q2321.42 1513.66 2327.23 1513.66 Z\" fill=\"#000000\" fill-rule=\"nonzero\" fill-opacity=\"1\" /><polyline clip-path=\"url(#clip870)\" style=\"stroke:#000000; stroke-linecap:round; stroke-linejoin:round; stroke-width:4; stroke-opacity:1; fill:none\" points=\"155.765,1486.45 155.765,47.2441 \"/>\n",
       "<polyline clip-path=\"url(#clip870)\" style=\"stroke:#000000; stroke-linecap:round; stroke-linejoin:round; stroke-width:4; stroke-opacity:1; fill:none\" points=\"155.765,1265.66 174.663,1265.66 \"/>\n",
       "<polyline clip-path=\"url(#clip870)\" style=\"stroke:#000000; stroke-linecap:round; stroke-linejoin:round; stroke-width:4; stroke-opacity:1; fill:none\" points=\"155.765,873.101 174.663,873.101 \"/>\n",
       "<polyline clip-path=\"url(#clip870)\" style=\"stroke:#000000; stroke-linecap:round; stroke-linejoin:round; stroke-width:4; stroke-opacity:1; fill:none\" points=\"155.765,480.539 174.663,480.539 \"/>\n",
       "<polyline clip-path=\"url(#clip870)\" style=\"stroke:#000000; stroke-linecap:round; stroke-linejoin:round; stroke-width:4; stroke-opacity:1; fill:none\" points=\"155.765,87.9763 174.663,87.9763 \"/>\n",
       "<path clip-path=\"url(#clip870)\" d=\"M63.5847 1251.46 Q59.9736 1251.46 58.1449 1255.03 Q56.3393 1258.57 56.3393 1265.7 Q56.3393 1272.8 58.1449 1276.37 Q59.9736 1279.91 63.5847 1279.91 Q67.2189 1279.91 69.0244 1276.37 Q70.8531 1272.8 70.8531 1265.7 Q70.8531 1258.57 69.0244 1255.03 Q67.2189 1251.46 63.5847 1251.46 M63.5847 1247.76 Q69.3948 1247.76 72.4503 1252.36 Q75.529 1256.95 75.529 1265.7 Q75.529 1274.42 72.4503 1279.03 Q69.3948 1283.61 63.5847 1283.61 Q57.7745 1283.61 54.6958 1279.03 Q51.6403 1274.42 51.6403 1265.7 Q51.6403 1256.95 54.6958 1252.36 Q57.7745 1247.76 63.5847 1247.76 Z\" fill=\"#000000\" fill-rule=\"nonzero\" fill-opacity=\"1\" /><path clip-path=\"url(#clip870)\" d=\"M83.7466 1277.06 L88.6308 1277.06 L88.6308 1282.94 L83.7466 1282.94 L83.7466 1277.06 Z\" fill=\"#000000\" fill-rule=\"nonzero\" fill-opacity=\"1\" /><path clip-path=\"url(#clip870)\" d=\"M98.8622 1248.38 L117.219 1248.38 L117.219 1252.32 L103.145 1252.32 L103.145 1260.79 Q104.163 1260.44 105.182 1260.28 Q106.2 1260.1 107.219 1260.1 Q113.006 1260.1 116.385 1263.27 Q119.765 1266.44 119.765 1271.86 Q119.765 1277.43 116.293 1280.54 Q112.82 1283.61 106.501 1283.61 Q104.325 1283.61 102.057 1283.24 Q99.8113 1282.87 97.4039 1282.13 L97.4039 1277.43 Q99.4872 1278.57 101.709 1279.12 Q103.932 1279.68 106.408 1279.68 Q110.413 1279.68 112.751 1277.57 Q115.089 1275.47 115.089 1271.86 Q115.089 1268.24 112.751 1266.14 Q110.413 1264.03 106.408 1264.03 Q104.534 1264.03 102.659 1264.45 Q100.807 1264.86 98.8622 1265.74 L98.8622 1248.38 Z\" fill=\"#000000\" fill-rule=\"nonzero\" fill-opacity=\"1\" /><path clip-path=\"url(#clip870)\" d=\"M53.3995 886.446 L61.0384 886.446 L61.0384 860.08 L52.7282 861.747 L52.7282 857.488 L60.9921 855.821 L65.668 855.821 L65.668 886.446 L73.3068 886.446 L73.3068 890.381 L53.3995 890.381 L53.3995 886.446 Z\" fill=\"#000000\" fill-rule=\"nonzero\" fill-opacity=\"1\" /><path clip-path=\"url(#clip870)\" d=\"M82.7512 884.501 L87.6354 884.501 L87.6354 890.381 L82.7512 890.381 L82.7512 884.501 Z\" fill=\"#000000\" fill-rule=\"nonzero\" fill-opacity=\"1\" /><path clip-path=\"url(#clip870)\" d=\"M107.821 858.9 Q104.209 858.9 102.381 862.465 Q100.575 866.006 100.575 873.136 Q100.575 880.242 102.381 883.807 Q104.209 887.349 107.821 887.349 Q111.455 887.349 113.26 883.807 Q115.089 880.242 115.089 873.136 Q115.089 866.006 113.26 862.465 Q111.455 858.9 107.821 858.9 M107.821 855.196 Q113.631 855.196 116.686 859.803 Q119.765 864.386 119.765 873.136 Q119.765 881.863 116.686 886.469 Q113.631 891.052 107.821 891.052 Q102.01 891.052 98.9317 886.469 Q95.8761 881.863 95.8761 873.136 Q95.8761 864.386 98.9317 859.803 Q102.01 855.196 107.821 855.196 Z\" fill=\"#000000\" fill-rule=\"nonzero\" fill-opacity=\"1\" /><path clip-path=\"url(#clip870)\" d=\"M54.3949 493.884 L62.0337 493.884 L62.0337 467.518 L53.7236 469.185 L53.7236 464.925 L61.9874 463.259 L66.6633 463.259 L66.6633 493.884 L74.3022 493.884 L74.3022 497.819 L54.3949 497.819 L54.3949 493.884 Z\" fill=\"#000000\" fill-rule=\"nonzero\" fill-opacity=\"1\" /><path clip-path=\"url(#clip870)\" d=\"M83.7466 491.939 L88.6308 491.939 L88.6308 497.819 L83.7466 497.819 L83.7466 491.939 Z\" fill=\"#000000\" fill-rule=\"nonzero\" fill-opacity=\"1\" /><path clip-path=\"url(#clip870)\" d=\"M98.8622 463.259 L117.219 463.259 L117.219 467.194 L103.145 467.194 L103.145 475.666 Q104.163 475.319 105.182 475.157 Q106.2 474.972 107.219 474.972 Q113.006 474.972 116.385 478.143 Q119.765 481.314 119.765 486.731 Q119.765 492.309 116.293 495.411 Q112.82 498.49 106.501 498.49 Q104.325 498.49 102.057 498.12 Q99.8113 497.749 97.4039 497.008 L97.4039 492.309 Q99.4872 493.444 101.709 493.999 Q103.932 494.555 106.408 494.555 Q110.413 494.555 112.751 492.448 Q115.089 490.342 115.089 486.731 Q115.089 483.12 112.751 481.013 Q110.413 478.907 106.408 478.907 Q104.534 478.907 102.659 479.323 Q100.807 479.74 98.8622 480.62 L98.8622 463.259 Z\" fill=\"#000000\" fill-rule=\"nonzero\" fill-opacity=\"1\" /><path clip-path=\"url(#clip870)\" d=\"M56.6171 101.321 L72.9365 101.321 L72.9365 105.256 L50.9921 105.256 L50.9921 101.321 Q53.6541 98.5665 58.2375 93.9369 Q62.8439 89.2841 64.0245 87.9416 Q66.2698 85.4184 67.1494 83.6823 Q68.0522 81.9231 68.0522 80.2333 Q68.0522 77.4786 66.1078 75.7425 Q64.1865 74.0064 61.0847 74.0064 Q58.8856 74.0064 56.4319 74.7703 Q54.0014 75.5342 51.2236 77.0851 L51.2236 72.3629 Q54.0477 71.2287 56.5014 70.65 Q58.955 70.0713 60.9921 70.0713 Q66.3624 70.0713 69.5568 72.7565 Q72.7513 75.4416 72.7513 79.9323 Q72.7513 82.062 71.9411 83.9832 Q71.1541 85.8814 69.0476 88.474 Q68.4689 89.1453 65.367 92.3628 Q62.2652 95.5573 56.6171 101.321 Z\" fill=\"#000000\" fill-rule=\"nonzero\" fill-opacity=\"1\" /><path clip-path=\"url(#clip870)\" d=\"M82.7512 99.3767 L87.6354 99.3767 L87.6354 105.256 L82.7512 105.256 L82.7512 99.3767 Z\" fill=\"#000000\" fill-rule=\"nonzero\" fill-opacity=\"1\" /><path clip-path=\"url(#clip870)\" d=\"M107.821 73.775 Q104.209 73.775 102.381 77.3398 Q100.575 80.8814 100.575 88.011 Q100.575 95.1174 102.381 98.6822 Q104.209 102.224 107.821 102.224 Q111.455 102.224 113.26 98.6822 Q115.089 95.1174 115.089 88.011 Q115.089 80.8814 113.26 77.3398 Q111.455 73.775 107.821 73.775 M107.821 70.0713 Q113.631 70.0713 116.686 74.6777 Q119.765 79.261 119.765 88.011 Q119.765 96.7378 116.686 101.344 Q113.631 105.928 107.821 105.928 Q102.01 105.928 98.9317 101.344 Q95.8761 96.7378 95.8761 88.011 Q95.8761 79.261 98.9317 74.6777 Q102.01 70.0713 107.821 70.0713 Z\" fill=\"#000000\" fill-rule=\"nonzero\" fill-opacity=\"1\" /><circle clip-path=\"url(#clip872)\" cx=\"217.944\" cy=\"87.9763\" r=\"14.4\" fill=\"#009af9\" fill-rule=\"evenodd\" fill-opacity=\"1\" stroke=\"#000000\" stroke-opacity=\"1\" stroke-width=\"3.2\"/>\n",
       "<circle clip-path=\"url(#clip872)\" cx=\"425.207\" cy=\"372.614\" r=\"14.4\" fill=\"#009af9\" fill-rule=\"evenodd\" fill-opacity=\"1\" stroke=\"#000000\" stroke-opacity=\"1\" stroke-width=\"3.2\"/>\n",
       "<circle clip-path=\"url(#clip872)\" cx=\"632.47\" cy=\"605.656\" r=\"14.4\" fill=\"#009af9\" fill-rule=\"evenodd\" fill-opacity=\"1\" stroke=\"#000000\" stroke-opacity=\"1\" stroke-width=\"3.2\"/>\n",
       "<circle clip-path=\"url(#clip872)\" cx=\"839.734\" cy=\"796.455\" r=\"14.4\" fill=\"#009af9\" fill-rule=\"evenodd\" fill-opacity=\"1\" stroke=\"#000000\" stroke-opacity=\"1\" stroke-width=\"3.2\"/>\n",
       "<circle clip-path=\"url(#clip872)\" cx=\"1047\" cy=\"952.667\" r=\"14.4\" fill=\"#009af9\" fill-rule=\"evenodd\" fill-opacity=\"1\" stroke=\"#000000\" stroke-opacity=\"1\" stroke-width=\"3.2\"/>\n",
       "<circle clip-path=\"url(#clip872)\" cx=\"1254.26\" cy=\"1080.56\" r=\"14.4\" fill=\"#009af9\" fill-rule=\"evenodd\" fill-opacity=\"1\" stroke=\"#000000\" stroke-opacity=\"1\" stroke-width=\"3.2\"/>\n",
       "<circle clip-path=\"url(#clip872)\" cx=\"1461.52\" cy=\"1185.28\" r=\"14.4\" fill=\"#009af9\" fill-rule=\"evenodd\" fill-opacity=\"1\" stroke=\"#000000\" stroke-opacity=\"1\" stroke-width=\"3.2\"/>\n",
       "<circle clip-path=\"url(#clip872)\" cx=\"1668.79\" cy=\"1271.01\" r=\"14.4\" fill=\"#009af9\" fill-rule=\"evenodd\" fill-opacity=\"1\" stroke=\"#000000\" stroke-opacity=\"1\" stroke-width=\"3.2\"/>\n",
       "<circle clip-path=\"url(#clip872)\" cx=\"1876.05\" cy=\"1341.2\" r=\"14.4\" fill=\"#009af9\" fill-rule=\"evenodd\" fill-opacity=\"1\" stroke=\"#000000\" stroke-opacity=\"1\" stroke-width=\"3.2\"/>\n",
       "<circle clip-path=\"url(#clip872)\" cx=\"2083.31\" cy=\"1398.67\" r=\"14.4\" fill=\"#009af9\" fill-rule=\"evenodd\" fill-opacity=\"1\" stroke=\"#000000\" stroke-opacity=\"1\" stroke-width=\"3.2\"/>\n",
       "<circle clip-path=\"url(#clip872)\" cx=\"2290.58\" cy=\"1445.72\" r=\"14.4\" fill=\"#009af9\" fill-rule=\"evenodd\" fill-opacity=\"1\" stroke=\"#000000\" stroke-opacity=\"1\" stroke-width=\"3.2\"/>\n",
       "<path clip-path=\"url(#clip870)\" d=\"M2007.39 198.898 L2279.52 198.898 L2279.52 95.2176 L2007.39 95.2176  Z\" fill=\"#ffffff\" fill-rule=\"evenodd\" fill-opacity=\"1\"/>\n",
       "<polyline clip-path=\"url(#clip870)\" style=\"stroke:#000000; stroke-linecap:round; stroke-linejoin:round; stroke-width:4; stroke-opacity:1; fill:none\" points=\"2007.39,198.898 2279.52,198.898 2279.52,95.2176 2007.39,95.2176 2007.39,198.898 \"/>\n",
       "<circle clip-path=\"url(#clip870)\" cx=\"2105.04\" cy=\"147.058\" r=\"20.48\" fill=\"#009af9\" fill-rule=\"evenodd\" fill-opacity=\"1\" stroke=\"#000000\" stroke-opacity=\"1\" stroke-width=\"4.55111\"/>\n",
       "<path clip-path=\"url(#clip870)\" d=\"M2216.52 166.745 Q2214.72 171.375 2213.01 172.787 Q2211.29 174.199 2208.42 174.199 L2205.02 174.199 L2205.02 170.634 L2207.52 170.634 Q2209.28 170.634 2210.25 169.8 Q2211.22 168.967 2212.4 165.865 L2213.17 163.921 L2202.68 138.412 L2207.2 138.412 L2215.3 158.689 L2223.4 138.412 L2227.91 138.412 L2216.52 166.745 Z\" fill=\"#000000\" fill-rule=\"nonzero\" fill-opacity=\"1\" /><path clip-path=\"url(#clip870)\" d=\"M2235.2 160.402 L2242.84 160.402 L2242.84 134.037 L2234.53 135.703 L2234.53 131.444 L2242.8 129.778 L2247.47 129.778 L2247.47 160.402 L2255.11 160.402 L2255.11 164.338 L2235.2 164.338 L2235.2 160.402 Z\" fill=\"#000000\" fill-rule=\"nonzero\" fill-opacity=\"1\" /></svg>\n"
      ]
     },
     "execution_count": 8,
     "metadata": {},
     "output_type": "execute_result"
    }
   ],
   "source": [
    "scatter(x,y)"
   ]
  },
  {
   "cell_type": "code",
   "execution_count": 29,
   "id": "4a1ddc16-77d4-4ff9-8a1d-f9b0d6ec34db",
   "metadata": {},
   "outputs": [
    {
     "data": {
      "text/plain": [
       "11-element Vector{Float64}:\n",
       " 2.2047734515522985\n",
       " 1.6113609255481685\n",
       " 1.2904837297580922\n",
       " 1.0003801339571485\n",
       " 0.9914800008202469\n",
       " 0.8420725792744186\n",
       " 0.6173519980003039\n",
       " 0.4568490790518795\n",
       " 0.43108548128489027\n",
       " 0.5798161029618183\n",
       " 0.40196500048598777"
      ]
     },
     "execution_count": 29,
     "metadata": {},
     "output_type": "execute_result"
    }
   ],
   "source": [
    "y_exp = y + 0.1*randn(length(y))"
   ]
  },
  {
   "cell_type": "code",
   "execution_count": 10,
   "id": "4fb8aaf8-5ec1-40aa-a9b5-f7dd9433d217",
   "metadata": {},
   "outputs": [
    {
     "data": {
      "image/png": "[encoded data removed]",
      "image/svg+xml": [
       "<?xml version=\"1.0\" encoding=\"utf-8\"?>\n",
       "<svg xmlns=\"http://www.w3.org/2000/svg\" xmlns:xlink=\"http://www.w3.org/1999/xlink\" width=\"600\" height=\"400\" viewBox=\"0 0 2400 1600\">\n",
       "<defs>\n",
       "  <clipPath id=\"clip910\">\n",
       "    <rect x=\"0\" y=\"0\" width=\"2400\" height=\"1600\"/>\n",
       "  </clipPath>\n",
       "</defs>\n",
       "<path clip-path=\"url(#clip910)\" d=\"M0 1600 L2400 1600 L2400 8.88178e-14 L0 8.88178e-14  Z\" fill=\"#ffffff\" fill-rule=\"evenodd\" fill-opacity=\"1\"/>\n",
       "<defs>\n",
       "  <clipPath id=\"clip911\">\n",
       "    <rect x=\"480\" y=\"0\" width=\"1681\" height=\"1600\"/>\n",
       "  </clipPath>\n",
       "</defs>\n",
       "<path clip-path=\"url(#clip910)\" d=\"M155.765 1486.45 L2352.76 1486.45 L2352.76 47.2441 L155.765 47.2441  Z\" fill=\"#ffffff\" fill-rule=\"evenodd\" fill-opacity=\"1\"/>\n",
       "<defs>\n",
       "  <clipPath id=\"clip912\">\n",
       "    <rect x=\"155\" y=\"47\" width=\"2198\" height=\"1440\"/>\n",
       "  </clipPath>\n",
       "</defs>\n",
       "<polyline clip-path=\"url(#clip912)\" style=\"stroke:#000000; stroke-linecap:round; stroke-linejoin:round; stroke-width:2; stroke-opacity:0.1; fill:none\" points=\"217.944,1486.45 217.944,47.2441 \"/>\n",
       "<polyline clip-path=\"url(#clip912)\" style=\"stroke:#000000; stroke-linecap:round; stroke-linejoin:round; stroke-width:2; stroke-opacity:0.1; fill:none\" points=\"736.102,1486.45 736.102,47.2441 \"/>\n",
       "<polyline clip-path=\"url(#clip912)\" style=\"stroke:#000000; stroke-linecap:round; stroke-linejoin:round; stroke-width:2; stroke-opacity:0.1; fill:none\" points=\"1254.26,1486.45 1254.26,47.2441 \"/>\n",
       "<polyline clip-path=\"url(#clip912)\" style=\"stroke:#000000; stroke-linecap:round; stroke-linejoin:round; stroke-width:2; stroke-opacity:0.1; fill:none\" points=\"1772.42,1486.45 1772.42,47.2441 \"/>\n",
       "<polyline clip-path=\"url(#clip912)\" style=\"stroke:#000000; stroke-linecap:round; stroke-linejoin:round; stroke-width:2; stroke-opacity:0.1; fill:none\" points=\"2290.58,1486.45 2290.58,47.2441 \"/>\n",
       "<polyline clip-path=\"url(#clip912)\" style=\"stroke:#000000; stroke-linecap:round; stroke-linejoin:round; stroke-width:2; stroke-opacity:0.1; fill:none\" points=\"155.765,1184.48 2352.76,1184.48 \"/>\n",
       "<polyline clip-path=\"url(#clip912)\" style=\"stroke:#000000; stroke-linecap:round; stroke-linejoin:round; stroke-width:2; stroke-opacity:0.1; fill:none\" points=\"155.765,811.424 2352.76,811.424 \"/>\n",
       "<polyline clip-path=\"url(#clip912)\" style=\"stroke:#000000; stroke-linecap:round; stroke-linejoin:round; stroke-width:2; stroke-opacity:0.1; fill:none\" points=\"155.765,438.367 2352.76,438.367 \"/>\n",
       "<polyline clip-path=\"url(#clip912)\" style=\"stroke:#000000; stroke-linecap:round; stroke-linejoin:round; stroke-width:2; stroke-opacity:0.1; fill:none\" points=\"155.765,65.3099 2352.76,65.3099 \"/>\n",
       "<polyline clip-path=\"url(#clip910)\" style=\"stroke:#000000; stroke-linecap:round; stroke-linejoin:round; stroke-width:4; stroke-opacity:1; fill:none\" points=\"155.765,1486.45 2352.76,1486.45 \"/>\n",
       "<polyline clip-path=\"url(#clip910)\" style=\"stroke:#000000; stroke-linecap:round; stroke-linejoin:round; stroke-width:4; stroke-opacity:1; fill:none\" points=\"217.944,1486.45 217.944,1467.55 \"/>\n",
       "<polyline clip-path=\"url(#clip910)\" style=\"stroke:#000000; stroke-linecap:round; stroke-linejoin:round; stroke-width:4; stroke-opacity:1; fill:none\" points=\"736.102,1486.45 736.102,1467.55 \"/>\n",
       "<polyline clip-path=\"url(#clip910)\" style=\"stroke:#000000; stroke-linecap:round; stroke-linejoin:round; stroke-width:4; stroke-opacity:1; fill:none\" points=\"1254.26,1486.45 1254.26,1467.55 \"/>\n",
       "<polyline clip-path=\"url(#clip910)\" style=\"stroke:#000000; stroke-linecap:round; stroke-linejoin:round; stroke-width:4; stroke-opacity:1; fill:none\" points=\"1772.42,1486.45 1772.42,1467.55 \"/>\n",
       "<polyline clip-path=\"url(#clip910)\" style=\"stroke:#000000; stroke-linecap:round; stroke-linejoin:round; stroke-width:4; stroke-opacity:1; fill:none\" points=\"2290.58,1486.45 2290.58,1467.55 \"/>\n",
       "<path clip-path=\"url(#clip910)\" d=\"M180.247 1517.37 Q176.636 1517.37 174.808 1520.93 Q173.002 1524.47 173.002 1531.6 Q173.002 1538.71 174.808 1542.27 Q176.636 1545.82 180.247 1545.82 Q183.882 1545.82 185.687 1542.27 Q187.516 1538.71 187.516 1531.6 Q187.516 1524.47 185.687 1520.93 Q183.882 1517.37 180.247 1517.37 M180.247 1513.66 Q186.057 1513.66 189.113 1518.27 Q192.192 1522.85 192.192 1531.6 Q192.192 1540.33 189.113 1544.94 Q186.057 1549.52 180.247 1549.52 Q174.437 1549.52 171.358 1544.94 Q168.303 1540.33 168.303 1531.6 Q168.303 1522.85 171.358 1518.27 Q174.437 1513.66 180.247 1513.66 Z\" fill=\"#000000\" fill-rule=\"nonzero\" fill-opacity=\"1\" /><path clip-path=\"url(#clip910)\" d=\"M200.409 1542.97 L205.294 1542.97 L205.294 1548.85 L200.409 1548.85 L200.409 1542.97 Z\" fill=\"#000000\" fill-rule=\"nonzero\" fill-opacity=\"1\" /><path clip-path=\"url(#clip910)\" d=\"M225.479 1517.37 Q221.867 1517.37 220.039 1520.93 Q218.233 1524.47 218.233 1531.6 Q218.233 1538.71 220.039 1542.27 Q221.867 1545.82 225.479 1545.82 Q229.113 1545.82 230.918 1542.27 Q232.747 1538.71 232.747 1531.6 Q232.747 1524.47 230.918 1520.93 Q229.113 1517.37 225.479 1517.37 M225.479 1513.66 Q231.289 1513.66 234.344 1518.27 Q237.423 1522.85 237.423 1531.6 Q237.423 1540.33 234.344 1544.94 Q231.289 1549.52 225.479 1549.52 Q219.668 1549.52 216.59 1544.94 Q213.534 1540.33 213.534 1531.6 Q213.534 1522.85 216.59 1518.27 Q219.668 1513.66 225.479 1513.66 Z\" fill=\"#000000\" fill-rule=\"nonzero\" fill-opacity=\"1\" /><path clip-path=\"url(#clip910)\" d=\"M255.64 1517.37 Q252.029 1517.37 250.201 1520.93 Q248.395 1524.47 248.395 1531.6 Q248.395 1538.71 250.201 1542.27 Q252.029 1545.82 255.64 1545.82 Q259.275 1545.82 261.08 1542.27 Q262.909 1538.71 262.909 1531.6 Q262.909 1524.47 261.08 1520.93 Q259.275 1517.37 255.64 1517.37 M255.64 1513.66 Q261.451 1513.66 264.506 1518.27 Q267.585 1522.85 267.585 1531.6 Q267.585 1540.33 264.506 1544.94 Q261.451 1549.52 255.64 1549.52 Q249.83 1549.52 246.752 1544.94 Q243.696 1540.33 243.696 1531.6 Q243.696 1522.85 246.752 1518.27 Q249.83 1513.66 255.64 1513.66 Z\" fill=\"#000000\" fill-rule=\"nonzero\" fill-opacity=\"1\" /><path clip-path=\"url(#clip910)\" d=\"M698.903 1517.37 Q695.292 1517.37 693.463 1520.93 Q691.658 1524.47 691.658 1531.6 Q691.658 1538.71 693.463 1542.27 Q695.292 1545.82 698.903 1545.82 Q702.538 1545.82 704.343 1542.27 Q706.172 1538.71 706.172 1531.6 Q706.172 1524.47 704.343 1520.93 Q702.538 1517.37 698.903 1517.37 M698.903 1513.66 Q704.713 1513.66 707.769 1518.27 Q710.848 1522.85 710.848 1531.6 Q710.848 1540.33 707.769 1544.94 Q704.713 1549.52 698.903 1549.52 Q693.093 1549.52 690.014 1544.94 Q686.959 1540.33 686.959 1531.6 Q686.959 1522.85 690.014 1518.27 Q693.093 1513.66 698.903 1513.66 Z\" fill=\"#000000\" fill-rule=\"nonzero\" fill-opacity=\"1\" /><path clip-path=\"url(#clip910)\" d=\"M719.065 1542.97 L723.949 1542.97 L723.949 1548.85 L719.065 1548.85 L719.065 1542.97 Z\" fill=\"#000000\" fill-rule=\"nonzero\" fill-opacity=\"1\" /><path clip-path=\"url(#clip910)\" d=\"M738.162 1544.91 L754.482 1544.91 L754.482 1548.85 L732.537 1548.85 L732.537 1544.91 Q735.199 1542.16 739.783 1537.53 Q744.389 1532.88 745.57 1531.53 Q747.815 1529.01 748.695 1527.27 Q749.597 1525.51 749.597 1523.82 Q749.597 1521.07 747.653 1519.33 Q745.732 1517.6 742.63 1517.6 Q740.431 1517.6 737.977 1518.36 Q735.547 1519.13 732.769 1520.68 L732.769 1515.95 Q735.593 1514.82 738.047 1514.24 Q740.5 1513.66 742.537 1513.66 Q747.908 1513.66 751.102 1516.35 Q754.296 1519.03 754.296 1523.52 Q754.296 1525.65 753.486 1527.57 Q752.699 1529.47 750.593 1532.07 Q750.014 1532.74 746.912 1535.95 Q743.81 1539.15 738.162 1544.91 Z\" fill=\"#000000\" fill-rule=\"nonzero\" fill-opacity=\"1\" /><path clip-path=\"url(#clip910)\" d=\"M764.343 1514.29 L782.699 1514.29 L782.699 1518.22 L768.625 1518.22 L768.625 1526.7 Q769.644 1526.35 770.662 1526.19 Q771.681 1526 772.699 1526 Q778.486 1526 781.866 1529.17 Q785.245 1532.34 785.245 1537.76 Q785.245 1543.34 781.773 1546.44 Q778.301 1549.52 771.982 1549.52 Q769.806 1549.52 767.537 1549.15 Q765.292 1548.78 762.884 1548.04 L762.884 1543.34 Q764.968 1544.47 767.19 1545.03 Q769.412 1545.58 771.889 1545.58 Q775.894 1545.58 778.232 1543.48 Q780.57 1541.37 780.57 1537.76 Q780.57 1534.15 778.232 1532.04 Q775.894 1529.94 771.889 1529.94 Q770.014 1529.94 768.139 1530.35 Q766.287 1530.77 764.343 1531.65 L764.343 1514.29 Z\" fill=\"#000000\" fill-rule=\"nonzero\" fill-opacity=\"1\" /><path clip-path=\"url(#clip910)\" d=\"M1216.56 1517.37 Q1212.95 1517.37 1211.12 1520.93 Q1209.32 1524.47 1209.32 1531.6 Q1209.32 1538.71 1211.12 1542.27 Q1212.95 1545.82 1216.56 1545.82 Q1220.2 1545.82 1222 1542.27 Q1223.83 1538.71 1223.83 1531.6 Q1223.83 1524.47 1222 1520.93 Q1220.2 1517.37 1216.56 1517.37 M1216.56 1513.66 Q1222.37 1513.66 1225.43 1518.27 Q1228.51 1522.85 1228.51 1531.6 Q1228.51 1540.33 1225.43 1544.94 Q1222.37 1549.52 1216.56 1549.52 Q1210.75 1549.52 1207.68 1544.94 Q1204.62 1540.33 1204.62 1531.6 Q1204.62 1522.85 1207.68 1518.27 Q1210.75 1513.66 1216.56 1513.66 Z\" fill=\"#000000\" fill-rule=\"nonzero\" fill-opacity=\"1\" /><path clip-path=\"url(#clip910)\" d=\"M1236.73 1542.97 L1241.61 1542.97 L1241.61 1548.85 L1236.73 1548.85 L1236.73 1542.97 Z\" fill=\"#000000\" fill-rule=\"nonzero\" fill-opacity=\"1\" /><path clip-path=\"url(#clip910)\" d=\"M1251.84 1514.29 L1270.2 1514.29 L1270.2 1518.22 L1256.12 1518.22 L1256.12 1526.7 Q1257.14 1526.35 1258.16 1526.19 Q1259.18 1526 1260.2 1526 Q1265.98 1526 1269.36 1529.17 Q1272.74 1532.34 1272.74 1537.76 Q1272.74 1543.34 1269.27 1546.44 Q1265.8 1549.52 1259.48 1549.52 Q1257.3 1549.52 1255.04 1549.15 Q1252.79 1548.78 1250.38 1548.04 L1250.38 1543.34 Q1252.47 1544.47 1254.69 1545.03 Q1256.91 1545.58 1259.39 1545.58 Q1263.39 1545.58 1265.73 1543.48 Q1268.07 1541.37 1268.07 1537.76 Q1268.07 1534.15 1265.73 1532.04 Q1263.39 1529.94 1259.39 1529.94 Q1257.51 1529.94 1255.64 1530.35 Q1253.79 1530.77 1251.84 1531.65 L1251.84 1514.29 Z\" fill=\"#000000\" fill-rule=\"nonzero\" fill-opacity=\"1\" /><path clip-path=\"url(#clip910)\" d=\"M1291.96 1517.37 Q1288.35 1517.37 1286.52 1520.93 Q1284.71 1524.47 1284.71 1531.6 Q1284.71 1538.71 1286.52 1542.27 Q1288.35 1545.82 1291.96 1545.82 Q1295.59 1545.82 1297.4 1542.27 Q1299.23 1538.71 1299.23 1531.6 Q1299.23 1524.47 1297.4 1520.93 Q1295.59 1517.37 1291.96 1517.37 M1291.96 1513.66 Q1297.77 1513.66 1300.82 1518.27 Q1303.9 1522.85 1303.9 1531.6 Q1303.9 1540.33 1300.82 1544.94 Q1297.77 1549.52 1291.96 1549.52 Q1286.15 1549.52 1283.07 1544.94 Q1280.01 1540.33 1280.01 1531.6 Q1280.01 1522.85 1283.07 1518.27 Q1286.15 1513.66 1291.96 1513.66 Z\" fill=\"#000000\" fill-rule=\"nonzero\" fill-opacity=\"1\" /><path clip-path=\"url(#clip910)\" d=\"M1735.22 1517.37 Q1731.61 1517.37 1729.78 1520.93 Q1727.97 1524.47 1727.97 1531.6 Q1727.97 1538.71 1729.78 1542.27 Q1731.61 1545.82 1735.22 1545.82 Q1738.85 1545.82 1740.66 1542.27 Q1742.49 1538.71 1742.49 1531.6 Q1742.49 1524.47 1740.66 1520.93 Q1738.85 1517.37 1735.22 1517.37 M1735.22 1513.66 Q1741.03 1513.66 1744.09 1518.27 Q1747.16 1522.85 1747.16 1531.6 Q1747.16 1540.33 1744.09 1544.94 Q1741.03 1549.52 1735.22 1549.52 Q1729.41 1549.52 1726.33 1544.94 Q1723.28 1540.33 1723.28 1531.6 Q1723.28 1522.85 1726.33 1518.27 Q1729.41 1513.66 1735.22 1513.66 Z\" fill=\"#000000\" fill-rule=\"nonzero\" fill-opacity=\"1\" /><path clip-path=\"url(#clip910)\" d=\"M1755.38 1542.97 L1760.27 1542.97 L1760.27 1548.85 L1755.38 1548.85 L1755.38 1542.97 Z\" fill=\"#000000\" fill-rule=\"nonzero\" fill-opacity=\"1\" /><path clip-path=\"url(#clip910)\" d=\"M1769.27 1514.29 L1791.49 1514.29 L1791.49 1516.28 L1778.95 1548.85 L1774.06 1548.85 L1785.87 1518.22 L1769.27 1518.22 L1769.27 1514.29 Z\" fill=\"#000000\" fill-rule=\"nonzero\" fill-opacity=\"1\" /><path clip-path=\"url(#clip910)\" d=\"M1800.66 1514.29 L1819.02 1514.29 L1819.02 1518.22 L1804.94 1518.22 L1804.94 1526.7 Q1805.96 1526.35 1806.98 1526.19 Q1808 1526 1809.02 1526 Q1814.8 1526 1818.18 1529.17 Q1821.56 1532.34 1821.56 1537.76 Q1821.56 1543.34 1818.09 1546.44 Q1814.62 1549.52 1808.3 1549.52 Q1806.12 1549.52 1803.85 1549.15 Q1801.61 1548.78 1799.2 1548.04 L1799.2 1543.34 Q1801.28 1544.47 1803.51 1545.03 Q1805.73 1545.58 1808.21 1545.58 Q1812.21 1545.58 1814.55 1543.48 Q1816.89 1541.37 1816.89 1537.76 Q1816.89 1534.15 1814.55 1532.04 Q1812.21 1529.94 1808.21 1529.94 Q1806.33 1529.94 1804.46 1530.35 Q1802.6 1530.77 1800.66 1531.65 L1800.66 1514.29 Z\" fill=\"#000000\" fill-rule=\"nonzero\" fill-opacity=\"1\" /><path clip-path=\"url(#clip910)\" d=\"M2242.65 1544.91 L2250.29 1544.91 L2250.29 1518.55 L2241.98 1520.21 L2241.98 1515.95 L2250.24 1514.29 L2254.92 1514.29 L2254.92 1544.91 L2262.56 1544.91 L2262.56 1548.85 L2242.65 1548.85 L2242.65 1544.91 Z\" fill=\"#000000\" fill-rule=\"nonzero\" fill-opacity=\"1\" /><path clip-path=\"url(#clip910)\" d=\"M2272 1542.97 L2276.88 1542.97 L2276.88 1548.85 L2272 1548.85 L2272 1542.97 Z\" fill=\"#000000\" fill-rule=\"nonzero\" fill-opacity=\"1\" /><path clip-path=\"url(#clip910)\" d=\"M2297.07 1517.37 Q2293.46 1517.37 2291.63 1520.93 Q2289.82 1524.47 2289.82 1531.6 Q2289.82 1538.71 2291.63 1542.27 Q2293.46 1545.82 2297.07 1545.82 Q2300.7 1545.82 2302.51 1542.27 Q2304.34 1538.71 2304.34 1531.6 Q2304.34 1524.47 2302.51 1520.93 Q2300.7 1517.37 2297.07 1517.37 M2297.07 1513.66 Q2302.88 1513.66 2305.94 1518.27 Q2309.01 1522.85 2309.01 1531.6 Q2309.01 1540.33 2305.94 1544.94 Q2302.88 1549.52 2297.07 1549.52 Q2291.26 1549.52 2288.18 1544.94 Q2285.13 1540.33 2285.13 1531.6 Q2285.13 1522.85 2288.18 1518.27 Q2291.26 1513.66 2297.07 1513.66 Z\" fill=\"#000000\" fill-rule=\"nonzero\" fill-opacity=\"1\" /><path clip-path=\"url(#clip910)\" d=\"M2327.23 1517.37 Q2323.62 1517.37 2321.79 1520.93 Q2319.99 1524.47 2319.99 1531.6 Q2319.99 1538.71 2321.79 1542.27 Q2323.62 1545.82 2327.23 1545.82 Q2330.87 1545.82 2332.67 1542.27 Q2334.5 1538.71 2334.5 1531.6 Q2334.5 1524.47 2332.67 1520.93 Q2330.87 1517.37 2327.23 1517.37 M2327.23 1513.66 Q2333.04 1513.66 2336.1 1518.27 Q2339.18 1522.85 2339.18 1531.6 Q2339.18 1540.33 2336.1 1544.94 Q2333.04 1549.52 2327.23 1549.52 Q2321.42 1549.52 2318.34 1544.94 Q2315.29 1540.33 2315.29 1531.6 Q2315.29 1522.85 2318.34 1518.27 Q2321.42 1513.66 2327.23 1513.66 Z\" fill=\"#000000\" fill-rule=\"nonzero\" fill-opacity=\"1\" /><polyline clip-path=\"url(#clip910)\" style=\"stroke:#000000; stroke-linecap:round; stroke-linejoin:round; stroke-width:4; stroke-opacity:1; fill:none\" points=\"155.765,1486.45 155.765,47.2441 \"/>\n",
       "<polyline clip-path=\"url(#clip910)\" style=\"stroke:#000000; stroke-linecap:round; stroke-linejoin:round; stroke-width:4; stroke-opacity:1; fill:none\" points=\"155.765,1184.48 174.663,1184.48 \"/>\n",
       "<polyline clip-path=\"url(#clip910)\" style=\"stroke:#000000; stroke-linecap:round; stroke-linejoin:round; stroke-width:4; stroke-opacity:1; fill:none\" points=\"155.765,811.424 174.663,811.424 \"/>\n",
       "<polyline clip-path=\"url(#clip910)\" style=\"stroke:#000000; stroke-linecap:round; stroke-linejoin:round; stroke-width:4; stroke-opacity:1; fill:none\" points=\"155.765,438.367 174.663,438.367 \"/>\n",
       "<polyline clip-path=\"url(#clip910)\" style=\"stroke:#000000; stroke-linecap:round; stroke-linejoin:round; stroke-width:4; stroke-opacity:1; fill:none\" points=\"155.765,65.3099 174.663,65.3099 \"/>\n",
       "<path clip-path=\"url(#clip910)\" d=\"M63.5847 1170.28 Q59.9736 1170.28 58.1449 1173.84 Q56.3393 1177.39 56.3393 1184.52 Q56.3393 1191.62 58.1449 1195.19 Q59.9736 1198.73 63.5847 1198.73 Q67.2189 1198.73 69.0244 1195.19 Q70.8531 1191.62 70.8531 1184.52 Q70.8531 1177.39 69.0244 1173.84 Q67.2189 1170.28 63.5847 1170.28 M63.5847 1166.58 Q69.3948 1166.58 72.4503 1171.18 Q75.529 1175.77 75.529 1184.52 Q75.529 1193.24 72.4503 1197.85 Q69.3948 1202.43 63.5847 1202.43 Q57.7745 1202.43 54.6958 1197.85 Q51.6403 1193.24 51.6403 1184.52 Q51.6403 1175.77 54.6958 1171.18 Q57.7745 1166.58 63.5847 1166.58 Z\" fill=\"#000000\" fill-rule=\"nonzero\" fill-opacity=\"1\" /><path clip-path=\"url(#clip910)\" d=\"M83.7466 1195.88 L88.6308 1195.88 L88.6308 1201.76 L83.7466 1201.76 L83.7466 1195.88 Z\" fill=\"#000000\" fill-rule=\"nonzero\" fill-opacity=\"1\" /><path clip-path=\"url(#clip910)\" d=\"M98.8622 1167.2 L117.219 1167.2 L117.219 1171.14 L103.145 1171.14 L103.145 1179.61 Q104.163 1179.26 105.182 1179.1 Q106.2 1178.91 107.219 1178.91 Q113.006 1178.91 116.385 1182.09 Q119.765 1185.26 119.765 1190.67 Q119.765 1196.25 116.293 1199.35 Q112.82 1202.43 106.501 1202.43 Q104.325 1202.43 102.057 1202.06 Q99.8113 1201.69 97.4039 1200.95 L97.4039 1196.25 Q99.4872 1197.39 101.709 1197.94 Q103.932 1198.5 106.408 1198.5 Q110.413 1198.5 112.751 1196.39 Q115.089 1194.28 115.089 1190.67 Q115.089 1187.06 112.751 1184.96 Q110.413 1182.85 106.408 1182.85 Q104.534 1182.85 102.659 1183.27 Q100.807 1183.68 98.8622 1184.56 L98.8622 1167.2 Z\" fill=\"#000000\" fill-rule=\"nonzero\" fill-opacity=\"1\" /><path clip-path=\"url(#clip910)\" d=\"M53.3995 824.769 L61.0384 824.769 L61.0384 798.403 L52.7282 800.07 L52.7282 795.811 L60.9921 794.144 L65.668 794.144 L65.668 824.769 L73.3068 824.769 L73.3068 828.704 L53.3995 828.704 L53.3995 824.769 Z\" fill=\"#000000\" fill-rule=\"nonzero\" fill-opacity=\"1\" /><path clip-path=\"url(#clip910)\" d=\"M82.7512 822.825 L87.6354 822.825 L87.6354 828.704 L82.7512 828.704 L82.7512 822.825 Z\" fill=\"#000000\" fill-rule=\"nonzero\" fill-opacity=\"1\" /><path clip-path=\"url(#clip910)\" d=\"M107.821 797.223 Q104.209 797.223 102.381 800.788 Q100.575 804.329 100.575 811.459 Q100.575 818.565 102.381 822.13 Q104.209 825.672 107.821 825.672 Q111.455 825.672 113.26 822.13 Q115.089 818.565 115.089 811.459 Q115.089 804.329 113.26 800.788 Q111.455 797.223 107.821 797.223 M107.821 793.519 Q113.631 793.519 116.686 798.126 Q119.765 802.709 119.765 811.459 Q119.765 820.186 116.686 824.792 Q113.631 829.375 107.821 829.375 Q102.01 829.375 98.9317 824.792 Q95.8761 820.186 95.8761 811.459 Q95.8761 802.709 98.9317 798.126 Q102.01 793.519 107.821 793.519 Z\" fill=\"#000000\" fill-rule=\"nonzero\" fill-opacity=\"1\" /><path clip-path=\"url(#clip910)\" d=\"M54.3949 451.712 L62.0337 451.712 L62.0337 425.346 L53.7236 427.013 L53.7236 422.754 L61.9874 421.087 L66.6633 421.087 L66.6633 451.712 L74.3022 451.712 L74.3022 455.647 L54.3949 455.647 L54.3949 451.712 Z\" fill=\"#000000\" fill-rule=\"nonzero\" fill-opacity=\"1\" /><path clip-path=\"url(#clip910)\" d=\"M83.7466 449.767 L88.6308 449.767 L88.6308 455.647 L83.7466 455.647 L83.7466 449.767 Z\" fill=\"#000000\" fill-rule=\"nonzero\" fill-opacity=\"1\" /><path clip-path=\"url(#clip910)\" d=\"M98.8622 421.087 L117.219 421.087 L117.219 425.022 L103.145 425.022 L103.145 433.494 Q104.163 433.147 105.182 432.985 Q106.2 432.8 107.219 432.8 Q113.006 432.8 116.385 435.971 Q119.765 439.142 119.765 444.559 Q119.765 450.138 116.293 453.24 Q112.82 456.318 106.501 456.318 Q104.325 456.318 102.057 455.948 Q99.8113 455.578 97.4039 454.837 L97.4039 450.138 Q99.4872 451.272 101.709 451.828 Q103.932 452.383 106.408 452.383 Q110.413 452.383 112.751 450.277 Q115.089 448.17 115.089 444.559 Q115.089 440.948 112.751 438.842 Q110.413 436.735 106.408 436.735 Q104.534 436.735 102.659 437.152 Q100.807 437.568 98.8622 438.448 L98.8622 421.087 Z\" fill=\"#000000\" fill-rule=\"nonzero\" fill-opacity=\"1\" /><path clip-path=\"url(#clip910)\" d=\"M56.6171 78.6547 L72.9365 78.6547 L72.9365 82.5899 L50.9921 82.5899 L50.9921 78.6547 Q53.6541 75.9001 58.2375 71.2705 Q62.8439 66.6177 64.0245 65.2752 Q66.2698 62.752 67.1494 61.0159 Q68.0522 59.2567 68.0522 57.5669 Q68.0522 54.8123 66.1078 53.0762 Q64.1865 51.3401 61.0847 51.3401 Q58.8856 51.3401 56.4319 52.1039 Q54.0014 52.8678 51.2236 54.4187 L51.2236 49.6965 Q54.0477 48.5623 56.5014 47.9836 Q58.955 47.4049 60.9921 47.4049 Q66.3624 47.4049 69.5568 50.0901 Q72.7513 52.7752 72.7513 57.2659 Q72.7513 59.3956 71.9411 61.3169 Q71.1541 63.215 69.0476 65.8076 Q68.4689 66.4789 65.367 69.6964 Q62.2652 72.8909 56.6171 78.6547 Z\" fill=\"#000000\" fill-rule=\"nonzero\" fill-opacity=\"1\" /><path clip-path=\"url(#clip910)\" d=\"M82.7512 76.7103 L87.6354 76.7103 L87.6354 82.5899 L82.7512 82.5899 L82.7512 76.7103 Z\" fill=\"#000000\" fill-rule=\"nonzero\" fill-opacity=\"1\" /><path clip-path=\"url(#clip910)\" d=\"M107.821 51.1086 Q104.209 51.1086 102.381 54.6734 Q100.575 58.215 100.575 65.3446 Q100.575 72.4511 102.381 76.0158 Q104.209 79.5575 107.821 79.5575 Q111.455 79.5575 113.26 76.0158 Q115.089 72.4511 115.089 65.3446 Q115.089 58.215 113.26 54.6734 Q111.455 51.1086 107.821 51.1086 M107.821 47.4049 Q113.631 47.4049 116.686 52.0113 Q119.765 56.5947 119.765 65.3446 Q119.765 74.0714 116.686 78.6779 Q113.631 83.2612 107.821 83.2612 Q102.01 83.2612 98.9317 78.6779 Q95.8761 74.0714 95.8761 65.3446 Q95.8761 56.5947 98.9317 52.0113 Q102.01 47.4049 107.821 47.4049 Z\" fill=\"#000000\" fill-rule=\"nonzero\" fill-opacity=\"1\" /><circle clip-path=\"url(#clip912)\" cx=\"217.944\" cy=\"87.9763\" r=\"14.4\" fill=\"#009af9\" fill-rule=\"evenodd\" fill-opacity=\"1\" stroke=\"#000000\" stroke-opacity=\"1\" stroke-width=\"3.2\"/>\n",
       "<circle clip-path=\"url(#clip912)\" cx=\"425.207\" cy=\"458.117\" r=\"14.4\" fill=\"#009af9\" fill-rule=\"evenodd\" fill-opacity=\"1\" stroke=\"#000000\" stroke-opacity=\"1\" stroke-width=\"3.2\"/>\n",
       "<circle clip-path=\"url(#clip912)\" cx=\"632.47\" cy=\"657.537\" r=\"14.4\" fill=\"#009af9\" fill-rule=\"evenodd\" fill-opacity=\"1\" stroke=\"#000000\" stroke-opacity=\"1\" stroke-width=\"3.2\"/>\n",
       "<circle clip-path=\"url(#clip912)\" cx=\"839.734\" cy=\"770.038\" r=\"14.4\" fill=\"#009af9\" fill-rule=\"evenodd\" fill-opacity=\"1\" stroke=\"#000000\" stroke-opacity=\"1\" stroke-width=\"3.2\"/>\n",
       "<circle clip-path=\"url(#clip912)\" cx=\"1047\" cy=\"996.613\" r=\"14.4\" fill=\"#009af9\" fill-rule=\"evenodd\" fill-opacity=\"1\" stroke=\"#000000\" stroke-opacity=\"1\" stroke-width=\"3.2\"/>\n",
       "<circle clip-path=\"url(#clip912)\" cx=\"1254.26\" cy=\"935.925\" r=\"14.4\" fill=\"#009af9\" fill-rule=\"evenodd\" fill-opacity=\"1\" stroke=\"#000000\" stroke-opacity=\"1\" stroke-width=\"3.2\"/>\n",
       "<circle clip-path=\"url(#clip912)\" cx=\"1461.52\" cy=\"1109.09\" r=\"14.4\" fill=\"#009af9\" fill-rule=\"evenodd\" fill-opacity=\"1\" stroke=\"#000000\" stroke-opacity=\"1\" stroke-width=\"3.2\"/>\n",
       "<circle clip-path=\"url(#clip912)\" cx=\"1668.79\" cy=\"1212.95\" r=\"14.4\" fill=\"#009af9\" fill-rule=\"evenodd\" fill-opacity=\"1\" stroke=\"#000000\" stroke-opacity=\"1\" stroke-width=\"3.2\"/>\n",
       "<circle clip-path=\"url(#clip912)\" cx=\"1876.05\" cy=\"1266.79\" r=\"14.4\" fill=\"#009af9\" fill-rule=\"evenodd\" fill-opacity=\"1\" stroke=\"#000000\" stroke-opacity=\"1\" stroke-width=\"3.2\"/>\n",
       "<circle clip-path=\"url(#clip912)\" cx=\"2083.31\" cy=\"1138.6\" r=\"14.4\" fill=\"#009af9\" fill-rule=\"evenodd\" fill-opacity=\"1\" stroke=\"#000000\" stroke-opacity=\"1\" stroke-width=\"3.2\"/>\n",
       "<circle clip-path=\"url(#clip912)\" cx=\"2290.58\" cy=\"1445.72\" r=\"14.4\" fill=\"#009af9\" fill-rule=\"evenodd\" fill-opacity=\"1\" stroke=\"#000000\" stroke-opacity=\"1\" stroke-width=\"3.2\"/>\n",
       "<path clip-path=\"url(#clip910)\" d=\"M2007.39 198.898 L2279.52 198.898 L2279.52 95.2176 L2007.39 95.2176  Z\" fill=\"#ffffff\" fill-rule=\"evenodd\" fill-opacity=\"1\"/>\n",
       "<polyline clip-path=\"url(#clip910)\" style=\"stroke:#000000; stroke-linecap:round; stroke-linejoin:round; stroke-width:4; stroke-opacity:1; fill:none\" points=\"2007.39,198.898 2279.52,198.898 2279.52,95.2176 2007.39,95.2176 2007.39,198.898 \"/>\n",
       "<circle clip-path=\"url(#clip910)\" cx=\"2105.04\" cy=\"147.058\" r=\"20.48\" fill=\"#009af9\" fill-rule=\"evenodd\" fill-opacity=\"1\" stroke=\"#000000\" stroke-opacity=\"1\" stroke-width=\"4.55111\"/>\n",
       "<path clip-path=\"url(#clip910)\" d=\"M2216.52 166.745 Q2214.72 171.375 2213.01 172.787 Q2211.29 174.199 2208.42 174.199 L2205.02 174.199 L2205.02 170.634 L2207.52 170.634 Q2209.28 170.634 2210.25 169.8 Q2211.22 168.967 2212.4 165.865 L2213.17 163.921 L2202.68 138.412 L2207.2 138.412 L2215.3 158.689 L2223.4 138.412 L2227.91 138.412 L2216.52 166.745 Z\" fill=\"#000000\" fill-rule=\"nonzero\" fill-opacity=\"1\" /><path clip-path=\"url(#clip910)\" d=\"M2235.2 160.402 L2242.84 160.402 L2242.84 134.037 L2234.53 135.703 L2234.53 131.444 L2242.8 129.778 L2247.47 129.778 L2247.47 160.402 L2255.11 160.402 L2255.11 164.338 L2235.2 164.338 L2235.2 160.402 Z\" fill=\"#000000\" fill-rule=\"nonzero\" fill-opacity=\"1\" /></svg>\n"
      ],
      "text/html": [
       "<?xml version=\"1.0\" encoding=\"utf-8\"?>\n",
       "<svg xmlns=\"http://www.w3.org/2000/svg\" xmlns:xlink=\"http://www.w3.org/1999/xlink\" width=\"600\" height=\"400\" viewBox=\"0 0 2400 1600\">\n",
       "<defs>\n",
       "  <clipPath id=\"clip960\">\n",
       "    <rect x=\"0\" y=\"0\" width=\"2400\" height=\"1600\"/>\n",
       "  </clipPath>\n",
       "</defs>\n",
       "<path clip-path=\"url(#clip960)\" d=\"M0 1600 L2400 1600 L2400 8.88178e-14 L0 8.88178e-14  Z\" fill=\"#ffffff\" fill-rule=\"evenodd\" fill-opacity=\"1\"/>\n",
       "<defs>\n",
       "  <clipPath id=\"clip961\">\n",
       "    <rect x=\"480\" y=\"0\" width=\"1681\" height=\"1600\"/>\n",
       "  </clipPath>\n",
       "</defs>\n",
       "<path clip-path=\"url(#clip960)\" d=\"M155.765 1486.45 L2352.76 1486.45 L2352.76 47.2441 L155.765 47.2441  Z\" fill=\"#ffffff\" fill-rule=\"evenodd\" fill-opacity=\"1\"/>\n",
       "<defs>\n",
       "  <clipPath id=\"clip962\">\n",
       "    <rect x=\"155\" y=\"47\" width=\"2198\" height=\"1440\"/>\n",
       "  </clipPath>\n",
       "</defs>\n",
       "<polyline clip-path=\"url(#clip962)\" style=\"stroke:#000000; stroke-linecap:round; stroke-linejoin:round; stroke-width:2; stroke-opacity:0.1; fill:none\" points=\"217.944,1486.45 217.944,47.2441 \"/>\n",
       "<polyline clip-path=\"url(#clip962)\" style=\"stroke:#000000; stroke-linecap:round; stroke-linejoin:round; stroke-width:2; stroke-opacity:0.1; fill:none\" points=\"736.102,1486.45 736.102,47.2441 \"/>\n",
       "<polyline clip-path=\"url(#clip962)\" style=\"stroke:#000000; stroke-linecap:round; stroke-linejoin:round; stroke-width:2; stroke-opacity:0.1; fill:none\" points=\"1254.26,1486.45 1254.26,47.2441 \"/>\n",
       "<polyline clip-path=\"url(#clip962)\" style=\"stroke:#000000; stroke-linecap:round; stroke-linejoin:round; stroke-width:2; stroke-opacity:0.1; fill:none\" points=\"1772.42,1486.45 1772.42,47.2441 \"/>\n",
       "<polyline clip-path=\"url(#clip962)\" style=\"stroke:#000000; stroke-linecap:round; stroke-linejoin:round; stroke-width:2; stroke-opacity:0.1; fill:none\" points=\"2290.58,1486.45 2290.58,47.2441 \"/>\n",
       "<polyline clip-path=\"url(#clip962)\" style=\"stroke:#000000; stroke-linecap:round; stroke-linejoin:round; stroke-width:2; stroke-opacity:0.1; fill:none\" points=\"155.765,1184.48 2352.76,1184.48 \"/>\n",
       "<polyline clip-path=\"url(#clip962)\" style=\"stroke:#000000; stroke-linecap:round; stroke-linejoin:round; stroke-width:2; stroke-opacity:0.1; fill:none\" points=\"155.765,811.424 2352.76,811.424 \"/>\n",
       "<polyline clip-path=\"url(#clip962)\" style=\"stroke:#000000; stroke-linecap:round; stroke-linejoin:round; stroke-width:2; stroke-opacity:0.1; fill:none\" points=\"155.765,438.367 2352.76,438.367 \"/>\n",
       "<polyline clip-path=\"url(#clip962)\" style=\"stroke:#000000; stroke-linecap:round; stroke-linejoin:round; stroke-width:2; stroke-opacity:0.1; fill:none\" points=\"155.765,65.3099 2352.76,65.3099 \"/>\n",
       "<polyline clip-path=\"url(#clip960)\" style=\"stroke:#000000; stroke-linecap:round; stroke-linejoin:round; stroke-width:4; stroke-opacity:1; fill:none\" points=\"155.765,1486.45 2352.76,1486.45 \"/>\n",
       "<polyline clip-path=\"url(#clip960)\" style=\"stroke:#000000; stroke-linecap:round; stroke-linejoin:round; stroke-width:4; stroke-opacity:1; fill:none\" points=\"217.944,1486.45 217.944,1467.55 \"/>\n",
       "<polyline clip-path=\"url(#clip960)\" style=\"stroke:#000000; stroke-linecap:round; stroke-linejoin:round; stroke-width:4; stroke-opacity:1; fill:none\" points=\"736.102,1486.45 736.102,1467.55 \"/>\n",
       "<polyline clip-path=\"url(#clip960)\" style=\"stroke:#000000; stroke-linecap:round; stroke-linejoin:round; stroke-width:4; stroke-opacity:1; fill:none\" points=\"1254.26,1486.45 1254.26,1467.55 \"/>\n",
       "<polyline clip-path=\"url(#clip960)\" style=\"stroke:#000000; stroke-linecap:round; stroke-linejoin:round; stroke-width:4; stroke-opacity:1; fill:none\" points=\"1772.42,1486.45 1772.42,1467.55 \"/>\n",
       "<polyline clip-path=\"url(#clip960)\" style=\"stroke:#000000; stroke-linecap:round; stroke-linejoin:round; stroke-width:4; stroke-opacity:1; fill:none\" points=\"2290.58,1486.45 2290.58,1467.55 \"/>\n",
       "<path clip-path=\"url(#clip960)\" d=\"M180.247 1517.37 Q176.636 1517.37 174.808 1520.93 Q173.002 1524.47 173.002 1531.6 Q173.002 1538.71 174.808 1542.27 Q176.636 1545.82 180.247 1545.82 Q183.882 1545.82 185.687 1542.27 Q187.516 1538.71 187.516 1531.6 Q187.516 1524.47 185.687 1520.93 Q183.882 1517.37 180.247 1517.37 M180.247 1513.66 Q186.057 1513.66 189.113 1518.27 Q192.192 1522.85 192.192 1531.6 Q192.192 1540.33 189.113 1544.94 Q186.057 1549.52 180.247 1549.52 Q174.437 1549.52 171.358 1544.94 Q168.303 1540.33 168.303 1531.6 Q168.303 1522.85 171.358 1518.27 Q174.437 1513.66 180.247 1513.66 Z\" fill=\"#000000\" fill-rule=\"nonzero\" fill-opacity=\"1\" /><path clip-path=\"url(#clip960)\" d=\"M200.409 1542.97 L205.294 1542.97 L205.294 1548.85 L200.409 1548.85 L200.409 1542.97 Z\" fill=\"#000000\" fill-rule=\"nonzero\" fill-opacity=\"1\" /><path clip-path=\"url(#clip960)\" d=\"M225.479 1517.37 Q221.867 1517.37 220.039 1520.93 Q218.233 1524.47 218.233 1531.6 Q218.233 1538.71 220.039 1542.27 Q221.867 1545.82 225.479 1545.82 Q229.113 1545.82 230.918 1542.27 Q232.747 1538.71 232.747 1531.6 Q232.747 1524.47 230.918 1520.93 Q229.113 1517.37 225.479 1517.37 M225.479 1513.66 Q231.289 1513.66 234.344 1518.27 Q237.423 1522.85 237.423 1531.6 Q237.423 1540.33 234.344 1544.94 Q231.289 1549.52 225.479 1549.52 Q219.668 1549.52 216.59 1544.94 Q213.534 1540.33 213.534 1531.6 Q213.534 1522.85 216.59 1518.27 Q219.668 1513.66 225.479 1513.66 Z\" fill=\"#000000\" fill-rule=\"nonzero\" fill-opacity=\"1\" /><path clip-path=\"url(#clip960)\" d=\"M255.64 1517.37 Q252.029 1517.37 250.201 1520.93 Q248.395 1524.47 248.395 1531.6 Q248.395 1538.71 250.201 1542.27 Q252.029 1545.82 255.64 1545.82 Q259.275 1545.82 261.08 1542.27 Q262.909 1538.71 262.909 1531.6 Q262.909 1524.47 261.08 1520.93 Q259.275 1517.37 255.64 1517.37 M255.64 1513.66 Q261.451 1513.66 264.506 1518.27 Q267.585 1522.85 267.585 1531.6 Q267.585 1540.33 264.506 1544.94 Q261.451 1549.52 255.64 1549.52 Q249.83 1549.52 246.752 1544.94 Q243.696 1540.33 243.696 1531.6 Q243.696 1522.85 246.752 1518.27 Q249.83 1513.66 255.64 1513.66 Z\" fill=\"#000000\" fill-rule=\"nonzero\" fill-opacity=\"1\" /><path clip-path=\"url(#clip960)\" d=\"M698.903 1517.37 Q695.292 1517.37 693.463 1520.93 Q691.658 1524.47 691.658 1531.6 Q691.658 1538.71 693.463 1542.27 Q695.292 1545.82 698.903 1545.82 Q702.538 1545.82 704.343 1542.27 Q706.172 1538.71 706.172 1531.6 Q706.172 1524.47 704.343 1520.93 Q702.538 1517.37 698.903 1517.37 M698.903 1513.66 Q704.713 1513.66 707.769 1518.27 Q710.848 1522.85 710.848 1531.6 Q710.848 1540.33 707.769 1544.94 Q704.713 1549.52 698.903 1549.52 Q693.093 1549.52 690.014 1544.94 Q686.959 1540.33 686.959 1531.6 Q686.959 1522.85 690.014 1518.27 Q693.093 1513.66 698.903 1513.66 Z\" fill=\"#000000\" fill-rule=\"nonzero\" fill-opacity=\"1\" /><path clip-path=\"url(#clip960)\" d=\"M719.065 1542.97 L723.949 1542.97 L723.949 1548.85 L719.065 1548.85 L719.065 1542.97 Z\" fill=\"#000000\" fill-rule=\"nonzero\" fill-opacity=\"1\" /><path clip-path=\"url(#clip960)\" d=\"M738.162 1544.91 L754.482 1544.91 L754.482 1548.85 L732.537 1548.85 L732.537 1544.91 Q735.199 1542.16 739.783 1537.53 Q744.389 1532.88 745.57 1531.53 Q747.815 1529.01 748.695 1527.27 Q749.597 1525.51 749.597 1523.82 Q749.597 1521.07 747.653 1519.33 Q745.732 1517.6 742.63 1517.6 Q740.431 1517.6 737.977 1518.36 Q735.547 1519.13 732.769 1520.68 L732.769 1515.95 Q735.593 1514.82 738.047 1514.24 Q740.5 1513.66 742.537 1513.66 Q747.908 1513.66 751.102 1516.35 Q754.296 1519.03 754.296 1523.52 Q754.296 1525.65 753.486 1527.57 Q752.699 1529.47 750.593 1532.07 Q750.014 1532.74 746.912 1535.95 Q743.81 1539.15 738.162 1544.91 Z\" fill=\"#000000\" fill-rule=\"nonzero\" fill-opacity=\"1\" /><path clip-path=\"url(#clip960)\" d=\"M764.343 1514.29 L782.699 1514.29 L782.699 1518.22 L768.625 1518.22 L768.625 1526.7 Q769.644 1526.35 770.662 1526.19 Q771.681 1526 772.699 1526 Q778.486 1526 781.866 1529.17 Q785.245 1532.34 785.245 1537.76 Q785.245 1543.34 781.773 1546.44 Q778.301 1549.52 771.982 1549.52 Q769.806 1549.52 767.537 1549.15 Q765.292 1548.78 762.884 1548.04 L762.884 1543.34 Q764.968 1544.47 767.19 1545.03 Q769.412 1545.58 771.889 1545.58 Q775.894 1545.58 778.232 1543.48 Q780.57 1541.37 780.57 1537.76 Q780.57 1534.15 778.232 1532.04 Q775.894 1529.94 771.889 1529.94 Q770.014 1529.94 768.139 1530.35 Q766.287 1530.77 764.343 1531.65 L764.343 1514.29 Z\" fill=\"#000000\" fill-rule=\"nonzero\" fill-opacity=\"1\" /><path clip-path=\"url(#clip960)\" d=\"M1216.56 1517.37 Q1212.95 1517.37 1211.12 1520.93 Q1209.32 1524.47 1209.32 1531.6 Q1209.32 1538.71 1211.12 1542.27 Q1212.95 1545.82 1216.56 1545.82 Q1220.2 1545.82 1222 1542.27 Q1223.83 1538.71 1223.83 1531.6 Q1223.83 1524.47 1222 1520.93 Q1220.2 1517.37 1216.56 1517.37 M1216.56 1513.66 Q1222.37 1513.66 1225.43 1518.27 Q1228.51 1522.85 1228.51 1531.6 Q1228.51 1540.33 1225.43 1544.94 Q1222.37 1549.52 1216.56 1549.52 Q1210.75 1549.52 1207.68 1544.94 Q1204.62 1540.33 1204.62 1531.6 Q1204.62 1522.85 1207.68 1518.27 Q1210.75 1513.66 1216.56 1513.66 Z\" fill=\"#000000\" fill-rule=\"nonzero\" fill-opacity=\"1\" /><path clip-path=\"url(#clip960)\" d=\"M1236.73 1542.97 L1241.61 1542.97 L1241.61 1548.85 L1236.73 1548.85 L1236.73 1542.97 Z\" fill=\"#000000\" fill-rule=\"nonzero\" fill-opacity=\"1\" /><path clip-path=\"url(#clip960)\" d=\"M1251.84 1514.29 L1270.2 1514.29 L1270.2 1518.22 L1256.12 1518.22 L1256.12 1526.7 Q1257.14 1526.35 1258.16 1526.19 Q1259.18 1526 1260.2 1526 Q1265.98 1526 1269.36 1529.17 Q1272.74 1532.34 1272.74 1537.76 Q1272.74 1543.34 1269.27 1546.44 Q1265.8 1549.52 1259.48 1549.52 Q1257.3 1549.52 1255.04 1549.15 Q1252.79 1548.78 1250.38 1548.04 L1250.38 1543.34 Q1252.47 1544.47 1254.69 1545.03 Q1256.91 1545.58 1259.39 1545.58 Q1263.39 1545.58 1265.73 1543.48 Q1268.07 1541.37 1268.07 1537.76 Q1268.07 1534.15 1265.73 1532.04 Q1263.39 1529.94 1259.39 1529.94 Q1257.51 1529.94 1255.64 1530.35 Q1253.79 1530.77 1251.84 1531.65 L1251.84 1514.29 Z\" fill=\"#000000\" fill-rule=\"nonzero\" fill-opacity=\"1\" /><path clip-path=\"url(#clip960)\" d=\"M1291.96 1517.37 Q1288.35 1517.37 1286.52 1520.93 Q1284.71 1524.47 1284.71 1531.6 Q1284.71 1538.71 1286.52 1542.27 Q1288.35 1545.82 1291.96 1545.82 Q1295.59 1545.82 1297.4 1542.27 Q1299.23 1538.71 1299.23 1531.6 Q1299.23 1524.47 1297.4 1520.93 Q1295.59 1517.37 1291.96 1517.37 M1291.96 1513.66 Q1297.77 1513.66 1300.82 1518.27 Q1303.9 1522.85 1303.9 1531.6 Q1303.9 1540.33 1300.82 1544.94 Q1297.77 1549.52 1291.96 1549.52 Q1286.15 1549.52 1283.07 1544.94 Q1280.01 1540.33 1280.01 1531.6 Q1280.01 1522.85 1283.07 1518.27 Q1286.15 1513.66 1291.96 1513.66 Z\" fill=\"#000000\" fill-rule=\"nonzero\" fill-opacity=\"1\" /><path clip-path=\"url(#clip960)\" d=\"M1735.22 1517.37 Q1731.61 1517.37 1729.78 1520.93 Q1727.97 1524.47 1727.97 1531.6 Q1727.97 1538.71 1729.78 1542.27 Q1731.61 1545.82 1735.22 1545.82 Q1738.85 1545.82 1740.66 1542.27 Q1742.49 1538.71 1742.49 1531.6 Q1742.49 1524.47 1740.66 1520.93 Q1738.85 1517.37 1735.22 1517.37 M1735.22 1513.66 Q1741.03 1513.66 1744.09 1518.27 Q1747.16 1522.85 1747.16 1531.6 Q1747.16 1540.33 1744.09 1544.94 Q1741.03 1549.52 1735.22 1549.52 Q1729.41 1549.52 1726.33 1544.94 Q1723.28 1540.33 1723.28 1531.6 Q1723.28 1522.85 1726.33 1518.27 Q1729.41 1513.66 1735.22 1513.66 Z\" fill=\"#000000\" fill-rule=\"nonzero\" fill-opacity=\"1\" /><path clip-path=\"url(#clip960)\" d=\"M1755.38 1542.97 L1760.27 1542.97 L1760.27 1548.85 L1755.38 1548.85 L1755.38 1542.97 Z\" fill=\"#000000\" fill-rule=\"nonzero\" fill-opacity=\"1\" /><path clip-path=\"url(#clip960)\" d=\"M1769.27 1514.29 L1791.49 1514.29 L1791.49 1516.28 L1778.95 1548.85 L1774.06 1548.85 L1785.87 1518.22 L1769.27 1518.22 L1769.27 1514.29 Z\" fill=\"#000000\" fill-rule=\"nonzero\" fill-opacity=\"1\" /><path clip-path=\"url(#clip960)\" d=\"M1800.66 1514.29 L1819.02 1514.29 L1819.02 1518.22 L1804.94 1518.22 L1804.94 1526.7 Q1805.96 1526.35 1806.98 1526.19 Q1808 1526 1809.02 1526 Q1814.8 1526 1818.18 1529.17 Q1821.56 1532.34 1821.56 1537.76 Q1821.56 1543.34 1818.09 1546.44 Q1814.62 1549.52 1808.3 1549.52 Q1806.12 1549.52 1803.85 1549.15 Q1801.61 1548.78 1799.2 1548.04 L1799.2 1543.34 Q1801.28 1544.47 1803.51 1545.03 Q1805.73 1545.58 1808.21 1545.58 Q1812.21 1545.58 1814.55 1543.48 Q1816.89 1541.37 1816.89 1537.76 Q1816.89 1534.15 1814.55 1532.04 Q1812.21 1529.94 1808.21 1529.94 Q1806.33 1529.94 1804.46 1530.35 Q1802.6 1530.77 1800.66 1531.65 L1800.66 1514.29 Z\" fill=\"#000000\" fill-rule=\"nonzero\" fill-opacity=\"1\" /><path clip-path=\"url(#clip960)\" d=\"M2242.65 1544.91 L2250.29 1544.91 L2250.29 1518.55 L2241.98 1520.21 L2241.98 1515.95 L2250.24 1514.29 L2254.92 1514.29 L2254.92 1544.91 L2262.56 1544.91 L2262.56 1548.85 L2242.65 1548.85 L2242.65 1544.91 Z\" fill=\"#000000\" fill-rule=\"nonzero\" fill-opacity=\"1\" /><path clip-path=\"url(#clip960)\" d=\"M2272 1542.97 L2276.88 1542.97 L2276.88 1548.85 L2272 1548.85 L2272 1542.97 Z\" fill=\"#000000\" fill-rule=\"nonzero\" fill-opacity=\"1\" /><path clip-path=\"url(#clip960)\" d=\"M2297.07 1517.37 Q2293.46 1517.37 2291.63 1520.93 Q2289.82 1524.47 2289.82 1531.6 Q2289.82 1538.71 2291.63 1542.27 Q2293.46 1545.82 2297.07 1545.82 Q2300.7 1545.82 2302.51 1542.27 Q2304.34 1538.71 2304.34 1531.6 Q2304.34 1524.47 2302.51 1520.93 Q2300.7 1517.37 2297.07 1517.37 M2297.07 1513.66 Q2302.88 1513.66 2305.94 1518.27 Q2309.01 1522.85 2309.01 1531.6 Q2309.01 1540.33 2305.94 1544.94 Q2302.88 1549.52 2297.07 1549.52 Q2291.26 1549.52 2288.18 1544.94 Q2285.13 1540.33 2285.13 1531.6 Q2285.13 1522.85 2288.18 1518.27 Q2291.26 1513.66 2297.07 1513.66 Z\" fill=\"#000000\" fill-rule=\"nonzero\" fill-opacity=\"1\" /><path clip-path=\"url(#clip960)\" d=\"M2327.23 1517.37 Q2323.62 1517.37 2321.79 1520.93 Q2319.99 1524.47 2319.99 1531.6 Q2319.99 1538.71 2321.79 1542.27 Q2323.62 1545.82 2327.23 1545.82 Q2330.87 1545.82 2332.67 1542.27 Q2334.5 1538.71 2334.5 1531.6 Q2334.5 1524.47 2332.67 1520.93 Q2330.87 1517.37 2327.23 1517.37 M2327.23 1513.66 Q2333.04 1513.66 2336.1 1518.27 Q2339.18 1522.85 2339.18 1531.6 Q2339.18 1540.33 2336.1 1544.94 Q2333.04 1549.52 2327.23 1549.52 Q2321.42 1549.52 2318.34 1544.94 Q2315.29 1540.33 2315.29 1531.6 Q2315.29 1522.85 2318.34 1518.27 Q2321.42 1513.66 2327.23 1513.66 Z\" fill=\"#000000\" fill-rule=\"nonzero\" fill-opacity=\"1\" /><polyline clip-path=\"url(#clip960)\" style=\"stroke:#000000; stroke-linecap:round; stroke-linejoin:round; stroke-width:4; stroke-opacity:1; fill:none\" points=\"155.765,1486.45 155.765,47.2441 \"/>\n",
       "<polyline clip-path=\"url(#clip960)\" style=\"stroke:#000000; stroke-linecap:round; stroke-linejoin:round; stroke-width:4; stroke-opacity:1; fill:none\" points=\"155.765,1184.48 174.663,1184.48 \"/>\n",
       "<polyline clip-path=\"url(#clip960)\" style=\"stroke:#000000; stroke-linecap:round; stroke-linejoin:round; stroke-width:4; stroke-opacity:1; fill:none\" points=\"155.765,811.424 174.663,811.424 \"/>\n",
       "<polyline clip-path=\"url(#clip960)\" style=\"stroke:#000000; stroke-linecap:round; stroke-linejoin:round; stroke-width:4; stroke-opacity:1; fill:none\" points=\"155.765,438.367 174.663,438.367 \"/>\n",
       "<polyline clip-path=\"url(#clip960)\" style=\"stroke:#000000; stroke-linecap:round; stroke-linejoin:round; stroke-width:4; stroke-opacity:1; fill:none\" points=\"155.765,65.3099 174.663,65.3099 \"/>\n",
       "<path clip-path=\"url(#clip960)\" d=\"M63.5847 1170.28 Q59.9736 1170.28 58.1449 1173.84 Q56.3393 1177.39 56.3393 1184.52 Q56.3393 1191.62 58.1449 1195.19 Q59.9736 1198.73 63.5847 1198.73 Q67.2189 1198.73 69.0244 1195.19 Q70.8531 1191.62 70.8531 1184.52 Q70.8531 1177.39 69.0244 1173.84 Q67.2189 1170.28 63.5847 1170.28 M63.5847 1166.58 Q69.3948 1166.58 72.4503 1171.18 Q75.529 1175.77 75.529 1184.52 Q75.529 1193.24 72.4503 1197.85 Q69.3948 1202.43 63.5847 1202.43 Q57.7745 1202.43 54.6958 1197.85 Q51.6403 1193.24 51.6403 1184.52 Q51.6403 1175.77 54.6958 1171.18 Q57.7745 1166.58 63.5847 1166.58 Z\" fill=\"#000000\" fill-rule=\"nonzero\" fill-opacity=\"1\" /><path clip-path=\"url(#clip960)\" d=\"M83.7466 1195.88 L88.6308 1195.88 L88.6308 1201.76 L83.7466 1201.76 L83.7466 1195.88 Z\" fill=\"#000000\" fill-rule=\"nonzero\" fill-opacity=\"1\" /><path clip-path=\"url(#clip960)\" d=\"M98.8622 1167.2 L117.219 1167.2 L117.219 1171.14 L103.145 1171.14 L103.145 1179.61 Q104.163 1179.26 105.182 1179.1 Q106.2 1178.91 107.219 1178.91 Q113.006 1178.91 116.385 1182.09 Q119.765 1185.26 119.765 1190.67 Q119.765 1196.25 116.293 1199.35 Q112.82 1202.43 106.501 1202.43 Q104.325 1202.43 102.057 1202.06 Q99.8113 1201.69 97.4039 1200.95 L97.4039 1196.25 Q99.4872 1197.39 101.709 1197.94 Q103.932 1198.5 106.408 1198.5 Q110.413 1198.5 112.751 1196.39 Q115.089 1194.28 115.089 1190.67 Q115.089 1187.06 112.751 1184.96 Q110.413 1182.85 106.408 1182.85 Q104.534 1182.85 102.659 1183.27 Q100.807 1183.68 98.8622 1184.56 L98.8622 1167.2 Z\" fill=\"#000000\" fill-rule=\"nonzero\" fill-opacity=\"1\" /><path clip-path=\"url(#clip960)\" d=\"M53.3995 824.769 L61.0384 824.769 L61.0384 798.403 L52.7282 800.07 L52.7282 795.811 L60.9921 794.144 L65.668 794.144 L65.668 824.769 L73.3068 824.769 L73.3068 828.704 L53.3995 828.704 L53.3995 824.769 Z\" fill=\"#000000\" fill-rule=\"nonzero\" fill-opacity=\"1\" /><path clip-path=\"url(#clip960)\" d=\"M82.7512 822.825 L87.6354 822.825 L87.6354 828.704 L82.7512 828.704 L82.7512 822.825 Z\" fill=\"#000000\" fill-rule=\"nonzero\" fill-opacity=\"1\" /><path clip-path=\"url(#clip960)\" d=\"M107.821 797.223 Q104.209 797.223 102.381 800.788 Q100.575 804.329 100.575 811.459 Q100.575 818.565 102.381 822.13 Q104.209 825.672 107.821 825.672 Q111.455 825.672 113.26 822.13 Q115.089 818.565 115.089 811.459 Q115.089 804.329 113.26 800.788 Q111.455 797.223 107.821 797.223 M107.821 793.519 Q113.631 793.519 116.686 798.126 Q119.765 802.709 119.765 811.459 Q119.765 820.186 116.686 824.792 Q113.631 829.375 107.821 829.375 Q102.01 829.375 98.9317 824.792 Q95.8761 820.186 95.8761 811.459 Q95.8761 802.709 98.9317 798.126 Q102.01 793.519 107.821 793.519 Z\" fill=\"#000000\" fill-rule=\"nonzero\" fill-opacity=\"1\" /><path clip-path=\"url(#clip960)\" d=\"M54.3949 451.712 L62.0337 451.712 L62.0337 425.346 L53.7236 427.013 L53.7236 422.754 L61.9874 421.087 L66.6633 421.087 L66.6633 451.712 L74.3022 451.712 L74.3022 455.647 L54.3949 455.647 L54.3949 451.712 Z\" fill=\"#000000\" fill-rule=\"nonzero\" fill-opacity=\"1\" /><path clip-path=\"url(#clip960)\" d=\"M83.7466 449.767 L88.6308 449.767 L88.6308 455.647 L83.7466 455.647 L83.7466 449.767 Z\" fill=\"#000000\" fill-rule=\"nonzero\" fill-opacity=\"1\" /><path clip-path=\"url(#clip960)\" d=\"M98.8622 421.087 L117.219 421.087 L117.219 425.022 L103.145 425.022 L103.145 433.494 Q104.163 433.147 105.182 432.985 Q106.2 432.8 107.219 432.8 Q113.006 432.8 116.385 435.971 Q119.765 439.142 119.765 444.559 Q119.765 450.138 116.293 453.24 Q112.82 456.318 106.501 456.318 Q104.325 456.318 102.057 455.948 Q99.8113 455.578 97.4039 454.837 L97.4039 450.138 Q99.4872 451.272 101.709 451.828 Q103.932 452.383 106.408 452.383 Q110.413 452.383 112.751 450.277 Q115.089 448.17 115.089 444.559 Q115.089 440.948 112.751 438.842 Q110.413 436.735 106.408 436.735 Q104.534 436.735 102.659 437.152 Q100.807 437.568 98.8622 438.448 L98.8622 421.087 Z\" fill=\"#000000\" fill-rule=\"nonzero\" fill-opacity=\"1\" /><path clip-path=\"url(#clip960)\" d=\"M56.6171 78.6547 L72.9365 78.6547 L72.9365 82.5899 L50.9921 82.5899 L50.9921 78.6547 Q53.6541 75.9001 58.2375 71.2705 Q62.8439 66.6177 64.0245 65.2752 Q66.2698 62.752 67.1494 61.0159 Q68.0522 59.2567 68.0522 57.5669 Q68.0522 54.8123 66.1078 53.0762 Q64.1865 51.3401 61.0847 51.3401 Q58.8856 51.3401 56.4319 52.1039 Q54.0014 52.8678 51.2236 54.4187 L51.2236 49.6965 Q54.0477 48.5623 56.5014 47.9836 Q58.955 47.4049 60.9921 47.4049 Q66.3624 47.4049 69.5568 50.0901 Q72.7513 52.7752 72.7513 57.2659 Q72.7513 59.3956 71.9411 61.3169 Q71.1541 63.215 69.0476 65.8076 Q68.4689 66.4789 65.367 69.6964 Q62.2652 72.8909 56.6171 78.6547 Z\" fill=\"#000000\" fill-rule=\"nonzero\" fill-opacity=\"1\" /><path clip-path=\"url(#clip960)\" d=\"M82.7512 76.7103 L87.6354 76.7103 L87.6354 82.5899 L82.7512 82.5899 L82.7512 76.7103 Z\" fill=\"#000000\" fill-rule=\"nonzero\" fill-opacity=\"1\" /><path clip-path=\"url(#clip960)\" d=\"M107.821 51.1086 Q104.209 51.1086 102.381 54.6734 Q100.575 58.215 100.575 65.3446 Q100.575 72.4511 102.381 76.0158 Q104.209 79.5575 107.821 79.5575 Q111.455 79.5575 113.26 76.0158 Q115.089 72.4511 115.089 65.3446 Q115.089 58.215 113.26 54.6734 Q111.455 51.1086 107.821 51.1086 M107.821 47.4049 Q113.631 47.4049 116.686 52.0113 Q119.765 56.5947 119.765 65.3446 Q119.765 74.0714 116.686 78.6779 Q113.631 83.2612 107.821 83.2612 Q102.01 83.2612 98.9317 78.6779 Q95.8761 74.0714 95.8761 65.3446 Q95.8761 56.5947 98.9317 52.0113 Q102.01 47.4049 107.821 47.4049 Z\" fill=\"#000000\" fill-rule=\"nonzero\" fill-opacity=\"1\" /><circle clip-path=\"url(#clip962)\" cx=\"217.944\" cy=\"87.9763\" r=\"14.4\" fill=\"#009af9\" fill-rule=\"evenodd\" fill-opacity=\"1\" stroke=\"#000000\" stroke-opacity=\"1\" stroke-width=\"3.2\"/>\n",
       "<circle clip-path=\"url(#clip962)\" cx=\"425.207\" cy=\"458.117\" r=\"14.4\" fill=\"#009af9\" fill-rule=\"evenodd\" fill-opacity=\"1\" stroke=\"#000000\" stroke-opacity=\"1\" stroke-width=\"3.2\"/>\n",
       "<circle clip-path=\"url(#clip962)\" cx=\"632.47\" cy=\"657.537\" r=\"14.4\" fill=\"#009af9\" fill-rule=\"evenodd\" fill-opacity=\"1\" stroke=\"#000000\" stroke-opacity=\"1\" stroke-width=\"3.2\"/>\n",
       "<circle clip-path=\"url(#clip962)\" cx=\"839.734\" cy=\"770.038\" r=\"14.4\" fill=\"#009af9\" fill-rule=\"evenodd\" fill-opacity=\"1\" stroke=\"#000000\" stroke-opacity=\"1\" stroke-width=\"3.2\"/>\n",
       "<circle clip-path=\"url(#clip962)\" cx=\"1047\" cy=\"996.613\" r=\"14.4\" fill=\"#009af9\" fill-rule=\"evenodd\" fill-opacity=\"1\" stroke=\"#000000\" stroke-opacity=\"1\" stroke-width=\"3.2\"/>\n",
       "<circle clip-path=\"url(#clip962)\" cx=\"1254.26\" cy=\"935.925\" r=\"14.4\" fill=\"#009af9\" fill-rule=\"evenodd\" fill-opacity=\"1\" stroke=\"#000000\" stroke-opacity=\"1\" stroke-width=\"3.2\"/>\n",
       "<circle clip-path=\"url(#clip962)\" cx=\"1461.52\" cy=\"1109.09\" r=\"14.4\" fill=\"#009af9\" fill-rule=\"evenodd\" fill-opacity=\"1\" stroke=\"#000000\" stroke-opacity=\"1\" stroke-width=\"3.2\"/>\n",
       "<circle clip-path=\"url(#clip962)\" cx=\"1668.79\" cy=\"1212.95\" r=\"14.4\" fill=\"#009af9\" fill-rule=\"evenodd\" fill-opacity=\"1\" stroke=\"#000000\" stroke-opacity=\"1\" stroke-width=\"3.2\"/>\n",
       "<circle clip-path=\"url(#clip962)\" cx=\"1876.05\" cy=\"1266.79\" r=\"14.4\" fill=\"#009af9\" fill-rule=\"evenodd\" fill-opacity=\"1\" stroke=\"#000000\" stroke-opacity=\"1\" stroke-width=\"3.2\"/>\n",
       "<circle clip-path=\"url(#clip962)\" cx=\"2083.31\" cy=\"1138.6\" r=\"14.4\" fill=\"#009af9\" fill-rule=\"evenodd\" fill-opacity=\"1\" stroke=\"#000000\" stroke-opacity=\"1\" stroke-width=\"3.2\"/>\n",
       "<circle clip-path=\"url(#clip962)\" cx=\"2290.58\" cy=\"1445.72\" r=\"14.4\" fill=\"#009af9\" fill-rule=\"evenodd\" fill-opacity=\"1\" stroke=\"#000000\" stroke-opacity=\"1\" stroke-width=\"3.2\"/>\n",
       "<path clip-path=\"url(#clip960)\" d=\"M2007.39 198.898 L2279.52 198.898 L2279.52 95.2176 L2007.39 95.2176  Z\" fill=\"#ffffff\" fill-rule=\"evenodd\" fill-opacity=\"1\"/>\n",
       "<polyline clip-path=\"url(#clip960)\" style=\"stroke:#000000; stroke-linecap:round; stroke-linejoin:round; stroke-width:4; stroke-opacity:1; fill:none\" points=\"2007.39,198.898 2279.52,198.898 2279.52,95.2176 2007.39,95.2176 2007.39,198.898 \"/>\n",
       "<circle clip-path=\"url(#clip960)\" cx=\"2105.04\" cy=\"147.058\" r=\"20.48\" fill=\"#009af9\" fill-rule=\"evenodd\" fill-opacity=\"1\" stroke=\"#000000\" stroke-opacity=\"1\" stroke-width=\"4.55111\"/>\n",
       "<path clip-path=\"url(#clip960)\" d=\"M2216.52 166.745 Q2214.72 171.375 2213.01 172.787 Q2211.29 174.199 2208.42 174.199 L2205.02 174.199 L2205.02 170.634 L2207.52 170.634 Q2209.28 170.634 2210.25 169.8 Q2211.22 168.967 2212.4 165.865 L2213.17 163.921 L2202.68 138.412 L2207.2 138.412 L2215.3 158.689 L2223.4 138.412 L2227.91 138.412 L2216.52 166.745 Z\" fill=\"#000000\" fill-rule=\"nonzero\" fill-opacity=\"1\" /><path clip-path=\"url(#clip960)\" d=\"M2235.2 160.402 L2242.84 160.402 L2242.84 134.037 L2234.53 135.703 L2234.53 131.444 L2242.8 129.778 L2247.47 129.778 L2247.47 160.402 L2255.11 160.402 L2255.11 164.338 L2235.2 164.338 L2235.2 160.402 Z\" fill=\"#000000\" fill-rule=\"nonzero\" fill-opacity=\"1\" /></svg>\n"
      ]
     },
     "execution_count": 10,
     "metadata": {},
     "output_type": "execute_result"
    }
   ],
   "source": [
    "scatter(x,y_exp)"
   ]
  },
  {
   "cell_type": "code",
   "execution_count": 11,
   "id": "622f95c1-e6f8-4e9d-8fe4-84d1af4b94bd",
   "metadata": {},
   "outputs": [
    {
     "data": {
      "text/plain": [
       "model (generic function with 1 method)"
      ]
     },
     "execution_count": 11,
     "metadata": {},
     "output_type": "execute_result"
    }
   ],
   "source": [
    "model(x,p) = p[1] .* exp.(-p[2] .* x)"
   ]
  },
  {
   "cell_type": "code",
   "execution_count": 12,
   "id": "fc487ac4-57b3-4900-b014-084d080b4ca1",
   "metadata": {},
   "outputs": [
    {
     "data": {
      "text/plain": [
       "LsqFit.LsqFitResult{Vector{Float64}, Vector{Float64}, Matrix{Float64}, Vector{Float64}, Vector{LsqFit.LMState{LsqFit.LevenbergMarquardt}}}([1.8732552184747917, 1.9237265639502341], [-0.09636553197178066, 0.07190493207224469, 0.06873062842979749, -0.0036091177198700475, 0.11598782406589225, -0.11721339899459893, -0.01041422785998758, 0.02543001463380512, 0.012318599899186156, -0.22983969101282692, 0.12373723268884762], [0.9999999999925291 0.0; 0.8249993699007826 -0.1545434374891809; … ; 0.17704454568083267 -0.29848465719667383; 0.1460616386328602 -0.27361072679175746], true, Iter     Function value   Gradient norm \n",
       "------   --------------   --------------\n",
       ", Float64[])"
      ]
     },
     "execution_count": 12,
     "metadata": {},
     "output_type": "execute_result"
    }
   ],
   "source": [
    "fit = curve_fit(model, x, y_exp, [1.5,1.5])"
   ]
  },
  {
   "cell_type": "code",
   "execution_count": 13,
   "id": "72e72dd5-049f-47d3-85ba-0b42da5b5b45",
   "metadata": {},
   "outputs": [
    {
     "data": {
      "text/plain": [
       "2-element Vector{Float64}:\n",
       " 1.8732552184747917\n",
       " 1.9237265639502341"
      ]
     },
     "execution_count": 13,
     "metadata": {},
     "output_type": "execute_result"
    }
   ],
   "source": [
    "fit.param"
   ]
  },
  {
   "cell_type": "code",
   "execution_count": 14,
   "id": "f273bbaa-9bd6-499a-8543-b4a488221010",
   "metadata": {},
   "outputs": [
    {
     "data": {
      "text/plain": [
       "2×2 Matrix{Float64}:\n",
       " 0.00746995  0.00898314\n",
       " 0.00898314  0.0243545"
      ]
     },
     "execution_count": 14,
     "metadata": {},
     "output_type": "execute_result"
    }
   ],
   "source": [
    "cov = estimate_covar(fit)"
   ]
  },
  {
   "cell_type": "code",
   "execution_count": 15,
   "id": "c983b027-8c80-4ebc-a15b-b1cb9106c503",
   "metadata": {},
   "outputs": [
    {
     "data": {
      "text/plain": [
       "2×2 Matrix{Float64}:\n",
       " 0.0769188  0.0394137\n",
       " 0.0394137  0.151"
      ]
     },
     "execution_count": 15,
     "metadata": {},
     "output_type": "execute_result"
    }
   ],
   "source": [
    "sqrt(estimate_covar(fit))"
   ]
  },
  {
   "cell_type": "code",
   "execution_count": 40,
   "id": "e96fa7fd-59fb-4ffa-9430-9df444dfed95",
   "metadata": {},
   "outputs": [
    {
     "data": {
      "text/plain": [
       "res (generic function with 1 method)"
      ]
     },
     "execution_count": 40,
     "metadata": {},
     "output_type": "execute_result"
    }
   ],
   "source": [
    "function res(u, (x,y))\n",
    "    return u[1] .* exp.( -u[2] .* x) .- y\n",
    "end"
   ]
  },
  {
   "cell_type": "code",
   "execution_count": 41,
   "id": "71fbbfb5-69d0-4016-8a34-f6578d6e6940",
   "metadata": {},
   "outputs": [
    {
     "data": {
      "text/plain": [
       "11-element Vector{Float64}:\n",
       " -0.7047734515522985\n",
       " -0.32029896091058174\n",
       " -0.17925639873551535\n",
       " -0.04393790652448848\n",
       " -0.16826254667920737\n",
       " -0.1335227501628966\n",
       " -0.007497508389405216\n",
       "  0.06805754461485364\n",
       "  0.020705836583412796\n",
       " -0.190955711992981\n",
       " -0.06726976026334303"
      ]
     },
     "execution_count": 41,
     "metadata": {},
     "output_type": "execute_result"
    }
   ],
   "source": [
    "res([1.5,1.5],(x,y_exp))"
   ]
  },
  {
   "cell_type": "code",
   "execution_count": 42,
   "id": "23d550a6-5957-4839-83de-13d4fa8b7ec1",
   "metadata": {},
   "outputs": [
    {
     "data": {
      "text/plain": [
       "\u001b[38;2;86;182;194mNonlinearLeastSquaresProblem\u001b[0m with uType \u001b[38;2;86;182;194mVector{Float64}\u001b[0m. In-place: \u001b[38;2;86;182;194mfalse\u001b[0m\n",
       "u0: 2-element Vector{Float64}:\n",
       " 1.5\n",
       " 2.0"
      ]
     },
     "execution_count": 42,
     "metadata": {},
     "output_type": "execute_result"
    }
   ],
   "source": [
    "prob = NonlinearLeastSquaresProblem(res, [1.5,2.0], (x,y_exp))"
   ]
  },
  {
   "cell_type": "code",
   "execution_count": 43,
   "id": "89115a93-ad88-4b46-8a83-867707a3ea61",
   "metadata": {},
   "outputs": [
    {
     "data": {
      "text/plain": [
       "retcode: Stalled\n",
       "u: 2-element Vector{Float64}:\n",
       " 2.0463518324401155\n",
       " 1.9169899663437346"
      ]
     },
     "execution_count": 43,
     "metadata": {},
     "output_type": "execute_result"
    }
   ],
   "source": [
    "sol = solve(prob, GaussNewton(); maxiters =1000)"
   ]
  },
  {
   "cell_type": "code",
   "execution_count": 44,
   "id": "18a3c01b-8da9-40e2-a294-72a8bf26140d",
   "metadata": {},
   "outputs": [
    {
     "data": {
      "text/plain": [
       "chi2 (generic function with 1 method)"
      ]
     },
     "execution_count": 44,
     "metadata": {},
     "output_type": "execute_result"
    }
   ],
   "source": [
    "function chi2(u,(x,y))\n",
    "    sum(res(u,(x,y)) .^2 ./ 0.1^2)\n",
    "end"
   ]
  },
  {
   "cell_type": "code",
   "execution_count": 45,
   "id": "78d2d7ca-9401-4f04-9e42-7a2e12a04461",
   "metadata": {},
   "outputs": [
    {
     "data": {
      "text/plain": [
       "13.3496704138807"
      ]
     },
     "execution_count": 45,
     "metadata": {},
     "output_type": "execute_result"
    }
   ],
   "source": [
    "chi2(sol.u,(x,y_exp))"
   ]
  },
  {
   "cell_type": "code",
   "execution_count": 46,
   "id": "9ca622b5-351d-4d2d-be9b-6d217893f933",
   "metadata": {},
   "outputs": [
    {
     "data": {
      "text/plain": [
       "ourchi2 (generic function with 1 method)"
      ]
     },
     "execution_count": 46,
     "metadata": {},
     "output_type": "execute_result"
    }
   ],
   "source": [
    "ourchi2(u) = chi2(u,(x,y_exp))"
   ]
  },
  {
   "cell_type": "code",
   "execution_count": 25,
   "id": "866a2d6a-0f8f-4600-b693-0e091e3df35b",
   "metadata": {},
   "outputs": [
    {
     "data": {
      "text/plain": [
       "11.542979226703359"
      ]
     },
     "execution_count": 25,
     "metadata": {},
     "output_type": "execute_result"
    }
   ],
   "source": [
    "ourchi2(sol.u)"
   ]
  },
  {
   "cell_type": "code",
   "execution_count": 37,
   "id": "746402fe-8903-4340-8e0c-5bffe1ac0429",
   "metadata": {},
   "outputs": [
    {
     "data": {
      "text/plain": [
       "2×2 Matrix{Float64}:\n",
       "  618.77   -250.154\n",
       " -250.154   216.026"
      ]
     },
     "execution_count": 37,
     "metadata": {},
     "output_type": "execute_result"
    }
   ],
   "source": [
    "h = ForwardDiff.hessian(ourchi2,sol.u)"
   ]
  },
  {
   "cell_type": "code",
   "execution_count": 39,
   "id": "bd667e56-e158-4d73-9e70-50e2e60bcc2c",
   "metadata": {},
   "outputs": [
    {
     "data": {
      "text/plain": [
       "2×2 Matrix{Float64}:\n",
       " 0.0389783  0.0419444\n",
       " 0.0419444  0.0659683"
      ]
     },
     "execution_count": 39,
     "metadata": {},
     "output_type": "execute_result"
    }
   ],
   "source": [
    "sqrt.(inv(2*h))"
   ]
  },
  {
   "cell_type": "markdown",
   "id": "0182ec7f-ecee-4303-96a6-809e7198bced",
   "metadata": {},
   "source": [
    "As an experiment to test that this error estimation method is working, we can repeat the procedure many times and compare the standard deviation of the parameter to the estimation from the Hessian."
   ]
  },
  {
   "cell_type": "code",
   "execution_count": 69,
   "id": "7835e124-fe4c-484f-adcc-339c71b0bd1d",
   "metadata": {},
   "outputs": [
    {
     "data": {
      "text/plain": [
       "lsqfitting (generic function with 1 method)"
      ]
     },
     "execution_count": 69,
     "metadata": {},
     "output_type": "execute_result"
    }
   ],
   "source": [
    "function lsqfitting(fitfct, (x,y) , sigma, β0)\n",
    "    res(β,(x,y)) = fitfct(x,β) .- y\n",
    "    prob = NonlinearLeastSquaresProblem(res, β0, (x,y))\n",
    "    sol = solve(prob, GaussNewton(); maxiters =1000)\n",
    "    chi2(β) = sum(abs2, res(β,(x,y)) ./ sigma)\n",
    "    return sol.u, inv(2*ForwardDiff.hessian(chi2,sol.u))\n",
    "end"
   ]
  },
  {
   "cell_type": "code",
   "execution_count": 67,
   "id": "33a7998d-93c1-45b9-8064-f404cc965146",
   "metadata": {},
   "outputs": [
    {
     "data": {
      "text/plain": [
       "f (generic function with 1 method)"
      ]
     },
     "execution_count": 67,
     "metadata": {},
     "output_type": "execute_result"
    }
   ],
   "source": [
    "f(x,β) = β[1] .* exp.(-β[2] .* x)"
   ]
  },
  {
   "cell_type": "code",
   "execution_count": 71,
   "id": "06ed8c55-aefe-4596-a6e0-3a1af4c84043",
   "metadata": {},
   "outputs": [
    {
     "data": {
      "text/plain": [
       "([2.0463518329458, 1.916989967594574], [0.001519311444122659 0.001759335652709194; 0.001759335652709194 0.0043518196370285495])"
      ]
     },
     "execution_count": 71,
     "metadata": {},
     "output_type": "execute_result"
    }
   ],
   "source": [
    "bestbeta, covar = lsqfitting(f, (x,y_exp), 0.1, [1.5,1.5])"
   ]
  },
  {
   "cell_type": "code",
   "execution_count": 75,
   "id": "7b97588a-12ea-48a0-b294-bb2497f30029",
   "metadata": {},
   "outputs": [
    {
     "data": {
      "text/plain": [
       "2×2 Matrix{Float64}:\n",
       " 0.0389783  0.0419444\n",
       " 0.0419444  0.0659683"
      ]
     },
     "execution_count": 75,
     "metadata": {},
     "output_type": "execute_result"
    }
   ],
   "source": [
    "sqrt.(covar)"
   ]
  },
  {
   "cell_type": "code",
   "execution_count": null,
   "id": "0c4bd9f8-da4f-45ad-bdf8-1bc3b57c331a",
   "metadata": {},
   "outputs": [],
   "source": []
  }
 ],
 "metadata": {
  "kernelspec": {
   "display_name": "Julia 1.11.3",
   "language": "julia",
   "name": "julia-1.11"
  },
  "language_info": {
   "file_extension": ".jl",
   "mimetype": "application/julia",
   "name": "julia",
   "version": "1.11.3"
  }
 },
 "nbformat": 4,
 "nbformat_minor": 5
}
