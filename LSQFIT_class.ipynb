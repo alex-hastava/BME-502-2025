{
 "cells": [
  {
   "cell_type": "code",
   "execution_count": 1,
   "id": "2130cecd-9456-41eb-a195-58e8fb5b89ab",
   "metadata": {},
   "outputs": [
    {
     "name": "stderr",
     "output_type": "stream",
     "text": [
      "\u001b[32m\u001b[1m  Activating\u001b[22m\u001b[39m project at `c:\\Users\\Hasta\\OneDrive\\Documents\\!!SBU BME (B.E.-M.S.)\\BME 502 (Analy App Bio Syst)\\BME-502-2025`\n"
     ]
    }
   ],
   "source": [
    "import Pkg\n",
    "Pkg.activate(\".\")"
   ]
  },
  {
   "cell_type": "code",
   "execution_count": 2,
   "id": "89f9952e-2925-41b0-9a8f-4f3af18c66e6",
   "metadata": {},
   "outputs": [
    {
     "name": "stderr",
     "output_type": "stream",
     "text": [
      "\u001b[32m\u001b[1m   Resolving\u001b[22m\u001b[39m package versions...\n",
      "\u001b[32m\u001b[1m  No Changes\u001b[22m\u001b[39m to `C:\\Users\\Hasta\\OneDrive\\Documents\\!!SBU BME (B.E.-M.S.)\\BME 502 (Analy App Bio Syst)\\BME-502-2025\\Project.toml`\n",
      "\u001b[32m\u001b[1m  No Changes\u001b[22m\u001b[39m to `C:\\Users\\Hasta\\OneDrive\\Documents\\!!SBU BME (B.E.-M.S.)\\BME 502 (Analy App Bio Syst)\\BME-502-2025\\Manifest.toml`\n"
     ]
    }
   ],
   "source": [
    "Pkg.add([\"NonlinearSolve\",\"Random\",\"Plots\",\"ForwardDiff\",\"LsqFit\",\"Statistics\"])"
   ]
  },
  {
   "cell_type": "code",
   "execution_count": 3,
   "id": "33a220d3-c722-44df-9e74-a7759d5fe38e",
   "metadata": {},
   "outputs": [
    {
     "name": "stderr",
     "output_type": "stream",
     "text": [
      "\u001b[36m\u001b[1m[ \u001b[22m\u001b[39m\u001b[36m\u001b[1mInfo: \u001b[22m\u001b[39mPrecompiling IJuliaExt [2f4121a4-3b3a-5ce6-9c5e-1f2673ce168a] \n"
     ]
    }
   ],
   "source": [
    "using Plots, Random, ForwardDiff, NonlinearSolve, LsqFit, Statistics"
   ]
  },
  {
   "cell_type": "code",
   "execution_count": 4,
   "id": "83c1874a-4014-49ae-8f5e-43232e849f4f",
   "metadata": {},
   "outputs": [
    {
     "data": {
      "text/plain": [
       "11-element Vector{Float64}:\n",
       " 0.0\n",
       " 0.1\n",
       " 0.2\n",
       " 0.3\n",
       " 0.4\n",
       " 0.5\n",
       " 0.6\n",
       " 0.7\n",
       " 0.8\n",
       " 0.9\n",
       " 1.0"
      ]
     },
     "execution_count": 4,
     "metadata": {},
     "output_type": "execute_result"
    }
   ],
   "source": [
    "x = collect(0:0.1:1)"
   ]
  },
  {
   "cell_type": "code",
   "execution_count": 5,
   "id": "1cea096f-3a2b-409f-9e71-3c9782e02305",
   "metadata": {},
   "outputs": [
    {
     "data": {
      "text/plain": [
       "11-element Vector{Float64}:\n",
       " 2.0\n",
       " 1.6374615061559636\n",
       " 1.3406400920712787\n",
       " 1.097623272188053\n",
       " 0.8986579282344431\n",
       " 0.7357588823428847\n",
       " 0.6023884238244043\n",
       " 0.493193927883213\n",
       " 0.40379303598931077\n",
       " 0.33059777644317306\n",
       " 0.2706705664732254"
      ]
     },
     "execution_count": 5,
     "metadata": {},
     "output_type": "execute_result"
    }
   ],
   "source": [
    "y = 2 .* exp.(-2x)"
   ]
  },
  {
   "cell_type": "code",
   "execution_count": 6,
   "id": "2d99d517-0dc2-4775-a75c-d42e91165966",
   "metadata": {},
   "outputs": [
    {
     "data": {
      "image/png": "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",
      "image/svg+xml": [
       "<?xml version=\"1.0\" encoding=\"utf-8\"?>\n",
       "<svg xmlns=\"http://www.w3.org/2000/svg\" xmlns:xlink=\"http://www.w3.org/1999/xlink\" width=\"600\" height=\"400\" viewBox=\"0 0 2400 1600\">\n",
       "<defs>\n",
       "  <clipPath id=\"clip050\">\n",
       "    <rect x=\"0\" y=\"0\" width=\"2400\" height=\"1600\"/>\n",
       "  </clipPath>\n",
       "</defs>\n",
       "<path clip-path=\"url(#clip050)\" d=\"M0 1600 L2400 1600 L2400 0 L0 0  Z\" fill=\"#ffffff\" fill-rule=\"evenodd\" fill-opacity=\"1\"/>\n",
       "<defs>\n",
       "  <clipPath id=\"clip051\">\n",
       "    <rect x=\"480\" y=\"0\" width=\"1681\" height=\"1600\"/>\n",
       "  </clipPath>\n",
       "</defs>\n",
       "<path clip-path=\"url(#clip050)\" d=\"M155.765 1486.45 L2352.76 1486.45 L2352.76 47.2441 L155.765 47.2441  Z\" fill=\"#ffffff\" fill-rule=\"evenodd\" fill-opacity=\"1\"/>\n",
       "<defs>\n",
       "  <clipPath id=\"clip052\">\n",
       "    <rect x=\"155\" y=\"47\" width=\"2198\" height=\"1440\"/>\n",
       "  </clipPath>\n",
       "</defs>\n",
       "<polyline clip-path=\"url(#clip052)\" style=\"stroke:#000000; stroke-linecap:round; stroke-linejoin:round; stroke-width:2; stroke-opacity:0.1; fill:none\" points=\"217.944,1486.45 217.944,47.2441 \"/>\n",
       "<polyline clip-path=\"url(#clip052)\" style=\"stroke:#000000; stroke-linecap:round; stroke-linejoin:round; stroke-width:2; stroke-opacity:0.1; fill:none\" points=\"736.102,1486.45 736.102,47.2441 \"/>\n",
       "<polyline clip-path=\"url(#clip052)\" style=\"stroke:#000000; stroke-linecap:round; stroke-linejoin:round; stroke-width:2; stroke-opacity:0.1; fill:none\" points=\"1254.26,1486.45 1254.26,47.2441 \"/>\n",
       "<polyline clip-path=\"url(#clip052)\" style=\"stroke:#000000; stroke-linecap:round; stroke-linejoin:round; stroke-width:2; stroke-opacity:0.1; fill:none\" points=\"1772.42,1486.45 1772.42,47.2441 \"/>\n",
       "<polyline clip-path=\"url(#clip052)\" style=\"stroke:#000000; stroke-linecap:round; stroke-linejoin:round; stroke-width:2; stroke-opacity:0.1; fill:none\" points=\"2290.58,1486.45 2290.58,47.2441 \"/>\n",
       "<polyline clip-path=\"url(#clip052)\" style=\"stroke:#000000; stroke-linecap:round; stroke-linejoin:round; stroke-width:2; stroke-opacity:0.1; fill:none\" points=\"155.765,1265.66 2352.76,1265.66 \"/>\n",
       "<polyline clip-path=\"url(#clip052)\" style=\"stroke:#000000; stroke-linecap:round; stroke-linejoin:round; stroke-width:2; stroke-opacity:0.1; fill:none\" points=\"155.765,873.101 2352.76,873.101 \"/>\n",
       "<polyline clip-path=\"url(#clip052)\" style=\"stroke:#000000; stroke-linecap:round; stroke-linejoin:round; stroke-width:2; stroke-opacity:0.1; fill:none\" points=\"155.765,480.539 2352.76,480.539 \"/>\n",
       "<polyline clip-path=\"url(#clip052)\" style=\"stroke:#000000; stroke-linecap:round; stroke-linejoin:round; stroke-width:2; stroke-opacity:0.1; fill:none\" points=\"155.765,87.9763 2352.76,87.9763 \"/>\n",
       "<polyline clip-path=\"url(#clip050)\" style=\"stroke:#000000; stroke-linecap:round; stroke-linejoin:round; stroke-width:4; stroke-opacity:1; fill:none\" points=\"155.765,1486.45 2352.76,1486.45 \"/>\n",
       "<polyline clip-path=\"url(#clip050)\" style=\"stroke:#000000; stroke-linecap:round; stroke-linejoin:round; stroke-width:4; stroke-opacity:1; fill:none\" points=\"217.944,1486.45 217.944,1467.55 \"/>\n",
       "<polyline clip-path=\"url(#clip050)\" style=\"stroke:#000000; stroke-linecap:round; stroke-linejoin:round; stroke-width:4; stroke-opacity:1; fill:none\" points=\"736.102,1486.45 736.102,1467.55 \"/>\n",
       "<polyline clip-path=\"url(#clip050)\" style=\"stroke:#000000; stroke-linecap:round; stroke-linejoin:round; stroke-width:4; stroke-opacity:1; fill:none\" points=\"1254.26,1486.45 1254.26,1467.55 \"/>\n",
       "<polyline clip-path=\"url(#clip050)\" style=\"stroke:#000000; stroke-linecap:round; stroke-linejoin:round; stroke-width:4; stroke-opacity:1; fill:none\" points=\"1772.42,1486.45 1772.42,1467.55 \"/>\n",
       "<polyline clip-path=\"url(#clip050)\" style=\"stroke:#000000; stroke-linecap:round; stroke-linejoin:round; stroke-width:4; stroke-opacity:1; fill:none\" points=\"2290.58,1486.45 2290.58,1467.55 \"/>\n",
       "<path clip-path=\"url(#clip050)\" d=\"M180.247 1517.37 Q176.636 1517.37 174.808 1520.93 Q173.002 1524.47 173.002 1531.6 Q173.002 1538.71 174.808 1542.27 Q176.636 1545.82 180.247 1545.82 Q183.882 1545.82 185.687 1542.27 Q187.516 1538.71 187.516 1531.6 Q187.516 1524.47 185.687 1520.93 Q183.882 1517.37 180.247 1517.37 M180.247 1513.66 Q186.057 1513.66 189.113 1518.27 Q192.192 1522.85 192.192 1531.6 Q192.192 1540.33 189.113 1544.94 Q186.057 1549.52 180.247 1549.52 Q174.437 1549.52 171.358 1544.94 Q168.303 1540.33 168.303 1531.6 Q168.303 1522.85 171.358 1518.27 Q174.437 1513.66 180.247 1513.66 Z\" fill=\"#000000\" fill-rule=\"nonzero\" fill-opacity=\"1\" /><path clip-path=\"url(#clip050)\" d=\"M200.409 1542.97 L205.294 1542.97 L205.294 1548.85 L200.409 1548.85 L200.409 1542.97 Z\" fill=\"#000000\" fill-rule=\"nonzero\" fill-opacity=\"1\" /><path clip-path=\"url(#clip050)\" d=\"M225.479 1517.37 Q221.867 1517.37 220.039 1520.93 Q218.233 1524.47 218.233 1531.6 Q218.233 1538.71 220.039 1542.27 Q221.867 1545.82 225.479 1545.82 Q229.113 1545.82 230.918 1542.27 Q232.747 1538.71 232.747 1531.6 Q232.747 1524.47 230.918 1520.93 Q229.113 1517.37 225.479 1517.37 M225.479 1513.66 Q231.289 1513.66 234.344 1518.27 Q237.423 1522.85 237.423 1531.6 Q237.423 1540.33 234.344 1544.94 Q231.289 1549.52 225.479 1549.52 Q219.668 1549.52 216.59 1544.94 Q213.534 1540.33 213.534 1531.6 Q213.534 1522.85 216.59 1518.27 Q219.668 1513.66 225.479 1513.66 Z\" fill=\"#000000\" fill-rule=\"nonzero\" fill-opacity=\"1\" /><path clip-path=\"url(#clip050)\" d=\"M255.64 1517.37 Q252.029 1517.37 250.201 1520.93 Q248.395 1524.47 248.395 1531.6 Q248.395 1538.71 250.201 1542.27 Q252.029 1545.82 255.64 1545.82 Q259.275 1545.82 261.08 1542.27 Q262.909 1538.71 262.909 1531.6 Q262.909 1524.47 261.08 1520.93 Q259.275 1517.37 255.64 1517.37 M255.64 1513.66 Q261.451 1513.66 264.506 1518.27 Q267.585 1522.85 267.585 1531.6 Q267.585 1540.33 264.506 1544.94 Q261.451 1549.52 255.64 1549.52 Q249.83 1549.52 246.752 1544.94 Q243.696 1540.33 243.696 1531.6 Q243.696 1522.85 246.752 1518.27 Q249.83 1513.66 255.64 1513.66 Z\" fill=\"#000000\" fill-rule=\"nonzero\" fill-opacity=\"1\" /><path clip-path=\"url(#clip050)\" d=\"M698.903 1517.37 Q695.292 1517.37 693.463 1520.93 Q691.658 1524.47 691.658 1531.6 Q691.658 1538.71 693.463 1542.27 Q695.292 1545.82 698.903 1545.82 Q702.538 1545.82 704.343 1542.27 Q706.172 1538.71 706.172 1531.6 Q706.172 1524.47 704.343 1520.93 Q702.538 1517.37 698.903 1517.37 M698.903 1513.66 Q704.713 1513.66 707.769 1518.27 Q710.848 1522.85 710.848 1531.6 Q710.848 1540.33 707.769 1544.94 Q704.713 1549.52 698.903 1549.52 Q693.093 1549.52 690.014 1544.94 Q686.959 1540.33 686.959 1531.6 Q686.959 1522.85 690.014 1518.27 Q693.093 1513.66 698.903 1513.66 Z\" fill=\"#000000\" fill-rule=\"nonzero\" fill-opacity=\"1\" /><path clip-path=\"url(#clip050)\" d=\"M719.065 1542.97 L723.949 1542.97 L723.949 1548.85 L719.065 1548.85 L719.065 1542.97 Z\" fill=\"#000000\" fill-rule=\"nonzero\" fill-opacity=\"1\" /><path clip-path=\"url(#clip050)\" d=\"M738.162 1544.91 L754.482 1544.91 L754.482 1548.85 L732.537 1548.85 L732.537 1544.91 Q735.199 1542.16 739.783 1537.53 Q744.389 1532.88 745.57 1531.53 Q747.815 1529.01 748.695 1527.27 Q749.597 1525.51 749.597 1523.82 Q749.597 1521.07 747.653 1519.33 Q745.732 1517.6 742.63 1517.6 Q740.431 1517.6 737.977 1518.36 Q735.547 1519.13 732.769 1520.68 L732.769 1515.95 Q735.593 1514.82 738.047 1514.24 Q740.5 1513.66 742.537 1513.66 Q747.908 1513.66 751.102 1516.35 Q754.296 1519.03 754.296 1523.52 Q754.296 1525.65 753.486 1527.57 Q752.699 1529.47 750.593 1532.07 Q750.014 1532.74 746.912 1535.95 Q743.81 1539.15 738.162 1544.91 Z\" fill=\"#000000\" fill-rule=\"nonzero\" fill-opacity=\"1\" /><path clip-path=\"url(#clip050)\" d=\"M764.343 1514.29 L782.699 1514.29 L782.699 1518.22 L768.625 1518.22 L768.625 1526.7 Q769.644 1526.35 770.662 1526.19 Q771.681 1526 772.699 1526 Q778.486 1526 781.866 1529.17 Q785.245 1532.34 785.245 1537.76 Q785.245 1543.34 781.773 1546.44 Q778.301 1549.52 771.982 1549.52 Q769.806 1549.52 767.537 1549.15 Q765.292 1548.78 762.884 1548.04 L762.884 1543.34 Q764.968 1544.47 767.19 1545.03 Q769.412 1545.58 771.889 1545.58 Q775.894 1545.58 778.232 1543.48 Q780.57 1541.37 780.57 1537.76 Q780.57 1534.15 778.232 1532.04 Q775.894 1529.94 771.889 1529.94 Q770.014 1529.94 768.139 1530.35 Q766.287 1530.77 764.343 1531.65 L764.343 1514.29 Z\" fill=\"#000000\" fill-rule=\"nonzero\" fill-opacity=\"1\" /><path clip-path=\"url(#clip050)\" d=\"M1216.56 1517.37 Q1212.95 1517.37 1211.12 1520.93 Q1209.32 1524.47 1209.32 1531.6 Q1209.32 1538.71 1211.12 1542.27 Q1212.95 1545.82 1216.56 1545.82 Q1220.2 1545.82 1222 1542.27 Q1223.83 1538.71 1223.83 1531.6 Q1223.83 1524.47 1222 1520.93 Q1220.2 1517.37 1216.56 1517.37 M1216.56 1513.66 Q1222.37 1513.66 1225.43 1518.27 Q1228.51 1522.85 1228.51 1531.6 Q1228.51 1540.33 1225.43 1544.94 Q1222.37 1549.52 1216.56 1549.52 Q1210.75 1549.52 1207.68 1544.94 Q1204.62 1540.33 1204.62 1531.6 Q1204.62 1522.85 1207.68 1518.27 Q1210.75 1513.66 1216.56 1513.66 Z\" fill=\"#000000\" fill-rule=\"nonzero\" fill-opacity=\"1\" /><path clip-path=\"url(#clip050)\" d=\"M1236.73 1542.97 L1241.61 1542.97 L1241.61 1548.85 L1236.73 1548.85 L1236.73 1542.97 Z\" fill=\"#000000\" fill-rule=\"nonzero\" fill-opacity=\"1\" /><path clip-path=\"url(#clip050)\" d=\"M1251.84 1514.29 L1270.2 1514.29 L1270.2 1518.22 L1256.12 1518.22 L1256.12 1526.7 Q1257.14 1526.35 1258.16 1526.19 Q1259.18 1526 1260.2 1526 Q1265.98 1526 1269.36 1529.17 Q1272.74 1532.34 1272.74 1537.76 Q1272.74 1543.34 1269.27 1546.44 Q1265.8 1549.52 1259.48 1549.52 Q1257.3 1549.52 1255.04 1549.15 Q1252.79 1548.78 1250.38 1548.04 L1250.38 1543.34 Q1252.47 1544.47 1254.69 1545.03 Q1256.91 1545.58 1259.39 1545.58 Q1263.39 1545.58 1265.73 1543.48 Q1268.07 1541.37 1268.07 1537.76 Q1268.07 1534.15 1265.73 1532.04 Q1263.39 1529.94 1259.39 1529.94 Q1257.51 1529.94 1255.64 1530.35 Q1253.79 1530.77 1251.84 1531.65 L1251.84 1514.29 Z\" fill=\"#000000\" fill-rule=\"nonzero\" fill-opacity=\"1\" /><path clip-path=\"url(#clip050)\" d=\"M1291.96 1517.37 Q1288.35 1517.37 1286.52 1520.93 Q1284.71 1524.47 1284.71 1531.6 Q1284.71 1538.71 1286.52 1542.27 Q1288.35 1545.82 1291.96 1545.82 Q1295.59 1545.82 1297.4 1542.27 Q1299.23 1538.71 1299.23 1531.6 Q1299.23 1524.47 1297.4 1520.93 Q1295.59 1517.37 1291.96 1517.37 M1291.96 1513.66 Q1297.77 1513.66 1300.82 1518.27 Q1303.9 1522.85 1303.9 1531.6 Q1303.9 1540.33 1300.82 1544.94 Q1297.77 1549.52 1291.96 1549.52 Q1286.15 1549.52 1283.07 1544.94 Q1280.01 1540.33 1280.01 1531.6 Q1280.01 1522.85 1283.07 1518.27 Q1286.15 1513.66 1291.96 1513.66 Z\" fill=\"#000000\" fill-rule=\"nonzero\" fill-opacity=\"1\" /><path clip-path=\"url(#clip050)\" d=\"M1735.22 1517.37 Q1731.61 1517.37 1729.78 1520.93 Q1727.97 1524.47 1727.97 1531.6 Q1727.97 1538.71 1729.78 1542.27 Q1731.61 1545.82 1735.22 1545.82 Q1738.85 1545.82 1740.66 1542.27 Q1742.49 1538.71 1742.49 1531.6 Q1742.49 1524.47 1740.66 1520.93 Q1738.85 1517.37 1735.22 1517.37 M1735.22 1513.66 Q1741.03 1513.66 1744.09 1518.27 Q1747.16 1522.85 1747.16 1531.6 Q1747.16 1540.33 1744.09 1544.94 Q1741.03 1549.52 1735.22 1549.52 Q1729.41 1549.52 1726.33 1544.94 Q1723.28 1540.33 1723.28 1531.6 Q1723.28 1522.85 1726.33 1518.27 Q1729.41 1513.66 1735.22 1513.66 Z\" fill=\"#000000\" fill-rule=\"nonzero\" fill-opacity=\"1\" /><path clip-path=\"url(#clip050)\" d=\"M1755.38 1542.97 L1760.27 1542.97 L1760.27 1548.85 L1755.38 1548.85 L1755.38 1542.97 Z\" fill=\"#000000\" fill-rule=\"nonzero\" fill-opacity=\"1\" /><path clip-path=\"url(#clip050)\" d=\"M1769.27 1514.29 L1791.49 1514.29 L1791.49 1516.28 L1778.95 1548.85 L1774.06 1548.85 L1785.87 1518.22 L1769.27 1518.22 L1769.27 1514.29 Z\" fill=\"#000000\" fill-rule=\"nonzero\" fill-opacity=\"1\" /><path clip-path=\"url(#clip050)\" d=\"M1800.66 1514.29 L1819.02 1514.29 L1819.02 1518.22 L1804.94 1518.22 L1804.94 1526.7 Q1805.96 1526.35 1806.98 1526.19 Q1808 1526 1809.02 1526 Q1814.8 1526 1818.18 1529.17 Q1821.56 1532.34 1821.56 1537.76 Q1821.56 1543.34 1818.09 1546.44 Q1814.62 1549.52 1808.3 1549.52 Q1806.12 1549.52 1803.85 1549.15 Q1801.61 1548.78 1799.2 1548.04 L1799.2 1543.34 Q1801.28 1544.47 1803.51 1545.03 Q1805.73 1545.58 1808.21 1545.58 Q1812.21 1545.58 1814.55 1543.48 Q1816.89 1541.37 1816.89 1537.76 Q1816.89 1534.15 1814.55 1532.04 Q1812.21 1529.94 1808.21 1529.94 Q1806.33 1529.94 1804.46 1530.35 Q1802.6 1530.77 1800.66 1531.65 L1800.66 1514.29 Z\" fill=\"#000000\" fill-rule=\"nonzero\" fill-opacity=\"1\" /><path clip-path=\"url(#clip050)\" d=\"M2242.65 1544.91 L2250.29 1544.91 L2250.29 1518.55 L2241.98 1520.21 L2241.98 1515.95 L2250.24 1514.29 L2254.92 1514.29 L2254.92 1544.91 L2262.56 1544.91 L2262.56 1548.85 L2242.65 1548.85 L2242.65 1544.91 Z\" fill=\"#000000\" fill-rule=\"nonzero\" fill-opacity=\"1\" /><path clip-path=\"url(#clip050)\" d=\"M2272 1542.97 L2276.88 1542.97 L2276.88 1548.85 L2272 1548.85 L2272 1542.97 Z\" fill=\"#000000\" fill-rule=\"nonzero\" fill-opacity=\"1\" /><path clip-path=\"url(#clip050)\" d=\"M2297.07 1517.37 Q2293.46 1517.37 2291.63 1520.93 Q2289.82 1524.47 2289.82 1531.6 Q2289.82 1538.71 2291.63 1542.27 Q2293.46 1545.82 2297.07 1545.82 Q2300.7 1545.82 2302.51 1542.27 Q2304.34 1538.71 2304.34 1531.6 Q2304.34 1524.47 2302.51 1520.93 Q2300.7 1517.37 2297.07 1517.37 M2297.07 1513.66 Q2302.88 1513.66 2305.94 1518.27 Q2309.01 1522.85 2309.01 1531.6 Q2309.01 1540.33 2305.94 1544.94 Q2302.88 1549.52 2297.07 1549.52 Q2291.26 1549.52 2288.18 1544.94 Q2285.13 1540.33 2285.13 1531.6 Q2285.13 1522.85 2288.18 1518.27 Q2291.26 1513.66 2297.07 1513.66 Z\" fill=\"#000000\" fill-rule=\"nonzero\" fill-opacity=\"1\" /><path clip-path=\"url(#clip050)\" d=\"M2327.23 1517.37 Q2323.62 1517.37 2321.79 1520.93 Q2319.99 1524.47 2319.99 1531.6 Q2319.99 1538.71 2321.79 1542.27 Q2323.62 1545.82 2327.23 1545.82 Q2330.87 1545.82 2332.67 1542.27 Q2334.5 1538.71 2334.5 1531.6 Q2334.5 1524.47 2332.67 1520.93 Q2330.87 1517.37 2327.23 1517.37 M2327.23 1513.66 Q2333.04 1513.66 2336.1 1518.27 Q2339.18 1522.85 2339.18 1531.6 Q2339.18 1540.33 2336.1 1544.94 Q2333.04 1549.52 2327.23 1549.52 Q2321.42 1549.52 2318.34 1544.94 Q2315.29 1540.33 2315.29 1531.6 Q2315.29 1522.85 2318.34 1518.27 Q2321.42 1513.66 2327.23 1513.66 Z\" fill=\"#000000\" fill-rule=\"nonzero\" fill-opacity=\"1\" /><polyline clip-path=\"url(#clip050)\" style=\"stroke:#000000; stroke-linecap:round; stroke-linejoin:round; stroke-width:4; stroke-opacity:1; fill:none\" points=\"155.765,1486.45 155.765,47.2441 \"/>\n",
       "<polyline clip-path=\"url(#clip050)\" style=\"stroke:#000000; stroke-linecap:round; stroke-linejoin:round; stroke-width:4; stroke-opacity:1; fill:none\" points=\"155.765,1265.66 174.663,1265.66 \"/>\n",
       "<polyline clip-path=\"url(#clip050)\" style=\"stroke:#000000; stroke-linecap:round; stroke-linejoin:round; stroke-width:4; stroke-opacity:1; fill:none\" points=\"155.765,873.101 174.663,873.101 \"/>\n",
       "<polyline clip-path=\"url(#clip050)\" style=\"stroke:#000000; stroke-linecap:round; stroke-linejoin:round; stroke-width:4; stroke-opacity:1; fill:none\" points=\"155.765,480.539 174.663,480.539 \"/>\n",
       "<polyline clip-path=\"url(#clip050)\" style=\"stroke:#000000; stroke-linecap:round; stroke-linejoin:round; stroke-width:4; stroke-opacity:1; fill:none\" points=\"155.765,87.9763 174.663,87.9763 \"/>\n",
       "<path clip-path=\"url(#clip050)\" d=\"M63.5847 1251.46 Q59.9736 1251.46 58.1449 1255.03 Q56.3393 1258.57 56.3393 1265.7 Q56.3393 1272.8 58.1449 1276.37 Q59.9736 1279.91 63.5847 1279.91 Q67.2189 1279.91 69.0244 1276.37 Q70.8531 1272.8 70.8531 1265.7 Q70.8531 1258.57 69.0244 1255.03 Q67.2189 1251.46 63.5847 1251.46 M63.5847 1247.76 Q69.3948 1247.76 72.4503 1252.36 Q75.529 1256.95 75.529 1265.7 Q75.529 1274.42 72.4503 1279.03 Q69.3948 1283.61 63.5847 1283.61 Q57.7745 1283.61 54.6958 1279.03 Q51.6403 1274.42 51.6403 1265.7 Q51.6403 1256.95 54.6958 1252.36 Q57.7745 1247.76 63.5847 1247.76 Z\" fill=\"#000000\" fill-rule=\"nonzero\" fill-opacity=\"1\" /><path clip-path=\"url(#clip050)\" d=\"M83.7466 1277.06 L88.6308 1277.06 L88.6308 1282.94 L83.7466 1282.94 L83.7466 1277.06 Z\" fill=\"#000000\" fill-rule=\"nonzero\" fill-opacity=\"1\" /><path clip-path=\"url(#clip050)\" d=\"M98.8622 1248.38 L117.219 1248.38 L117.219 1252.32 L103.145 1252.32 L103.145 1260.79 Q104.163 1260.44 105.182 1260.28 Q106.2 1260.1 107.219 1260.1 Q113.006 1260.1 116.385 1263.27 Q119.765 1266.44 119.765 1271.86 Q119.765 1277.43 116.293 1280.54 Q112.82 1283.61 106.501 1283.61 Q104.325 1283.61 102.057 1283.24 Q99.8113 1282.87 97.4039 1282.13 L97.4039 1277.43 Q99.4872 1278.57 101.709 1279.12 Q103.932 1279.68 106.408 1279.68 Q110.413 1279.68 112.751 1277.57 Q115.089 1275.47 115.089 1271.86 Q115.089 1268.24 112.751 1266.14 Q110.413 1264.03 106.408 1264.03 Q104.534 1264.03 102.659 1264.45 Q100.807 1264.86 98.8622 1265.74 L98.8622 1248.38 Z\" fill=\"#000000\" fill-rule=\"nonzero\" fill-opacity=\"1\" /><path clip-path=\"url(#clip050)\" d=\"M53.3995 886.446 L61.0384 886.446 L61.0384 860.08 L52.7282 861.747 L52.7282 857.488 L60.9921 855.821 L65.668 855.821 L65.668 886.446 L73.3068 886.446 L73.3068 890.381 L53.3995 890.381 L53.3995 886.446 Z\" fill=\"#000000\" fill-rule=\"nonzero\" fill-opacity=\"1\" /><path clip-path=\"url(#clip050)\" d=\"M82.7512 884.501 L87.6354 884.501 L87.6354 890.381 L82.7512 890.381 L82.7512 884.501 Z\" fill=\"#000000\" fill-rule=\"nonzero\" fill-opacity=\"1\" /><path clip-path=\"url(#clip050)\" d=\"M107.821 858.9 Q104.209 858.9 102.381 862.465 Q100.575 866.006 100.575 873.136 Q100.575 880.242 102.381 883.807 Q104.209 887.349 107.821 887.349 Q111.455 887.349 113.26 883.807 Q115.089 880.242 115.089 873.136 Q115.089 866.006 113.26 862.465 Q111.455 858.9 107.821 858.9 M107.821 855.196 Q113.631 855.196 116.686 859.803 Q119.765 864.386 119.765 873.136 Q119.765 881.863 116.686 886.469 Q113.631 891.052 107.821 891.052 Q102.01 891.052 98.9317 886.469 Q95.8761 881.863 95.8761 873.136 Q95.8761 864.386 98.9317 859.803 Q102.01 855.196 107.821 855.196 Z\" fill=\"#000000\" fill-rule=\"nonzero\" fill-opacity=\"1\" /><path clip-path=\"url(#clip050)\" d=\"M54.3949 493.884 L62.0337 493.884 L62.0337 467.518 L53.7236 469.185 L53.7236 464.925 L61.9874 463.259 L66.6633 463.259 L66.6633 493.884 L74.3022 493.884 L74.3022 497.819 L54.3949 497.819 L54.3949 493.884 Z\" fill=\"#000000\" fill-rule=\"nonzero\" fill-opacity=\"1\" /><path clip-path=\"url(#clip050)\" d=\"M83.7466 491.939 L88.6308 491.939 L88.6308 497.819 L83.7466 497.819 L83.7466 491.939 Z\" fill=\"#000000\" fill-rule=\"nonzero\" fill-opacity=\"1\" /><path clip-path=\"url(#clip050)\" d=\"M98.8622 463.259 L117.219 463.259 L117.219 467.194 L103.145 467.194 L103.145 475.666 Q104.163 475.319 105.182 475.157 Q106.2 474.972 107.219 474.972 Q113.006 474.972 116.385 478.143 Q119.765 481.314 119.765 486.731 Q119.765 492.309 116.293 495.411 Q112.82 498.49 106.501 498.49 Q104.325 498.49 102.057 498.12 Q99.8113 497.749 97.4039 497.008 L97.4039 492.309 Q99.4872 493.444 101.709 493.999 Q103.932 494.555 106.408 494.555 Q110.413 494.555 112.751 492.448 Q115.089 490.342 115.089 486.731 Q115.089 483.12 112.751 481.013 Q110.413 478.907 106.408 478.907 Q104.534 478.907 102.659 479.323 Q100.807 479.74 98.8622 480.62 L98.8622 463.259 Z\" fill=\"#000000\" fill-rule=\"nonzero\" fill-opacity=\"1\" /><path clip-path=\"url(#clip050)\" d=\"M56.6171 101.321 L72.9365 101.321 L72.9365 105.256 L50.9921 105.256 L50.9921 101.321 Q53.6541 98.5665 58.2375 93.9369 Q62.8439 89.2841 64.0245 87.9416 Q66.2698 85.4184 67.1494 83.6823 Q68.0522 81.9231 68.0522 80.2333 Q68.0522 77.4786 66.1078 75.7425 Q64.1865 74.0064 61.0847 74.0064 Q58.8856 74.0064 56.4319 74.7703 Q54.0014 75.5342 51.2236 77.0851 L51.2236 72.3629 Q54.0477 71.2287 56.5014 70.65 Q58.955 70.0713 60.9921 70.0713 Q66.3624 70.0713 69.5568 72.7565 Q72.7513 75.4416 72.7513 79.9323 Q72.7513 82.062 71.9411 83.9832 Q71.1541 85.8814 69.0476 88.474 Q68.4689 89.1453 65.367 92.3628 Q62.2652 95.5573 56.6171 101.321 Z\" fill=\"#000000\" fill-rule=\"nonzero\" fill-opacity=\"1\" /><path clip-path=\"url(#clip050)\" d=\"M82.7512 99.3767 L87.6354 99.3767 L87.6354 105.256 L82.7512 105.256 L82.7512 99.3767 Z\" fill=\"#000000\" fill-rule=\"nonzero\" fill-opacity=\"1\" /><path clip-path=\"url(#clip050)\" d=\"M107.821 73.775 Q104.209 73.775 102.381 77.3398 Q100.575 80.8814 100.575 88.011 Q100.575 95.1174 102.381 98.6822 Q104.209 102.224 107.821 102.224 Q111.455 102.224 113.26 98.6822 Q115.089 95.1174 115.089 88.011 Q115.089 80.8814 113.26 77.3398 Q111.455 73.775 107.821 73.775 M107.821 70.0713 Q113.631 70.0713 116.686 74.6777 Q119.765 79.261 119.765 88.011 Q119.765 96.7378 116.686 101.344 Q113.631 105.928 107.821 105.928 Q102.01 105.928 98.9317 101.344 Q95.8761 96.7378 95.8761 88.011 Q95.8761 79.261 98.9317 74.6777 Q102.01 70.0713 107.821 70.0713 Z\" fill=\"#000000\" fill-rule=\"nonzero\" fill-opacity=\"1\" /><circle clip-path=\"url(#clip052)\" cx=\"217.944\" cy=\"87.9763\" r=\"14.4\" fill=\"#009af9\" fill-rule=\"evenodd\" fill-opacity=\"1\" stroke=\"#000000\" stroke-opacity=\"1\" stroke-width=\"3.2\"/>\n",
       "<circle clip-path=\"url(#clip052)\" cx=\"425.207\" cy=\"372.614\" r=\"14.4\" fill=\"#009af9\" fill-rule=\"evenodd\" fill-opacity=\"1\" stroke=\"#000000\" stroke-opacity=\"1\" stroke-width=\"3.2\"/>\n",
       "<circle clip-path=\"url(#clip052)\" cx=\"632.47\" cy=\"605.656\" r=\"14.4\" fill=\"#009af9\" fill-rule=\"evenodd\" fill-opacity=\"1\" stroke=\"#000000\" stroke-opacity=\"1\" stroke-width=\"3.2\"/>\n",
       "<circle clip-path=\"url(#clip052)\" cx=\"839.734\" cy=\"796.455\" r=\"14.4\" fill=\"#009af9\" fill-rule=\"evenodd\" fill-opacity=\"1\" stroke=\"#000000\" stroke-opacity=\"1\" stroke-width=\"3.2\"/>\n",
       "<circle clip-path=\"url(#clip052)\" cx=\"1047\" cy=\"952.667\" r=\"14.4\" fill=\"#009af9\" fill-rule=\"evenodd\" fill-opacity=\"1\" stroke=\"#000000\" stroke-opacity=\"1\" stroke-width=\"3.2\"/>\n",
       "<circle clip-path=\"url(#clip052)\" cx=\"1254.26\" cy=\"1080.56\" r=\"14.4\" fill=\"#009af9\" fill-rule=\"evenodd\" fill-opacity=\"1\" stroke=\"#000000\" stroke-opacity=\"1\" stroke-width=\"3.2\"/>\n",
       "<circle clip-path=\"url(#clip052)\" cx=\"1461.52\" cy=\"1185.28\" r=\"14.4\" fill=\"#009af9\" fill-rule=\"evenodd\" fill-opacity=\"1\" stroke=\"#000000\" stroke-opacity=\"1\" stroke-width=\"3.2\"/>\n",
       "<circle clip-path=\"url(#clip052)\" cx=\"1668.79\" cy=\"1271.01\" r=\"14.4\" fill=\"#009af9\" fill-rule=\"evenodd\" fill-opacity=\"1\" stroke=\"#000000\" stroke-opacity=\"1\" stroke-width=\"3.2\"/>\n",
       "<circle clip-path=\"url(#clip052)\" cx=\"1876.05\" cy=\"1341.2\" r=\"14.4\" fill=\"#009af9\" fill-rule=\"evenodd\" fill-opacity=\"1\" stroke=\"#000000\" stroke-opacity=\"1\" stroke-width=\"3.2\"/>\n",
       "<circle clip-path=\"url(#clip052)\" cx=\"2083.31\" cy=\"1398.67\" r=\"14.4\" fill=\"#009af9\" fill-rule=\"evenodd\" fill-opacity=\"1\" stroke=\"#000000\" stroke-opacity=\"1\" stroke-width=\"3.2\"/>\n",
       "<circle clip-path=\"url(#clip052)\" cx=\"2290.58\" cy=\"1445.72\" r=\"14.4\" fill=\"#009af9\" fill-rule=\"evenodd\" fill-opacity=\"1\" stroke=\"#000000\" stroke-opacity=\"1\" stroke-width=\"3.2\"/>\n",
       "<path clip-path=\"url(#clip050)\" d=\"M2007.39 198.898 L2279.52 198.898 L2279.52 95.2176 L2007.39 95.2176  Z\" fill=\"#ffffff\" fill-rule=\"evenodd\" fill-opacity=\"1\"/>\n",
       "<polyline clip-path=\"url(#clip050)\" style=\"stroke:#000000; stroke-linecap:round; stroke-linejoin:round; stroke-width:4; stroke-opacity:1; fill:none\" points=\"2007.39,198.898 2279.52,198.898 2279.52,95.2176 2007.39,95.2176 2007.39,198.898 \"/>\n",
       "<circle clip-path=\"url(#clip050)\" cx=\"2105.04\" cy=\"147.058\" r=\"20.48\" fill=\"#009af9\" fill-rule=\"evenodd\" fill-opacity=\"1\" stroke=\"#000000\" stroke-opacity=\"1\" stroke-width=\"4.55111\"/>\n",
       "<path clip-path=\"url(#clip050)\" d=\"M2216.52 166.745 Q2214.72 171.375 2213.01 172.787 Q2211.29 174.199 2208.42 174.199 L2205.02 174.199 L2205.02 170.634 L2207.52 170.634 Q2209.28 170.634 2210.25 169.8 Q2211.22 168.967 2212.4 165.865 L2213.17 163.921 L2202.68 138.412 L2207.2 138.412 L2215.3 158.689 L2223.4 138.412 L2227.91 138.412 L2216.52 166.745 Z\" fill=\"#000000\" fill-rule=\"nonzero\" fill-opacity=\"1\" /><path clip-path=\"url(#clip050)\" d=\"M2235.2 160.402 L2242.84 160.402 L2242.84 134.037 L2234.53 135.703 L2234.53 131.444 L2242.8 129.778 L2247.47 129.778 L2247.47 160.402 L2255.11 160.402 L2255.11 164.338 L2235.2 164.338 L2235.2 160.402 Z\" fill=\"#000000\" fill-rule=\"nonzero\" fill-opacity=\"1\" /></svg>\n"
      ],
      "text/html": [
       "<?xml version=\"1.0\" encoding=\"utf-8\"?>\n",
       "<svg xmlns=\"http://www.w3.org/2000/svg\" xmlns:xlink=\"http://www.w3.org/1999/xlink\" width=\"600\" height=\"400\" viewBox=\"0 0 2400 1600\">\n",
       "<defs>\n",
       "  <clipPath id=\"clip100\">\n",
       "    <rect x=\"0\" y=\"0\" width=\"2400\" height=\"1600\"/>\n",
       "  </clipPath>\n",
       "</defs>\n",
       "<path clip-path=\"url(#clip100)\" d=\"M0 1600 L2400 1600 L2400 0 L0 0  Z\" fill=\"#ffffff\" fill-rule=\"evenodd\" fill-opacity=\"1\"/>\n",
       "<defs>\n",
       "  <clipPath id=\"clip101\">\n",
       "    <rect x=\"480\" y=\"0\" width=\"1681\" height=\"1600\"/>\n",
       "  </clipPath>\n",
       "</defs>\n",
       "<path clip-path=\"url(#clip100)\" d=\"M155.765 1486.45 L2352.76 1486.45 L2352.76 47.2441 L155.765 47.2441  Z\" fill=\"#ffffff\" fill-rule=\"evenodd\" fill-opacity=\"1\"/>\n",
       "<defs>\n",
       "  <clipPath id=\"clip102\">\n",
       "    <rect x=\"155\" y=\"47\" width=\"2198\" height=\"1440\"/>\n",
       "  </clipPath>\n",
       "</defs>\n",
       "<polyline clip-path=\"url(#clip102)\" style=\"stroke:#000000; stroke-linecap:round; stroke-linejoin:round; stroke-width:2; stroke-opacity:0.1; fill:none\" points=\"217.944,1486.45 217.944,47.2441 \"/>\n",
       "<polyline clip-path=\"url(#clip102)\" style=\"stroke:#000000; stroke-linecap:round; stroke-linejoin:round; stroke-width:2; stroke-opacity:0.1; fill:none\" points=\"736.102,1486.45 736.102,47.2441 \"/>\n",
       "<polyline clip-path=\"url(#clip102)\" style=\"stroke:#000000; stroke-linecap:round; stroke-linejoin:round; stroke-width:2; stroke-opacity:0.1; fill:none\" points=\"1254.26,1486.45 1254.26,47.2441 \"/>\n",
       "<polyline clip-path=\"url(#clip102)\" style=\"stroke:#000000; stroke-linecap:round; stroke-linejoin:round; stroke-width:2; stroke-opacity:0.1; fill:none\" points=\"1772.42,1486.45 1772.42,47.2441 \"/>\n",
       "<polyline clip-path=\"url(#clip102)\" style=\"stroke:#000000; stroke-linecap:round; stroke-linejoin:round; stroke-width:2; stroke-opacity:0.1; fill:none\" points=\"2290.58,1486.45 2290.58,47.2441 \"/>\n",
       "<polyline clip-path=\"url(#clip102)\" style=\"stroke:#000000; stroke-linecap:round; stroke-linejoin:round; stroke-width:2; stroke-opacity:0.1; fill:none\" points=\"155.765,1265.66 2352.76,1265.66 \"/>\n",
       "<polyline clip-path=\"url(#clip102)\" style=\"stroke:#000000; stroke-linecap:round; stroke-linejoin:round; stroke-width:2; stroke-opacity:0.1; fill:none\" points=\"155.765,873.101 2352.76,873.101 \"/>\n",
       "<polyline clip-path=\"url(#clip102)\" style=\"stroke:#000000; stroke-linecap:round; stroke-linejoin:round; stroke-width:2; stroke-opacity:0.1; fill:none\" points=\"155.765,480.539 2352.76,480.539 \"/>\n",
       "<polyline clip-path=\"url(#clip102)\" style=\"stroke:#000000; stroke-linecap:round; stroke-linejoin:round; stroke-width:2; stroke-opacity:0.1; fill:none\" points=\"155.765,87.9763 2352.76,87.9763 \"/>\n",
       "<polyline clip-path=\"url(#clip100)\" style=\"stroke:#000000; stroke-linecap:round; stroke-linejoin:round; stroke-width:4; stroke-opacity:1; fill:none\" points=\"155.765,1486.45 2352.76,1486.45 \"/>\n",
       "<polyline clip-path=\"url(#clip100)\" style=\"stroke:#000000; stroke-linecap:round; stroke-linejoin:round; stroke-width:4; stroke-opacity:1; fill:none\" points=\"217.944,1486.45 217.944,1467.55 \"/>\n",
       "<polyline clip-path=\"url(#clip100)\" style=\"stroke:#000000; stroke-linecap:round; stroke-linejoin:round; stroke-width:4; stroke-opacity:1; fill:none\" points=\"736.102,1486.45 736.102,1467.55 \"/>\n",
       "<polyline clip-path=\"url(#clip100)\" style=\"stroke:#000000; stroke-linecap:round; stroke-linejoin:round; stroke-width:4; stroke-opacity:1; fill:none\" points=\"1254.26,1486.45 1254.26,1467.55 \"/>\n",
       "<polyline clip-path=\"url(#clip100)\" style=\"stroke:#000000; stroke-linecap:round; stroke-linejoin:round; stroke-width:4; stroke-opacity:1; fill:none\" points=\"1772.42,1486.45 1772.42,1467.55 \"/>\n",
       "<polyline clip-path=\"url(#clip100)\" style=\"stroke:#000000; stroke-linecap:round; stroke-linejoin:round; stroke-width:4; stroke-opacity:1; fill:none\" points=\"2290.58,1486.45 2290.58,1467.55 \"/>\n",
       "<path clip-path=\"url(#clip100)\" d=\"M180.247 1517.37 Q176.636 1517.37 174.808 1520.93 Q173.002 1524.47 173.002 1531.6 Q173.002 1538.71 174.808 1542.27 Q176.636 1545.82 180.247 1545.82 Q183.882 1545.82 185.687 1542.27 Q187.516 1538.71 187.516 1531.6 Q187.516 1524.47 185.687 1520.93 Q183.882 1517.37 180.247 1517.37 M180.247 1513.66 Q186.057 1513.66 189.113 1518.27 Q192.192 1522.85 192.192 1531.6 Q192.192 1540.33 189.113 1544.94 Q186.057 1549.52 180.247 1549.52 Q174.437 1549.52 171.358 1544.94 Q168.303 1540.33 168.303 1531.6 Q168.303 1522.85 171.358 1518.27 Q174.437 1513.66 180.247 1513.66 Z\" fill=\"#000000\" fill-rule=\"nonzero\" fill-opacity=\"1\" /><path clip-path=\"url(#clip100)\" d=\"M200.409 1542.97 L205.294 1542.97 L205.294 1548.85 L200.409 1548.85 L200.409 1542.97 Z\" fill=\"#000000\" fill-rule=\"nonzero\" fill-opacity=\"1\" /><path clip-path=\"url(#clip100)\" d=\"M225.479 1517.37 Q221.867 1517.37 220.039 1520.93 Q218.233 1524.47 218.233 1531.6 Q218.233 1538.71 220.039 1542.27 Q221.867 1545.82 225.479 1545.82 Q229.113 1545.82 230.918 1542.27 Q232.747 1538.71 232.747 1531.6 Q232.747 1524.47 230.918 1520.93 Q229.113 1517.37 225.479 1517.37 M225.479 1513.66 Q231.289 1513.66 234.344 1518.27 Q237.423 1522.85 237.423 1531.6 Q237.423 1540.33 234.344 1544.94 Q231.289 1549.52 225.479 1549.52 Q219.668 1549.52 216.59 1544.94 Q213.534 1540.33 213.534 1531.6 Q213.534 1522.85 216.59 1518.27 Q219.668 1513.66 225.479 1513.66 Z\" fill=\"#000000\" fill-rule=\"nonzero\" fill-opacity=\"1\" /><path clip-path=\"url(#clip100)\" d=\"M255.64 1517.37 Q252.029 1517.37 250.201 1520.93 Q248.395 1524.47 248.395 1531.6 Q248.395 1538.71 250.201 1542.27 Q252.029 1545.82 255.64 1545.82 Q259.275 1545.82 261.08 1542.27 Q262.909 1538.71 262.909 1531.6 Q262.909 1524.47 261.08 1520.93 Q259.275 1517.37 255.64 1517.37 M255.64 1513.66 Q261.451 1513.66 264.506 1518.27 Q267.585 1522.85 267.585 1531.6 Q267.585 1540.33 264.506 1544.94 Q261.451 1549.52 255.64 1549.52 Q249.83 1549.52 246.752 1544.94 Q243.696 1540.33 243.696 1531.6 Q243.696 1522.85 246.752 1518.27 Q249.83 1513.66 255.64 1513.66 Z\" fill=\"#000000\" fill-rule=\"nonzero\" fill-opacity=\"1\" /><path clip-path=\"url(#clip100)\" d=\"M698.903 1517.37 Q695.292 1517.37 693.463 1520.93 Q691.658 1524.47 691.658 1531.6 Q691.658 1538.71 693.463 1542.27 Q695.292 1545.82 698.903 1545.82 Q702.538 1545.82 704.343 1542.27 Q706.172 1538.71 706.172 1531.6 Q706.172 1524.47 704.343 1520.93 Q702.538 1517.37 698.903 1517.37 M698.903 1513.66 Q704.713 1513.66 707.769 1518.27 Q710.848 1522.85 710.848 1531.6 Q710.848 1540.33 707.769 1544.94 Q704.713 1549.52 698.903 1549.52 Q693.093 1549.52 690.014 1544.94 Q686.959 1540.33 686.959 1531.6 Q686.959 1522.85 690.014 1518.27 Q693.093 1513.66 698.903 1513.66 Z\" fill=\"#000000\" fill-rule=\"nonzero\" fill-opacity=\"1\" /><path clip-path=\"url(#clip100)\" d=\"M719.065 1542.97 L723.949 1542.97 L723.949 1548.85 L719.065 1548.85 L719.065 1542.97 Z\" fill=\"#000000\" fill-rule=\"nonzero\" fill-opacity=\"1\" /><path clip-path=\"url(#clip100)\" d=\"M738.162 1544.91 L754.482 1544.91 L754.482 1548.85 L732.537 1548.85 L732.537 1544.91 Q735.199 1542.16 739.783 1537.53 Q744.389 1532.88 745.57 1531.53 Q747.815 1529.01 748.695 1527.27 Q749.597 1525.51 749.597 1523.82 Q749.597 1521.07 747.653 1519.33 Q745.732 1517.6 742.63 1517.6 Q740.431 1517.6 737.977 1518.36 Q735.547 1519.13 732.769 1520.68 L732.769 1515.95 Q735.593 1514.82 738.047 1514.24 Q740.5 1513.66 742.537 1513.66 Q747.908 1513.66 751.102 1516.35 Q754.296 1519.03 754.296 1523.52 Q754.296 1525.65 753.486 1527.57 Q752.699 1529.47 750.593 1532.07 Q750.014 1532.74 746.912 1535.95 Q743.81 1539.15 738.162 1544.91 Z\" fill=\"#000000\" fill-rule=\"nonzero\" fill-opacity=\"1\" /><path clip-path=\"url(#clip100)\" d=\"M764.343 1514.29 L782.699 1514.29 L782.699 1518.22 L768.625 1518.22 L768.625 1526.7 Q769.644 1526.35 770.662 1526.19 Q771.681 1526 772.699 1526 Q778.486 1526 781.866 1529.17 Q785.245 1532.34 785.245 1537.76 Q785.245 1543.34 781.773 1546.44 Q778.301 1549.52 771.982 1549.52 Q769.806 1549.52 767.537 1549.15 Q765.292 1548.78 762.884 1548.04 L762.884 1543.34 Q764.968 1544.47 767.19 1545.03 Q769.412 1545.58 771.889 1545.58 Q775.894 1545.58 778.232 1543.48 Q780.57 1541.37 780.57 1537.76 Q780.57 1534.15 778.232 1532.04 Q775.894 1529.94 771.889 1529.94 Q770.014 1529.94 768.139 1530.35 Q766.287 1530.77 764.343 1531.65 L764.343 1514.29 Z\" fill=\"#000000\" fill-rule=\"nonzero\" fill-opacity=\"1\" /><path clip-path=\"url(#clip100)\" d=\"M1216.56 1517.37 Q1212.95 1517.37 1211.12 1520.93 Q1209.32 1524.47 1209.32 1531.6 Q1209.32 1538.71 1211.12 1542.27 Q1212.95 1545.82 1216.56 1545.82 Q1220.2 1545.82 1222 1542.27 Q1223.83 1538.71 1223.83 1531.6 Q1223.83 1524.47 1222 1520.93 Q1220.2 1517.37 1216.56 1517.37 M1216.56 1513.66 Q1222.37 1513.66 1225.43 1518.27 Q1228.51 1522.85 1228.51 1531.6 Q1228.51 1540.33 1225.43 1544.94 Q1222.37 1549.52 1216.56 1549.52 Q1210.75 1549.52 1207.68 1544.94 Q1204.62 1540.33 1204.62 1531.6 Q1204.62 1522.85 1207.68 1518.27 Q1210.75 1513.66 1216.56 1513.66 Z\" fill=\"#000000\" fill-rule=\"nonzero\" fill-opacity=\"1\" /><path clip-path=\"url(#clip100)\" d=\"M1236.73 1542.97 L1241.61 1542.97 L1241.61 1548.85 L1236.73 1548.85 L1236.73 1542.97 Z\" fill=\"#000000\" fill-rule=\"nonzero\" fill-opacity=\"1\" /><path clip-path=\"url(#clip100)\" d=\"M1251.84 1514.29 L1270.2 1514.29 L1270.2 1518.22 L1256.12 1518.22 L1256.12 1526.7 Q1257.14 1526.35 1258.16 1526.19 Q1259.18 1526 1260.2 1526 Q1265.98 1526 1269.36 1529.17 Q1272.74 1532.34 1272.74 1537.76 Q1272.74 1543.34 1269.27 1546.44 Q1265.8 1549.52 1259.48 1549.52 Q1257.3 1549.52 1255.04 1549.15 Q1252.79 1548.78 1250.38 1548.04 L1250.38 1543.34 Q1252.47 1544.47 1254.69 1545.03 Q1256.91 1545.58 1259.39 1545.58 Q1263.39 1545.58 1265.73 1543.48 Q1268.07 1541.37 1268.07 1537.76 Q1268.07 1534.15 1265.73 1532.04 Q1263.39 1529.94 1259.39 1529.94 Q1257.51 1529.94 1255.64 1530.35 Q1253.79 1530.77 1251.84 1531.65 L1251.84 1514.29 Z\" fill=\"#000000\" fill-rule=\"nonzero\" fill-opacity=\"1\" /><path clip-path=\"url(#clip100)\" d=\"M1291.96 1517.37 Q1288.35 1517.37 1286.52 1520.93 Q1284.71 1524.47 1284.71 1531.6 Q1284.71 1538.71 1286.52 1542.27 Q1288.35 1545.82 1291.96 1545.82 Q1295.59 1545.82 1297.4 1542.27 Q1299.23 1538.71 1299.23 1531.6 Q1299.23 1524.47 1297.4 1520.93 Q1295.59 1517.37 1291.96 1517.37 M1291.96 1513.66 Q1297.77 1513.66 1300.82 1518.27 Q1303.9 1522.85 1303.9 1531.6 Q1303.9 1540.33 1300.82 1544.94 Q1297.77 1549.52 1291.96 1549.52 Q1286.15 1549.52 1283.07 1544.94 Q1280.01 1540.33 1280.01 1531.6 Q1280.01 1522.85 1283.07 1518.27 Q1286.15 1513.66 1291.96 1513.66 Z\" fill=\"#000000\" fill-rule=\"nonzero\" fill-opacity=\"1\" /><path clip-path=\"url(#clip100)\" d=\"M1735.22 1517.37 Q1731.61 1517.37 1729.78 1520.93 Q1727.97 1524.47 1727.97 1531.6 Q1727.97 1538.71 1729.78 1542.27 Q1731.61 1545.82 1735.22 1545.82 Q1738.85 1545.82 1740.66 1542.27 Q1742.49 1538.71 1742.49 1531.6 Q1742.49 1524.47 1740.66 1520.93 Q1738.85 1517.37 1735.22 1517.37 M1735.22 1513.66 Q1741.03 1513.66 1744.09 1518.27 Q1747.16 1522.85 1747.16 1531.6 Q1747.16 1540.33 1744.09 1544.94 Q1741.03 1549.52 1735.22 1549.52 Q1729.41 1549.52 1726.33 1544.94 Q1723.28 1540.33 1723.28 1531.6 Q1723.28 1522.85 1726.33 1518.27 Q1729.41 1513.66 1735.22 1513.66 Z\" fill=\"#000000\" fill-rule=\"nonzero\" fill-opacity=\"1\" /><path clip-path=\"url(#clip100)\" d=\"M1755.38 1542.97 L1760.27 1542.97 L1760.27 1548.85 L1755.38 1548.85 L1755.38 1542.97 Z\" fill=\"#000000\" fill-rule=\"nonzero\" fill-opacity=\"1\" /><path clip-path=\"url(#clip100)\" d=\"M1769.27 1514.29 L1791.49 1514.29 L1791.49 1516.28 L1778.95 1548.85 L1774.06 1548.85 L1785.87 1518.22 L1769.27 1518.22 L1769.27 1514.29 Z\" fill=\"#000000\" fill-rule=\"nonzero\" fill-opacity=\"1\" /><path clip-path=\"url(#clip100)\" d=\"M1800.66 1514.29 L1819.02 1514.29 L1819.02 1518.22 L1804.94 1518.22 L1804.94 1526.7 Q1805.96 1526.35 1806.98 1526.19 Q1808 1526 1809.02 1526 Q1814.8 1526 1818.18 1529.17 Q1821.56 1532.34 1821.56 1537.76 Q1821.56 1543.34 1818.09 1546.44 Q1814.62 1549.52 1808.3 1549.52 Q1806.12 1549.52 1803.85 1549.15 Q1801.61 1548.78 1799.2 1548.04 L1799.2 1543.34 Q1801.28 1544.47 1803.51 1545.03 Q1805.73 1545.58 1808.21 1545.58 Q1812.21 1545.58 1814.55 1543.48 Q1816.89 1541.37 1816.89 1537.76 Q1816.89 1534.15 1814.55 1532.04 Q1812.21 1529.94 1808.21 1529.94 Q1806.33 1529.94 1804.46 1530.35 Q1802.6 1530.77 1800.66 1531.65 L1800.66 1514.29 Z\" fill=\"#000000\" fill-rule=\"nonzero\" fill-opacity=\"1\" /><path clip-path=\"url(#clip100)\" d=\"M2242.65 1544.91 L2250.29 1544.91 L2250.29 1518.55 L2241.98 1520.21 L2241.98 1515.95 L2250.24 1514.29 L2254.92 1514.29 L2254.92 1544.91 L2262.56 1544.91 L2262.56 1548.85 L2242.65 1548.85 L2242.65 1544.91 Z\" fill=\"#000000\" fill-rule=\"nonzero\" fill-opacity=\"1\" /><path clip-path=\"url(#clip100)\" d=\"M2272 1542.97 L2276.88 1542.97 L2276.88 1548.85 L2272 1548.85 L2272 1542.97 Z\" fill=\"#000000\" fill-rule=\"nonzero\" fill-opacity=\"1\" /><path clip-path=\"url(#clip100)\" d=\"M2297.07 1517.37 Q2293.46 1517.37 2291.63 1520.93 Q2289.82 1524.47 2289.82 1531.6 Q2289.82 1538.71 2291.63 1542.27 Q2293.46 1545.82 2297.07 1545.82 Q2300.7 1545.82 2302.51 1542.27 Q2304.34 1538.71 2304.34 1531.6 Q2304.34 1524.47 2302.51 1520.93 Q2300.7 1517.37 2297.07 1517.37 M2297.07 1513.66 Q2302.88 1513.66 2305.94 1518.27 Q2309.01 1522.85 2309.01 1531.6 Q2309.01 1540.33 2305.94 1544.94 Q2302.88 1549.52 2297.07 1549.52 Q2291.26 1549.52 2288.18 1544.94 Q2285.13 1540.33 2285.13 1531.6 Q2285.13 1522.85 2288.18 1518.27 Q2291.26 1513.66 2297.07 1513.66 Z\" fill=\"#000000\" fill-rule=\"nonzero\" fill-opacity=\"1\" /><path clip-path=\"url(#clip100)\" d=\"M2327.23 1517.37 Q2323.62 1517.37 2321.79 1520.93 Q2319.99 1524.47 2319.99 1531.6 Q2319.99 1538.71 2321.79 1542.27 Q2323.62 1545.82 2327.23 1545.82 Q2330.87 1545.82 2332.67 1542.27 Q2334.5 1538.71 2334.5 1531.6 Q2334.5 1524.47 2332.67 1520.93 Q2330.87 1517.37 2327.23 1517.37 M2327.23 1513.66 Q2333.04 1513.66 2336.1 1518.27 Q2339.18 1522.85 2339.18 1531.6 Q2339.18 1540.33 2336.1 1544.94 Q2333.04 1549.52 2327.23 1549.52 Q2321.42 1549.52 2318.34 1544.94 Q2315.29 1540.33 2315.29 1531.6 Q2315.29 1522.85 2318.34 1518.27 Q2321.42 1513.66 2327.23 1513.66 Z\" fill=\"#000000\" fill-rule=\"nonzero\" fill-opacity=\"1\" /><polyline clip-path=\"url(#clip100)\" style=\"stroke:#000000; stroke-linecap:round; stroke-linejoin:round; stroke-width:4; stroke-opacity:1; fill:none\" points=\"155.765,1486.45 155.765,47.2441 \"/>\n",
       "<polyline clip-path=\"url(#clip100)\" style=\"stroke:#000000; stroke-linecap:round; stroke-linejoin:round; stroke-width:4; stroke-opacity:1; fill:none\" points=\"155.765,1265.66 174.663,1265.66 \"/>\n",
       "<polyline clip-path=\"url(#clip100)\" style=\"stroke:#000000; stroke-linecap:round; stroke-linejoin:round; stroke-width:4; stroke-opacity:1; fill:none\" points=\"155.765,873.101 174.663,873.101 \"/>\n",
       "<polyline clip-path=\"url(#clip100)\" style=\"stroke:#000000; stroke-linecap:round; stroke-linejoin:round; stroke-width:4; stroke-opacity:1; fill:none\" points=\"155.765,480.539 174.663,480.539 \"/>\n",
       "<polyline clip-path=\"url(#clip100)\" style=\"stroke:#000000; stroke-linecap:round; stroke-linejoin:round; stroke-width:4; stroke-opacity:1; fill:none\" points=\"155.765,87.9763 174.663,87.9763 \"/>\n",
       "<path clip-path=\"url(#clip100)\" d=\"M63.5847 1251.46 Q59.9736 1251.46 58.1449 1255.03 Q56.3393 1258.57 56.3393 1265.7 Q56.3393 1272.8 58.1449 1276.37 Q59.9736 1279.91 63.5847 1279.91 Q67.2189 1279.91 69.0244 1276.37 Q70.8531 1272.8 70.8531 1265.7 Q70.8531 1258.57 69.0244 1255.03 Q67.2189 1251.46 63.5847 1251.46 M63.5847 1247.76 Q69.3948 1247.76 72.4503 1252.36 Q75.529 1256.95 75.529 1265.7 Q75.529 1274.42 72.4503 1279.03 Q69.3948 1283.61 63.5847 1283.61 Q57.7745 1283.61 54.6958 1279.03 Q51.6403 1274.42 51.6403 1265.7 Q51.6403 1256.95 54.6958 1252.36 Q57.7745 1247.76 63.5847 1247.76 Z\" fill=\"#000000\" fill-rule=\"nonzero\" fill-opacity=\"1\" /><path clip-path=\"url(#clip100)\" d=\"M83.7466 1277.06 L88.6308 1277.06 L88.6308 1282.94 L83.7466 1282.94 L83.7466 1277.06 Z\" fill=\"#000000\" fill-rule=\"nonzero\" fill-opacity=\"1\" /><path clip-path=\"url(#clip100)\" d=\"M98.8622 1248.38 L117.219 1248.38 L117.219 1252.32 L103.145 1252.32 L103.145 1260.79 Q104.163 1260.44 105.182 1260.28 Q106.2 1260.1 107.219 1260.1 Q113.006 1260.1 116.385 1263.27 Q119.765 1266.44 119.765 1271.86 Q119.765 1277.43 116.293 1280.54 Q112.82 1283.61 106.501 1283.61 Q104.325 1283.61 102.057 1283.24 Q99.8113 1282.87 97.4039 1282.13 L97.4039 1277.43 Q99.4872 1278.57 101.709 1279.12 Q103.932 1279.68 106.408 1279.68 Q110.413 1279.68 112.751 1277.57 Q115.089 1275.47 115.089 1271.86 Q115.089 1268.24 112.751 1266.14 Q110.413 1264.03 106.408 1264.03 Q104.534 1264.03 102.659 1264.45 Q100.807 1264.86 98.8622 1265.74 L98.8622 1248.38 Z\" fill=\"#000000\" fill-rule=\"nonzero\" fill-opacity=\"1\" /><path clip-path=\"url(#clip100)\" d=\"M53.3995 886.446 L61.0384 886.446 L61.0384 860.08 L52.7282 861.747 L52.7282 857.488 L60.9921 855.821 L65.668 855.821 L65.668 886.446 L73.3068 886.446 L73.3068 890.381 L53.3995 890.381 L53.3995 886.446 Z\" fill=\"#000000\" fill-rule=\"nonzero\" fill-opacity=\"1\" /><path clip-path=\"url(#clip100)\" d=\"M82.7512 884.501 L87.6354 884.501 L87.6354 890.381 L82.7512 890.381 L82.7512 884.501 Z\" fill=\"#000000\" fill-rule=\"nonzero\" fill-opacity=\"1\" /><path clip-path=\"url(#clip100)\" d=\"M107.821 858.9 Q104.209 858.9 102.381 862.465 Q100.575 866.006 100.575 873.136 Q100.575 880.242 102.381 883.807 Q104.209 887.349 107.821 887.349 Q111.455 887.349 113.26 883.807 Q115.089 880.242 115.089 873.136 Q115.089 866.006 113.26 862.465 Q111.455 858.9 107.821 858.9 M107.821 855.196 Q113.631 855.196 116.686 859.803 Q119.765 864.386 119.765 873.136 Q119.765 881.863 116.686 886.469 Q113.631 891.052 107.821 891.052 Q102.01 891.052 98.9317 886.469 Q95.8761 881.863 95.8761 873.136 Q95.8761 864.386 98.9317 859.803 Q102.01 855.196 107.821 855.196 Z\" fill=\"#000000\" fill-rule=\"nonzero\" fill-opacity=\"1\" /><path clip-path=\"url(#clip100)\" d=\"M54.3949 493.884 L62.0337 493.884 L62.0337 467.518 L53.7236 469.185 L53.7236 464.925 L61.9874 463.259 L66.6633 463.259 L66.6633 493.884 L74.3022 493.884 L74.3022 497.819 L54.3949 497.819 L54.3949 493.884 Z\" fill=\"#000000\" fill-rule=\"nonzero\" fill-opacity=\"1\" /><path clip-path=\"url(#clip100)\" d=\"M83.7466 491.939 L88.6308 491.939 L88.6308 497.819 L83.7466 497.819 L83.7466 491.939 Z\" fill=\"#000000\" fill-rule=\"nonzero\" fill-opacity=\"1\" /><path clip-path=\"url(#clip100)\" d=\"M98.8622 463.259 L117.219 463.259 L117.219 467.194 L103.145 467.194 L103.145 475.666 Q104.163 475.319 105.182 475.157 Q106.2 474.972 107.219 474.972 Q113.006 474.972 116.385 478.143 Q119.765 481.314 119.765 486.731 Q119.765 492.309 116.293 495.411 Q112.82 498.49 106.501 498.49 Q104.325 498.49 102.057 498.12 Q99.8113 497.749 97.4039 497.008 L97.4039 492.309 Q99.4872 493.444 101.709 493.999 Q103.932 494.555 106.408 494.555 Q110.413 494.555 112.751 492.448 Q115.089 490.342 115.089 486.731 Q115.089 483.12 112.751 481.013 Q110.413 478.907 106.408 478.907 Q104.534 478.907 102.659 479.323 Q100.807 479.74 98.8622 480.62 L98.8622 463.259 Z\" fill=\"#000000\" fill-rule=\"nonzero\" fill-opacity=\"1\" /><path clip-path=\"url(#clip100)\" d=\"M56.6171 101.321 L72.9365 101.321 L72.9365 105.256 L50.9921 105.256 L50.9921 101.321 Q53.6541 98.5665 58.2375 93.9369 Q62.8439 89.2841 64.0245 87.9416 Q66.2698 85.4184 67.1494 83.6823 Q68.0522 81.9231 68.0522 80.2333 Q68.0522 77.4786 66.1078 75.7425 Q64.1865 74.0064 61.0847 74.0064 Q58.8856 74.0064 56.4319 74.7703 Q54.0014 75.5342 51.2236 77.0851 L51.2236 72.3629 Q54.0477 71.2287 56.5014 70.65 Q58.955 70.0713 60.9921 70.0713 Q66.3624 70.0713 69.5568 72.7565 Q72.7513 75.4416 72.7513 79.9323 Q72.7513 82.062 71.9411 83.9832 Q71.1541 85.8814 69.0476 88.474 Q68.4689 89.1453 65.367 92.3628 Q62.2652 95.5573 56.6171 101.321 Z\" fill=\"#000000\" fill-rule=\"nonzero\" fill-opacity=\"1\" /><path clip-path=\"url(#clip100)\" d=\"M82.7512 99.3767 L87.6354 99.3767 L87.6354 105.256 L82.7512 105.256 L82.7512 99.3767 Z\" fill=\"#000000\" fill-rule=\"nonzero\" fill-opacity=\"1\" /><path clip-path=\"url(#clip100)\" d=\"M107.821 73.775 Q104.209 73.775 102.381 77.3398 Q100.575 80.8814 100.575 88.011 Q100.575 95.1174 102.381 98.6822 Q104.209 102.224 107.821 102.224 Q111.455 102.224 113.26 98.6822 Q115.089 95.1174 115.089 88.011 Q115.089 80.8814 113.26 77.3398 Q111.455 73.775 107.821 73.775 M107.821 70.0713 Q113.631 70.0713 116.686 74.6777 Q119.765 79.261 119.765 88.011 Q119.765 96.7378 116.686 101.344 Q113.631 105.928 107.821 105.928 Q102.01 105.928 98.9317 101.344 Q95.8761 96.7378 95.8761 88.011 Q95.8761 79.261 98.9317 74.6777 Q102.01 70.0713 107.821 70.0713 Z\" fill=\"#000000\" fill-rule=\"nonzero\" fill-opacity=\"1\" /><circle clip-path=\"url(#clip102)\" cx=\"217.944\" cy=\"87.9763\" r=\"14.4\" fill=\"#009af9\" fill-rule=\"evenodd\" fill-opacity=\"1\" stroke=\"#000000\" stroke-opacity=\"1\" stroke-width=\"3.2\"/>\n",
       "<circle clip-path=\"url(#clip102)\" cx=\"425.207\" cy=\"372.614\" r=\"14.4\" fill=\"#009af9\" fill-rule=\"evenodd\" fill-opacity=\"1\" stroke=\"#000000\" stroke-opacity=\"1\" stroke-width=\"3.2\"/>\n",
       "<circle clip-path=\"url(#clip102)\" cx=\"632.47\" cy=\"605.656\" r=\"14.4\" fill=\"#009af9\" fill-rule=\"evenodd\" fill-opacity=\"1\" stroke=\"#000000\" stroke-opacity=\"1\" stroke-width=\"3.2\"/>\n",
       "<circle clip-path=\"url(#clip102)\" cx=\"839.734\" cy=\"796.455\" r=\"14.4\" fill=\"#009af9\" fill-rule=\"evenodd\" fill-opacity=\"1\" stroke=\"#000000\" stroke-opacity=\"1\" stroke-width=\"3.2\"/>\n",
       "<circle clip-path=\"url(#clip102)\" cx=\"1047\" cy=\"952.667\" r=\"14.4\" fill=\"#009af9\" fill-rule=\"evenodd\" fill-opacity=\"1\" stroke=\"#000000\" stroke-opacity=\"1\" stroke-width=\"3.2\"/>\n",
       "<circle clip-path=\"url(#clip102)\" cx=\"1254.26\" cy=\"1080.56\" r=\"14.4\" fill=\"#009af9\" fill-rule=\"evenodd\" fill-opacity=\"1\" stroke=\"#000000\" stroke-opacity=\"1\" stroke-width=\"3.2\"/>\n",
       "<circle clip-path=\"url(#clip102)\" cx=\"1461.52\" cy=\"1185.28\" r=\"14.4\" fill=\"#009af9\" fill-rule=\"evenodd\" fill-opacity=\"1\" stroke=\"#000000\" stroke-opacity=\"1\" stroke-width=\"3.2\"/>\n",
       "<circle clip-path=\"url(#clip102)\" cx=\"1668.79\" cy=\"1271.01\" r=\"14.4\" fill=\"#009af9\" fill-rule=\"evenodd\" fill-opacity=\"1\" stroke=\"#000000\" stroke-opacity=\"1\" stroke-width=\"3.2\"/>\n",
       "<circle clip-path=\"url(#clip102)\" cx=\"1876.05\" cy=\"1341.2\" r=\"14.4\" fill=\"#009af9\" fill-rule=\"evenodd\" fill-opacity=\"1\" stroke=\"#000000\" stroke-opacity=\"1\" stroke-width=\"3.2\"/>\n",
       "<circle clip-path=\"url(#clip102)\" cx=\"2083.31\" cy=\"1398.67\" r=\"14.4\" fill=\"#009af9\" fill-rule=\"evenodd\" fill-opacity=\"1\" stroke=\"#000000\" stroke-opacity=\"1\" stroke-width=\"3.2\"/>\n",
       "<circle clip-path=\"url(#clip102)\" cx=\"2290.58\" cy=\"1445.72\" r=\"14.4\" fill=\"#009af9\" fill-rule=\"evenodd\" fill-opacity=\"1\" stroke=\"#000000\" stroke-opacity=\"1\" stroke-width=\"3.2\"/>\n",
       "<path clip-path=\"url(#clip100)\" d=\"M2007.39 198.898 L2279.52 198.898 L2279.52 95.2176 L2007.39 95.2176  Z\" fill=\"#ffffff\" fill-rule=\"evenodd\" fill-opacity=\"1\"/>\n",
       "<polyline clip-path=\"url(#clip100)\" style=\"stroke:#000000; stroke-linecap:round; stroke-linejoin:round; stroke-width:4; stroke-opacity:1; fill:none\" points=\"2007.39,198.898 2279.52,198.898 2279.52,95.2176 2007.39,95.2176 2007.39,198.898 \"/>\n",
       "<circle clip-path=\"url(#clip100)\" cx=\"2105.04\" cy=\"147.058\" r=\"20.48\" fill=\"#009af9\" fill-rule=\"evenodd\" fill-opacity=\"1\" stroke=\"#000000\" stroke-opacity=\"1\" stroke-width=\"4.55111\"/>\n",
       "<path clip-path=\"url(#clip100)\" d=\"M2216.52 166.745 Q2214.72 171.375 2213.01 172.787 Q2211.29 174.199 2208.42 174.199 L2205.02 174.199 L2205.02 170.634 L2207.52 170.634 Q2209.28 170.634 2210.25 169.8 Q2211.22 168.967 2212.4 165.865 L2213.17 163.921 L2202.68 138.412 L2207.2 138.412 L2215.3 158.689 L2223.4 138.412 L2227.91 138.412 L2216.52 166.745 Z\" fill=\"#000000\" fill-rule=\"nonzero\" fill-opacity=\"1\" /><path clip-path=\"url(#clip100)\" d=\"M2235.2 160.402 L2242.84 160.402 L2242.84 134.037 L2234.53 135.703 L2234.53 131.444 L2242.8 129.778 L2247.47 129.778 L2247.47 160.402 L2255.11 160.402 L2255.11 164.338 L2235.2 164.338 L2235.2 160.402 Z\" fill=\"#000000\" fill-rule=\"nonzero\" fill-opacity=\"1\" /></svg>\n"
      ]
     },
     "execution_count": 6,
     "metadata": {},
     "output_type": "execute_result"
    }
   ],
   "source": [
    "scatter(x,y)"
   ]
  },
  {
   "cell_type": "code",
   "execution_count": 7,
   "id": "4a1ddc16-77d4-4ff9-8a1d-f9b0d6ec34db",
   "metadata": {},
   "outputs": [
    {
     "data": {
      "text/plain": [
       "11-element Vector{Float64}:\n",
       " 1.967211676858578\n",
       " 1.671891066796752\n",
       " 1.3750785497722717\n",
       " 1.0877554134475076\n",
       " 1.117635341273787\n",
       " 0.7847202519310064\n",
       " 0.598361333804894\n",
       " 0.5760030020969772\n",
       " 0.22748013968492048\n",
       " 0.24301017555889687\n",
       " 0.17380449326741537"
      ]
     },
     "execution_count": 7,
     "metadata": {},
     "output_type": "execute_result"
    }
   ],
   "source": [
    "y_exp = y + 0.1*randn(length(y))"
   ]
  },
  {
   "cell_type": "code",
   "execution_count": 8,
   "id": "4fb8aaf8-5ec1-40aa-a9b5-f7dd9433d217",
   "metadata": {},
   "outputs": [
    {
     "data": {
      "image/png": "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",
      "image/svg+xml": [
       "<?xml version=\"1.0\" encoding=\"utf-8\"?>\n",
       "<svg xmlns=\"http://www.w3.org/2000/svg\" xmlns:xlink=\"http://www.w3.org/1999/xlink\" width=\"600\" height=\"400\" viewBox=\"0 0 2400 1600\">\n",
       "<defs>\n",
       "  <clipPath id=\"clip140\">\n",
       "    <rect x=\"0\" y=\"0\" width=\"2400\" height=\"1600\"/>\n",
       "  </clipPath>\n",
       "</defs>\n",
       "<path clip-path=\"url(#clip140)\" d=\"M0 1600 L2400 1600 L2400 0 L0 0  Z\" fill=\"#ffffff\" fill-rule=\"evenodd\" fill-opacity=\"1\"/>\n",
       "<defs>\n",
       "  <clipPath id=\"clip141\">\n",
       "    <rect x=\"480\" y=\"0\" width=\"1681\" height=\"1600\"/>\n",
       "  </clipPath>\n",
       "</defs>\n",
       "<path clip-path=\"url(#clip140)\" d=\"M155.765 1486.45 L2352.76 1486.45 L2352.76 47.2441 L155.765 47.2441  Z\" fill=\"#ffffff\" fill-rule=\"evenodd\" fill-opacity=\"1\"/>\n",
       "<defs>\n",
       "  <clipPath id=\"clip142\">\n",
       "    <rect x=\"155\" y=\"47\" width=\"2198\" height=\"1440\"/>\n",
       "  </clipPath>\n",
       "</defs>\n",
       "<polyline clip-path=\"url(#clip142)\" style=\"stroke:#000000; stroke-linecap:round; stroke-linejoin:round; stroke-width:2; stroke-opacity:0.1; fill:none\" points=\"217.944,1486.45 217.944,47.2441 \"/>\n",
       "<polyline clip-path=\"url(#clip142)\" style=\"stroke:#000000; stroke-linecap:round; stroke-linejoin:round; stroke-width:2; stroke-opacity:0.1; fill:none\" points=\"736.102,1486.45 736.102,47.2441 \"/>\n",
       "<polyline clip-path=\"url(#clip142)\" style=\"stroke:#000000; stroke-linecap:round; stroke-linejoin:round; stroke-width:2; stroke-opacity:0.1; fill:none\" points=\"1254.26,1486.45 1254.26,47.2441 \"/>\n",
       "<polyline clip-path=\"url(#clip142)\" style=\"stroke:#000000; stroke-linecap:round; stroke-linejoin:round; stroke-width:2; stroke-opacity:0.1; fill:none\" points=\"1772.42,1486.45 1772.42,47.2441 \"/>\n",
       "<polyline clip-path=\"url(#clip142)\" style=\"stroke:#000000; stroke-linecap:round; stroke-linejoin:round; stroke-width:2; stroke-opacity:0.1; fill:none\" points=\"2290.58,1486.45 2290.58,47.2441 \"/>\n",
       "<polyline clip-path=\"url(#clip142)\" style=\"stroke:#000000; stroke-linecap:round; stroke-linejoin:round; stroke-width:2; stroke-opacity:0.1; fill:none\" points=\"155.765,1198.76 2352.76,1198.76 \"/>\n",
       "<polyline clip-path=\"url(#clip142)\" style=\"stroke:#000000; stroke-linecap:round; stroke-linejoin:round; stroke-width:2; stroke-opacity:0.1; fill:none\" points=\"155.765,820.226 2352.76,820.226 \"/>\n",
       "<polyline clip-path=\"url(#clip142)\" style=\"stroke:#000000; stroke-linecap:round; stroke-linejoin:round; stroke-width:2; stroke-opacity:0.1; fill:none\" points=\"155.765,441.689 2352.76,441.689 \"/>\n",
       "<polyline clip-path=\"url(#clip142)\" style=\"stroke:#000000; stroke-linecap:round; stroke-linejoin:round; stroke-width:2; stroke-opacity:0.1; fill:none\" points=\"155.765,63.1531 2352.76,63.1531 \"/>\n",
       "<polyline clip-path=\"url(#clip140)\" style=\"stroke:#000000; stroke-linecap:round; stroke-linejoin:round; stroke-width:4; stroke-opacity:1; fill:none\" points=\"155.765,1486.45 2352.76,1486.45 \"/>\n",
       "<polyline clip-path=\"url(#clip140)\" style=\"stroke:#000000; stroke-linecap:round; stroke-linejoin:round; stroke-width:4; stroke-opacity:1; fill:none\" points=\"217.944,1486.45 217.944,1467.55 \"/>\n",
       "<polyline clip-path=\"url(#clip140)\" style=\"stroke:#000000; stroke-linecap:round; stroke-linejoin:round; stroke-width:4; stroke-opacity:1; fill:none\" points=\"736.102,1486.45 736.102,1467.55 \"/>\n",
       "<polyline clip-path=\"url(#clip140)\" style=\"stroke:#000000; stroke-linecap:round; stroke-linejoin:round; stroke-width:4; stroke-opacity:1; fill:none\" points=\"1254.26,1486.45 1254.26,1467.55 \"/>\n",
       "<polyline clip-path=\"url(#clip140)\" style=\"stroke:#000000; stroke-linecap:round; stroke-linejoin:round; stroke-width:4; stroke-opacity:1; fill:none\" points=\"1772.42,1486.45 1772.42,1467.55 \"/>\n",
       "<polyline clip-path=\"url(#clip140)\" style=\"stroke:#000000; stroke-linecap:round; stroke-linejoin:round; stroke-width:4; stroke-opacity:1; fill:none\" points=\"2290.58,1486.45 2290.58,1467.55 \"/>\n",
       "<path clip-path=\"url(#clip140)\" d=\"M180.247 1517.37 Q176.636 1517.37 174.808 1520.93 Q173.002 1524.47 173.002 1531.6 Q173.002 1538.71 174.808 1542.27 Q176.636 1545.82 180.247 1545.82 Q183.882 1545.82 185.687 1542.27 Q187.516 1538.71 187.516 1531.6 Q187.516 1524.47 185.687 1520.93 Q183.882 1517.37 180.247 1517.37 M180.247 1513.66 Q186.057 1513.66 189.113 1518.27 Q192.192 1522.85 192.192 1531.6 Q192.192 1540.33 189.113 1544.94 Q186.057 1549.52 180.247 1549.52 Q174.437 1549.52 171.358 1544.94 Q168.303 1540.33 168.303 1531.6 Q168.303 1522.85 171.358 1518.27 Q174.437 1513.66 180.247 1513.66 Z\" fill=\"#000000\" fill-rule=\"nonzero\" fill-opacity=\"1\" /><path clip-path=\"url(#clip140)\" d=\"M200.409 1542.97 L205.294 1542.97 L205.294 1548.85 L200.409 1548.85 L200.409 1542.97 Z\" fill=\"#000000\" fill-rule=\"nonzero\" fill-opacity=\"1\" /><path clip-path=\"url(#clip140)\" d=\"M225.479 1517.37 Q221.867 1517.37 220.039 1520.93 Q218.233 1524.47 218.233 1531.6 Q218.233 1538.71 220.039 1542.27 Q221.867 1545.82 225.479 1545.82 Q229.113 1545.82 230.918 1542.27 Q232.747 1538.71 232.747 1531.6 Q232.747 1524.47 230.918 1520.93 Q229.113 1517.37 225.479 1517.37 M225.479 1513.66 Q231.289 1513.66 234.344 1518.27 Q237.423 1522.85 237.423 1531.6 Q237.423 1540.33 234.344 1544.94 Q231.289 1549.52 225.479 1549.52 Q219.668 1549.52 216.59 1544.94 Q213.534 1540.33 213.534 1531.6 Q213.534 1522.85 216.59 1518.27 Q219.668 1513.66 225.479 1513.66 Z\" fill=\"#000000\" fill-rule=\"nonzero\" fill-opacity=\"1\" /><path clip-path=\"url(#clip140)\" d=\"M255.64 1517.37 Q252.029 1517.37 250.201 1520.93 Q248.395 1524.47 248.395 1531.6 Q248.395 1538.71 250.201 1542.27 Q252.029 1545.82 255.64 1545.82 Q259.275 1545.82 261.08 1542.27 Q262.909 1538.71 262.909 1531.6 Q262.909 1524.47 261.08 1520.93 Q259.275 1517.37 255.64 1517.37 M255.64 1513.66 Q261.451 1513.66 264.506 1518.27 Q267.585 1522.85 267.585 1531.6 Q267.585 1540.33 264.506 1544.94 Q261.451 1549.52 255.64 1549.52 Q249.83 1549.52 246.752 1544.94 Q243.696 1540.33 243.696 1531.6 Q243.696 1522.85 246.752 1518.27 Q249.83 1513.66 255.64 1513.66 Z\" fill=\"#000000\" fill-rule=\"nonzero\" fill-opacity=\"1\" /><path clip-path=\"url(#clip140)\" d=\"M698.903 1517.37 Q695.292 1517.37 693.463 1520.93 Q691.658 1524.47 691.658 1531.6 Q691.658 1538.71 693.463 1542.27 Q695.292 1545.82 698.903 1545.82 Q702.538 1545.82 704.343 1542.27 Q706.172 1538.71 706.172 1531.6 Q706.172 1524.47 704.343 1520.93 Q702.538 1517.37 698.903 1517.37 M698.903 1513.66 Q704.713 1513.66 707.769 1518.27 Q710.848 1522.85 710.848 1531.6 Q710.848 1540.33 707.769 1544.94 Q704.713 1549.52 698.903 1549.52 Q693.093 1549.52 690.014 1544.94 Q686.959 1540.33 686.959 1531.6 Q686.959 1522.85 690.014 1518.27 Q693.093 1513.66 698.903 1513.66 Z\" fill=\"#000000\" fill-rule=\"nonzero\" fill-opacity=\"1\" /><path clip-path=\"url(#clip140)\" d=\"M719.065 1542.97 L723.949 1542.97 L723.949 1548.85 L719.065 1548.85 L719.065 1542.97 Z\" fill=\"#000000\" fill-rule=\"nonzero\" fill-opacity=\"1\" /><path clip-path=\"url(#clip140)\" d=\"M738.162 1544.91 L754.482 1544.91 L754.482 1548.85 L732.537 1548.85 L732.537 1544.91 Q735.199 1542.16 739.783 1537.53 Q744.389 1532.88 745.57 1531.53 Q747.815 1529.01 748.695 1527.27 Q749.597 1525.51 749.597 1523.82 Q749.597 1521.07 747.653 1519.33 Q745.732 1517.6 742.63 1517.6 Q740.431 1517.6 737.977 1518.36 Q735.547 1519.13 732.769 1520.68 L732.769 1515.95 Q735.593 1514.82 738.047 1514.24 Q740.5 1513.66 742.537 1513.66 Q747.908 1513.66 751.102 1516.35 Q754.296 1519.03 754.296 1523.52 Q754.296 1525.65 753.486 1527.57 Q752.699 1529.47 750.593 1532.07 Q750.014 1532.74 746.912 1535.95 Q743.81 1539.15 738.162 1544.91 Z\" fill=\"#000000\" fill-rule=\"nonzero\" fill-opacity=\"1\" /><path clip-path=\"url(#clip140)\" d=\"M764.343 1514.29 L782.699 1514.29 L782.699 1518.22 L768.625 1518.22 L768.625 1526.7 Q769.644 1526.35 770.662 1526.19 Q771.681 1526 772.699 1526 Q778.486 1526 781.866 1529.17 Q785.245 1532.34 785.245 1537.76 Q785.245 1543.34 781.773 1546.44 Q778.301 1549.52 771.982 1549.52 Q769.806 1549.52 767.537 1549.15 Q765.292 1548.78 762.884 1548.04 L762.884 1543.34 Q764.968 1544.47 767.19 1545.03 Q769.412 1545.58 771.889 1545.58 Q775.894 1545.58 778.232 1543.48 Q780.57 1541.37 780.57 1537.76 Q780.57 1534.15 778.232 1532.04 Q775.894 1529.94 771.889 1529.94 Q770.014 1529.94 768.139 1530.35 Q766.287 1530.77 764.343 1531.65 L764.343 1514.29 Z\" fill=\"#000000\" fill-rule=\"nonzero\" fill-opacity=\"1\" /><path clip-path=\"url(#clip140)\" d=\"M1216.56 1517.37 Q1212.95 1517.37 1211.12 1520.93 Q1209.32 1524.47 1209.32 1531.6 Q1209.32 1538.71 1211.12 1542.27 Q1212.95 1545.82 1216.56 1545.82 Q1220.2 1545.82 1222 1542.27 Q1223.83 1538.71 1223.83 1531.6 Q1223.83 1524.47 1222 1520.93 Q1220.2 1517.37 1216.56 1517.37 M1216.56 1513.66 Q1222.37 1513.66 1225.43 1518.27 Q1228.51 1522.85 1228.51 1531.6 Q1228.51 1540.33 1225.43 1544.94 Q1222.37 1549.52 1216.56 1549.52 Q1210.75 1549.52 1207.68 1544.94 Q1204.62 1540.33 1204.62 1531.6 Q1204.62 1522.85 1207.68 1518.27 Q1210.75 1513.66 1216.56 1513.66 Z\" fill=\"#000000\" fill-rule=\"nonzero\" fill-opacity=\"1\" /><path clip-path=\"url(#clip140)\" d=\"M1236.73 1542.97 L1241.61 1542.97 L1241.61 1548.85 L1236.73 1548.85 L1236.73 1542.97 Z\" fill=\"#000000\" fill-rule=\"nonzero\" fill-opacity=\"1\" /><path clip-path=\"url(#clip140)\" d=\"M1251.84 1514.29 L1270.2 1514.29 L1270.2 1518.22 L1256.12 1518.22 L1256.12 1526.7 Q1257.14 1526.35 1258.16 1526.19 Q1259.18 1526 1260.2 1526 Q1265.98 1526 1269.36 1529.17 Q1272.74 1532.34 1272.74 1537.76 Q1272.74 1543.34 1269.27 1546.44 Q1265.8 1549.52 1259.48 1549.52 Q1257.3 1549.52 1255.04 1549.15 Q1252.79 1548.78 1250.38 1548.04 L1250.38 1543.34 Q1252.47 1544.47 1254.69 1545.03 Q1256.91 1545.58 1259.39 1545.58 Q1263.39 1545.58 1265.73 1543.48 Q1268.07 1541.37 1268.07 1537.76 Q1268.07 1534.15 1265.73 1532.04 Q1263.39 1529.94 1259.39 1529.94 Q1257.51 1529.94 1255.64 1530.35 Q1253.79 1530.77 1251.84 1531.65 L1251.84 1514.29 Z\" fill=\"#000000\" fill-rule=\"nonzero\" fill-opacity=\"1\" /><path clip-path=\"url(#clip140)\" d=\"M1291.96 1517.37 Q1288.35 1517.37 1286.52 1520.93 Q1284.71 1524.47 1284.71 1531.6 Q1284.71 1538.71 1286.52 1542.27 Q1288.35 1545.82 1291.96 1545.82 Q1295.59 1545.82 1297.4 1542.27 Q1299.23 1538.71 1299.23 1531.6 Q1299.23 1524.47 1297.4 1520.93 Q1295.59 1517.37 1291.96 1517.37 M1291.96 1513.66 Q1297.77 1513.66 1300.82 1518.27 Q1303.9 1522.85 1303.9 1531.6 Q1303.9 1540.33 1300.82 1544.94 Q1297.77 1549.52 1291.96 1549.52 Q1286.15 1549.52 1283.07 1544.94 Q1280.01 1540.33 1280.01 1531.6 Q1280.01 1522.85 1283.07 1518.27 Q1286.15 1513.66 1291.96 1513.66 Z\" fill=\"#000000\" fill-rule=\"nonzero\" fill-opacity=\"1\" /><path clip-path=\"url(#clip140)\" d=\"M1735.22 1517.37 Q1731.61 1517.37 1729.78 1520.93 Q1727.97 1524.47 1727.97 1531.6 Q1727.97 1538.71 1729.78 1542.27 Q1731.61 1545.82 1735.22 1545.82 Q1738.85 1545.82 1740.66 1542.27 Q1742.49 1538.71 1742.49 1531.6 Q1742.49 1524.47 1740.66 1520.93 Q1738.85 1517.37 1735.22 1517.37 M1735.22 1513.66 Q1741.03 1513.66 1744.09 1518.27 Q1747.16 1522.85 1747.16 1531.6 Q1747.16 1540.33 1744.09 1544.94 Q1741.03 1549.52 1735.22 1549.52 Q1729.41 1549.52 1726.33 1544.94 Q1723.28 1540.33 1723.28 1531.6 Q1723.28 1522.85 1726.33 1518.27 Q1729.41 1513.66 1735.22 1513.66 Z\" fill=\"#000000\" fill-rule=\"nonzero\" fill-opacity=\"1\" /><path clip-path=\"url(#clip140)\" d=\"M1755.38 1542.97 L1760.27 1542.97 L1760.27 1548.85 L1755.38 1548.85 L1755.38 1542.97 Z\" fill=\"#000000\" fill-rule=\"nonzero\" fill-opacity=\"1\" /><path clip-path=\"url(#clip140)\" d=\"M1769.27 1514.29 L1791.49 1514.29 L1791.49 1516.28 L1778.95 1548.85 L1774.06 1548.85 L1785.87 1518.22 L1769.27 1518.22 L1769.27 1514.29 Z\" fill=\"#000000\" fill-rule=\"nonzero\" fill-opacity=\"1\" /><path clip-path=\"url(#clip140)\" d=\"M1800.66 1514.29 L1819.02 1514.29 L1819.02 1518.22 L1804.94 1518.22 L1804.94 1526.7 Q1805.96 1526.35 1806.98 1526.19 Q1808 1526 1809.02 1526 Q1814.8 1526 1818.18 1529.17 Q1821.56 1532.34 1821.56 1537.76 Q1821.56 1543.34 1818.09 1546.44 Q1814.62 1549.52 1808.3 1549.52 Q1806.12 1549.52 1803.85 1549.15 Q1801.61 1548.78 1799.2 1548.04 L1799.2 1543.34 Q1801.28 1544.47 1803.51 1545.03 Q1805.73 1545.58 1808.21 1545.58 Q1812.21 1545.58 1814.55 1543.48 Q1816.89 1541.37 1816.89 1537.76 Q1816.89 1534.15 1814.55 1532.04 Q1812.21 1529.94 1808.21 1529.94 Q1806.33 1529.94 1804.46 1530.35 Q1802.6 1530.77 1800.66 1531.65 L1800.66 1514.29 Z\" fill=\"#000000\" fill-rule=\"nonzero\" fill-opacity=\"1\" /><path clip-path=\"url(#clip140)\" d=\"M2242.65 1544.91 L2250.29 1544.91 L2250.29 1518.55 L2241.98 1520.21 L2241.98 1515.95 L2250.24 1514.29 L2254.92 1514.29 L2254.92 1544.91 L2262.56 1544.91 L2262.56 1548.85 L2242.65 1548.85 L2242.65 1544.91 Z\" fill=\"#000000\" fill-rule=\"nonzero\" fill-opacity=\"1\" /><path clip-path=\"url(#clip140)\" d=\"M2272 1542.97 L2276.88 1542.97 L2276.88 1548.85 L2272 1548.85 L2272 1542.97 Z\" fill=\"#000000\" fill-rule=\"nonzero\" fill-opacity=\"1\" /><path clip-path=\"url(#clip140)\" d=\"M2297.07 1517.37 Q2293.46 1517.37 2291.63 1520.93 Q2289.82 1524.47 2289.82 1531.6 Q2289.82 1538.71 2291.63 1542.27 Q2293.46 1545.82 2297.07 1545.82 Q2300.7 1545.82 2302.51 1542.27 Q2304.34 1538.71 2304.34 1531.6 Q2304.34 1524.47 2302.51 1520.93 Q2300.7 1517.37 2297.07 1517.37 M2297.07 1513.66 Q2302.88 1513.66 2305.94 1518.27 Q2309.01 1522.85 2309.01 1531.6 Q2309.01 1540.33 2305.94 1544.94 Q2302.88 1549.52 2297.07 1549.52 Q2291.26 1549.52 2288.18 1544.94 Q2285.13 1540.33 2285.13 1531.6 Q2285.13 1522.85 2288.18 1518.27 Q2291.26 1513.66 2297.07 1513.66 Z\" fill=\"#000000\" fill-rule=\"nonzero\" fill-opacity=\"1\" /><path clip-path=\"url(#clip140)\" d=\"M2327.23 1517.37 Q2323.62 1517.37 2321.79 1520.93 Q2319.99 1524.47 2319.99 1531.6 Q2319.99 1538.71 2321.79 1542.27 Q2323.62 1545.82 2327.23 1545.82 Q2330.87 1545.82 2332.67 1542.27 Q2334.5 1538.71 2334.5 1531.6 Q2334.5 1524.47 2332.67 1520.93 Q2330.87 1517.37 2327.23 1517.37 M2327.23 1513.66 Q2333.04 1513.66 2336.1 1518.27 Q2339.18 1522.85 2339.18 1531.6 Q2339.18 1540.33 2336.1 1544.94 Q2333.04 1549.52 2327.23 1549.52 Q2321.42 1549.52 2318.34 1544.94 Q2315.29 1540.33 2315.29 1531.6 Q2315.29 1522.85 2318.34 1518.27 Q2321.42 1513.66 2327.23 1513.66 Z\" fill=\"#000000\" fill-rule=\"nonzero\" fill-opacity=\"1\" /><polyline clip-path=\"url(#clip140)\" style=\"stroke:#000000; stroke-linecap:round; stroke-linejoin:round; stroke-width:4; stroke-opacity:1; fill:none\" points=\"155.765,1486.45 155.765,47.2441 \"/>\n",
       "<polyline clip-path=\"url(#clip140)\" style=\"stroke:#000000; stroke-linecap:round; stroke-linejoin:round; stroke-width:4; stroke-opacity:1; fill:none\" points=\"155.765,1198.76 174.663,1198.76 \"/>\n",
       "<polyline clip-path=\"url(#clip140)\" style=\"stroke:#000000; stroke-linecap:round; stroke-linejoin:round; stroke-width:4; stroke-opacity:1; fill:none\" points=\"155.765,820.226 174.663,820.226 \"/>\n",
       "<polyline clip-path=\"url(#clip140)\" style=\"stroke:#000000; stroke-linecap:round; stroke-linejoin:round; stroke-width:4; stroke-opacity:1; fill:none\" points=\"155.765,441.689 174.663,441.689 \"/>\n",
       "<polyline clip-path=\"url(#clip140)\" style=\"stroke:#000000; stroke-linecap:round; stroke-linejoin:round; stroke-width:4; stroke-opacity:1; fill:none\" points=\"155.765,63.1531 174.663,63.1531 \"/>\n",
       "<path clip-path=\"url(#clip140)\" d=\"M63.5847 1184.56 Q59.9736 1184.56 58.1449 1188.13 Q56.3393 1191.67 56.3393 1198.8 Q56.3393 1205.9 58.1449 1209.47 Q59.9736 1213.01 63.5847 1213.01 Q67.2189 1213.01 69.0244 1209.47 Q70.8531 1205.9 70.8531 1198.8 Q70.8531 1191.67 69.0244 1188.13 Q67.2189 1184.56 63.5847 1184.56 M63.5847 1180.86 Q69.3948 1180.86 72.4503 1185.46 Q75.529 1190.05 75.529 1198.8 Q75.529 1207.52 72.4503 1212.13 Q69.3948 1216.71 63.5847 1216.71 Q57.7745 1216.71 54.6958 1212.13 Q51.6403 1207.52 51.6403 1198.8 Q51.6403 1190.05 54.6958 1185.46 Q57.7745 1180.86 63.5847 1180.86 Z\" fill=\"#000000\" fill-rule=\"nonzero\" fill-opacity=\"1\" /><path clip-path=\"url(#clip140)\" d=\"M83.7466 1210.16 L88.6308 1210.16 L88.6308 1216.04 L83.7466 1216.04 L83.7466 1210.16 Z\" fill=\"#000000\" fill-rule=\"nonzero\" fill-opacity=\"1\" /><path clip-path=\"url(#clip140)\" d=\"M98.8622 1181.48 L117.219 1181.48 L117.219 1185.42 L103.145 1185.42 L103.145 1193.89 Q104.163 1193.54 105.182 1193.38 Q106.2 1193.19 107.219 1193.19 Q113.006 1193.19 116.385 1196.37 Q119.765 1199.54 119.765 1204.95 Q119.765 1210.53 116.293 1213.63 Q112.82 1216.71 106.501 1216.71 Q104.325 1216.71 102.057 1216.34 Q99.8113 1215.97 97.4039 1215.23 L97.4039 1210.53 Q99.4872 1211.67 101.709 1212.22 Q103.932 1212.78 106.408 1212.78 Q110.413 1212.78 112.751 1210.67 Q115.089 1208.57 115.089 1204.95 Q115.089 1201.34 112.751 1199.24 Q110.413 1197.13 106.408 1197.13 Q104.534 1197.13 102.659 1197.55 Q100.807 1197.96 98.8622 1198.84 L98.8622 1181.48 Z\" fill=\"#000000\" fill-rule=\"nonzero\" fill-opacity=\"1\" /><path clip-path=\"url(#clip140)\" d=\"M53.3995 833.571 L61.0384 833.571 L61.0384 807.205 L52.7282 808.872 L52.7282 804.612 L60.9921 802.946 L65.668 802.946 L65.668 833.571 L73.3068 833.571 L73.3068 837.506 L53.3995 837.506 L53.3995 833.571 Z\" fill=\"#000000\" fill-rule=\"nonzero\" fill-opacity=\"1\" /><path clip-path=\"url(#clip140)\" d=\"M82.7512 831.626 L87.6354 831.626 L87.6354 837.506 L82.7512 837.506 L82.7512 831.626 Z\" fill=\"#000000\" fill-rule=\"nonzero\" fill-opacity=\"1\" /><path clip-path=\"url(#clip140)\" d=\"M107.821 806.024 Q104.209 806.024 102.381 809.589 Q100.575 813.131 100.575 820.26 Q100.575 827.367 102.381 830.932 Q104.209 834.473 107.821 834.473 Q111.455 834.473 113.26 830.932 Q115.089 827.367 115.089 820.26 Q115.089 813.131 113.26 809.589 Q111.455 806.024 107.821 806.024 M107.821 802.321 Q113.631 802.321 116.686 806.927 Q119.765 811.51 119.765 820.26 Q119.765 828.987 116.686 833.594 Q113.631 838.177 107.821 838.177 Q102.01 838.177 98.9317 833.594 Q95.8761 828.987 95.8761 820.26 Q95.8761 811.51 98.9317 806.927 Q102.01 802.321 107.821 802.321 Z\" fill=\"#000000\" fill-rule=\"nonzero\" fill-opacity=\"1\" /><path clip-path=\"url(#clip140)\" d=\"M54.3949 455.034 L62.0337 455.034 L62.0337 428.669 L53.7236 430.335 L53.7236 426.076 L61.9874 424.409 L66.6633 424.409 L66.6633 455.034 L74.3022 455.034 L74.3022 458.969 L54.3949 458.969 L54.3949 455.034 Z\" fill=\"#000000\" fill-rule=\"nonzero\" fill-opacity=\"1\" /><path clip-path=\"url(#clip140)\" d=\"M83.7466 453.09 L88.6308 453.09 L88.6308 458.969 L83.7466 458.969 L83.7466 453.09 Z\" fill=\"#000000\" fill-rule=\"nonzero\" fill-opacity=\"1\" /><path clip-path=\"url(#clip140)\" d=\"M98.8622 424.409 L117.219 424.409 L117.219 428.345 L103.145 428.345 L103.145 436.817 Q104.163 436.47 105.182 436.308 Q106.2 436.122 107.219 436.122 Q113.006 436.122 116.385 439.294 Q119.765 442.465 119.765 447.882 Q119.765 453.46 116.293 456.562 Q112.82 459.641 106.501 459.641 Q104.325 459.641 102.057 459.27 Q99.8113 458.9 97.4039 458.159 L97.4039 453.46 Q99.4872 454.594 101.709 455.15 Q103.932 455.706 106.408 455.706 Q110.413 455.706 112.751 453.599 Q115.089 451.493 115.089 447.882 Q115.089 444.27 112.751 442.164 Q110.413 440.057 106.408 440.057 Q104.534 440.057 102.659 440.474 Q100.807 440.891 98.8622 441.77 L98.8622 424.409 Z\" fill=\"#000000\" fill-rule=\"nonzero\" fill-opacity=\"1\" /><path clip-path=\"url(#clip140)\" d=\"M56.6171 76.498 L72.9365 76.498 L72.9365 80.4331 L50.9921 80.4331 L50.9921 76.498 Q53.6541 73.7434 58.2375 69.1138 Q62.8439 64.461 64.0245 63.1184 Q66.2698 60.5953 67.1494 58.8592 Q68.0522 57.0999 68.0522 55.4101 Q68.0522 52.6555 66.1078 50.9194 Q64.1865 49.1833 61.0847 49.1833 Q58.8856 49.1833 56.4319 49.9472 Q54.0014 50.7111 51.2236 52.262 L51.2236 47.5398 Q54.0477 46.4055 56.5014 45.8268 Q58.955 45.2481 60.9921 45.2481 Q66.3624 45.2481 69.5568 47.9333 Q72.7513 50.6185 72.7513 55.1092 Q72.7513 57.2388 71.9411 59.1601 Q71.1541 61.0582 69.0476 63.6508 Q68.4689 64.3221 65.367 67.5397 Q62.2652 70.7341 56.6171 76.498 Z\" fill=\"#000000\" fill-rule=\"nonzero\" fill-opacity=\"1\" /><path clip-path=\"url(#clip140)\" d=\"M82.7512 74.5535 L87.6354 74.5535 L87.6354 80.4331 L82.7512 80.4331 L82.7512 74.5535 Z\" fill=\"#000000\" fill-rule=\"nonzero\" fill-opacity=\"1\" /><path clip-path=\"url(#clip140)\" d=\"M107.821 48.9518 Q104.209 48.9518 102.381 52.5166 Q100.575 56.0583 100.575 63.1879 Q100.575 70.2943 102.381 73.8591 Q104.209 77.4007 107.821 77.4007 Q111.455 77.4007 113.26 73.8591 Q115.089 70.2943 115.089 63.1879 Q115.089 56.0583 113.26 52.5166 Q111.455 48.9518 107.821 48.9518 M107.821 45.2481 Q113.631 45.2481 116.686 49.8546 Q119.765 54.4379 119.765 63.1879 Q119.765 71.9147 116.686 76.5211 Q113.631 81.1044 107.821 81.1044 Q102.01 81.1044 98.9317 76.5211 Q95.8761 71.9147 95.8761 63.1879 Q95.8761 54.4379 98.9317 49.8546 Q102.01 45.2481 107.821 45.2481 Z\" fill=\"#000000\" fill-rule=\"nonzero\" fill-opacity=\"1\" /><circle clip-path=\"url(#clip142)\" cx=\"217.944\" cy=\"87.9763\" r=\"14.4\" fill=\"#009af9\" fill-rule=\"evenodd\" fill-opacity=\"1\" stroke=\"#000000\" stroke-opacity=\"1\" stroke-width=\"3.2\"/>\n",
       "<circle clip-path=\"url(#clip142)\" cx=\"425.207\" cy=\"311.555\" r=\"14.4\" fill=\"#009af9\" fill-rule=\"evenodd\" fill-opacity=\"1\" stroke=\"#000000\" stroke-opacity=\"1\" stroke-width=\"3.2\"/>\n",
       "<circle clip-path=\"url(#clip142)\" cx=\"632.47\" cy=\"536.264\" r=\"14.4\" fill=\"#009af9\" fill-rule=\"evenodd\" fill-opacity=\"1\" stroke=\"#000000\" stroke-opacity=\"1\" stroke-width=\"3.2\"/>\n",
       "<circle clip-path=\"url(#clip142)\" cx=\"839.734\" cy=\"753.789\" r=\"14.4\" fill=\"#009af9\" fill-rule=\"evenodd\" fill-opacity=\"1\" stroke=\"#000000\" stroke-opacity=\"1\" stroke-width=\"3.2\"/>\n",
       "<circle clip-path=\"url(#clip142)\" cx=\"1047\" cy=\"731.167\" r=\"14.4\" fill=\"#009af9\" fill-rule=\"evenodd\" fill-opacity=\"1\" stroke=\"#000000\" stroke-opacity=\"1\" stroke-width=\"3.2\"/>\n",
       "<circle clip-path=\"url(#clip142)\" cx=\"1254.26\" cy=\"983.208\" r=\"14.4\" fill=\"#009af9\" fill-rule=\"evenodd\" fill-opacity=\"1\" stroke=\"#000000\" stroke-opacity=\"1\" stroke-width=\"3.2\"/>\n",
       "<circle clip-path=\"url(#clip142)\" cx=\"1461.52\" cy=\"1124.3\" r=\"14.4\" fill=\"#009af9\" fill-rule=\"evenodd\" fill-opacity=\"1\" stroke=\"#000000\" stroke-opacity=\"1\" stroke-width=\"3.2\"/>\n",
       "<circle clip-path=\"url(#clip142)\" cx=\"1668.79\" cy=\"1141.22\" r=\"14.4\" fill=\"#009af9\" fill-rule=\"evenodd\" fill-opacity=\"1\" stroke=\"#000000\" stroke-opacity=\"1\" stroke-width=\"3.2\"/>\n",
       "<circle clip-path=\"url(#clip142)\" cx=\"1876.05\" cy=\"1405.08\" r=\"14.4\" fill=\"#009af9\" fill-rule=\"evenodd\" fill-opacity=\"1\" stroke=\"#000000\" stroke-opacity=\"1\" stroke-width=\"3.2\"/>\n",
       "<circle clip-path=\"url(#clip142)\" cx=\"2083.31\" cy=\"1393.32\" r=\"14.4\" fill=\"#009af9\" fill-rule=\"evenodd\" fill-opacity=\"1\" stroke=\"#000000\" stroke-opacity=\"1\" stroke-width=\"3.2\"/>\n",
       "<circle clip-path=\"url(#clip142)\" cx=\"2290.58\" cy=\"1445.72\" r=\"14.4\" fill=\"#009af9\" fill-rule=\"evenodd\" fill-opacity=\"1\" stroke=\"#000000\" stroke-opacity=\"1\" stroke-width=\"3.2\"/>\n",
       "<path clip-path=\"url(#clip140)\" d=\"M2007.39 198.898 L2279.52 198.898 L2279.52 95.2176 L2007.39 95.2176  Z\" fill=\"#ffffff\" fill-rule=\"evenodd\" fill-opacity=\"1\"/>\n",
       "<polyline clip-path=\"url(#clip140)\" style=\"stroke:#000000; stroke-linecap:round; stroke-linejoin:round; stroke-width:4; stroke-opacity:1; fill:none\" points=\"2007.39,198.898 2279.52,198.898 2279.52,95.2176 2007.39,95.2176 2007.39,198.898 \"/>\n",
       "<circle clip-path=\"url(#clip140)\" cx=\"2105.04\" cy=\"147.058\" r=\"20.48\" fill=\"#009af9\" fill-rule=\"evenodd\" fill-opacity=\"1\" stroke=\"#000000\" stroke-opacity=\"1\" stroke-width=\"4.55111\"/>\n",
       "<path clip-path=\"url(#clip140)\" d=\"M2216.52 166.745 Q2214.72 171.375 2213.01 172.787 Q2211.29 174.199 2208.42 174.199 L2205.02 174.199 L2205.02 170.634 L2207.52 170.634 Q2209.28 170.634 2210.25 169.8 Q2211.22 168.967 2212.4 165.865 L2213.17 163.921 L2202.68 138.412 L2207.2 138.412 L2215.3 158.689 L2223.4 138.412 L2227.91 138.412 L2216.52 166.745 Z\" fill=\"#000000\" fill-rule=\"nonzero\" fill-opacity=\"1\" /><path clip-path=\"url(#clip140)\" d=\"M2235.2 160.402 L2242.84 160.402 L2242.84 134.037 L2234.53 135.703 L2234.53 131.444 L2242.8 129.778 L2247.47 129.778 L2247.47 160.402 L2255.11 160.402 L2255.11 164.338 L2235.2 164.338 L2235.2 160.402 Z\" fill=\"#000000\" fill-rule=\"nonzero\" fill-opacity=\"1\" /></svg>\n"
      ],
      "text/html": [
       "<?xml version=\"1.0\" encoding=\"utf-8\"?>\n",
       "<svg xmlns=\"http://www.w3.org/2000/svg\" xmlns:xlink=\"http://www.w3.org/1999/xlink\" width=\"600\" height=\"400\" viewBox=\"0 0 2400 1600\">\n",
       "<defs>\n",
       "  <clipPath id=\"clip190\">\n",
       "    <rect x=\"0\" y=\"0\" width=\"2400\" height=\"1600\"/>\n",
       "  </clipPath>\n",
       "</defs>\n",
       "<path clip-path=\"url(#clip190)\" d=\"M0 1600 L2400 1600 L2400 0 L0 0  Z\" fill=\"#ffffff\" fill-rule=\"evenodd\" fill-opacity=\"1\"/>\n",
       "<defs>\n",
       "  <clipPath id=\"clip191\">\n",
       "    <rect x=\"480\" y=\"0\" width=\"1681\" height=\"1600\"/>\n",
       "  </clipPath>\n",
       "</defs>\n",
       "<path clip-path=\"url(#clip190)\" d=\"M155.765 1486.45 L2352.76 1486.45 L2352.76 47.2441 L155.765 47.2441  Z\" fill=\"#ffffff\" fill-rule=\"evenodd\" fill-opacity=\"1\"/>\n",
       "<defs>\n",
       "  <clipPath id=\"clip192\">\n",
       "    <rect x=\"155\" y=\"47\" width=\"2198\" height=\"1440\"/>\n",
       "  </clipPath>\n",
       "</defs>\n",
       "<polyline clip-path=\"url(#clip192)\" style=\"stroke:#000000; stroke-linecap:round; stroke-linejoin:round; stroke-width:2; stroke-opacity:0.1; fill:none\" points=\"217.944,1486.45 217.944,47.2441 \"/>\n",
       "<polyline clip-path=\"url(#clip192)\" style=\"stroke:#000000; stroke-linecap:round; stroke-linejoin:round; stroke-width:2; stroke-opacity:0.1; fill:none\" points=\"736.102,1486.45 736.102,47.2441 \"/>\n",
       "<polyline clip-path=\"url(#clip192)\" style=\"stroke:#000000; stroke-linecap:round; stroke-linejoin:round; stroke-width:2; stroke-opacity:0.1; fill:none\" points=\"1254.26,1486.45 1254.26,47.2441 \"/>\n",
       "<polyline clip-path=\"url(#clip192)\" style=\"stroke:#000000; stroke-linecap:round; stroke-linejoin:round; stroke-width:2; stroke-opacity:0.1; fill:none\" points=\"1772.42,1486.45 1772.42,47.2441 \"/>\n",
       "<polyline clip-path=\"url(#clip192)\" style=\"stroke:#000000; stroke-linecap:round; stroke-linejoin:round; stroke-width:2; stroke-opacity:0.1; fill:none\" points=\"2290.58,1486.45 2290.58,47.2441 \"/>\n",
       "<polyline clip-path=\"url(#clip192)\" style=\"stroke:#000000; stroke-linecap:round; stroke-linejoin:round; stroke-width:2; stroke-opacity:0.1; fill:none\" points=\"155.765,1198.76 2352.76,1198.76 \"/>\n",
       "<polyline clip-path=\"url(#clip192)\" style=\"stroke:#000000; stroke-linecap:round; stroke-linejoin:round; stroke-width:2; stroke-opacity:0.1; fill:none\" points=\"155.765,820.226 2352.76,820.226 \"/>\n",
       "<polyline clip-path=\"url(#clip192)\" style=\"stroke:#000000; stroke-linecap:round; stroke-linejoin:round; stroke-width:2; stroke-opacity:0.1; fill:none\" points=\"155.765,441.689 2352.76,441.689 \"/>\n",
       "<polyline clip-path=\"url(#clip192)\" style=\"stroke:#000000; stroke-linecap:round; stroke-linejoin:round; stroke-width:2; stroke-opacity:0.1; fill:none\" points=\"155.765,63.1531 2352.76,63.1531 \"/>\n",
       "<polyline clip-path=\"url(#clip190)\" style=\"stroke:#000000; stroke-linecap:round; stroke-linejoin:round; stroke-width:4; stroke-opacity:1; fill:none\" points=\"155.765,1486.45 2352.76,1486.45 \"/>\n",
       "<polyline clip-path=\"url(#clip190)\" style=\"stroke:#000000; stroke-linecap:round; stroke-linejoin:round; stroke-width:4; stroke-opacity:1; fill:none\" points=\"217.944,1486.45 217.944,1467.55 \"/>\n",
       "<polyline clip-path=\"url(#clip190)\" style=\"stroke:#000000; stroke-linecap:round; stroke-linejoin:round; stroke-width:4; stroke-opacity:1; fill:none\" points=\"736.102,1486.45 736.102,1467.55 \"/>\n",
       "<polyline clip-path=\"url(#clip190)\" style=\"stroke:#000000; stroke-linecap:round; stroke-linejoin:round; stroke-width:4; stroke-opacity:1; fill:none\" points=\"1254.26,1486.45 1254.26,1467.55 \"/>\n",
       "<polyline clip-path=\"url(#clip190)\" style=\"stroke:#000000; stroke-linecap:round; stroke-linejoin:round; stroke-width:4; stroke-opacity:1; fill:none\" points=\"1772.42,1486.45 1772.42,1467.55 \"/>\n",
       "<polyline clip-path=\"url(#clip190)\" style=\"stroke:#000000; stroke-linecap:round; stroke-linejoin:round; stroke-width:4; stroke-opacity:1; fill:none\" points=\"2290.58,1486.45 2290.58,1467.55 \"/>\n",
       "<path clip-path=\"url(#clip190)\" d=\"M180.247 1517.37 Q176.636 1517.37 174.808 1520.93 Q173.002 1524.47 173.002 1531.6 Q173.002 1538.71 174.808 1542.27 Q176.636 1545.82 180.247 1545.82 Q183.882 1545.82 185.687 1542.27 Q187.516 1538.71 187.516 1531.6 Q187.516 1524.47 185.687 1520.93 Q183.882 1517.37 180.247 1517.37 M180.247 1513.66 Q186.057 1513.66 189.113 1518.27 Q192.192 1522.85 192.192 1531.6 Q192.192 1540.33 189.113 1544.94 Q186.057 1549.52 180.247 1549.52 Q174.437 1549.52 171.358 1544.94 Q168.303 1540.33 168.303 1531.6 Q168.303 1522.85 171.358 1518.27 Q174.437 1513.66 180.247 1513.66 Z\" fill=\"#000000\" fill-rule=\"nonzero\" fill-opacity=\"1\" /><path clip-path=\"url(#clip190)\" d=\"M200.409 1542.97 L205.294 1542.97 L205.294 1548.85 L200.409 1548.85 L200.409 1542.97 Z\" fill=\"#000000\" fill-rule=\"nonzero\" fill-opacity=\"1\" /><path clip-path=\"url(#clip190)\" d=\"M225.479 1517.37 Q221.867 1517.37 220.039 1520.93 Q218.233 1524.47 218.233 1531.6 Q218.233 1538.71 220.039 1542.27 Q221.867 1545.82 225.479 1545.82 Q229.113 1545.82 230.918 1542.27 Q232.747 1538.71 232.747 1531.6 Q232.747 1524.47 230.918 1520.93 Q229.113 1517.37 225.479 1517.37 M225.479 1513.66 Q231.289 1513.66 234.344 1518.27 Q237.423 1522.85 237.423 1531.6 Q237.423 1540.33 234.344 1544.94 Q231.289 1549.52 225.479 1549.52 Q219.668 1549.52 216.59 1544.94 Q213.534 1540.33 213.534 1531.6 Q213.534 1522.85 216.59 1518.27 Q219.668 1513.66 225.479 1513.66 Z\" fill=\"#000000\" fill-rule=\"nonzero\" fill-opacity=\"1\" /><path clip-path=\"url(#clip190)\" d=\"M255.64 1517.37 Q252.029 1517.37 250.201 1520.93 Q248.395 1524.47 248.395 1531.6 Q248.395 1538.71 250.201 1542.27 Q252.029 1545.82 255.64 1545.82 Q259.275 1545.82 261.08 1542.27 Q262.909 1538.71 262.909 1531.6 Q262.909 1524.47 261.08 1520.93 Q259.275 1517.37 255.64 1517.37 M255.64 1513.66 Q261.451 1513.66 264.506 1518.27 Q267.585 1522.85 267.585 1531.6 Q267.585 1540.33 264.506 1544.94 Q261.451 1549.52 255.64 1549.52 Q249.83 1549.52 246.752 1544.94 Q243.696 1540.33 243.696 1531.6 Q243.696 1522.85 246.752 1518.27 Q249.83 1513.66 255.64 1513.66 Z\" fill=\"#000000\" fill-rule=\"nonzero\" fill-opacity=\"1\" /><path clip-path=\"url(#clip190)\" d=\"M698.903 1517.37 Q695.292 1517.37 693.463 1520.93 Q691.658 1524.47 691.658 1531.6 Q691.658 1538.71 693.463 1542.27 Q695.292 1545.82 698.903 1545.82 Q702.538 1545.82 704.343 1542.27 Q706.172 1538.71 706.172 1531.6 Q706.172 1524.47 704.343 1520.93 Q702.538 1517.37 698.903 1517.37 M698.903 1513.66 Q704.713 1513.66 707.769 1518.27 Q710.848 1522.85 710.848 1531.6 Q710.848 1540.33 707.769 1544.94 Q704.713 1549.52 698.903 1549.52 Q693.093 1549.52 690.014 1544.94 Q686.959 1540.33 686.959 1531.6 Q686.959 1522.85 690.014 1518.27 Q693.093 1513.66 698.903 1513.66 Z\" fill=\"#000000\" fill-rule=\"nonzero\" fill-opacity=\"1\" /><path clip-path=\"url(#clip190)\" d=\"M719.065 1542.97 L723.949 1542.97 L723.949 1548.85 L719.065 1548.85 L719.065 1542.97 Z\" fill=\"#000000\" fill-rule=\"nonzero\" fill-opacity=\"1\" /><path clip-path=\"url(#clip190)\" d=\"M738.162 1544.91 L754.482 1544.91 L754.482 1548.85 L732.537 1548.85 L732.537 1544.91 Q735.199 1542.16 739.783 1537.53 Q744.389 1532.88 745.57 1531.53 Q747.815 1529.01 748.695 1527.27 Q749.597 1525.51 749.597 1523.82 Q749.597 1521.07 747.653 1519.33 Q745.732 1517.6 742.63 1517.6 Q740.431 1517.6 737.977 1518.36 Q735.547 1519.13 732.769 1520.68 L732.769 1515.95 Q735.593 1514.82 738.047 1514.24 Q740.5 1513.66 742.537 1513.66 Q747.908 1513.66 751.102 1516.35 Q754.296 1519.03 754.296 1523.52 Q754.296 1525.65 753.486 1527.57 Q752.699 1529.47 750.593 1532.07 Q750.014 1532.74 746.912 1535.95 Q743.81 1539.15 738.162 1544.91 Z\" fill=\"#000000\" fill-rule=\"nonzero\" fill-opacity=\"1\" /><path clip-path=\"url(#clip190)\" d=\"M764.343 1514.29 L782.699 1514.29 L782.699 1518.22 L768.625 1518.22 L768.625 1526.7 Q769.644 1526.35 770.662 1526.19 Q771.681 1526 772.699 1526 Q778.486 1526 781.866 1529.17 Q785.245 1532.34 785.245 1537.76 Q785.245 1543.34 781.773 1546.44 Q778.301 1549.52 771.982 1549.52 Q769.806 1549.52 767.537 1549.15 Q765.292 1548.78 762.884 1548.04 L762.884 1543.34 Q764.968 1544.47 767.19 1545.03 Q769.412 1545.58 771.889 1545.58 Q775.894 1545.58 778.232 1543.48 Q780.57 1541.37 780.57 1537.76 Q780.57 1534.15 778.232 1532.04 Q775.894 1529.94 771.889 1529.94 Q770.014 1529.94 768.139 1530.35 Q766.287 1530.77 764.343 1531.65 L764.343 1514.29 Z\" fill=\"#000000\" fill-rule=\"nonzero\" fill-opacity=\"1\" /><path clip-path=\"url(#clip190)\" d=\"M1216.56 1517.37 Q1212.95 1517.37 1211.12 1520.93 Q1209.32 1524.47 1209.32 1531.6 Q1209.32 1538.71 1211.12 1542.27 Q1212.95 1545.82 1216.56 1545.82 Q1220.2 1545.82 1222 1542.27 Q1223.83 1538.71 1223.83 1531.6 Q1223.83 1524.47 1222 1520.93 Q1220.2 1517.37 1216.56 1517.37 M1216.56 1513.66 Q1222.37 1513.66 1225.43 1518.27 Q1228.51 1522.85 1228.51 1531.6 Q1228.51 1540.33 1225.43 1544.94 Q1222.37 1549.52 1216.56 1549.52 Q1210.75 1549.52 1207.68 1544.94 Q1204.62 1540.33 1204.62 1531.6 Q1204.62 1522.85 1207.68 1518.27 Q1210.75 1513.66 1216.56 1513.66 Z\" fill=\"#000000\" fill-rule=\"nonzero\" fill-opacity=\"1\" /><path clip-path=\"url(#clip190)\" d=\"M1236.73 1542.97 L1241.61 1542.97 L1241.61 1548.85 L1236.73 1548.85 L1236.73 1542.97 Z\" fill=\"#000000\" fill-rule=\"nonzero\" fill-opacity=\"1\" /><path clip-path=\"url(#clip190)\" d=\"M1251.84 1514.29 L1270.2 1514.29 L1270.2 1518.22 L1256.12 1518.22 L1256.12 1526.7 Q1257.14 1526.35 1258.16 1526.19 Q1259.18 1526 1260.2 1526 Q1265.98 1526 1269.36 1529.17 Q1272.74 1532.34 1272.74 1537.76 Q1272.74 1543.34 1269.27 1546.44 Q1265.8 1549.52 1259.48 1549.52 Q1257.3 1549.52 1255.04 1549.15 Q1252.79 1548.78 1250.38 1548.04 L1250.38 1543.34 Q1252.47 1544.47 1254.69 1545.03 Q1256.91 1545.58 1259.39 1545.58 Q1263.39 1545.58 1265.73 1543.48 Q1268.07 1541.37 1268.07 1537.76 Q1268.07 1534.15 1265.73 1532.04 Q1263.39 1529.94 1259.39 1529.94 Q1257.51 1529.94 1255.64 1530.35 Q1253.79 1530.77 1251.84 1531.65 L1251.84 1514.29 Z\" fill=\"#000000\" fill-rule=\"nonzero\" fill-opacity=\"1\" /><path clip-path=\"url(#clip190)\" d=\"M1291.96 1517.37 Q1288.35 1517.37 1286.52 1520.93 Q1284.71 1524.47 1284.71 1531.6 Q1284.71 1538.71 1286.52 1542.27 Q1288.35 1545.82 1291.96 1545.82 Q1295.59 1545.82 1297.4 1542.27 Q1299.23 1538.71 1299.23 1531.6 Q1299.23 1524.47 1297.4 1520.93 Q1295.59 1517.37 1291.96 1517.37 M1291.96 1513.66 Q1297.77 1513.66 1300.82 1518.27 Q1303.9 1522.85 1303.9 1531.6 Q1303.9 1540.33 1300.82 1544.94 Q1297.77 1549.52 1291.96 1549.52 Q1286.15 1549.52 1283.07 1544.94 Q1280.01 1540.33 1280.01 1531.6 Q1280.01 1522.85 1283.07 1518.27 Q1286.15 1513.66 1291.96 1513.66 Z\" fill=\"#000000\" fill-rule=\"nonzero\" fill-opacity=\"1\" /><path clip-path=\"url(#clip190)\" d=\"M1735.22 1517.37 Q1731.61 1517.37 1729.78 1520.93 Q1727.97 1524.47 1727.97 1531.6 Q1727.97 1538.71 1729.78 1542.27 Q1731.61 1545.82 1735.22 1545.82 Q1738.85 1545.82 1740.66 1542.27 Q1742.49 1538.71 1742.49 1531.6 Q1742.49 1524.47 1740.66 1520.93 Q1738.85 1517.37 1735.22 1517.37 M1735.22 1513.66 Q1741.03 1513.66 1744.09 1518.27 Q1747.16 1522.85 1747.16 1531.6 Q1747.16 1540.33 1744.09 1544.94 Q1741.03 1549.52 1735.22 1549.52 Q1729.41 1549.52 1726.33 1544.94 Q1723.28 1540.33 1723.28 1531.6 Q1723.28 1522.85 1726.33 1518.27 Q1729.41 1513.66 1735.22 1513.66 Z\" fill=\"#000000\" fill-rule=\"nonzero\" fill-opacity=\"1\" /><path clip-path=\"url(#clip190)\" d=\"M1755.38 1542.97 L1760.27 1542.97 L1760.27 1548.85 L1755.38 1548.85 L1755.38 1542.97 Z\" fill=\"#000000\" fill-rule=\"nonzero\" fill-opacity=\"1\" /><path clip-path=\"url(#clip190)\" d=\"M1769.27 1514.29 L1791.49 1514.29 L1791.49 1516.28 L1778.95 1548.85 L1774.06 1548.85 L1785.87 1518.22 L1769.27 1518.22 L1769.27 1514.29 Z\" fill=\"#000000\" fill-rule=\"nonzero\" fill-opacity=\"1\" /><path clip-path=\"url(#clip190)\" d=\"M1800.66 1514.29 L1819.02 1514.29 L1819.02 1518.22 L1804.94 1518.22 L1804.94 1526.7 Q1805.96 1526.35 1806.98 1526.19 Q1808 1526 1809.02 1526 Q1814.8 1526 1818.18 1529.17 Q1821.56 1532.34 1821.56 1537.76 Q1821.56 1543.34 1818.09 1546.44 Q1814.62 1549.52 1808.3 1549.52 Q1806.12 1549.52 1803.85 1549.15 Q1801.61 1548.78 1799.2 1548.04 L1799.2 1543.34 Q1801.28 1544.47 1803.51 1545.03 Q1805.73 1545.58 1808.21 1545.58 Q1812.21 1545.58 1814.55 1543.48 Q1816.89 1541.37 1816.89 1537.76 Q1816.89 1534.15 1814.55 1532.04 Q1812.21 1529.94 1808.21 1529.94 Q1806.33 1529.94 1804.46 1530.35 Q1802.6 1530.77 1800.66 1531.65 L1800.66 1514.29 Z\" fill=\"#000000\" fill-rule=\"nonzero\" fill-opacity=\"1\" /><path clip-path=\"url(#clip190)\" d=\"M2242.65 1544.91 L2250.29 1544.91 L2250.29 1518.55 L2241.98 1520.21 L2241.98 1515.95 L2250.24 1514.29 L2254.92 1514.29 L2254.92 1544.91 L2262.56 1544.91 L2262.56 1548.85 L2242.65 1548.85 L2242.65 1544.91 Z\" fill=\"#000000\" fill-rule=\"nonzero\" fill-opacity=\"1\" /><path clip-path=\"url(#clip190)\" d=\"M2272 1542.97 L2276.88 1542.97 L2276.88 1548.85 L2272 1548.85 L2272 1542.97 Z\" fill=\"#000000\" fill-rule=\"nonzero\" fill-opacity=\"1\" /><path clip-path=\"url(#clip190)\" d=\"M2297.07 1517.37 Q2293.46 1517.37 2291.63 1520.93 Q2289.82 1524.47 2289.82 1531.6 Q2289.82 1538.71 2291.63 1542.27 Q2293.46 1545.82 2297.07 1545.82 Q2300.7 1545.82 2302.51 1542.27 Q2304.34 1538.71 2304.34 1531.6 Q2304.34 1524.47 2302.51 1520.93 Q2300.7 1517.37 2297.07 1517.37 M2297.07 1513.66 Q2302.88 1513.66 2305.94 1518.27 Q2309.01 1522.85 2309.01 1531.6 Q2309.01 1540.33 2305.94 1544.94 Q2302.88 1549.52 2297.07 1549.52 Q2291.26 1549.52 2288.18 1544.94 Q2285.13 1540.33 2285.13 1531.6 Q2285.13 1522.85 2288.18 1518.27 Q2291.26 1513.66 2297.07 1513.66 Z\" fill=\"#000000\" fill-rule=\"nonzero\" fill-opacity=\"1\" /><path clip-path=\"url(#clip190)\" d=\"M2327.23 1517.37 Q2323.62 1517.37 2321.79 1520.93 Q2319.99 1524.47 2319.99 1531.6 Q2319.99 1538.71 2321.79 1542.27 Q2323.62 1545.82 2327.23 1545.82 Q2330.87 1545.82 2332.67 1542.27 Q2334.5 1538.71 2334.5 1531.6 Q2334.5 1524.47 2332.67 1520.93 Q2330.87 1517.37 2327.23 1517.37 M2327.23 1513.66 Q2333.04 1513.66 2336.1 1518.27 Q2339.18 1522.85 2339.18 1531.6 Q2339.18 1540.33 2336.1 1544.94 Q2333.04 1549.52 2327.23 1549.52 Q2321.42 1549.52 2318.34 1544.94 Q2315.29 1540.33 2315.29 1531.6 Q2315.29 1522.85 2318.34 1518.27 Q2321.42 1513.66 2327.23 1513.66 Z\" fill=\"#000000\" fill-rule=\"nonzero\" fill-opacity=\"1\" /><polyline clip-path=\"url(#clip190)\" style=\"stroke:#000000; stroke-linecap:round; stroke-linejoin:round; stroke-width:4; stroke-opacity:1; fill:none\" points=\"155.765,1486.45 155.765,47.2441 \"/>\n",
       "<polyline clip-path=\"url(#clip190)\" style=\"stroke:#000000; stroke-linecap:round; stroke-linejoin:round; stroke-width:4; stroke-opacity:1; fill:none\" points=\"155.765,1198.76 174.663,1198.76 \"/>\n",
       "<polyline clip-path=\"url(#clip190)\" style=\"stroke:#000000; stroke-linecap:round; stroke-linejoin:round; stroke-width:4; stroke-opacity:1; fill:none\" points=\"155.765,820.226 174.663,820.226 \"/>\n",
       "<polyline clip-path=\"url(#clip190)\" style=\"stroke:#000000; stroke-linecap:round; stroke-linejoin:round; stroke-width:4; stroke-opacity:1; fill:none\" points=\"155.765,441.689 174.663,441.689 \"/>\n",
       "<polyline clip-path=\"url(#clip190)\" style=\"stroke:#000000; stroke-linecap:round; stroke-linejoin:round; stroke-width:4; stroke-opacity:1; fill:none\" points=\"155.765,63.1531 174.663,63.1531 \"/>\n",
       "<path clip-path=\"url(#clip190)\" d=\"M63.5847 1184.56 Q59.9736 1184.56 58.1449 1188.13 Q56.3393 1191.67 56.3393 1198.8 Q56.3393 1205.9 58.1449 1209.47 Q59.9736 1213.01 63.5847 1213.01 Q67.2189 1213.01 69.0244 1209.47 Q70.8531 1205.9 70.8531 1198.8 Q70.8531 1191.67 69.0244 1188.13 Q67.2189 1184.56 63.5847 1184.56 M63.5847 1180.86 Q69.3948 1180.86 72.4503 1185.46 Q75.529 1190.05 75.529 1198.8 Q75.529 1207.52 72.4503 1212.13 Q69.3948 1216.71 63.5847 1216.71 Q57.7745 1216.71 54.6958 1212.13 Q51.6403 1207.52 51.6403 1198.8 Q51.6403 1190.05 54.6958 1185.46 Q57.7745 1180.86 63.5847 1180.86 Z\" fill=\"#000000\" fill-rule=\"nonzero\" fill-opacity=\"1\" /><path clip-path=\"url(#clip190)\" d=\"M83.7466 1210.16 L88.6308 1210.16 L88.6308 1216.04 L83.7466 1216.04 L83.7466 1210.16 Z\" fill=\"#000000\" fill-rule=\"nonzero\" fill-opacity=\"1\" /><path clip-path=\"url(#clip190)\" d=\"M98.8622 1181.48 L117.219 1181.48 L117.219 1185.42 L103.145 1185.42 L103.145 1193.89 Q104.163 1193.54 105.182 1193.38 Q106.2 1193.19 107.219 1193.19 Q113.006 1193.19 116.385 1196.37 Q119.765 1199.54 119.765 1204.95 Q119.765 1210.53 116.293 1213.63 Q112.82 1216.71 106.501 1216.71 Q104.325 1216.71 102.057 1216.34 Q99.8113 1215.97 97.4039 1215.23 L97.4039 1210.53 Q99.4872 1211.67 101.709 1212.22 Q103.932 1212.78 106.408 1212.78 Q110.413 1212.78 112.751 1210.67 Q115.089 1208.57 115.089 1204.95 Q115.089 1201.34 112.751 1199.24 Q110.413 1197.13 106.408 1197.13 Q104.534 1197.13 102.659 1197.55 Q100.807 1197.96 98.8622 1198.84 L98.8622 1181.48 Z\" fill=\"#000000\" fill-rule=\"nonzero\" fill-opacity=\"1\" /><path clip-path=\"url(#clip190)\" d=\"M53.3995 833.571 L61.0384 833.571 L61.0384 807.205 L52.7282 808.872 L52.7282 804.612 L60.9921 802.946 L65.668 802.946 L65.668 833.571 L73.3068 833.571 L73.3068 837.506 L53.3995 837.506 L53.3995 833.571 Z\" fill=\"#000000\" fill-rule=\"nonzero\" fill-opacity=\"1\" /><path clip-path=\"url(#clip190)\" d=\"M82.7512 831.626 L87.6354 831.626 L87.6354 837.506 L82.7512 837.506 L82.7512 831.626 Z\" fill=\"#000000\" fill-rule=\"nonzero\" fill-opacity=\"1\" /><path clip-path=\"url(#clip190)\" d=\"M107.821 806.024 Q104.209 806.024 102.381 809.589 Q100.575 813.131 100.575 820.26 Q100.575 827.367 102.381 830.932 Q104.209 834.473 107.821 834.473 Q111.455 834.473 113.26 830.932 Q115.089 827.367 115.089 820.26 Q115.089 813.131 113.26 809.589 Q111.455 806.024 107.821 806.024 M107.821 802.321 Q113.631 802.321 116.686 806.927 Q119.765 811.51 119.765 820.26 Q119.765 828.987 116.686 833.594 Q113.631 838.177 107.821 838.177 Q102.01 838.177 98.9317 833.594 Q95.8761 828.987 95.8761 820.26 Q95.8761 811.51 98.9317 806.927 Q102.01 802.321 107.821 802.321 Z\" fill=\"#000000\" fill-rule=\"nonzero\" fill-opacity=\"1\" /><path clip-path=\"url(#clip190)\" d=\"M54.3949 455.034 L62.0337 455.034 L62.0337 428.669 L53.7236 430.335 L53.7236 426.076 L61.9874 424.409 L66.6633 424.409 L66.6633 455.034 L74.3022 455.034 L74.3022 458.969 L54.3949 458.969 L54.3949 455.034 Z\" fill=\"#000000\" fill-rule=\"nonzero\" fill-opacity=\"1\" /><path clip-path=\"url(#clip190)\" d=\"M83.7466 453.09 L88.6308 453.09 L88.6308 458.969 L83.7466 458.969 L83.7466 453.09 Z\" fill=\"#000000\" fill-rule=\"nonzero\" fill-opacity=\"1\" /><path clip-path=\"url(#clip190)\" d=\"M98.8622 424.409 L117.219 424.409 L117.219 428.345 L103.145 428.345 L103.145 436.817 Q104.163 436.47 105.182 436.308 Q106.2 436.122 107.219 436.122 Q113.006 436.122 116.385 439.294 Q119.765 442.465 119.765 447.882 Q119.765 453.46 116.293 456.562 Q112.82 459.641 106.501 459.641 Q104.325 459.641 102.057 459.27 Q99.8113 458.9 97.4039 458.159 L97.4039 453.46 Q99.4872 454.594 101.709 455.15 Q103.932 455.706 106.408 455.706 Q110.413 455.706 112.751 453.599 Q115.089 451.493 115.089 447.882 Q115.089 444.27 112.751 442.164 Q110.413 440.057 106.408 440.057 Q104.534 440.057 102.659 440.474 Q100.807 440.891 98.8622 441.77 L98.8622 424.409 Z\" fill=\"#000000\" fill-rule=\"nonzero\" fill-opacity=\"1\" /><path clip-path=\"url(#clip190)\" d=\"M56.6171 76.498 L72.9365 76.498 L72.9365 80.4331 L50.9921 80.4331 L50.9921 76.498 Q53.6541 73.7434 58.2375 69.1138 Q62.8439 64.461 64.0245 63.1184 Q66.2698 60.5953 67.1494 58.8592 Q68.0522 57.0999 68.0522 55.4101 Q68.0522 52.6555 66.1078 50.9194 Q64.1865 49.1833 61.0847 49.1833 Q58.8856 49.1833 56.4319 49.9472 Q54.0014 50.7111 51.2236 52.262 L51.2236 47.5398 Q54.0477 46.4055 56.5014 45.8268 Q58.955 45.2481 60.9921 45.2481 Q66.3624 45.2481 69.5568 47.9333 Q72.7513 50.6185 72.7513 55.1092 Q72.7513 57.2388 71.9411 59.1601 Q71.1541 61.0582 69.0476 63.6508 Q68.4689 64.3221 65.367 67.5397 Q62.2652 70.7341 56.6171 76.498 Z\" fill=\"#000000\" fill-rule=\"nonzero\" fill-opacity=\"1\" /><path clip-path=\"url(#clip190)\" d=\"M82.7512 74.5535 L87.6354 74.5535 L87.6354 80.4331 L82.7512 80.4331 L82.7512 74.5535 Z\" fill=\"#000000\" fill-rule=\"nonzero\" fill-opacity=\"1\" /><path clip-path=\"url(#clip190)\" d=\"M107.821 48.9518 Q104.209 48.9518 102.381 52.5166 Q100.575 56.0583 100.575 63.1879 Q100.575 70.2943 102.381 73.8591 Q104.209 77.4007 107.821 77.4007 Q111.455 77.4007 113.26 73.8591 Q115.089 70.2943 115.089 63.1879 Q115.089 56.0583 113.26 52.5166 Q111.455 48.9518 107.821 48.9518 M107.821 45.2481 Q113.631 45.2481 116.686 49.8546 Q119.765 54.4379 119.765 63.1879 Q119.765 71.9147 116.686 76.5211 Q113.631 81.1044 107.821 81.1044 Q102.01 81.1044 98.9317 76.5211 Q95.8761 71.9147 95.8761 63.1879 Q95.8761 54.4379 98.9317 49.8546 Q102.01 45.2481 107.821 45.2481 Z\" fill=\"#000000\" fill-rule=\"nonzero\" fill-opacity=\"1\" /><circle clip-path=\"url(#clip192)\" cx=\"217.944\" cy=\"87.9763\" r=\"14.4\" fill=\"#009af9\" fill-rule=\"evenodd\" fill-opacity=\"1\" stroke=\"#000000\" stroke-opacity=\"1\" stroke-width=\"3.2\"/>\n",
       "<circle clip-path=\"url(#clip192)\" cx=\"425.207\" cy=\"311.555\" r=\"14.4\" fill=\"#009af9\" fill-rule=\"evenodd\" fill-opacity=\"1\" stroke=\"#000000\" stroke-opacity=\"1\" stroke-width=\"3.2\"/>\n",
       "<circle clip-path=\"url(#clip192)\" cx=\"632.47\" cy=\"536.264\" r=\"14.4\" fill=\"#009af9\" fill-rule=\"evenodd\" fill-opacity=\"1\" stroke=\"#000000\" stroke-opacity=\"1\" stroke-width=\"3.2\"/>\n",
       "<circle clip-path=\"url(#clip192)\" cx=\"839.734\" cy=\"753.789\" r=\"14.4\" fill=\"#009af9\" fill-rule=\"evenodd\" fill-opacity=\"1\" stroke=\"#000000\" stroke-opacity=\"1\" stroke-width=\"3.2\"/>\n",
       "<circle clip-path=\"url(#clip192)\" cx=\"1047\" cy=\"731.167\" r=\"14.4\" fill=\"#009af9\" fill-rule=\"evenodd\" fill-opacity=\"1\" stroke=\"#000000\" stroke-opacity=\"1\" stroke-width=\"3.2\"/>\n",
       "<circle clip-path=\"url(#clip192)\" cx=\"1254.26\" cy=\"983.208\" r=\"14.4\" fill=\"#009af9\" fill-rule=\"evenodd\" fill-opacity=\"1\" stroke=\"#000000\" stroke-opacity=\"1\" stroke-width=\"3.2\"/>\n",
       "<circle clip-path=\"url(#clip192)\" cx=\"1461.52\" cy=\"1124.3\" r=\"14.4\" fill=\"#009af9\" fill-rule=\"evenodd\" fill-opacity=\"1\" stroke=\"#000000\" stroke-opacity=\"1\" stroke-width=\"3.2\"/>\n",
       "<circle clip-path=\"url(#clip192)\" cx=\"1668.79\" cy=\"1141.22\" r=\"14.4\" fill=\"#009af9\" fill-rule=\"evenodd\" fill-opacity=\"1\" stroke=\"#000000\" stroke-opacity=\"1\" stroke-width=\"3.2\"/>\n",
       "<circle clip-path=\"url(#clip192)\" cx=\"1876.05\" cy=\"1405.08\" r=\"14.4\" fill=\"#009af9\" fill-rule=\"evenodd\" fill-opacity=\"1\" stroke=\"#000000\" stroke-opacity=\"1\" stroke-width=\"3.2\"/>\n",
       "<circle clip-path=\"url(#clip192)\" cx=\"2083.31\" cy=\"1393.32\" r=\"14.4\" fill=\"#009af9\" fill-rule=\"evenodd\" fill-opacity=\"1\" stroke=\"#000000\" stroke-opacity=\"1\" stroke-width=\"3.2\"/>\n",
       "<circle clip-path=\"url(#clip192)\" cx=\"2290.58\" cy=\"1445.72\" r=\"14.4\" fill=\"#009af9\" fill-rule=\"evenodd\" fill-opacity=\"1\" stroke=\"#000000\" stroke-opacity=\"1\" stroke-width=\"3.2\"/>\n",
       "<path clip-path=\"url(#clip190)\" d=\"M2007.39 198.898 L2279.52 198.898 L2279.52 95.2176 L2007.39 95.2176  Z\" fill=\"#ffffff\" fill-rule=\"evenodd\" fill-opacity=\"1\"/>\n",
       "<polyline clip-path=\"url(#clip190)\" style=\"stroke:#000000; stroke-linecap:round; stroke-linejoin:round; stroke-width:4; stroke-opacity:1; fill:none\" points=\"2007.39,198.898 2279.52,198.898 2279.52,95.2176 2007.39,95.2176 2007.39,198.898 \"/>\n",
       "<circle clip-path=\"url(#clip190)\" cx=\"2105.04\" cy=\"147.058\" r=\"20.48\" fill=\"#009af9\" fill-rule=\"evenodd\" fill-opacity=\"1\" stroke=\"#000000\" stroke-opacity=\"1\" stroke-width=\"4.55111\"/>\n",
       "<path clip-path=\"url(#clip190)\" d=\"M2216.52 166.745 Q2214.72 171.375 2213.01 172.787 Q2211.29 174.199 2208.42 174.199 L2205.02 174.199 L2205.02 170.634 L2207.52 170.634 Q2209.28 170.634 2210.25 169.8 Q2211.22 168.967 2212.4 165.865 L2213.17 163.921 L2202.68 138.412 L2207.2 138.412 L2215.3 158.689 L2223.4 138.412 L2227.91 138.412 L2216.52 166.745 Z\" fill=\"#000000\" fill-rule=\"nonzero\" fill-opacity=\"1\" /><path clip-path=\"url(#clip190)\" d=\"M2235.2 160.402 L2242.84 160.402 L2242.84 134.037 L2234.53 135.703 L2234.53 131.444 L2242.8 129.778 L2247.47 129.778 L2247.47 160.402 L2255.11 160.402 L2255.11 164.338 L2235.2 164.338 L2235.2 160.402 Z\" fill=\"#000000\" fill-rule=\"nonzero\" fill-opacity=\"1\" /></svg>\n"
      ]
     },
     "execution_count": 8,
     "metadata": {},
     "output_type": "execute_result"
    }
   ],
   "source": [
    "scatter(x,y_exp)"
   ]
  },
  {
   "cell_type": "code",
   "execution_count": 9,
   "id": "622f95c1-e6f8-4e9d-8fe4-84d1af4b94bd",
   "metadata": {},
   "outputs": [
    {
     "data": {
      "text/plain": [
       "model (generic function with 1 method)"
      ]
     },
     "execution_count": 9,
     "metadata": {},
     "output_type": "execute_result"
    }
   ],
   "source": [
    "model(x,p) = p[1] .* exp.(-p[2] .* x)"
   ]
  },
  {
   "cell_type": "code",
   "execution_count": 10,
   "id": "fc487ac4-57b3-4900-b014-084d080b4ca1",
   "metadata": {},
   "outputs": [
    {
     "data": {
      "text/plain": [
       "LsqFit.LsqFitResult{Vector{Float64}, Vector{Float64}, Matrix{Float64}, Vector{Float64}, Vector{LsqFit.LMState{LsqFit.LevenbergMarquardt}}}([2.032450206044156, 2.010173362507465], [0.06523852918557793, -0.009553595708063467, -0.015455637699069102, 0.02427778990906382, -0.2081053279248376, -0.040817243742423015, 0.010075636355550643, -0.0783634676643174, 0.1795383657241944, 0.08988954860457232, 0.09847360926436233], [1.0000000000145344 0.0; 0.817898252151882 -0.16623374710364613; … ; 0.1637923149025236 -0.29960975175578536; 0.13396544807004906 -0.2722781025412839], true, Iter     Function value   Gradient norm \n",
       "------   --------------   --------------\n",
       ", Float64[])"
      ]
     },
     "execution_count": 10,
     "metadata": {},
     "output_type": "execute_result"
    }
   ],
   "source": [
    "fit = curve_fit(model, x, y_exp, [1.5,1.5])"
   ]
  },
  {
   "cell_type": "code",
   "execution_count": 11,
   "id": "72e72dd5-049f-47d3-85ba-0b42da5b5b45",
   "metadata": {},
   "outputs": [
    {
     "data": {
      "text/plain": [
       "2-element Vector{Float64}:\n",
       " 2.032450206044156\n",
       " 2.010173362507465"
      ]
     },
     "execution_count": 11,
     "metadata": {},
     "output_type": "execute_result"
    }
   ],
   "source": [
    "fit.param"
   ]
  },
  {
   "cell_type": "code",
   "execution_count": 12,
   "id": "f273bbaa-9bd6-499a-8543-b4a488221010",
   "metadata": {},
   "outputs": [
    {
     "data": {
      "text/plain": [
       "2×2 Matrix{Float64}:\n",
       " 0.00701737  0.00796792\n",
       " 0.00796792  0.0207746"
      ]
     },
     "execution_count": 12,
     "metadata": {},
     "output_type": "execute_result"
    }
   ],
   "source": [
    "cov = estimate_covar(fit)"
   ]
  },
  {
   "cell_type": "code",
   "execution_count": 13,
   "id": "c983b027-8c80-4ebc-a15b-b1cb9106c503",
   "metadata": {},
   "outputs": [
    {
     "data": {
      "text/plain": [
       "2×2 Matrix{Float64}:\n",
       " 0.0750683  0.0371768\n",
       " 0.0371768  0.139257"
      ]
     },
     "execution_count": 13,
     "metadata": {},
     "output_type": "execute_result"
    }
   ],
   "source": [
    "sqrt(estimate_covar(fit))"
   ]
  },
  {
   "cell_type": "code",
<<<<<<< Updated upstream
   "execution_count": 40,
=======
   "execution_count": 14,
   "id": "8bee2c68-4eea-4f47-ab2f-1a4bcfa4c6fb",
   "metadata": {},
   "outputs": [
    {
     "data": {
      "text/plain": [
       "11×2 Matrix{Float64}:\n",
       " 0.0  1.96721\n",
       " 0.1  1.67189\n",
       " 0.2  1.37508\n",
       " 0.3  1.08776\n",
       " 0.4  1.11764\n",
       " 0.5  0.78472\n",
       " 0.6  0.598361\n",
       " 0.7  0.576003\n",
       " 0.8  0.22748\n",
       " 0.9  0.24301\n",
       " 1.0  0.173804"
      ]
     },
     "execution_count": 14,
     "metadata": {},
     "output_type": "execute_result"
    }
   ],
   "source": [
    "p = hcat(x,y_exp)"
   ]
  },
  {
   "cell_type": "code",
   "execution_count": 15,
>>>>>>> Stashed changes
   "id": "e96fa7fd-59fb-4ffa-9430-9df444dfed95",
   "metadata": {},
   "outputs": [
    {
     "data": {
      "text/plain": [
       "res (generic function with 1 method)"
      ]
     },
<<<<<<< Updated upstream
     "execution_count": 40,
=======
     "execution_count": 15,
>>>>>>> Stashed changes
     "metadata": {},
     "output_type": "execute_result"
    }
   ],
   "source": [
    "function res(u, (x,y))\n",
    "    return u[1] .* exp.( -u[2] .* x) .- y\n",
    "end"
   ]
  },
  {
   "cell_type": "code",
<<<<<<< Updated upstream
   "execution_count": 41,
=======
   "execution_count": 16,
>>>>>>> Stashed changes
   "id": "71fbbfb5-69d0-4016-8a34-f6578d6e6940",
   "metadata": {},
   "outputs": [
    {
     "data": {
      "text/plain": [
       "11-element Vector{Float64}:\n",
       " -0.4672116768585779\n",
       " -0.3808291021591652\n",
       " -0.26385121874969486\n",
       " -0.13131318601484754\n",
       " -0.2944178871327474\n",
       " -0.07617042281948438\n",
       "  0.01149315580600474\n",
       " -0.05109637843024406\n",
       "  0.2243111781833826\n",
       "  0.14585021540994042\n",
       "  0.16089074695522937"
      ]
     },
<<<<<<< Updated upstream
     "execution_count": 41,
=======
     "execution_count": 16,
>>>>>>> Stashed changes
     "metadata": {},
     "output_type": "execute_result"
    }
   ],
   "source": [
    "res([1.5,1.5],(x,y_exp))"
   ]
  },
  {
   "cell_type": "code",
<<<<<<< Updated upstream
   "execution_count": 42,
=======
   "execution_count": 17,
>>>>>>> Stashed changes
   "id": "23d550a6-5957-4839-83de-13d4fa8b7ec1",
   "metadata": {},
   "outputs": [
    {
     "data": {
      "text/plain": [
       "\u001b[38;2;86;182;194mNonlinearLeastSquaresProblem\u001b[0m with uType \u001b[38;2;86;182;194mVector{Float64}\u001b[0m. In-place: \u001b[38;2;86;182;194mfalse\u001b[0m\n",
       "u0: 2-element Vector{Float64}:\n",
       " 1.5\n",
       " 2.0"
      ]
     },
<<<<<<< Updated upstream
     "execution_count": 42,
=======
     "execution_count": 17,
>>>>>>> Stashed changes
     "metadata": {},
     "output_type": "execute_result"
    }
   ],
   "source": [
    "prob = NonlinearLeastSquaresProblem(res, [1.5,2.0], (x,y_exp))"
   ]
  },
  {
   "cell_type": "code",
<<<<<<< Updated upstream
   "execution_count": 43,
=======
   "execution_count": 18,
>>>>>>> Stashed changes
   "id": "89115a93-ad88-4b46-8a83-867707a3ea61",
   "metadata": {},
   "outputs": [
    {
<<<<<<< Updated upstream
=======
     "name": "stdout",
     "output_type": "stream",
     "text": [
      "\n",
      "Algorithm: \u001b[32m\u001b[1mGaussNewton(\u001b[22m\u001b[39m\n",
      "\u001b[32m\u001b[1m    descent = NewtonDescent(),\u001b[22m\u001b[39m\n",
      "\u001b[32m\u001b[1m    autodiff = AutoForwardDiff(),\u001b[22m\u001b[39m\n",
      "\u001b[32m\u001b[1m    vjp_autodiff = AutoFiniteDiff(\u001b[22m\u001b[39m\n",
      "\u001b[32m\u001b[1m        fdtype = Val{:forward}(),\u001b[22m\u001b[39m\n",
      "\u001b[32m\u001b[1m        fdjtype = Val{:forward}(),\u001b[22m\u001b[39m\n",
      "\u001b[32m\u001b[1m        fdhtype = Val{:hcentral}(),\u001b[22m\u001b[39m\n",
      "\u001b[32m\u001b[1m        dir = true\u001b[22m\u001b[39m\n",
      "\u001b[32m\u001b[1m    ),\u001b[22m\u001b[39m\n",
      "\u001b[32m\u001b[1m    jvp_autodiff = AutoForwardDiff(),\u001b[22m\u001b[39m\n",
      "\u001b[32m\u001b[1m    concrete_jac = Val{false}()\u001b[22m\u001b[39m\n",
      "\u001b[32m\u001b[1m)\u001b[22m\u001b[39m\n",
      "\n",
      "----    \t-------------       \t-----------         \n",
      "Iter    \tf(u) 2-norm         \tStep 2-norm         \n",
      "----    \t-------------       \t-----------         \n",
      "0       \t9.71290364e-01      \t0.00000000e+00      \n",
      "1       \t3.26224950e-01      \t5.32955839e-01      \n",
      "2       \t3.26194945e-01      \t5.02496989e-03      \n",
      "3       \t3.26194818e-01      \t4.26120409e-04      \n",
      "4       \t3.26194817e-01      \t3.33242056e-05      \n",
      "5       \t3.26194817e-01      \t2.60426621e-06      \n",
      "6       \t3.26194817e-01      \t2.03514957e-07      \n",
      "7       \t3.26194817e-01      \t1.59040775e-08      \n",
      "8       \t3.26194817e-01      \t1.24285513e-09      \n",
      "9       \t3.26194817e-01      \t9.71252661e-11      \n",
      "10      \t3.26194817e-01      \t7.58982789e-12      \n",
      "11      \t3.26194817e-01      \t5.92842113e-13      \n",
      "12      \t3.26194817e-01      \t4.61061946e-14      \n",
      "13      \t3.26194817e-01      \t3.65548839e-15      \n",
      "14      \t3.26194817e-01      \t5.48857911e-16      \n",
      "15      \t3.26194817e-01      \t1.65423793e-16      \n",
      "16      \t3.26194817e-01      \t1.65423793e-16      \n",
      "17      \t3.26194817e-01      \t1.65423793e-16      \n",
      "18      \t3.26194817e-01      \t1.65423793e-16      \n",
      "19      \t3.26194817e-01      \t1.65423793e-16      \n",
      "20      \t3.26194817e-01      \t1.65423793e-16      \n",
      "21      \t3.26194817e-01      \t1.65423793e-16      \n",
      "22      \t3.26194817e-01      \t1.65423793e-16      \n",
      "23      \t3.26194817e-01      \t1.65423793e-16      \n",
      "24      \t3.26194817e-01      \t1.65423793e-16      \n",
      "25      \t3.26194817e-01      \t1.65423793e-16      \n",
      "26      \t3.26194817e-01      \t1.65423793e-16      \n",
      "27      \t3.26194817e-01      \t1.65423793e-16      \n",
      "28      \t3.26194817e-01      \t1.65423793e-16      \n",
      "29      \t3.26194817e-01      \t1.65423793e-16      \n",
      "30      \t3.26194817e-01      \t1.65423793e-16      \n",
      "31      \t3.26194817e-01      \t1.65423793e-16      \n",
      "32      \t3.26194817e-01      \t1.65423793e-16      \n",
      "33      \t3.26194817e-01      \t1.65423793e-16      \n",
      "34      \t3.26194817e-01      \t1.65423793e-16      \n",
      "35      \t3.26194817e-01      \t1.65423793e-16      \n",
      "36      \t3.26194817e-01      \t1.65423793e-16      \n",
      "37      \t3.26194817e-01      \t1.65423793e-16      \n",
      "38      \t3.26194817e-01      \t1.65423793e-16      \n",
      "39      \t3.26194817e-01      \t1.65423793e-16      \n",
      "40      \t3.26194817e-01      \t1.65423793e-16      \n",
      "41      \t3.26194817e-01      \t1.65423793e-16      \n",
      "42      \t3.26194817e-01      \t1.65423793e-16      \n",
      "43      \t3.26194817e-01      \t1.65423793e-16      \n",
      "Final   \t3.26194817e-01      \n",
      "----------------------      \n"
     ]
    },
    {
>>>>>>> Stashed changes
     "data": {
      "text/plain": [
       "retcode: Stalled\n",
       "u: 2-element Vector{Float64}:\n",
       " 2.03245021074581\n",
       " 2.0101733747656088"
      ]
     },
<<<<<<< Updated upstream
     "execution_count": 43,
=======
     "execution_count": 18,
>>>>>>> Stashed changes
     "metadata": {},
     "output_type": "execute_result"
    }
   ],
   "source": [
    "sol = solve(prob, GaussNewton(); maxiters =1000)"
   ]
  },
  {
   "cell_type": "code",
<<<<<<< Updated upstream
   "execution_count": 44,
=======
   "execution_count": 19,
>>>>>>> Stashed changes
   "id": "18a3c01b-8da9-40e2-a294-72a8bf26140d",
   "metadata": {},
   "outputs": [
    {
     "data": {
      "text/plain": [
       "chi2 (generic function with 1 method)"
      ]
     },
<<<<<<< Updated upstream
     "execution_count": 44,
=======
     "execution_count": 19,
>>>>>>> Stashed changes
     "metadata": {},
     "output_type": "execute_result"
    }
   ],
   "source": [
    "function chi2(u,(x,y))\n",
    "    sum(res(u,(x,y)) .^2 ./ 0.1^2)\n",
    "end"
   ]
  },
  {
   "cell_type": "code",
<<<<<<< Updated upstream
   "execution_count": 45,
=======
   "execution_count": 20,
>>>>>>> Stashed changes
   "id": "78d2d7ca-9401-4f04-9e42-7a2e12a04461",
   "metadata": {},
   "outputs": [
    {
     "data": {
      "text/plain": [
       "10.640305854738108"
      ]
     },
<<<<<<< Updated upstream
     "execution_count": 45,
=======
     "execution_count": 20,
>>>>>>> Stashed changes
     "metadata": {},
     "output_type": "execute_result"
    }
   ],
   "source": [
    "chi2(sol.u,(x,y_exp))"
   ]
  },
  {
   "cell_type": "code",
<<<<<<< Updated upstream
   "execution_count": 46,
=======
   "execution_count": 21,
>>>>>>> Stashed changes
   "id": "9ca622b5-351d-4d2d-be9b-6d217893f933",
   "metadata": {},
   "outputs": [
    {
     "data": {
      "text/plain": [
       "ourchi2 (generic function with 1 method)"
      ]
     },
<<<<<<< Updated upstream
     "execution_count": 46,
=======
     "execution_count": 21,
>>>>>>> Stashed changes
     "metadata": {},
     "output_type": "execute_result"
    }
   ],
   "source": [
    "ourchi2(u) = chi2(u,(x,y_exp))"
   ]
  },
  {
   "cell_type": "code",
   "execution_count": 22,
   "id": "866a2d6a-0f8f-4600-b693-0e091e3df35b",
   "metadata": {},
   "outputs": [
    {
     "data": {
      "text/plain": [
       "10.640305854738108"
      ]
     },
     "execution_count": 22,
     "metadata": {},
     "output_type": "execute_result"
    }
   ],
   "source": [
    "ourchi2(sol.u)"
   ]
  },
  {
   "cell_type": "code",
   "execution_count": 23,
   "id": "746402fe-8903-4340-8e0c-5bffe1ac0429",
   "metadata": {},
   "outputs": [
    {
     "data": {
      "text/plain": [
       "2×2 Matrix{Float64}:\n",
       "  596.899  -228.936\n",
       " -228.936   210.519"
      ]
     },
     "execution_count": 23,
     "metadata": {},
     "output_type": "execute_result"
    }
   ],
   "source": [
    "h = ForwardDiff.hessian(ourchi2,sol.u)"
   ]
  },
  {
   "cell_type": "code",
   "execution_count": 24,
   "id": "bd667e56-e158-4d73-9e70-50e2e60bcc2c",
   "metadata": {},
   "outputs": [
    {
     "data": {
      "text/plain": [
       "2×2 Matrix{Float64}:\n",
       " 0.0379085  0.0395319\n",
       " 0.0395319  0.0638324"
      ]
     },
     "execution_count": 24,
     "metadata": {},
     "output_type": "execute_result"
    }
   ],
   "source": [
    "sqrt.(inv(2*h))"
   ]
  },
  {
   "cell_type": "markdown",
   "id": "0182ec7f-ecee-4303-96a6-809e7198bced",
   "metadata": {},
   "source": [
    "As an experiment to test that this error estimation method is working, we can repeat the procedure many times and compare the standard deviation of the parameter to the estimation from the Hessian."
   ]
  },
  {
   "cell_type": "code",
<<<<<<< Updated upstream
   "execution_count": 69,
   "id": "7835e124-fe4c-484f-adcc-339c71b0bd1d",
   "metadata": {},
   "outputs": [
    {
     "data": {
      "text/plain": [
       "lsqfitting (generic function with 1 method)"
      ]
     },
     "execution_count": 69,
     "metadata": {},
     "output_type": "execute_result"
    }
   ],
   "source": [
    "function lsqfitting(fitfct, (x,y) , sigma, β0)\n",
    "    res(β,(x,y)) = fitfct(x,β) .- y\n",
    "    prob = NonlinearLeastSquaresProblem(res, β0, (x,y))\n",
    "    sol = solve(prob, GaussNewton(); maxiters =1000)\n",
    "    chi2(β) = sum(abs2, res(β,(x,y)) ./ sigma)\n",
    "    return sol.u, inv(2*ForwardDiff.hessian(chi2,sol.u))\n",
    "end"
   ]
  },
  {
   "cell_type": "code",
   "execution_count": 67,
   "id": "33a7998d-93c1-45b9-8064-f404cc965146",
   "metadata": {},
   "outputs": [
    {
     "data": {
      "text/plain": [
       "f (generic function with 1 method)"
      ]
     },
     "execution_count": 67,
     "metadata": {},
     "output_type": "execute_result"
    }
   ],
   "source": [
    "f(x,β) = β[1] .* exp.(-β[2] .* x)"
   ]
  },
  {
   "cell_type": "code",
   "execution_count": 71,
   "id": "06ed8c55-aefe-4596-a6e0-3a1af4c84043",
   "metadata": {},
   "outputs": [
    {
     "data": {
      "text/plain": [
       "([2.0463518329458, 1.916989967594574], [0.001519311444122659 0.001759335652709194; 0.001759335652709194 0.0043518196370285495])"
      ]
     },
     "execution_count": 71,
     "metadata": {},
     "output_type": "execute_result"
    }
   ],
   "source": [
    "bestbeta, covar = lsqfitting(f, (x,y_exp), 0.1, [1.5,1.5])"
   ]
  },
  {
   "cell_type": "code",
   "execution_count": 75,
   "id": "7b97588a-12ea-48a0-b294-bb2497f30029",
   "metadata": {},
   "outputs": [
    {
     "data": {
      "text/plain": [
       "2×2 Matrix{Float64}:\n",
       " 0.0389783  0.0419444\n",
       " 0.0419444  0.0659683"
      ]
     },
     "execution_count": 75,
     "metadata": {},
     "output_type": "execute_result"
    }
   ],
   "source": [
    "sqrt.(covar)"
   ]
  },
  {
   "cell_type": "code",
   "execution_count": null,
   "id": "0c4bd9f8-da4f-45ad-bdf8-1bc3b57c331a",
=======
   "execution_count": 25,
   "id": "cf1118e6-d482-4f72-a7ca-6b7fa92ecc9c",
>>>>>>> Stashed changes
   "metadata": {},
   "outputs": [
    {
     "data": {
      "text/plain": [
       "lsqfitting (generic function with 1 method)"
      ]
     },
     "execution_count": 25,
     "metadata": {},
     "output_type": "execute_result"
    }
   ],
   "source": [
    "function lsqfitting(fitfct, (x,y), sigma, β0)\n",
    "    res(β) = fitfct(x,β) .- y\n",
    "    prob = NonlinearleastSquaresProblem(res, β0, (x,y))\n",
    "    sol = solve(prob, GaussNewton(); maxiters = 1000)\n",
    "    chi2(β) = sun(abs2, res(β) ./ sigma)\n",
    "    return sol.u, inv(2*ForwardDiff.hessian(chi2,sol.u))\n",
    "end"
   ]
  },
  {
   "cell_type": "code",
   "execution_count": 26,
   "id": "7014e93c",
   "metadata": {},
   "outputs": [
    {
     "data": {
      "text/plain": [
       "f (generic function with 1 method)"
      ]
     },
     "execution_count": 26,
     "metadata": {},
     "output_type": "execute_result"
    }
   ],
   "source": [
    "f(x,β) = β[1] .* exp(-β[2] .* x)"
   ]
  },
  {
   "cell_type": "code",
   "execution_count": 27,
   "id": "04cfc39a",
   "metadata": {},
   "outputs": [
    {
     "ename": "LoadError",
     "evalue": "UndefVarError: `NonlinearleastSquaresProblem` not defined in `Main`\nSuggestion: check for spelling errors or missing imports.",
     "output_type": "error",
     "traceback": [
      "UndefVarError: `NonlinearleastSquaresProblem` not defined in `Main`\nSuggestion: check for spelling errors or missing imports.",
      "",
      "Stacktrace:",
      " [1] lsqfitting(fitfct::typeof(f), ::Tuple{Vector{Float64}, Vector{Float64}}, sigma::Float64, β0::Vector{Float64})",
      "   @ Main .\\In[25]:3",
      " [2] top-level scope",
      "   @ In[27]:1"
     ]
    }
   ],
   "source": [
    "bestbeta, covar = lsqfitting(f, (x,y_exp), 0.1, [1.5,1.5])"
   ]
  }
 ],
 "metadata": {
  "kernelspec": {
   "display_name": "Julia 1.11.4",
   "language": "julia",
   "name": "julia-1.11"
  },
  "language_info": {
   "file_extension": ".jl",
   "mimetype": "application/julia",
   "name": "julia",
   "version": "1.11.4"
  }
 },
 "nbformat": 4,
 "nbformat_minor": 5
}
