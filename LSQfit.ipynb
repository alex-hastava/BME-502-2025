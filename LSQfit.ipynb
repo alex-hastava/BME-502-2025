{
 "cells": [
  {
   "cell_type": "code",
   "execution_count": 1,
   "id": "851e2837-171b-4dbc-a618-858a58465451",
   "metadata": {},
   "outputs": [
    {
     "name": "stderr",
     "output_type": "stream",
     "text": [
      "\u001b[32m\u001b[1m  Activating\u001b[22m\u001b[39m project at `~/Documents/programming/BME-502-2025`\n"
     ]
    }
   ],
   "source": [
    "import Pkg\n",
    "Pkg.activate(\".\")"
   ]
  },
  {
   "cell_type": "code",
   "execution_count": 119,
   "id": "b273e92a-2baa-4ca1-a501-1582c86ee3f2",
   "metadata": {},
   "outputs": [
    {
     "name": "stderr",
     "output_type": "stream",
     "text": [
      "\u001b[32m\u001b[1m   Resolving\u001b[22m\u001b[39m package versions...\n",
      "\u001b[32m\u001b[1m  No Changes\u001b[22m\u001b[39m to `~/Documents/programming/BME-502-2025/Project.toml`\n",
      "\u001b[32m\u001b[1m  No Changes\u001b[22m\u001b[39m to `~/Documents/programming/BME-502-2025/Manifest.toml`\n"
     ]
    }
   ],
   "source": [
    "Pkg.add([\"NonlinearSolve\",\"Plots\",\"ForwardDiff\",\"LsqFit\",\"Statistics\"])"
   ]
  },
  {
   "cell_type": "code",
   "execution_count": 120,
   "id": "b52c07b0-b957-4b36-b2d8-3dd9839696c5",
   "metadata": {},
   "outputs": [],
   "source": [
    "using NonlinearSolve, Random, Plots, ForwardDiff, LsqFit, Statistics"
   ]
  },
  {
   "cell_type": "code",
   "execution_count": 4,
   "id": "9f14e21b-0487-4da2-88da-37164516f84b",
   "metadata": {},
   "outputs": [
    {
     "data": {
      "text/plain": [
       "11-element Vector{Float64}:\n",
       " 0.0\n",
       " 0.1\n",
       " 0.2\n",
       " 0.3\n",
       " 0.4\n",
       " 0.5\n",
       " 0.6\n",
       " 0.7\n",
       " 0.8\n",
       " 0.9\n",
       " 1.0"
      ]
     },
     "execution_count": 4,
     "metadata": {},
     "output_type": "execute_result"
    }
   ],
   "source": [
    "x = collect(0:0.1:1)"
   ]
  },
  {
   "cell_type": "code",
   "execution_count": 6,
   "id": "a227b07a-f823-401a-a1b9-e3fd415ebdc4",
   "metadata": {},
   "outputs": [
    {
     "data": {
      "text/plain": [
       "11-element Vector{Float64}:\n",
       " 2.0\n",
       " 1.6374615061559636\n",
       " 1.3406400920712787\n",
       " 1.097623272188053\n",
       " 0.8986579282344431\n",
       " 0.7357588823428847\n",
       " 0.6023884238244043\n",
       " 0.493193927883213\n",
       " 0.40379303598931077\n",
       " 0.33059777644317306\n",
       " 0.2706705664732254"
      ]
     },
     "execution_count": 6,
     "metadata": {},
     "output_type": "execute_result"
    }
   ],
   "source": [
    "y = 2 .* exp.(-2x)"
   ]
  },
  {
   "cell_type": "code",
   "execution_count": 37,
   "id": "9a22eea0-6dac-4527-94d8-38306813b4db",
   "metadata": {},
   "outputs": [
    {
     "data": {
      "text/plain": [
       "11-element Vector{Float64}:\n",
       " 2.0439267991968895\n",
       " 1.6029355473043472\n",
       " 1.286902519885666\n",
       " 1.191393452458696\n",
       " 0.8538158015206568\n",
       " 0.6911589285583031\n",
       " 0.5301790254800061\n",
       " 0.5248964838651679\n",
       " 0.3761683113373099\n",
       " 0.3831954798946341\n",
       " 0.229027137829057"
      ]
     },
     "execution_count": 37,
     "metadata": {},
     "output_type": "execute_result"
    }
   ],
   "source": [
    "y_exp = y .+ 0.05*randn(length(y))"
   ]
  },
  {
   "cell_type": "code",
   "execution_count": 121,
   "id": "84f0998c-cd35-487f-9b5e-35d6751b7b76",
   "metadata": {},
   "outputs": [
    {
     "data": {
      "text/plain": [
       "0.052424439069951916"
      ]
     },
     "execution_count": 121,
     "metadata": {},
     "output_type": "execute_result"
    }
   ],
   "source": [
    "std(0.05*randn(1000))"
   ]
  },
  {
   "cell_type": "code",
   "execution_count": 38,
   "id": "1ada77ee-38b4-4100-95a9-d48fdc473c36",
   "metadata": {},
   "outputs": [
    {
     "data": {
      "image/png": "[encoded data removed]",
      "image/svg+xml": [
       "<?xml version=\"1.0\" encoding=\"utf-8\"?>\n",
       "<svg xmlns=\"http://www.w3.org/2000/svg\" xmlns:xlink=\"http://www.w3.org/1999/xlink\" width=\"600\" height=\"400\" viewBox=\"0 0 2400 1600\">\n",
       "<defs>\n",
       "  <clipPath id=\"clip670\">\n",
       "    <rect x=\"0\" y=\"0\" width=\"2400\" height=\"1600\"/>\n",
       "  </clipPath>\n",
       "</defs>\n",
       "<path clip-path=\"url(#clip670)\" d=\"M0 1600 L2400 1600 L2400 8.88178e-14 L0 8.88178e-14  Z\" fill=\"#ffffff\" fill-rule=\"evenodd\" fill-opacity=\"1\"/>\n",
       "<defs>\n",
       "  <clipPath id=\"clip671\">\n",
       "    <rect x=\"480\" y=\"0\" width=\"1681\" height=\"1600\"/>\n",
       "  </clipPath>\n",
       "</defs>\n",
       "<path clip-path=\"url(#clip670)\" d=\"M155.765 1486.45 L2352.76 1486.45 L2352.76 47.2441 L155.765 47.2441  Z\" fill=\"#ffffff\" fill-rule=\"evenodd\" fill-opacity=\"1\"/>\n",
       "<defs>\n",
       "  <clipPath id=\"clip672\">\n",
       "    <rect x=\"155\" y=\"47\" width=\"2198\" height=\"1440\"/>\n",
       "  </clipPath>\n",
       "</defs>\n",
       "<polyline clip-path=\"url(#clip672)\" style=\"stroke:#000000; stroke-linecap:round; stroke-linejoin:round; stroke-width:2; stroke-opacity:0.1; fill:none\" points=\"217.944,1486.45 217.944,47.2441 \"/>\n",
       "<polyline clip-path=\"url(#clip672)\" style=\"stroke:#000000; stroke-linecap:round; stroke-linejoin:round; stroke-width:2; stroke-opacity:0.1; fill:none\" points=\"736.102,1486.45 736.102,47.2441 \"/>\n",
       "<polyline clip-path=\"url(#clip672)\" style=\"stroke:#000000; stroke-linecap:round; stroke-linejoin:round; stroke-width:2; stroke-opacity:0.1; fill:none\" points=\"1254.26,1486.45 1254.26,47.2441 \"/>\n",
       "<polyline clip-path=\"url(#clip672)\" style=\"stroke:#000000; stroke-linecap:round; stroke-linejoin:round; stroke-width:2; stroke-opacity:0.1; fill:none\" points=\"1772.42,1486.45 1772.42,47.2441 \"/>\n",
       "<polyline clip-path=\"url(#clip672)\" style=\"stroke:#000000; stroke-linecap:round; stroke-linejoin:round; stroke-width:2; stroke-opacity:0.1; fill:none\" points=\"2290.58,1486.45 2290.58,47.2441 \"/>\n",
       "<polyline clip-path=\"url(#clip672)\" style=\"stroke:#000000; stroke-linecap:round; stroke-linejoin:round; stroke-width:2; stroke-opacity:0.1; fill:none\" points=\"155.765,1243 2352.76,1243 \"/>\n",
       "<polyline clip-path=\"url(#clip672)\" style=\"stroke:#000000; stroke-linecap:round; stroke-linejoin:round; stroke-width:2; stroke-opacity:0.1; fill:none\" points=\"155.765,868.945 2352.76,868.945 \"/>\n",
       "<polyline clip-path=\"url(#clip672)\" style=\"stroke:#000000; stroke-linecap:round; stroke-linejoin:round; stroke-width:2; stroke-opacity:0.1; fill:none\" points=\"155.765,494.892 2352.76,494.892 \"/>\n",
       "<polyline clip-path=\"url(#clip672)\" style=\"stroke:#000000; stroke-linecap:round; stroke-linejoin:round; stroke-width:2; stroke-opacity:0.1; fill:none\" points=\"155.765,120.838 2352.76,120.838 \"/>\n",
       "<polyline clip-path=\"url(#clip670)\" style=\"stroke:#000000; stroke-linecap:round; stroke-linejoin:round; stroke-width:4; stroke-opacity:1; fill:none\" points=\"155.765,1486.45 2352.76,1486.45 \"/>\n",
       "<polyline clip-path=\"url(#clip670)\" style=\"stroke:#000000; stroke-linecap:round; stroke-linejoin:round; stroke-width:4; stroke-opacity:1; fill:none\" points=\"217.944,1486.45 217.944,1467.55 \"/>\n",
       "<polyline clip-path=\"url(#clip670)\" style=\"stroke:#000000; stroke-linecap:round; stroke-linejoin:round; stroke-width:4; stroke-opacity:1; fill:none\" points=\"736.102,1486.45 736.102,1467.55 \"/>\n",
       "<polyline clip-path=\"url(#clip670)\" style=\"stroke:#000000; stroke-linecap:round; stroke-linejoin:round; stroke-width:4; stroke-opacity:1; fill:none\" points=\"1254.26,1486.45 1254.26,1467.55 \"/>\n",
       "<polyline clip-path=\"url(#clip670)\" style=\"stroke:#000000; stroke-linecap:round; stroke-linejoin:round; stroke-width:4; stroke-opacity:1; fill:none\" points=\"1772.42,1486.45 1772.42,1467.55 \"/>\n",
       "<polyline clip-path=\"url(#clip670)\" style=\"stroke:#000000; stroke-linecap:round; stroke-linejoin:round; stroke-width:4; stroke-opacity:1; fill:none\" points=\"2290.58,1486.45 2290.58,1467.55 \"/>\n",
       "<path clip-path=\"url(#clip670)\" d=\"M180.247 1517.37 Q176.636 1517.37 174.808 1520.93 Q173.002 1524.47 173.002 1531.6 Q173.002 1538.71 174.808 1542.27 Q176.636 1545.82 180.247 1545.82 Q183.882 1545.82 185.687 1542.27 Q187.516 1538.71 187.516 1531.6 Q187.516 1524.47 185.687 1520.93 Q183.882 1517.37 180.247 1517.37 M180.247 1513.66 Q186.057 1513.66 189.113 1518.27 Q192.192 1522.85 192.192 1531.6 Q192.192 1540.33 189.113 1544.94 Q186.057 1549.52 180.247 1549.52 Q174.437 1549.52 171.358 1544.94 Q168.303 1540.33 168.303 1531.6 Q168.303 1522.85 171.358 1518.27 Q174.437 1513.66 180.247 1513.66 Z\" fill=\"#000000\" fill-rule=\"nonzero\" fill-opacity=\"1\" /><path clip-path=\"url(#clip670)\" d=\"M200.409 1542.97 L205.294 1542.97 L205.294 1548.85 L200.409 1548.85 L200.409 1542.97 Z\" fill=\"#000000\" fill-rule=\"nonzero\" fill-opacity=\"1\" /><path clip-path=\"url(#clip670)\" d=\"M225.479 1517.37 Q221.867 1517.37 220.039 1520.93 Q218.233 1524.47 218.233 1531.6 Q218.233 1538.71 220.039 1542.27 Q221.867 1545.82 225.479 1545.82 Q229.113 1545.82 230.918 1542.27 Q232.747 1538.71 232.747 1531.6 Q232.747 1524.47 230.918 1520.93 Q229.113 1517.37 225.479 1517.37 M225.479 1513.66 Q231.289 1513.66 234.344 1518.27 Q237.423 1522.85 237.423 1531.6 Q237.423 1540.33 234.344 1544.94 Q231.289 1549.52 225.479 1549.52 Q219.668 1549.52 216.59 1544.94 Q213.534 1540.33 213.534 1531.6 Q213.534 1522.85 216.59 1518.27 Q219.668 1513.66 225.479 1513.66 Z\" fill=\"#000000\" fill-rule=\"nonzero\" fill-opacity=\"1\" /><path clip-path=\"url(#clip670)\" d=\"M255.64 1517.37 Q252.029 1517.37 250.201 1520.93 Q248.395 1524.47 248.395 1531.6 Q248.395 1538.71 250.201 1542.27 Q252.029 1545.82 255.64 1545.82 Q259.275 1545.82 261.08 1542.27 Q262.909 1538.71 262.909 1531.6 Q262.909 1524.47 261.08 1520.93 Q259.275 1517.37 255.64 1517.37 M255.64 1513.66 Q261.451 1513.66 264.506 1518.27 Q267.585 1522.85 267.585 1531.6 Q267.585 1540.33 264.506 1544.94 Q261.451 1549.52 255.64 1549.52 Q249.83 1549.52 246.752 1544.94 Q243.696 1540.33 243.696 1531.6 Q243.696 1522.85 246.752 1518.27 Q249.83 1513.66 255.64 1513.66 Z\" fill=\"#000000\" fill-rule=\"nonzero\" fill-opacity=\"1\" /><path clip-path=\"url(#clip670)\" d=\"M698.903 1517.37 Q695.292 1517.37 693.463 1520.93 Q691.658 1524.47 691.658 1531.6 Q691.658 1538.71 693.463 1542.27 Q695.292 1545.82 698.903 1545.82 Q702.538 1545.82 704.343 1542.27 Q706.172 1538.71 706.172 1531.6 Q706.172 1524.47 704.343 1520.93 Q702.538 1517.37 698.903 1517.37 M698.903 1513.66 Q704.713 1513.66 707.769 1518.27 Q710.848 1522.85 710.848 1531.6 Q710.848 1540.33 707.769 1544.94 Q704.713 1549.52 698.903 1549.52 Q693.093 1549.52 690.014 1544.94 Q686.959 1540.33 686.959 1531.6 Q686.959 1522.85 690.014 1518.27 Q693.093 1513.66 698.903 1513.66 Z\" fill=\"#000000\" fill-rule=\"nonzero\" fill-opacity=\"1\" /><path clip-path=\"url(#clip670)\" d=\"M719.065 1542.97 L723.949 1542.97 L723.949 1548.85 L719.065 1548.85 L719.065 1542.97 Z\" fill=\"#000000\" fill-rule=\"nonzero\" fill-opacity=\"1\" /><path clip-path=\"url(#clip670)\" d=\"M738.162 1544.91 L754.482 1544.91 L754.482 1548.85 L732.537 1548.85 L732.537 1544.91 Q735.199 1542.16 739.783 1537.53 Q744.389 1532.88 745.57 1531.53 Q747.815 1529.01 748.695 1527.27 Q749.597 1525.51 749.597 1523.82 Q749.597 1521.07 747.653 1519.33 Q745.732 1517.6 742.63 1517.6 Q740.431 1517.6 737.977 1518.36 Q735.547 1519.13 732.769 1520.68 L732.769 1515.95 Q735.593 1514.82 738.047 1514.24 Q740.5 1513.66 742.537 1513.66 Q747.908 1513.66 751.102 1516.35 Q754.296 1519.03 754.296 1523.52 Q754.296 1525.65 753.486 1527.57 Q752.699 1529.47 750.593 1532.07 Q750.014 1532.74 746.912 1535.95 Q743.81 1539.15 738.162 1544.91 Z\" fill=\"#000000\" fill-rule=\"nonzero\" fill-opacity=\"1\" /><path clip-path=\"url(#clip670)\" d=\"M764.343 1514.29 L782.699 1514.29 L782.699 1518.22 L768.625 1518.22 L768.625 1526.7 Q769.644 1526.35 770.662 1526.19 Q771.681 1526 772.699 1526 Q778.486 1526 781.866 1529.17 Q785.245 1532.34 785.245 1537.76 Q785.245 1543.34 781.773 1546.44 Q778.301 1549.52 771.982 1549.52 Q769.806 1549.52 767.537 1549.15 Q765.292 1548.78 762.884 1548.04 L762.884 1543.34 Q764.968 1544.47 767.19 1545.03 Q769.412 1545.58 771.889 1545.58 Q775.894 1545.58 778.232 1543.48 Q780.57 1541.37 780.57 1537.76 Q780.57 1534.15 778.232 1532.04 Q775.894 1529.94 771.889 1529.94 Q770.014 1529.94 768.139 1530.35 Q766.287 1530.77 764.343 1531.65 L764.343 1514.29 Z\" fill=\"#000000\" fill-rule=\"nonzero\" fill-opacity=\"1\" /><path clip-path=\"url(#clip670)\" d=\"M1216.56 1517.37 Q1212.95 1517.37 1211.12 1520.93 Q1209.32 1524.47 1209.32 1531.6 Q1209.32 1538.71 1211.12 1542.27 Q1212.95 1545.82 1216.56 1545.82 Q1220.2 1545.82 1222 1542.27 Q1223.83 1538.71 1223.83 1531.6 Q1223.83 1524.47 1222 1520.93 Q1220.2 1517.37 1216.56 1517.37 M1216.56 1513.66 Q1222.37 1513.66 1225.43 1518.27 Q1228.51 1522.85 1228.51 1531.6 Q1228.51 1540.33 1225.43 1544.94 Q1222.37 1549.52 1216.56 1549.52 Q1210.75 1549.52 1207.68 1544.94 Q1204.62 1540.33 1204.62 1531.6 Q1204.62 1522.85 1207.68 1518.27 Q1210.75 1513.66 1216.56 1513.66 Z\" fill=\"#000000\" fill-rule=\"nonzero\" fill-opacity=\"1\" /><path clip-path=\"url(#clip670)\" d=\"M1236.73 1542.97 L1241.61 1542.97 L1241.61 1548.85 L1236.73 1548.85 L1236.73 1542.97 Z\" fill=\"#000000\" fill-rule=\"nonzero\" fill-opacity=\"1\" /><path clip-path=\"url(#clip670)\" d=\"M1251.84 1514.29 L1270.2 1514.29 L1270.2 1518.22 L1256.12 1518.22 L1256.12 1526.7 Q1257.14 1526.35 1258.16 1526.19 Q1259.18 1526 1260.2 1526 Q1265.98 1526 1269.36 1529.17 Q1272.74 1532.34 1272.74 1537.76 Q1272.74 1543.34 1269.27 1546.44 Q1265.8 1549.52 1259.48 1549.52 Q1257.3 1549.52 1255.04 1549.15 Q1252.79 1548.78 1250.38 1548.04 L1250.38 1543.34 Q1252.47 1544.47 1254.69 1545.03 Q1256.91 1545.58 1259.39 1545.58 Q1263.39 1545.58 1265.73 1543.48 Q1268.07 1541.37 1268.07 1537.76 Q1268.07 1534.15 1265.73 1532.04 Q1263.39 1529.94 1259.39 1529.94 Q1257.51 1529.94 1255.64 1530.35 Q1253.79 1530.77 1251.84 1531.65 L1251.84 1514.29 Z\" fill=\"#000000\" fill-rule=\"nonzero\" fill-opacity=\"1\" /><path clip-path=\"url(#clip670)\" d=\"M1291.96 1517.37 Q1288.35 1517.37 1286.52 1520.93 Q1284.71 1524.47 1284.71 1531.6 Q1284.71 1538.71 1286.52 1542.27 Q1288.35 1545.82 1291.96 1545.82 Q1295.59 1545.82 1297.4 1542.27 Q1299.23 1538.71 1299.23 1531.6 Q1299.23 1524.47 1297.4 1520.93 Q1295.59 1517.37 1291.96 1517.37 M1291.96 1513.66 Q1297.77 1513.66 1300.82 1518.27 Q1303.9 1522.85 1303.9 1531.6 Q1303.9 1540.33 1300.82 1544.94 Q1297.77 1549.52 1291.96 1549.52 Q1286.15 1549.52 1283.07 1544.94 Q1280.01 1540.33 1280.01 1531.6 Q1280.01 1522.85 1283.07 1518.27 Q1286.15 1513.66 1291.96 1513.66 Z\" fill=\"#000000\" fill-rule=\"nonzero\" fill-opacity=\"1\" /><path clip-path=\"url(#clip670)\" d=\"M1735.22 1517.37 Q1731.61 1517.37 1729.78 1520.93 Q1727.97 1524.47 1727.97 1531.6 Q1727.97 1538.71 1729.78 1542.27 Q1731.61 1545.82 1735.22 1545.82 Q1738.85 1545.82 1740.66 1542.27 Q1742.49 1538.71 1742.49 1531.6 Q1742.49 1524.47 1740.66 1520.93 Q1738.85 1517.37 1735.22 1517.37 M1735.22 1513.66 Q1741.03 1513.66 1744.09 1518.27 Q1747.16 1522.85 1747.16 1531.6 Q1747.16 1540.33 1744.09 1544.94 Q1741.03 1549.52 1735.22 1549.52 Q1729.41 1549.52 1726.33 1544.94 Q1723.28 1540.33 1723.28 1531.6 Q1723.28 1522.85 1726.33 1518.27 Q1729.41 1513.66 1735.22 1513.66 Z\" fill=\"#000000\" fill-rule=\"nonzero\" fill-opacity=\"1\" /><path clip-path=\"url(#clip670)\" d=\"M1755.38 1542.97 L1760.27 1542.97 L1760.27 1548.85 L1755.38 1548.85 L1755.38 1542.97 Z\" fill=\"#000000\" fill-rule=\"nonzero\" fill-opacity=\"1\" /><path clip-path=\"url(#clip670)\" d=\"M1769.27 1514.29 L1791.49 1514.29 L1791.49 1516.28 L1778.95 1548.85 L1774.06 1548.85 L1785.87 1518.22 L1769.27 1518.22 L1769.27 1514.29 Z\" fill=\"#000000\" fill-rule=\"nonzero\" fill-opacity=\"1\" /><path clip-path=\"url(#clip670)\" d=\"M1800.66 1514.29 L1819.02 1514.29 L1819.02 1518.22 L1804.94 1518.22 L1804.94 1526.7 Q1805.96 1526.35 1806.98 1526.19 Q1808 1526 1809.02 1526 Q1814.8 1526 1818.18 1529.17 Q1821.56 1532.34 1821.56 1537.76 Q1821.56 1543.34 1818.09 1546.44 Q1814.62 1549.52 1808.3 1549.52 Q1806.12 1549.52 1803.85 1549.15 Q1801.61 1548.78 1799.2 1548.04 L1799.2 1543.34 Q1801.28 1544.47 1803.51 1545.03 Q1805.73 1545.58 1808.21 1545.58 Q1812.21 1545.58 1814.55 1543.48 Q1816.89 1541.37 1816.89 1537.76 Q1816.89 1534.15 1814.55 1532.04 Q1812.21 1529.94 1808.21 1529.94 Q1806.33 1529.94 1804.46 1530.35 Q1802.6 1530.77 1800.66 1531.65 L1800.66 1514.29 Z\" fill=\"#000000\" fill-rule=\"nonzero\" fill-opacity=\"1\" /><path clip-path=\"url(#clip670)\" d=\"M2242.65 1544.91 L2250.29 1544.91 L2250.29 1518.55 L2241.98 1520.21 L2241.98 1515.95 L2250.24 1514.29 L2254.92 1514.29 L2254.92 1544.91 L2262.56 1544.91 L2262.56 1548.85 L2242.65 1548.85 L2242.65 1544.91 Z\" fill=\"#000000\" fill-rule=\"nonzero\" fill-opacity=\"1\" /><path clip-path=\"url(#clip670)\" d=\"M2272 1542.97 L2276.88 1542.97 L2276.88 1548.85 L2272 1548.85 L2272 1542.97 Z\" fill=\"#000000\" fill-rule=\"nonzero\" fill-opacity=\"1\" /><path clip-path=\"url(#clip670)\" d=\"M2297.07 1517.37 Q2293.46 1517.37 2291.63 1520.93 Q2289.82 1524.47 2289.82 1531.6 Q2289.82 1538.71 2291.63 1542.27 Q2293.46 1545.82 2297.07 1545.82 Q2300.7 1545.82 2302.51 1542.27 Q2304.34 1538.71 2304.34 1531.6 Q2304.34 1524.47 2302.51 1520.93 Q2300.7 1517.37 2297.07 1517.37 M2297.07 1513.66 Q2302.88 1513.66 2305.94 1518.27 Q2309.01 1522.85 2309.01 1531.6 Q2309.01 1540.33 2305.94 1544.94 Q2302.88 1549.52 2297.07 1549.52 Q2291.26 1549.52 2288.18 1544.94 Q2285.13 1540.33 2285.13 1531.6 Q2285.13 1522.85 2288.18 1518.27 Q2291.26 1513.66 2297.07 1513.66 Z\" fill=\"#000000\" fill-rule=\"nonzero\" fill-opacity=\"1\" /><path clip-path=\"url(#clip670)\" d=\"M2327.23 1517.37 Q2323.62 1517.37 2321.79 1520.93 Q2319.99 1524.47 2319.99 1531.6 Q2319.99 1538.71 2321.79 1542.27 Q2323.62 1545.82 2327.23 1545.82 Q2330.87 1545.82 2332.67 1542.27 Q2334.5 1538.71 2334.5 1531.6 Q2334.5 1524.47 2332.67 1520.93 Q2330.87 1517.37 2327.23 1517.37 M2327.23 1513.66 Q2333.04 1513.66 2336.1 1518.27 Q2339.18 1522.85 2339.18 1531.6 Q2339.18 1540.33 2336.1 1544.94 Q2333.04 1549.52 2327.23 1549.52 Q2321.42 1549.52 2318.34 1544.94 Q2315.29 1540.33 2315.29 1531.6 Q2315.29 1522.85 2318.34 1518.27 Q2321.42 1513.66 2327.23 1513.66 Z\" fill=\"#000000\" fill-rule=\"nonzero\" fill-opacity=\"1\" /><polyline clip-path=\"url(#clip670)\" style=\"stroke:#000000; stroke-linecap:round; stroke-linejoin:round; stroke-width:4; stroke-opacity:1; fill:none\" points=\"155.765,1486.45 155.765,47.2441 \"/>\n",
       "<polyline clip-path=\"url(#clip670)\" style=\"stroke:#000000; stroke-linecap:round; stroke-linejoin:round; stroke-width:4; stroke-opacity:1; fill:none\" points=\"155.765,1243 174.663,1243 \"/>\n",
       "<polyline clip-path=\"url(#clip670)\" style=\"stroke:#000000; stroke-linecap:round; stroke-linejoin:round; stroke-width:4; stroke-opacity:1; fill:none\" points=\"155.765,868.945 174.663,868.945 \"/>\n",
       "<polyline clip-path=\"url(#clip670)\" style=\"stroke:#000000; stroke-linecap:round; stroke-linejoin:round; stroke-width:4; stroke-opacity:1; fill:none\" points=\"155.765,494.892 174.663,494.892 \"/>\n",
       "<polyline clip-path=\"url(#clip670)\" style=\"stroke:#000000; stroke-linecap:round; stroke-linejoin:round; stroke-width:4; stroke-opacity:1; fill:none\" points=\"155.765,120.838 174.663,120.838 \"/>\n",
       "<path clip-path=\"url(#clip670)\" d=\"M63.5847 1228.8 Q59.9736 1228.8 58.1449 1232.36 Q56.3393 1235.9 56.3393 1243.03 Q56.3393 1250.14 58.1449 1253.7 Q59.9736 1257.25 63.5847 1257.25 Q67.2189 1257.25 69.0244 1253.7 Q70.8531 1250.14 70.8531 1243.03 Q70.8531 1235.9 69.0244 1232.36 Q67.2189 1228.8 63.5847 1228.8 M63.5847 1225.09 Q69.3948 1225.09 72.4503 1229.7 Q75.529 1234.28 75.529 1243.03 Q75.529 1251.76 72.4503 1256.37 Q69.3948 1260.95 63.5847 1260.95 Q57.7745 1260.95 54.6958 1256.37 Q51.6403 1251.76 51.6403 1243.03 Q51.6403 1234.28 54.6958 1229.7 Q57.7745 1225.09 63.5847 1225.09 Z\" fill=\"#000000\" fill-rule=\"nonzero\" fill-opacity=\"1\" /><path clip-path=\"url(#clip670)\" d=\"M83.7466 1254.4 L88.6308 1254.4 L88.6308 1260.28 L83.7466 1260.28 L83.7466 1254.4 Z\" fill=\"#000000\" fill-rule=\"nonzero\" fill-opacity=\"1\" /><path clip-path=\"url(#clip670)\" d=\"M98.8622 1225.72 L117.219 1225.72 L117.219 1229.65 L103.145 1229.65 L103.145 1238.13 Q104.163 1237.78 105.182 1237.62 Q106.2 1237.43 107.219 1237.43 Q113.006 1237.43 116.385 1240.6 Q119.765 1243.77 119.765 1249.19 Q119.765 1254.77 116.293 1257.87 Q112.82 1260.95 106.501 1260.95 Q104.325 1260.95 102.057 1260.58 Q99.8113 1260.21 97.4039 1259.47 L97.4039 1254.77 Q99.4872 1255.9 101.709 1256.46 Q103.932 1257.02 106.408 1257.02 Q110.413 1257.02 112.751 1254.91 Q115.089 1252.8 115.089 1249.19 Q115.089 1245.58 112.751 1243.47 Q110.413 1241.37 106.408 1241.37 Q104.534 1241.37 102.659 1241.78 Q100.807 1242.2 98.8622 1243.08 L98.8622 1225.72 Z\" fill=\"#000000\" fill-rule=\"nonzero\" fill-opacity=\"1\" /><path clip-path=\"url(#clip670)\" d=\"M53.3995 882.29 L61.0384 882.29 L61.0384 855.925 L52.7282 857.591 L52.7282 853.332 L60.9921 851.665 L65.668 851.665 L65.668 882.29 L73.3068 882.29 L73.3068 886.225 L53.3995 886.225 L53.3995 882.29 Z\" fill=\"#000000\" fill-rule=\"nonzero\" fill-opacity=\"1\" /><path clip-path=\"url(#clip670)\" d=\"M82.7512 880.346 L87.6354 880.346 L87.6354 886.225 L82.7512 886.225 L82.7512 880.346 Z\" fill=\"#000000\" fill-rule=\"nonzero\" fill-opacity=\"1\" /><path clip-path=\"url(#clip670)\" d=\"M107.821 854.744 Q104.209 854.744 102.381 858.309 Q100.575 861.851 100.575 868.98 Q100.575 876.087 102.381 879.651 Q104.209 883.193 107.821 883.193 Q111.455 883.193 113.26 879.651 Q115.089 876.087 115.089 868.98 Q115.089 861.851 113.26 858.309 Q111.455 854.744 107.821 854.744 M107.821 851.04 Q113.631 851.04 116.686 855.647 Q119.765 860.23 119.765 868.98 Q119.765 877.707 116.686 882.313 Q113.631 886.897 107.821 886.897 Q102.01 886.897 98.9317 882.313 Q95.8761 877.707 95.8761 868.98 Q95.8761 860.23 98.9317 855.647 Q102.01 851.04 107.821 851.04 Z\" fill=\"#000000\" fill-rule=\"nonzero\" fill-opacity=\"1\" /><path clip-path=\"url(#clip670)\" d=\"M54.3949 508.237 L62.0337 508.237 L62.0337 481.871 L53.7236 483.538 L53.7236 479.278 L61.9874 477.612 L66.6633 477.612 L66.6633 508.237 L74.3022 508.237 L74.3022 512.172 L54.3949 512.172 L54.3949 508.237 Z\" fill=\"#000000\" fill-rule=\"nonzero\" fill-opacity=\"1\" /><path clip-path=\"url(#clip670)\" d=\"M83.7466 506.292 L88.6308 506.292 L88.6308 512.172 L83.7466 512.172 L83.7466 506.292 Z\" fill=\"#000000\" fill-rule=\"nonzero\" fill-opacity=\"1\" /><path clip-path=\"url(#clip670)\" d=\"M98.8622 477.612 L117.219 477.612 L117.219 481.547 L103.145 481.547 L103.145 490.019 Q104.163 489.672 105.182 489.51 Q106.2 489.325 107.219 489.325 Q113.006 489.325 116.385 492.496 Q119.765 495.667 119.765 501.084 Q119.765 506.663 116.293 509.764 Q112.82 512.843 106.501 512.843 Q104.325 512.843 102.057 512.473 Q99.8113 512.102 97.4039 511.362 L97.4039 506.663 Q99.4872 507.797 101.709 508.352 Q103.932 508.908 106.408 508.908 Q110.413 508.908 112.751 506.801 Q115.089 504.695 115.089 501.084 Q115.089 497.473 112.751 495.366 Q110.413 493.26 106.408 493.26 Q104.534 493.26 102.659 493.677 Q100.807 494.093 98.8622 494.973 L98.8622 477.612 Z\" fill=\"#000000\" fill-rule=\"nonzero\" fill-opacity=\"1\" /><path clip-path=\"url(#clip670)\" d=\"M56.6171 134.183 L72.9365 134.183 L72.9365 138.118 L50.9921 138.118 L50.9921 134.183 Q53.6541 131.428 58.2375 126.799 Q62.8439 122.146 64.0245 120.804 Q66.2698 118.28 67.1494 116.544 Q68.0522 114.785 68.0522 113.095 Q68.0522 110.341 66.1078 108.604 Q64.1865 106.868 61.0847 106.868 Q58.8856 106.868 56.4319 107.632 Q54.0014 108.396 51.2236 109.947 L51.2236 105.225 Q54.0477 104.091 56.5014 103.512 Q58.955 102.933 60.9921 102.933 Q66.3624 102.933 69.5568 105.618 Q72.7513 108.304 72.7513 112.794 Q72.7513 114.924 71.9411 116.845 Q71.1541 118.743 69.0476 121.336 Q68.4689 122.007 65.367 125.225 Q62.2652 128.419 56.6171 134.183 Z\" fill=\"#000000\" fill-rule=\"nonzero\" fill-opacity=\"1\" /><path clip-path=\"url(#clip670)\" d=\"M82.7512 132.239 L87.6354 132.239 L87.6354 138.118 L82.7512 138.118 L82.7512 132.239 Z\" fill=\"#000000\" fill-rule=\"nonzero\" fill-opacity=\"1\" /><path clip-path=\"url(#clip670)\" d=\"M107.821 106.637 Q104.209 106.637 102.381 110.202 Q100.575 113.743 100.575 120.873 Q100.575 127.979 102.381 131.544 Q104.209 135.086 107.821 135.086 Q111.455 135.086 113.26 131.544 Q115.089 127.979 115.089 120.873 Q115.089 113.743 113.26 110.202 Q111.455 106.637 107.821 106.637 M107.821 102.933 Q113.631 102.933 116.686 107.54 Q119.765 112.123 119.765 120.873 Q119.765 129.6 116.686 134.206 Q113.631 138.79 107.821 138.79 Q102.01 138.79 98.9317 134.206 Q95.8761 129.6 95.8761 120.873 Q95.8761 112.123 98.9317 107.54 Q102.01 102.933 107.821 102.933 Z\" fill=\"#000000\" fill-rule=\"nonzero\" fill-opacity=\"1\" /><circle clip-path=\"url(#clip672)\" cx=\"217.944\" cy=\"87.9763\" r=\"14.4\" fill=\"#009af9\" fill-rule=\"evenodd\" fill-opacity=\"1\" stroke=\"#000000\" stroke-opacity=\"1\" stroke-width=\"3.2\"/>\n",
       "<circle clip-path=\"url(#clip672)\" cx=\"425.207\" cy=\"417.885\" r=\"14.4\" fill=\"#009af9\" fill-rule=\"evenodd\" fill-opacity=\"1\" stroke=\"#000000\" stroke-opacity=\"1\" stroke-width=\"3.2\"/>\n",
       "<circle clip-path=\"url(#clip672)\" cx=\"632.47\" cy=\"654.312\" r=\"14.4\" fill=\"#009af9\" fill-rule=\"evenodd\" fill-opacity=\"1\" stroke=\"#000000\" stroke-opacity=\"1\" stroke-width=\"3.2\"/>\n",
       "<circle clip-path=\"url(#clip672)\" cx=\"839.734\" cy=\"725.763\" r=\"14.4\" fill=\"#009af9\" fill-rule=\"evenodd\" fill-opacity=\"1\" stroke=\"#000000\" stroke-opacity=\"1\" stroke-width=\"3.2\"/>\n",
       "<circle clip-path=\"url(#clip672)\" cx=\"1047\" cy=\"978.307\" r=\"14.4\" fill=\"#009af9\" fill-rule=\"evenodd\" fill-opacity=\"1\" stroke=\"#000000\" stroke-opacity=\"1\" stroke-width=\"3.2\"/>\n",
       "<circle clip-path=\"url(#clip672)\" cx=\"1254.26\" cy=\"1099.99\" r=\"14.4\" fill=\"#009af9\" fill-rule=\"evenodd\" fill-opacity=\"1\" stroke=\"#000000\" stroke-opacity=\"1\" stroke-width=\"3.2\"/>\n",
       "<circle clip-path=\"url(#clip672)\" cx=\"1461.52\" cy=\"1220.42\" r=\"14.4\" fill=\"#009af9\" fill-rule=\"evenodd\" fill-opacity=\"1\" stroke=\"#000000\" stroke-opacity=\"1\" stroke-width=\"3.2\"/>\n",
       "<circle clip-path=\"url(#clip672)\" cx=\"1668.79\" cy=\"1224.37\" r=\"14.4\" fill=\"#009af9\" fill-rule=\"evenodd\" fill-opacity=\"1\" stroke=\"#000000\" stroke-opacity=\"1\" stroke-width=\"3.2\"/>\n",
       "<circle clip-path=\"url(#clip672)\" cx=\"1876.05\" cy=\"1335.64\" r=\"14.4\" fill=\"#009af9\" fill-rule=\"evenodd\" fill-opacity=\"1\" stroke=\"#000000\" stroke-opacity=\"1\" stroke-width=\"3.2\"/>\n",
       "<circle clip-path=\"url(#clip672)\" cx=\"2083.31\" cy=\"1330.38\" r=\"14.4\" fill=\"#009af9\" fill-rule=\"evenodd\" fill-opacity=\"1\" stroke=\"#000000\" stroke-opacity=\"1\" stroke-width=\"3.2\"/>\n",
       "<circle clip-path=\"url(#clip672)\" cx=\"2290.58\" cy=\"1445.72\" r=\"14.4\" fill=\"#009af9\" fill-rule=\"evenodd\" fill-opacity=\"1\" stroke=\"#000000\" stroke-opacity=\"1\" stroke-width=\"3.2\"/>\n",
       "<path clip-path=\"url(#clip670)\" d=\"M2007.39 198.898 L2279.52 198.898 L2279.52 95.2176 L2007.39 95.2176  Z\" fill=\"#ffffff\" fill-rule=\"evenodd\" fill-opacity=\"1\"/>\n",
       "<polyline clip-path=\"url(#clip670)\" style=\"stroke:#000000; stroke-linecap:round; stroke-linejoin:round; stroke-width:4; stroke-opacity:1; fill:none\" points=\"2007.39,198.898 2279.52,198.898 2279.52,95.2176 2007.39,95.2176 2007.39,198.898 \"/>\n",
       "<circle clip-path=\"url(#clip670)\" cx=\"2105.04\" cy=\"147.058\" r=\"20.48\" fill=\"#009af9\" fill-rule=\"evenodd\" fill-opacity=\"1\" stroke=\"#000000\" stroke-opacity=\"1\" stroke-width=\"4.55111\"/>\n",
       "<path clip-path=\"url(#clip670)\" d=\"M2216.52 166.745 Q2214.72 171.375 2213.01 172.787 Q2211.29 174.199 2208.42 174.199 L2205.02 174.199 L2205.02 170.634 L2207.52 170.634 Q2209.28 170.634 2210.25 169.8 Q2211.22 168.967 2212.4 165.865 L2213.17 163.921 L2202.68 138.412 L2207.2 138.412 L2215.3 158.689 L2223.4 138.412 L2227.91 138.412 L2216.52 166.745 Z\" fill=\"#000000\" fill-rule=\"nonzero\" fill-opacity=\"1\" /><path clip-path=\"url(#clip670)\" d=\"M2235.2 160.402 L2242.84 160.402 L2242.84 134.037 L2234.53 135.703 L2234.53 131.444 L2242.8 129.778 L2247.47 129.778 L2247.47 160.402 L2255.11 160.402 L2255.11 164.338 L2235.2 164.338 L2235.2 160.402 Z\" fill=\"#000000\" fill-rule=\"nonzero\" fill-opacity=\"1\" /></svg>\n"
      ],
      "text/html": [
       "<?xml version=\"1.0\" encoding=\"utf-8\"?>\n",
       "<svg xmlns=\"http://www.w3.org/2000/svg\" xmlns:xlink=\"http://www.w3.org/1999/xlink\" width=\"600\" height=\"400\" viewBox=\"0 0 2400 1600\">\n",
       "<defs>\n",
       "  <clipPath id=\"clip720\">\n",
       "    <rect x=\"0\" y=\"0\" width=\"2400\" height=\"1600\"/>\n",
       "  </clipPath>\n",
       "</defs>\n",
       "<path clip-path=\"url(#clip720)\" d=\"M0 1600 L2400 1600 L2400 8.88178e-14 L0 8.88178e-14  Z\" fill=\"#ffffff\" fill-rule=\"evenodd\" fill-opacity=\"1\"/>\n",
       "<defs>\n",
       "  <clipPath id=\"clip721\">\n",
       "    <rect x=\"480\" y=\"0\" width=\"1681\" height=\"1600\"/>\n",
       "  </clipPath>\n",
       "</defs>\n",
       "<path clip-path=\"url(#clip720)\" d=\"M155.765 1486.45 L2352.76 1486.45 L2352.76 47.2441 L155.765 47.2441  Z\" fill=\"#ffffff\" fill-rule=\"evenodd\" fill-opacity=\"1\"/>\n",
       "<defs>\n",
       "  <clipPath id=\"clip722\">\n",
       "    <rect x=\"155\" y=\"47\" width=\"2198\" height=\"1440\"/>\n",
       "  </clipPath>\n",
       "</defs>\n",
       "<polyline clip-path=\"url(#clip722)\" style=\"stroke:#000000; stroke-linecap:round; stroke-linejoin:round; stroke-width:2; stroke-opacity:0.1; fill:none\" points=\"217.944,1486.45 217.944,47.2441 \"/>\n",
       "<polyline clip-path=\"url(#clip722)\" style=\"stroke:#000000; stroke-linecap:round; stroke-linejoin:round; stroke-width:2; stroke-opacity:0.1; fill:none\" points=\"736.102,1486.45 736.102,47.2441 \"/>\n",
       "<polyline clip-path=\"url(#clip722)\" style=\"stroke:#000000; stroke-linecap:round; stroke-linejoin:round; stroke-width:2; stroke-opacity:0.1; fill:none\" points=\"1254.26,1486.45 1254.26,47.2441 \"/>\n",
       "<polyline clip-path=\"url(#clip722)\" style=\"stroke:#000000; stroke-linecap:round; stroke-linejoin:round; stroke-width:2; stroke-opacity:0.1; fill:none\" points=\"1772.42,1486.45 1772.42,47.2441 \"/>\n",
       "<polyline clip-path=\"url(#clip722)\" style=\"stroke:#000000; stroke-linecap:round; stroke-linejoin:round; stroke-width:2; stroke-opacity:0.1; fill:none\" points=\"2290.58,1486.45 2290.58,47.2441 \"/>\n",
       "<polyline clip-path=\"url(#clip722)\" style=\"stroke:#000000; stroke-linecap:round; stroke-linejoin:round; stroke-width:2; stroke-opacity:0.1; fill:none\" points=\"155.765,1243 2352.76,1243 \"/>\n",
       "<polyline clip-path=\"url(#clip722)\" style=\"stroke:#000000; stroke-linecap:round; stroke-linejoin:round; stroke-width:2; stroke-opacity:0.1; fill:none\" points=\"155.765,868.945 2352.76,868.945 \"/>\n",
       "<polyline clip-path=\"url(#clip722)\" style=\"stroke:#000000; stroke-linecap:round; stroke-linejoin:round; stroke-width:2; stroke-opacity:0.1; fill:none\" points=\"155.765,494.892 2352.76,494.892 \"/>\n",
       "<polyline clip-path=\"url(#clip722)\" style=\"stroke:#000000; stroke-linecap:round; stroke-linejoin:round; stroke-width:2; stroke-opacity:0.1; fill:none\" points=\"155.765,120.838 2352.76,120.838 \"/>\n",
       "<polyline clip-path=\"url(#clip720)\" style=\"stroke:#000000; stroke-linecap:round; stroke-linejoin:round; stroke-width:4; stroke-opacity:1; fill:none\" points=\"155.765,1486.45 2352.76,1486.45 \"/>\n",
       "<polyline clip-path=\"url(#clip720)\" style=\"stroke:#000000; stroke-linecap:round; stroke-linejoin:round; stroke-width:4; stroke-opacity:1; fill:none\" points=\"217.944,1486.45 217.944,1467.55 \"/>\n",
       "<polyline clip-path=\"url(#clip720)\" style=\"stroke:#000000; stroke-linecap:round; stroke-linejoin:round; stroke-width:4; stroke-opacity:1; fill:none\" points=\"736.102,1486.45 736.102,1467.55 \"/>\n",
       "<polyline clip-path=\"url(#clip720)\" style=\"stroke:#000000; stroke-linecap:round; stroke-linejoin:round; stroke-width:4; stroke-opacity:1; fill:none\" points=\"1254.26,1486.45 1254.26,1467.55 \"/>\n",
       "<polyline clip-path=\"url(#clip720)\" style=\"stroke:#000000; stroke-linecap:round; stroke-linejoin:round; stroke-width:4; stroke-opacity:1; fill:none\" points=\"1772.42,1486.45 1772.42,1467.55 \"/>\n",
       "<polyline clip-path=\"url(#clip720)\" style=\"stroke:#000000; stroke-linecap:round; stroke-linejoin:round; stroke-width:4; stroke-opacity:1; fill:none\" points=\"2290.58,1486.45 2290.58,1467.55 \"/>\n",
       "<path clip-path=\"url(#clip720)\" d=\"M180.247 1517.37 Q176.636 1517.37 174.808 1520.93 Q173.002 1524.47 173.002 1531.6 Q173.002 1538.71 174.808 1542.27 Q176.636 1545.82 180.247 1545.82 Q183.882 1545.82 185.687 1542.27 Q187.516 1538.71 187.516 1531.6 Q187.516 1524.47 185.687 1520.93 Q183.882 1517.37 180.247 1517.37 M180.247 1513.66 Q186.057 1513.66 189.113 1518.27 Q192.192 1522.85 192.192 1531.6 Q192.192 1540.33 189.113 1544.94 Q186.057 1549.52 180.247 1549.52 Q174.437 1549.52 171.358 1544.94 Q168.303 1540.33 168.303 1531.6 Q168.303 1522.85 171.358 1518.27 Q174.437 1513.66 180.247 1513.66 Z\" fill=\"#000000\" fill-rule=\"nonzero\" fill-opacity=\"1\" /><path clip-path=\"url(#clip720)\" d=\"M200.409 1542.97 L205.294 1542.97 L205.294 1548.85 L200.409 1548.85 L200.409 1542.97 Z\" fill=\"#000000\" fill-rule=\"nonzero\" fill-opacity=\"1\" /><path clip-path=\"url(#clip720)\" d=\"M225.479 1517.37 Q221.867 1517.37 220.039 1520.93 Q218.233 1524.47 218.233 1531.6 Q218.233 1538.71 220.039 1542.27 Q221.867 1545.82 225.479 1545.82 Q229.113 1545.82 230.918 1542.27 Q232.747 1538.71 232.747 1531.6 Q232.747 1524.47 230.918 1520.93 Q229.113 1517.37 225.479 1517.37 M225.479 1513.66 Q231.289 1513.66 234.344 1518.27 Q237.423 1522.85 237.423 1531.6 Q237.423 1540.33 234.344 1544.94 Q231.289 1549.52 225.479 1549.52 Q219.668 1549.52 216.59 1544.94 Q213.534 1540.33 213.534 1531.6 Q213.534 1522.85 216.59 1518.27 Q219.668 1513.66 225.479 1513.66 Z\" fill=\"#000000\" fill-rule=\"nonzero\" fill-opacity=\"1\" /><path clip-path=\"url(#clip720)\" d=\"M255.64 1517.37 Q252.029 1517.37 250.201 1520.93 Q248.395 1524.47 248.395 1531.6 Q248.395 1538.71 250.201 1542.27 Q252.029 1545.82 255.64 1545.82 Q259.275 1545.82 261.08 1542.27 Q262.909 1538.71 262.909 1531.6 Q262.909 1524.47 261.08 1520.93 Q259.275 1517.37 255.64 1517.37 M255.64 1513.66 Q261.451 1513.66 264.506 1518.27 Q267.585 1522.85 267.585 1531.6 Q267.585 1540.33 264.506 1544.94 Q261.451 1549.52 255.64 1549.52 Q249.83 1549.52 246.752 1544.94 Q243.696 1540.33 243.696 1531.6 Q243.696 1522.85 246.752 1518.27 Q249.83 1513.66 255.64 1513.66 Z\" fill=\"#000000\" fill-rule=\"nonzero\" fill-opacity=\"1\" /><path clip-path=\"url(#clip720)\" d=\"M698.903 1517.37 Q695.292 1517.37 693.463 1520.93 Q691.658 1524.47 691.658 1531.6 Q691.658 1538.71 693.463 1542.27 Q695.292 1545.82 698.903 1545.82 Q702.538 1545.82 704.343 1542.27 Q706.172 1538.71 706.172 1531.6 Q706.172 1524.47 704.343 1520.93 Q702.538 1517.37 698.903 1517.37 M698.903 1513.66 Q704.713 1513.66 707.769 1518.27 Q710.848 1522.85 710.848 1531.6 Q710.848 1540.33 707.769 1544.94 Q704.713 1549.52 698.903 1549.52 Q693.093 1549.52 690.014 1544.94 Q686.959 1540.33 686.959 1531.6 Q686.959 1522.85 690.014 1518.27 Q693.093 1513.66 698.903 1513.66 Z\" fill=\"#000000\" fill-rule=\"nonzero\" fill-opacity=\"1\" /><path clip-path=\"url(#clip720)\" d=\"M719.065 1542.97 L723.949 1542.97 L723.949 1548.85 L719.065 1548.85 L719.065 1542.97 Z\" fill=\"#000000\" fill-rule=\"nonzero\" fill-opacity=\"1\" /><path clip-path=\"url(#clip720)\" d=\"M738.162 1544.91 L754.482 1544.91 L754.482 1548.85 L732.537 1548.85 L732.537 1544.91 Q735.199 1542.16 739.783 1537.53 Q744.389 1532.88 745.57 1531.53 Q747.815 1529.01 748.695 1527.27 Q749.597 1525.51 749.597 1523.82 Q749.597 1521.07 747.653 1519.33 Q745.732 1517.6 742.63 1517.6 Q740.431 1517.6 737.977 1518.36 Q735.547 1519.13 732.769 1520.68 L732.769 1515.95 Q735.593 1514.82 738.047 1514.24 Q740.5 1513.66 742.537 1513.66 Q747.908 1513.66 751.102 1516.35 Q754.296 1519.03 754.296 1523.52 Q754.296 1525.65 753.486 1527.57 Q752.699 1529.47 750.593 1532.07 Q750.014 1532.74 746.912 1535.95 Q743.81 1539.15 738.162 1544.91 Z\" fill=\"#000000\" fill-rule=\"nonzero\" fill-opacity=\"1\" /><path clip-path=\"url(#clip720)\" d=\"M764.343 1514.29 L782.699 1514.29 L782.699 1518.22 L768.625 1518.22 L768.625 1526.7 Q769.644 1526.35 770.662 1526.19 Q771.681 1526 772.699 1526 Q778.486 1526 781.866 1529.17 Q785.245 1532.34 785.245 1537.76 Q785.245 1543.34 781.773 1546.44 Q778.301 1549.52 771.982 1549.52 Q769.806 1549.52 767.537 1549.15 Q765.292 1548.78 762.884 1548.04 L762.884 1543.34 Q764.968 1544.47 767.19 1545.03 Q769.412 1545.58 771.889 1545.58 Q775.894 1545.58 778.232 1543.48 Q780.57 1541.37 780.57 1537.76 Q780.57 1534.15 778.232 1532.04 Q775.894 1529.94 771.889 1529.94 Q770.014 1529.94 768.139 1530.35 Q766.287 1530.77 764.343 1531.65 L764.343 1514.29 Z\" fill=\"#000000\" fill-rule=\"nonzero\" fill-opacity=\"1\" /><path clip-path=\"url(#clip720)\" d=\"M1216.56 1517.37 Q1212.95 1517.37 1211.12 1520.93 Q1209.32 1524.47 1209.32 1531.6 Q1209.32 1538.71 1211.12 1542.27 Q1212.95 1545.82 1216.56 1545.82 Q1220.2 1545.82 1222 1542.27 Q1223.83 1538.71 1223.83 1531.6 Q1223.83 1524.47 1222 1520.93 Q1220.2 1517.37 1216.56 1517.37 M1216.56 1513.66 Q1222.37 1513.66 1225.43 1518.27 Q1228.51 1522.85 1228.51 1531.6 Q1228.51 1540.33 1225.43 1544.94 Q1222.37 1549.52 1216.56 1549.52 Q1210.75 1549.52 1207.68 1544.94 Q1204.62 1540.33 1204.62 1531.6 Q1204.62 1522.85 1207.68 1518.27 Q1210.75 1513.66 1216.56 1513.66 Z\" fill=\"#000000\" fill-rule=\"nonzero\" fill-opacity=\"1\" /><path clip-path=\"url(#clip720)\" d=\"M1236.73 1542.97 L1241.61 1542.97 L1241.61 1548.85 L1236.73 1548.85 L1236.73 1542.97 Z\" fill=\"#000000\" fill-rule=\"nonzero\" fill-opacity=\"1\" /><path clip-path=\"url(#clip720)\" d=\"M1251.84 1514.29 L1270.2 1514.29 L1270.2 1518.22 L1256.12 1518.22 L1256.12 1526.7 Q1257.14 1526.35 1258.16 1526.19 Q1259.18 1526 1260.2 1526 Q1265.98 1526 1269.36 1529.17 Q1272.74 1532.34 1272.74 1537.76 Q1272.74 1543.34 1269.27 1546.44 Q1265.8 1549.52 1259.48 1549.52 Q1257.3 1549.52 1255.04 1549.15 Q1252.79 1548.78 1250.38 1548.04 L1250.38 1543.34 Q1252.47 1544.47 1254.69 1545.03 Q1256.91 1545.58 1259.39 1545.58 Q1263.39 1545.58 1265.73 1543.48 Q1268.07 1541.37 1268.07 1537.76 Q1268.07 1534.15 1265.73 1532.04 Q1263.39 1529.94 1259.39 1529.94 Q1257.51 1529.94 1255.64 1530.35 Q1253.79 1530.77 1251.84 1531.65 L1251.84 1514.29 Z\" fill=\"#000000\" fill-rule=\"nonzero\" fill-opacity=\"1\" /><path clip-path=\"url(#clip720)\" d=\"M1291.96 1517.37 Q1288.35 1517.37 1286.52 1520.93 Q1284.71 1524.47 1284.71 1531.6 Q1284.71 1538.71 1286.52 1542.27 Q1288.35 1545.82 1291.96 1545.82 Q1295.59 1545.82 1297.4 1542.27 Q1299.23 1538.71 1299.23 1531.6 Q1299.23 1524.47 1297.4 1520.93 Q1295.59 1517.37 1291.96 1517.37 M1291.96 1513.66 Q1297.77 1513.66 1300.82 1518.27 Q1303.9 1522.85 1303.9 1531.6 Q1303.9 1540.33 1300.82 1544.94 Q1297.77 1549.52 1291.96 1549.52 Q1286.15 1549.52 1283.07 1544.94 Q1280.01 1540.33 1280.01 1531.6 Q1280.01 1522.85 1283.07 1518.27 Q1286.15 1513.66 1291.96 1513.66 Z\" fill=\"#000000\" fill-rule=\"nonzero\" fill-opacity=\"1\" /><path clip-path=\"url(#clip720)\" d=\"M1735.22 1517.37 Q1731.61 1517.37 1729.78 1520.93 Q1727.97 1524.47 1727.97 1531.6 Q1727.97 1538.71 1729.78 1542.27 Q1731.61 1545.82 1735.22 1545.82 Q1738.85 1545.82 1740.66 1542.27 Q1742.49 1538.71 1742.49 1531.6 Q1742.49 1524.47 1740.66 1520.93 Q1738.85 1517.37 1735.22 1517.37 M1735.22 1513.66 Q1741.03 1513.66 1744.09 1518.27 Q1747.16 1522.85 1747.16 1531.6 Q1747.16 1540.33 1744.09 1544.94 Q1741.03 1549.52 1735.22 1549.52 Q1729.41 1549.52 1726.33 1544.94 Q1723.28 1540.33 1723.28 1531.6 Q1723.28 1522.85 1726.33 1518.27 Q1729.41 1513.66 1735.22 1513.66 Z\" fill=\"#000000\" fill-rule=\"nonzero\" fill-opacity=\"1\" /><path clip-path=\"url(#clip720)\" d=\"M1755.38 1542.97 L1760.27 1542.97 L1760.27 1548.85 L1755.38 1548.85 L1755.38 1542.97 Z\" fill=\"#000000\" fill-rule=\"nonzero\" fill-opacity=\"1\" /><path clip-path=\"url(#clip720)\" d=\"M1769.27 1514.29 L1791.49 1514.29 L1791.49 1516.28 L1778.95 1548.85 L1774.06 1548.85 L1785.87 1518.22 L1769.27 1518.22 L1769.27 1514.29 Z\" fill=\"#000000\" fill-rule=\"nonzero\" fill-opacity=\"1\" /><path clip-path=\"url(#clip720)\" d=\"M1800.66 1514.29 L1819.02 1514.29 L1819.02 1518.22 L1804.94 1518.22 L1804.94 1526.7 Q1805.96 1526.35 1806.98 1526.19 Q1808 1526 1809.02 1526 Q1814.8 1526 1818.18 1529.17 Q1821.56 1532.34 1821.56 1537.76 Q1821.56 1543.34 1818.09 1546.44 Q1814.62 1549.52 1808.3 1549.52 Q1806.12 1549.52 1803.85 1549.15 Q1801.61 1548.78 1799.2 1548.04 L1799.2 1543.34 Q1801.28 1544.47 1803.51 1545.03 Q1805.73 1545.58 1808.21 1545.58 Q1812.21 1545.58 1814.55 1543.48 Q1816.89 1541.37 1816.89 1537.76 Q1816.89 1534.15 1814.55 1532.04 Q1812.21 1529.94 1808.21 1529.94 Q1806.33 1529.94 1804.46 1530.35 Q1802.6 1530.77 1800.66 1531.65 L1800.66 1514.29 Z\" fill=\"#000000\" fill-rule=\"nonzero\" fill-opacity=\"1\" /><path clip-path=\"url(#clip720)\" d=\"M2242.65 1544.91 L2250.29 1544.91 L2250.29 1518.55 L2241.98 1520.21 L2241.98 1515.95 L2250.24 1514.29 L2254.92 1514.29 L2254.92 1544.91 L2262.56 1544.91 L2262.56 1548.85 L2242.65 1548.85 L2242.65 1544.91 Z\" fill=\"#000000\" fill-rule=\"nonzero\" fill-opacity=\"1\" /><path clip-path=\"url(#clip720)\" d=\"M2272 1542.97 L2276.88 1542.97 L2276.88 1548.85 L2272 1548.85 L2272 1542.97 Z\" fill=\"#000000\" fill-rule=\"nonzero\" fill-opacity=\"1\" /><path clip-path=\"url(#clip720)\" d=\"M2297.07 1517.37 Q2293.46 1517.37 2291.63 1520.93 Q2289.82 1524.47 2289.82 1531.6 Q2289.82 1538.71 2291.63 1542.27 Q2293.46 1545.82 2297.07 1545.82 Q2300.7 1545.82 2302.51 1542.27 Q2304.34 1538.71 2304.34 1531.6 Q2304.34 1524.47 2302.51 1520.93 Q2300.7 1517.37 2297.07 1517.37 M2297.07 1513.66 Q2302.88 1513.66 2305.94 1518.27 Q2309.01 1522.85 2309.01 1531.6 Q2309.01 1540.33 2305.94 1544.94 Q2302.88 1549.52 2297.07 1549.52 Q2291.26 1549.52 2288.18 1544.94 Q2285.13 1540.33 2285.13 1531.6 Q2285.13 1522.85 2288.18 1518.27 Q2291.26 1513.66 2297.07 1513.66 Z\" fill=\"#000000\" fill-rule=\"nonzero\" fill-opacity=\"1\" /><path clip-path=\"url(#clip720)\" d=\"M2327.23 1517.37 Q2323.62 1517.37 2321.79 1520.93 Q2319.99 1524.47 2319.99 1531.6 Q2319.99 1538.71 2321.79 1542.27 Q2323.62 1545.82 2327.23 1545.82 Q2330.87 1545.82 2332.67 1542.27 Q2334.5 1538.71 2334.5 1531.6 Q2334.5 1524.47 2332.67 1520.93 Q2330.87 1517.37 2327.23 1517.37 M2327.23 1513.66 Q2333.04 1513.66 2336.1 1518.27 Q2339.18 1522.85 2339.18 1531.6 Q2339.18 1540.33 2336.1 1544.94 Q2333.04 1549.52 2327.23 1549.52 Q2321.42 1549.52 2318.34 1544.94 Q2315.29 1540.33 2315.29 1531.6 Q2315.29 1522.85 2318.34 1518.27 Q2321.42 1513.66 2327.23 1513.66 Z\" fill=\"#000000\" fill-rule=\"nonzero\" fill-opacity=\"1\" /><polyline clip-path=\"url(#clip720)\" style=\"stroke:#000000; stroke-linecap:round; stroke-linejoin:round; stroke-width:4; stroke-opacity:1; fill:none\" points=\"155.765,1486.45 155.765,47.2441 \"/>\n",
       "<polyline clip-path=\"url(#clip720)\" style=\"stroke:#000000; stroke-linecap:round; stroke-linejoin:round; stroke-width:4; stroke-opacity:1; fill:none\" points=\"155.765,1243 174.663,1243 \"/>\n",
       "<polyline clip-path=\"url(#clip720)\" style=\"stroke:#000000; stroke-linecap:round; stroke-linejoin:round; stroke-width:4; stroke-opacity:1; fill:none\" points=\"155.765,868.945 174.663,868.945 \"/>\n",
       "<polyline clip-path=\"url(#clip720)\" style=\"stroke:#000000; stroke-linecap:round; stroke-linejoin:round; stroke-width:4; stroke-opacity:1; fill:none\" points=\"155.765,494.892 174.663,494.892 \"/>\n",
       "<polyline clip-path=\"url(#clip720)\" style=\"stroke:#000000; stroke-linecap:round; stroke-linejoin:round; stroke-width:4; stroke-opacity:1; fill:none\" points=\"155.765,120.838 174.663,120.838 \"/>\n",
       "<path clip-path=\"url(#clip720)\" d=\"M63.5847 1228.8 Q59.9736 1228.8 58.1449 1232.36 Q56.3393 1235.9 56.3393 1243.03 Q56.3393 1250.14 58.1449 1253.7 Q59.9736 1257.25 63.5847 1257.25 Q67.2189 1257.25 69.0244 1253.7 Q70.8531 1250.14 70.8531 1243.03 Q70.8531 1235.9 69.0244 1232.36 Q67.2189 1228.8 63.5847 1228.8 M63.5847 1225.09 Q69.3948 1225.09 72.4503 1229.7 Q75.529 1234.28 75.529 1243.03 Q75.529 1251.76 72.4503 1256.37 Q69.3948 1260.95 63.5847 1260.95 Q57.7745 1260.95 54.6958 1256.37 Q51.6403 1251.76 51.6403 1243.03 Q51.6403 1234.28 54.6958 1229.7 Q57.7745 1225.09 63.5847 1225.09 Z\" fill=\"#000000\" fill-rule=\"nonzero\" fill-opacity=\"1\" /><path clip-path=\"url(#clip720)\" d=\"M83.7466 1254.4 L88.6308 1254.4 L88.6308 1260.28 L83.7466 1260.28 L83.7466 1254.4 Z\" fill=\"#000000\" fill-rule=\"nonzero\" fill-opacity=\"1\" /><path clip-path=\"url(#clip720)\" d=\"M98.8622 1225.72 L117.219 1225.72 L117.219 1229.65 L103.145 1229.65 L103.145 1238.13 Q104.163 1237.78 105.182 1237.62 Q106.2 1237.43 107.219 1237.43 Q113.006 1237.43 116.385 1240.6 Q119.765 1243.77 119.765 1249.19 Q119.765 1254.77 116.293 1257.87 Q112.82 1260.95 106.501 1260.95 Q104.325 1260.95 102.057 1260.58 Q99.8113 1260.21 97.4039 1259.47 L97.4039 1254.77 Q99.4872 1255.9 101.709 1256.46 Q103.932 1257.02 106.408 1257.02 Q110.413 1257.02 112.751 1254.91 Q115.089 1252.8 115.089 1249.19 Q115.089 1245.58 112.751 1243.47 Q110.413 1241.37 106.408 1241.37 Q104.534 1241.37 102.659 1241.78 Q100.807 1242.2 98.8622 1243.08 L98.8622 1225.72 Z\" fill=\"#000000\" fill-rule=\"nonzero\" fill-opacity=\"1\" /><path clip-path=\"url(#clip720)\" d=\"M53.3995 882.29 L61.0384 882.29 L61.0384 855.925 L52.7282 857.591 L52.7282 853.332 L60.9921 851.665 L65.668 851.665 L65.668 882.29 L73.3068 882.29 L73.3068 886.225 L53.3995 886.225 L53.3995 882.29 Z\" fill=\"#000000\" fill-rule=\"nonzero\" fill-opacity=\"1\" /><path clip-path=\"url(#clip720)\" d=\"M82.7512 880.346 L87.6354 880.346 L87.6354 886.225 L82.7512 886.225 L82.7512 880.346 Z\" fill=\"#000000\" fill-rule=\"nonzero\" fill-opacity=\"1\" /><path clip-path=\"url(#clip720)\" d=\"M107.821 854.744 Q104.209 854.744 102.381 858.309 Q100.575 861.851 100.575 868.98 Q100.575 876.087 102.381 879.651 Q104.209 883.193 107.821 883.193 Q111.455 883.193 113.26 879.651 Q115.089 876.087 115.089 868.98 Q115.089 861.851 113.26 858.309 Q111.455 854.744 107.821 854.744 M107.821 851.04 Q113.631 851.04 116.686 855.647 Q119.765 860.23 119.765 868.98 Q119.765 877.707 116.686 882.313 Q113.631 886.897 107.821 886.897 Q102.01 886.897 98.9317 882.313 Q95.8761 877.707 95.8761 868.98 Q95.8761 860.23 98.9317 855.647 Q102.01 851.04 107.821 851.04 Z\" fill=\"#000000\" fill-rule=\"nonzero\" fill-opacity=\"1\" /><path clip-path=\"url(#clip720)\" d=\"M54.3949 508.237 L62.0337 508.237 L62.0337 481.871 L53.7236 483.538 L53.7236 479.278 L61.9874 477.612 L66.6633 477.612 L66.6633 508.237 L74.3022 508.237 L74.3022 512.172 L54.3949 512.172 L54.3949 508.237 Z\" fill=\"#000000\" fill-rule=\"nonzero\" fill-opacity=\"1\" /><path clip-path=\"url(#clip720)\" d=\"M83.7466 506.292 L88.6308 506.292 L88.6308 512.172 L83.7466 512.172 L83.7466 506.292 Z\" fill=\"#000000\" fill-rule=\"nonzero\" fill-opacity=\"1\" /><path clip-path=\"url(#clip720)\" d=\"M98.8622 477.612 L117.219 477.612 L117.219 481.547 L103.145 481.547 L103.145 490.019 Q104.163 489.672 105.182 489.51 Q106.2 489.325 107.219 489.325 Q113.006 489.325 116.385 492.496 Q119.765 495.667 119.765 501.084 Q119.765 506.663 116.293 509.764 Q112.82 512.843 106.501 512.843 Q104.325 512.843 102.057 512.473 Q99.8113 512.102 97.4039 511.362 L97.4039 506.663 Q99.4872 507.797 101.709 508.352 Q103.932 508.908 106.408 508.908 Q110.413 508.908 112.751 506.801 Q115.089 504.695 115.089 501.084 Q115.089 497.473 112.751 495.366 Q110.413 493.26 106.408 493.26 Q104.534 493.26 102.659 493.677 Q100.807 494.093 98.8622 494.973 L98.8622 477.612 Z\" fill=\"#000000\" fill-rule=\"nonzero\" fill-opacity=\"1\" /><path clip-path=\"url(#clip720)\" d=\"M56.6171 134.183 L72.9365 134.183 L72.9365 138.118 L50.9921 138.118 L50.9921 134.183 Q53.6541 131.428 58.2375 126.799 Q62.8439 122.146 64.0245 120.804 Q66.2698 118.28 67.1494 116.544 Q68.0522 114.785 68.0522 113.095 Q68.0522 110.341 66.1078 108.604 Q64.1865 106.868 61.0847 106.868 Q58.8856 106.868 56.4319 107.632 Q54.0014 108.396 51.2236 109.947 L51.2236 105.225 Q54.0477 104.091 56.5014 103.512 Q58.955 102.933 60.9921 102.933 Q66.3624 102.933 69.5568 105.618 Q72.7513 108.304 72.7513 112.794 Q72.7513 114.924 71.9411 116.845 Q71.1541 118.743 69.0476 121.336 Q68.4689 122.007 65.367 125.225 Q62.2652 128.419 56.6171 134.183 Z\" fill=\"#000000\" fill-rule=\"nonzero\" fill-opacity=\"1\" /><path clip-path=\"url(#clip720)\" d=\"M82.7512 132.239 L87.6354 132.239 L87.6354 138.118 L82.7512 138.118 L82.7512 132.239 Z\" fill=\"#000000\" fill-rule=\"nonzero\" fill-opacity=\"1\" /><path clip-path=\"url(#clip720)\" d=\"M107.821 106.637 Q104.209 106.637 102.381 110.202 Q100.575 113.743 100.575 120.873 Q100.575 127.979 102.381 131.544 Q104.209 135.086 107.821 135.086 Q111.455 135.086 113.26 131.544 Q115.089 127.979 115.089 120.873 Q115.089 113.743 113.26 110.202 Q111.455 106.637 107.821 106.637 M107.821 102.933 Q113.631 102.933 116.686 107.54 Q119.765 112.123 119.765 120.873 Q119.765 129.6 116.686 134.206 Q113.631 138.79 107.821 138.79 Q102.01 138.79 98.9317 134.206 Q95.8761 129.6 95.8761 120.873 Q95.8761 112.123 98.9317 107.54 Q102.01 102.933 107.821 102.933 Z\" fill=\"#000000\" fill-rule=\"nonzero\" fill-opacity=\"1\" /><circle clip-path=\"url(#clip722)\" cx=\"217.944\" cy=\"87.9763\" r=\"14.4\" fill=\"#009af9\" fill-rule=\"evenodd\" fill-opacity=\"1\" stroke=\"#000000\" stroke-opacity=\"1\" stroke-width=\"3.2\"/>\n",
       "<circle clip-path=\"url(#clip722)\" cx=\"425.207\" cy=\"417.885\" r=\"14.4\" fill=\"#009af9\" fill-rule=\"evenodd\" fill-opacity=\"1\" stroke=\"#000000\" stroke-opacity=\"1\" stroke-width=\"3.2\"/>\n",
       "<circle clip-path=\"url(#clip722)\" cx=\"632.47\" cy=\"654.312\" r=\"14.4\" fill=\"#009af9\" fill-rule=\"evenodd\" fill-opacity=\"1\" stroke=\"#000000\" stroke-opacity=\"1\" stroke-width=\"3.2\"/>\n",
       "<circle clip-path=\"url(#clip722)\" cx=\"839.734\" cy=\"725.763\" r=\"14.4\" fill=\"#009af9\" fill-rule=\"evenodd\" fill-opacity=\"1\" stroke=\"#000000\" stroke-opacity=\"1\" stroke-width=\"3.2\"/>\n",
       "<circle clip-path=\"url(#clip722)\" cx=\"1047\" cy=\"978.307\" r=\"14.4\" fill=\"#009af9\" fill-rule=\"evenodd\" fill-opacity=\"1\" stroke=\"#000000\" stroke-opacity=\"1\" stroke-width=\"3.2\"/>\n",
       "<circle clip-path=\"url(#clip722)\" cx=\"1254.26\" cy=\"1099.99\" r=\"14.4\" fill=\"#009af9\" fill-rule=\"evenodd\" fill-opacity=\"1\" stroke=\"#000000\" stroke-opacity=\"1\" stroke-width=\"3.2\"/>\n",
       "<circle clip-path=\"url(#clip722)\" cx=\"1461.52\" cy=\"1220.42\" r=\"14.4\" fill=\"#009af9\" fill-rule=\"evenodd\" fill-opacity=\"1\" stroke=\"#000000\" stroke-opacity=\"1\" stroke-width=\"3.2\"/>\n",
       "<circle clip-path=\"url(#clip722)\" cx=\"1668.79\" cy=\"1224.37\" r=\"14.4\" fill=\"#009af9\" fill-rule=\"evenodd\" fill-opacity=\"1\" stroke=\"#000000\" stroke-opacity=\"1\" stroke-width=\"3.2\"/>\n",
       "<circle clip-path=\"url(#clip722)\" cx=\"1876.05\" cy=\"1335.64\" r=\"14.4\" fill=\"#009af9\" fill-rule=\"evenodd\" fill-opacity=\"1\" stroke=\"#000000\" stroke-opacity=\"1\" stroke-width=\"3.2\"/>\n",
       "<circle clip-path=\"url(#clip722)\" cx=\"2083.31\" cy=\"1330.38\" r=\"14.4\" fill=\"#009af9\" fill-rule=\"evenodd\" fill-opacity=\"1\" stroke=\"#000000\" stroke-opacity=\"1\" stroke-width=\"3.2\"/>\n",
       "<circle clip-path=\"url(#clip722)\" cx=\"2290.58\" cy=\"1445.72\" r=\"14.4\" fill=\"#009af9\" fill-rule=\"evenodd\" fill-opacity=\"1\" stroke=\"#000000\" stroke-opacity=\"1\" stroke-width=\"3.2\"/>\n",
       "<path clip-path=\"url(#clip720)\" d=\"M2007.39 198.898 L2279.52 198.898 L2279.52 95.2176 L2007.39 95.2176  Z\" fill=\"#ffffff\" fill-rule=\"evenodd\" fill-opacity=\"1\"/>\n",
       "<polyline clip-path=\"url(#clip720)\" style=\"stroke:#000000; stroke-linecap:round; stroke-linejoin:round; stroke-width:4; stroke-opacity:1; fill:none\" points=\"2007.39,198.898 2279.52,198.898 2279.52,95.2176 2007.39,95.2176 2007.39,198.898 \"/>\n",
       "<circle clip-path=\"url(#clip720)\" cx=\"2105.04\" cy=\"147.058\" r=\"20.48\" fill=\"#009af9\" fill-rule=\"evenodd\" fill-opacity=\"1\" stroke=\"#000000\" stroke-opacity=\"1\" stroke-width=\"4.55111\"/>\n",
       "<path clip-path=\"url(#clip720)\" d=\"M2216.52 166.745 Q2214.72 171.375 2213.01 172.787 Q2211.29 174.199 2208.42 174.199 L2205.02 174.199 L2205.02 170.634 L2207.52 170.634 Q2209.28 170.634 2210.25 169.8 Q2211.22 168.967 2212.4 165.865 L2213.17 163.921 L2202.68 138.412 L2207.2 138.412 L2215.3 158.689 L2223.4 138.412 L2227.91 138.412 L2216.52 166.745 Z\" fill=\"#000000\" fill-rule=\"nonzero\" fill-opacity=\"1\" /><path clip-path=\"url(#clip720)\" d=\"M2235.2 160.402 L2242.84 160.402 L2242.84 134.037 L2234.53 135.703 L2234.53 131.444 L2242.8 129.778 L2247.47 129.778 L2247.47 160.402 L2255.11 160.402 L2255.11 164.338 L2235.2 164.338 L2235.2 160.402 Z\" fill=\"#000000\" fill-rule=\"nonzero\" fill-opacity=\"1\" /></svg>\n"
      ]
     },
     "execution_count": 38,
     "metadata": {},
     "output_type": "execute_result"
    }
   ],
   "source": [
    "scatter(x,y_exp)"
   ]
  },
  {
   "cell_type": "code",
   "execution_count": 106,
   "id": "dab802b5-b7ac-4fc0-94b8-19f4aba02a8c",
   "metadata": {},
   "outputs": [
    {
     "data": {
      "text/plain": [
       "11×2 Matrix{Float64}:\n",
       " 0.0  2.04393\n",
       " 0.1  1.60294\n",
       " 0.2  1.2869\n",
       " 0.3  1.19139\n",
       " 0.4  0.853816\n",
       " 0.5  0.691159\n",
       " 0.6  0.530179\n",
       " 0.7  0.524896\n",
       " 0.8  0.376168\n",
       " 0.9  0.383195\n",
       " 1.0  0.229027"
      ]
     },
     "execution_count": 106,
     "metadata": {},
     "output_type": "execute_result"
    }
   ],
   "source": [
    "p = hcat(x,y_exp)"
   ]
  },
  {
   "cell_type": "code",
   "execution_count": 107,
   "id": "d1ed2eaf-47ec-49d7-8f98-ae74f355bf91",
   "metadata": {},
   "outputs": [
    {
     "data": {
      "text/plain": [
       "(11, 2)"
      ]
     },
     "execution_count": 107,
     "metadata": {},
     "output_type": "execute_result"
    }
   ],
   "source": [
    "size(p)"
   ]
  },
  {
   "cell_type": "code",
   "execution_count": 51,
   "id": "4d013ef6-a69f-467c-b29a-6b20527711ff",
   "metadata": {},
   "outputs": [
    {
     "data": {
      "text/plain": [
       "lossfunction (generic function with 1 method)"
      ]
     },
     "execution_count": 51,
     "metadata": {},
     "output_type": "execute_result"
    }
   ],
   "source": [
    "function lossfunction(u, p)\n",
    "    return u[1] .* exp.( -u[2] .* p[:,1]) .- p[:,2]\n",
    "end"
   ]
  },
  {
   "cell_type": "code",
   "execution_count": 52,
   "id": "82b8fef4-7208-4cb4-85c4-4715ac197d93",
   "metadata": {},
   "outputs": [
    {
     "data": {
      "text/plain": [
       "2-element Vector{Float64}:\n",
       " 1.5\n",
       " 2.0"
      ]
     },
     "execution_count": 52,
     "metadata": {},
     "output_type": "execute_result"
    }
   ],
   "source": [
    "u0 = [1.5,2.0]"
   ]
  },
  {
   "cell_type": "code",
   "execution_count": 108,
   "id": "df893f47-c05f-4e7b-aba9-4cf4953cbf36",
   "metadata": {},
   "outputs": [
    {
     "data": {
      "text/plain": [
       "\u001b[38;2;86;182;194mNonlinearLeastSquaresProblem\u001b[0m with uType \u001b[38;2;86;182;194mVector{Float64}\u001b[0m. In-place: \u001b[38;2;86;182;194mfalse\u001b[0m\n",
       "u0: 2-element Vector{Float64}:\n",
       " 1.5\n",
       " 2.0"
      ]
     },
     "execution_count": 108,
     "metadata": {},
     "output_type": "execute_result"
    }
   ],
   "source": [
    "prob = NonlinearLeastSquaresProblem(lossfunction, u0, p)"
   ]
  },
  {
   "cell_type": "code",
   "execution_count": 109,
   "id": "784a77e3-b0b4-4b15-92a9-46f941bcabaa",
   "metadata": {},
   "outputs": [
    {
     "name": "stdout",
     "output_type": "stream",
     "text": [
      "\n",
      "Algorithm: \u001b[32m\u001b[1mGaussNewton(\u001b[22m\u001b[39m\n",
      "\u001b[32m\u001b[1m    descent = NewtonDescent(),\u001b[22m\u001b[39m\n",
      "\u001b[32m\u001b[1m    autodiff = AutoForwardDiff(),\u001b[22m\u001b[39m\n",
      "\u001b[32m\u001b[1m    vjp_autodiff = AutoFiniteDiff(\u001b[22m\u001b[39m\n",
      "\u001b[32m\u001b[1m        fdtype = Val{:forward}(),\u001b[22m\u001b[39m\n",
      "\u001b[32m\u001b[1m        fdjtype = Val{:forward}(),\u001b[22m\u001b[39m\n",
      "\u001b[32m\u001b[1m        fdhtype = Val{:hcentral}()\u001b[22m\u001b[39m\n",
      "\u001b[32m\u001b[1m    ),\u001b[22m\u001b[39m\n",
      "\u001b[32m\u001b[1m    jvp_autodiff = AutoForwardDiff(),\u001b[22m\u001b[39m\n",
      "\u001b[32m\u001b[1m    concrete_jac = Val{false}()\u001b[22m\u001b[39m\n",
      "\u001b[32m\u001b[1m)\u001b[22m\u001b[39m\n",
      "\n",
      "----    \t-------------       \t-----------         \t-------             \n",
      "Iter    \tf(u) 2-norm         \tStep 2-norm         \tcond(J)             \n",
      "----    \t-------------       \t-----------         \t-------             \n",
      "0       \t8.70275881e-01      \t0.00000000e+00      \t3.37028480e+00      \n",
      "1       \t1.68728225e-01      \t5.21311077e-01      \t3.37028480e+00      \n",
      "26      \t1.67745147e-01      \t1.21699788e-16      \t3.37028480e+00      \n",
      "Final   \t1.67745147e-01      \n",
      "----------------------      \n"
     ]
    },
    {
     "data": {
      "text/plain": [
       "retcode: Stalled\n",
       "u: 2-element Vector{Float64}:\n",
       " 2.0156213328842347\n",
       " 2.0607903989559704"
      ]
     },
     "execution_count": 109,
     "metadata": {},
     "output_type": "execute_result"
    }
   ],
   "source": [
    "sol = solve(prob, GaussNewton(); maxiters = 1000, show_trace = Val(true),\n",
    "    trace_level = TraceWithJacobianConditionNumber(25))"
   ]
  },
  {
   "cell_type": "code",
   "execution_count": 110,
   "id": "c72ba188-7b1f-42a2-a7ad-6fc4f8c10efa",
   "metadata": {},
   "outputs": [
    {
     "data": {
      "text/plain": [
       "2-element Vector{Float64}:\n",
       " 2.0156213328842347\n",
       " 2.0607903989559704"
      ]
     },
     "execution_count": 110,
     "metadata": {},
     "output_type": "execute_result"
    }
   ],
   "source": [
    "sol.u"
   ]
  },
  {
   "cell_type": "code",
   "execution_count": 128,
   "id": "5f98475a-1eea-4187-86e5-45e30e806088",
   "metadata": {},
   "outputs": [
    {
     "data": {
      "text/plain": [
       "chi2 (generic function with 1 method)"
      ]
     },
     "execution_count": 128,
     "metadata": {},
     "output_type": "execute_result"
    }
   ],
   "source": [
    "chi2(x) = sum(lossfunction(x,p) .^2)/2/0.05^2"
   ]
  },
  {
   "cell_type": "code",
   "execution_count": 114,
   "id": "fc4cd998-9725-40fc-bae8-bdf29483b70d",
   "metadata": {},
   "outputs": [
    {
     "data": {
      "text/plain": [
       "0.014069217214505082"
      ]
     },
     "execution_count": 114,
     "metadata": {},
     "output_type": "execute_result"
    }
   ],
   "source": [
    "chi2(sol.u)"
   ]
  },
  {
   "cell_type": "code",
   "execution_count": 115,
   "id": "9ea4b7ca-6284-40f8-ab0c-09ec16c74f00",
   "metadata": {},
   "outputs": [
    {
     "data": {
      "text/plain": [
       "2-element Vector{Float64}:\n",
       " -1.6176296413483726e-16\n",
       "  2.1031307771701702e-11"
      ]
     },
     "execution_count": 115,
     "metadata": {},
     "output_type": "execute_result"
    }
   ],
   "source": [
    "ForwardDiff.gradient(chi2,sol.u)"
   ]
  },
  {
   "cell_type": "code",
   "execution_count": 129,
   "id": "522818bb-fd55-4f28-8cd6-e77ced6efc97",
   "metadata": {},
   "outputs": [
    {
     "data": {
      "text/plain": [
       "2×2 Matrix{Float64}:\n",
       " 1171.48   -434.727\n",
       " -434.727   372.412"
      ]
     },
     "execution_count": 129,
     "metadata": {},
     "output_type": "execute_result"
    }
   ],
   "source": [
    "h = ForwardDiff.hessian(chi2,sol.u)"
   ]
  },
  {
   "cell_type": "code",
   "execution_count": 130,
   "id": "6dc41bf2-eaf0-4ba3-b73c-e9c782f0740e",
   "metadata": {},
   "outputs": [
    {
     "data": {
      "text/plain": [
       "2×2 Matrix{Float64}:\n",
       " 0.00150599  0.00175798\n",
       " 0.00175798  0.00473734"
      ]
     },
     "execution_count": 130,
     "metadata": {},
     "output_type": "execute_result"
    }
   ],
   "source": [
    "inv(h)"
   ]
  },
  {
   "cell_type": "code",
   "execution_count": 91,
   "id": "57e5d163-1a80-4500-b60b-2153e8c4c7e6",
   "metadata": {},
   "outputs": [
    {
     "data": {
      "text/plain": [
       "model (generic function with 1 method)"
      ]
     },
     "execution_count": 91,
     "metadata": {},
     "output_type": "execute_result"
    }
   ],
   "source": [
    "model(t, p) = p[1] * exp.(-p[2] * t)"
   ]
  },
  {
   "cell_type": "code",
   "execution_count": 94,
   "id": "324eb6cc-069e-4ae6-a6c7-be86df59289f",
   "metadata": {},
   "outputs": [
    {
     "data": {
      "text/plain": [
       "LsqFit.LsqFitResult{Vector{Float64}, Vector{Float64}, Matrix{Float64}, Vector{Float64}, Vector{LsqFit.LMState{LsqFit.LevenbergMarquardt}}}([2.0156213318213543, 2.060790396094327], [-0.028305467375535187, 0.03731411197719359, 0.047881401230159826, -0.10518800441139442, 0.030104252282012522, 0.02814759206272932, 0.055170145389063174, -0.04855761856295271, 0.0114613734549735, -0.0677545543744501, 0.027668831021600754], [1.0000000000036495 0.0; 0.8137687537775544 -0.16402496592961882; … ; 0.15649810831937971 -0.28389683297575447; 0.12735327057771276 -0.2566959688581032], true, Iter     Function value   Gradient norm \n",
       "------   --------------   --------------\n",
       ", Float64[])"
      ]
     },
     "execution_count": 94,
     "metadata": {},
     "output_type": "execute_result"
    }
   ],
   "source": [
    "fit = curve_fit(model, x, y_exp, u0)"
   ]
  },
  {
   "cell_type": "code",
   "execution_count": 95,
   "id": "7f5ca96f-20f6-4e09-9092-4636691ab158",
   "metadata": {},
   "outputs": [
    {
     "data": {
      "text/plain": [
       "2×2 Matrix{Float64}:\n",
       " 0.00187593  0.00217843\n",
       " 0.00217843  0.00587034"
      ]
     },
     "execution_count": 95,
     "metadata": {},
     "output_type": "execute_result"
    }
   ],
   "source": [
    "cov = estimate_covar(fit)"
   ]
  },
  {
   "cell_type": "code",
   "execution_count": null,
   "id": "6509b08e-c0da-4814-acb8-221f86d48606",
   "metadata": {},
   "outputs": [],
   "source": []
  }
 ],
 "metadata": {
  "kernelspec": {
   "display_name": "Julia 1.11.3",
   "language": "julia",
   "name": "julia-1.11"
  },
  "language_info": {
   "file_extension": ".jl",
   "mimetype": "application/julia",
   "name": "julia",
   "version": "1.11.3"
  }
 },
 "nbformat": 4,
 "nbformat_minor": 5
}
