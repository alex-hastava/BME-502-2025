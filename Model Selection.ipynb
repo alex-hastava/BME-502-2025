{
 "cells": [
  {
   "cell_type": "code",
   "execution_count": 23,
   "id": "54a80cf4",
   "metadata": {
    "scrolled": true
   },
   "outputs": [
    {
     "name": "stderr",
     "output_type": "stream",
     "text": [
      "\u001b[32m\u001b[1m   Resolving\u001b[22m\u001b[39m package versions...\n",
      "\u001b[32m\u001b[1m  No Changes\u001b[22m\u001b[39m to `~/Documents/programming/BME-502-2025/Project.toml`\n",
      "\u001b[32m\u001b[1m  No Changes\u001b[22m\u001b[39m to `~/Documents/programming/BME-502-2025/Manifest.toml`\n"
     ]
    }
   ],
   "source": [
    "import Pkg\n",
    "Pkg.add([\"Plots\",\"Distributions\",\"Random\",\"Polynomials\",\"Statistics\",\"NonlinearSolve\",\"ForwardDiff\"])"
   ]
  },
  {
   "cell_type": "code",
   "execution_count": 32,
   "id": "63c0a258",
   "metadata": {},
   "outputs": [],
   "source": [
    "using Plots, Distributions, Random, Statistics, NonlinearSolve, ForwardDiff, LinearAlgebra"
   ]
  },
  {
   "cell_type": "markdown",
   "id": "9f432d2a",
   "metadata": {},
   "source": [
    "# Model Selection\n",
    "\n",
    "In this chapter we will discuss on how to select between alternative models.  This question often boils down to the question on how many parameters can be supported by a model.  A typical example question would be: How many peaks can we identify in a spectrum?\n",
    "\n",
    "Before we go into the details, we need to formulate our problem in a Bayesian way:\n",
    "Let us assume that we want to compare two models or hypothesis $H_1$ and $H_2$.  The first has no parameters and the second one has one parameter $\\lambda$.  This argument can be generalized to comparing any two theories with different number of parameters.  To tell which hypothesis is the better one we calculate the posterior ratio:\n",
    "\n",
    "$$PR = \\frac{P(H_{1} \\mid D)}{P(H_{2} \\mid D)}$$\n",
    "\n",
    "if PR is greater than one we would prefer $H_1$ over $H_2$, but if PR is on the order unity then the data is not sufficient to make a decision.  We will now use Bayes theorem to get a better sense on how to calculate this ratio.\n",
    "\n",
    "$$\\frac{P(H_{1} \\mid D)}{P(H_{2} \\mid D)}=\\frac{P(D \\mid H_{1})}{P(D \\mid H_{2})}\\frac{P(H_{1})}{P(H_{2})}$$\n",
    "\n",
    "the nice thing about this ratio is that $P(D)$ cancels because it is the same for both hypothesis.  The last ratio is the ratio of priors and we should probably assume it to be of the order unity.  This is unless there is reason to believe that one hypothesis is more likely to be true then the other one.  This leaves the first ratio.  $P(D\\mid H_{1})$ is easy but $P(D\\mid H_{2})$ involves a parameter which we can get to by expressing it as\n",
    "\n",
    "$$P(D \\mid H_{2}) = \\int P(D, \\lambda \\mid H_{2})d\\lambda = \\int P(D \\mid \\lambda, H_{2})P(\\lambda \\mid H_{2})d\\lambda$$\n",
    "\n",
    "$P(D \\mid \\lambda, H_{2})$ is just the likelihood function for hypothesis $H_{2}$ with parameter $\\lambda$. $P(\\lambda \\mid H_{2})$ is the prior an reflects the knowledge of the range of $\\lambda$ that is known before the experiment.\n",
    "\n",
    "Lets now assume that $\\lambda$ must lie between two values $\\lambda_{min}$ and $\\lambda_{max}$ which will assign a uniform prior:\n",
    "\n",
    "$$P(\\lambda \\mid H_{2}) = \\frac{1}{\\lambda_{max}-\\lambda_{min}} \\quad \\textrm{for} \\quad \\lambda_{min} \\le \\lambda \\le \\lambda_{max}$$\n",
    "\n",
    "after the measurement we will find that a particular value of $\\lambda_{0}\\pm \\delta \\lambda$ yields the closest agreement with the data.  The corresponding probability $P(D \\mid \\lambda_{0},H_{2})$ will be the maximum of $H_{2}$'s likelihood function.  Let us also assume that we can represent the full likelihood as a Gaussian:\n",
    "\n",
    "$$P(D \\mid \\lambda, H_{2}) = P(D \\mid \\lambda_{0},H_{2}) \\exp \\Big[ -\\frac{(\\lambda-\\lambda_{0})^2}{2\\delta \\lambda^2} \\Big]$$\n",
    "\n",
    "since the uniform prior does not explicitly depend on $\\lambda$ we can calculate\n",
    "\n",
    "$$P(D \\mid H_{2}) = \\frac{1}{\\lambda_{max}-\\lambda_{min}} \\int_{\\lambda_{min}}^{\\lambda_{max}}P(D \\mid \\lambda, H_{2})$$\n",
    "\n",
    "Assuming that the vast majority of the Gaussian is contained in the prior interval this reduces to:\n",
    "\n",
    "$$P(D \\mid H_{2}) = \\frac{P(D \\mid \\lambda_{0},H_{2})\\delta \\lambda \\sqrt{2\\pi}}{\\lambda_{max}-\\lambda_{min}} $$\n",
    "\n",
    "Finally the posterior ratio can be written using three terms:\n",
    "\n",
    "$$\\frac{P(H_{1} \\mid D)}{P(H_{2} \\mid D)}=\\frac{P(H_{1})}{P(H_{2})}\\frac{P(D \\mid H_{1})}{P(D \\mid \\lambda_{0},H_{2})}\\frac{\\lambda_{max}-\\lambda_{min}}{\\delta \\lambda \\sqrt{2\\pi}}$$\n",
    "\n",
    "the first term is our bias with respect to the two theories (should be unity), the second tells us about how well the two theories fit the data (this should be in favor of $H_{2}$ since it has a free parameter).  The third term can be seen as penalizing the introduction of the parameter.  Since $\\lambda_{max}-\\lambda_{min}$ should, in general, be larger than $\\delta \\lambda \\sqrt{2\\pi}$ this factor is larger than one.  This factor is often called a Ockham factor after the thirteen-century Franciscan monk William of Ockham (or Occam, in Latin) who said \"it is vain to do with more what can be done with fewer\".\n",
    "But instead of blindly applying Ockams razor, we now have a quantitative tool to determine how many paramaters are supported by the data.\n",
    "\n",
    "We can also generalize this procedure to two models $H_1(\\boldsymbol\\beta)$ and $H_2(\\boldsymbol\\lambda)$ that have $k$ and $l$ parameters respectively.  Here we assume that we can fit both models using a model that results in a multivariate Gaussian likelihood function.  For example, if we perform a least-square fit of the data to the model, we can get the best parameters and the covariate matrix $\\boldsymbol\\Sigma$.\n",
    "$$\\frac{P(H_{1} \\mid D)}{P(H_{2} \\mid D)}=\\frac{P(D \\mid \\boldsymbol\\beta_{0},H_{1})}{P(D \\mid \\boldsymbol\\lambda_{0},H_{2})}\\frac{\\sqrt{(2\\pi)^k |\\boldsymbol\\Sigma_{H_1}|}}{\\sqrt{(2\\pi)^l |\\boldsymbol\\Sigma_{H_2}|}}\\frac{\\prod_{i=1}^{l}(\\lambda_{max.i}-\\lambda_{min,i})}{\\prod_{i=1}^{k}(\\beta_{max.i}-\\beta_{min,i})}$$"
   ]
  },
  {
   "cell_type": "code",
   "execution_count": 4,
   "id": "0b49f53d",
   "metadata": {},
   "outputs": [
    {
     "data": {
      "text/plain": [
       "0.0:1.0:10.0"
      ]
     },
     "execution_count": 4,
     "metadata": {},
     "output_type": "execute_result"
    }
   ],
   "source": [
    "xdata = range(0, stop=10, length=11)"
   ]
  },
  {
   "cell_type": "code",
   "execution_count": 50,
   "id": "387834cd",
   "metadata": {},
   "outputs": [
    {
     "data": {
      "text/plain": [
       "Normal{Float64}(μ=0.0, σ=3.0)"
      ]
     },
     "execution_count": 50,
     "metadata": {},
     "output_type": "execute_result"
    }
   ],
   "source": [
    "sigma_y = 3\n",
    "d = Normal(0,sigma_y)"
   ]
  },
  {
   "cell_type": "code",
   "execution_count": 51,
   "id": "68eb40ad",
   "metadata": {},
   "outputs": [
    {
     "data": {
      "text/plain": [
       "11-element Vector{Float64}:\n",
       "  2.645165370322875\n",
       "  6.219266239593074\n",
       " 13.655448394013561\n",
       " 13.074632372578435\n",
       " 16.21226563653135\n",
       " 16.054708006660082\n",
       " 22.99476624332888\n",
       " 20.306722831083484\n",
       " 31.336649761853323\n",
       " 38.752126143884894\n",
       " 39.845954034612554"
      ]
     },
     "execution_count": 51,
     "metadata": {},
     "output_type": "execute_result"
    }
   ],
   "source": [
    "ydata = 1.0 .+ 2.0 .* xdata + 0.2 .* xdata .^2 + rand(d,length(xdata))"
   ]
  },
  {
   "cell_type": "code",
   "execution_count": 52,
   "id": "549827ce",
   "metadata": {},
   "outputs": [
    {
     "data": {
      "image/png": "[encoded data removed]",
      "image/svg+xml": [
       "<?xml version=\"1.0\" encoding=\"utf-8\"?>\n",
       "<svg xmlns=\"http://www.w3.org/2000/svg\" xmlns:xlink=\"http://www.w3.org/1999/xlink\" width=\"600\" height=\"400\" viewBox=\"0 0 2400 1600\">\n",
       "<defs>\n",
       "  <clipPath id=\"clip760\">\n",
       "    <rect x=\"0\" y=\"0\" width=\"2400\" height=\"1600\"/>\n",
       "  </clipPath>\n",
       "</defs>\n",
       "<path clip-path=\"url(#clip760)\" d=\"M0 1600 L2400 1600 L2400 8.88178e-14 L0 8.88178e-14  Z\" fill=\"#ffffff\" fill-rule=\"evenodd\" fill-opacity=\"1\"/>\n",
       "<defs>\n",
       "  <clipPath id=\"clip761\">\n",
       "    <rect x=\"480\" y=\"0\" width=\"1681\" height=\"1600\"/>\n",
       "  </clipPath>\n",
       "</defs>\n",
       "<path clip-path=\"url(#clip760)\" d=\"M141.853 1486.45 L2352.76 1486.45 L2352.76 47.2441 L141.853 47.2441  Z\" fill=\"#ffffff\" fill-rule=\"evenodd\" fill-opacity=\"1\"/>\n",
       "<defs>\n",
       "  <clipPath id=\"clip762\">\n",
       "    <rect x=\"141\" y=\"47\" width=\"2212\" height=\"1440\"/>\n",
       "  </clipPath>\n",
       "</defs>\n",
       "<polyline clip-path=\"url(#clip762)\" style=\"stroke:#000000; stroke-linecap:round; stroke-linejoin:round; stroke-width:2; stroke-opacity:0.1; fill:none\" points=\"204.426,1486.45 204.426,47.2441 \"/>\n",
       "<polyline clip-path=\"url(#clip762)\" style=\"stroke:#000000; stroke-linecap:round; stroke-linejoin:round; stroke-width:2; stroke-opacity:0.1; fill:none\" points=\"725.865,1486.45 725.865,47.2441 \"/>\n",
       "<polyline clip-path=\"url(#clip762)\" style=\"stroke:#000000; stroke-linecap:round; stroke-linejoin:round; stroke-width:2; stroke-opacity:0.1; fill:none\" points=\"1247.3,1486.45 1247.3,47.2441 \"/>\n",
       "<polyline clip-path=\"url(#clip762)\" style=\"stroke:#000000; stroke-linecap:round; stroke-linejoin:round; stroke-width:2; stroke-opacity:0.1; fill:none\" points=\"1768.74,1486.45 1768.74,47.2441 \"/>\n",
       "<polyline clip-path=\"url(#clip762)\" style=\"stroke:#000000; stroke-linecap:round; stroke-linejoin:round; stroke-width:2; stroke-opacity:0.1; fill:none\" points=\"2290.18,1486.45 2290.18,47.2441 \"/>\n",
       "<polyline clip-path=\"url(#clip762)\" style=\"stroke:#000000; stroke-linecap:round; stroke-linejoin:round; stroke-width:2; stroke-opacity:0.1; fill:none\" points=\"141.853,1177.28 2352.76,1177.28 \"/>\n",
       "<polyline clip-path=\"url(#clip762)\" style=\"stroke:#000000; stroke-linecap:round; stroke-linejoin:round; stroke-width:2; stroke-opacity:0.1; fill:none\" points=\"141.853,812.306 2352.76,812.306 \"/>\n",
       "<polyline clip-path=\"url(#clip762)\" style=\"stroke:#000000; stroke-linecap:round; stroke-linejoin:round; stroke-width:2; stroke-opacity:0.1; fill:none\" points=\"141.853,447.33 2352.76,447.33 \"/>\n",
       "<polyline clip-path=\"url(#clip762)\" style=\"stroke:#000000; stroke-linecap:round; stroke-linejoin:round; stroke-width:2; stroke-opacity:0.1; fill:none\" points=\"141.853,82.354 2352.76,82.354 \"/>\n",
       "<polyline clip-path=\"url(#clip760)\" style=\"stroke:#000000; stroke-linecap:round; stroke-linejoin:round; stroke-width:4; stroke-opacity:1; fill:none\" points=\"141.853,1486.45 2352.76,1486.45 \"/>\n",
       "<polyline clip-path=\"url(#clip760)\" style=\"stroke:#000000; stroke-linecap:round; stroke-linejoin:round; stroke-width:4; stroke-opacity:1; fill:none\" points=\"204.426,1486.45 204.426,1467.55 \"/>\n",
       "<polyline clip-path=\"url(#clip760)\" style=\"stroke:#000000; stroke-linecap:round; stroke-linejoin:round; stroke-width:4; stroke-opacity:1; fill:none\" points=\"725.865,1486.45 725.865,1467.55 \"/>\n",
       "<polyline clip-path=\"url(#clip760)\" style=\"stroke:#000000; stroke-linecap:round; stroke-linejoin:round; stroke-width:4; stroke-opacity:1; fill:none\" points=\"1247.3,1486.45 1247.3,1467.55 \"/>\n",
       "<polyline clip-path=\"url(#clip760)\" style=\"stroke:#000000; stroke-linecap:round; stroke-linejoin:round; stroke-width:4; stroke-opacity:1; fill:none\" points=\"1768.74,1486.45 1768.74,1467.55 \"/>\n",
       "<polyline clip-path=\"url(#clip760)\" style=\"stroke:#000000; stroke-linecap:round; stroke-linejoin:round; stroke-width:4; stroke-opacity:1; fill:none\" points=\"2290.18,1486.45 2290.18,1467.55 \"/>\n",
       "<path clip-path=\"url(#clip760)\" d=\"M181.81 1517.37 Q178.199 1517.37 176.37 1520.93 Q174.565 1524.47 174.565 1531.6 Q174.565 1538.71 176.37 1542.27 Q178.199 1545.82 181.81 1545.82 Q185.444 1545.82 187.25 1542.27 Q189.079 1538.71 189.079 1531.6 Q189.079 1524.47 187.25 1520.93 Q185.444 1517.37 181.81 1517.37 M181.81 1513.66 Q187.62 1513.66 190.676 1518.27 Q193.754 1522.85 193.754 1531.6 Q193.754 1540.33 190.676 1544.94 Q187.62 1549.52 181.81 1549.52 Q176 1549.52 172.921 1544.94 Q169.866 1540.33 169.866 1531.6 Q169.866 1522.85 172.921 1518.27 Q176 1513.66 181.81 1513.66 Z\" fill=\"#000000\" fill-rule=\"nonzero\" fill-opacity=\"1\" /><path clip-path=\"url(#clip760)\" d=\"M201.972 1542.97 L206.856 1542.97 L206.856 1548.85 L201.972 1548.85 L201.972 1542.97 Z\" fill=\"#000000\" fill-rule=\"nonzero\" fill-opacity=\"1\" /><path clip-path=\"url(#clip760)\" d=\"M227.041 1517.37 Q223.43 1517.37 221.602 1520.93 Q219.796 1524.47 219.796 1531.6 Q219.796 1538.71 221.602 1542.27 Q223.43 1545.82 227.041 1545.82 Q230.676 1545.82 232.481 1542.27 Q234.31 1538.71 234.31 1531.6 Q234.31 1524.47 232.481 1520.93 Q230.676 1517.37 227.041 1517.37 M227.041 1513.66 Q232.851 1513.66 235.907 1518.27 Q238.986 1522.85 238.986 1531.6 Q238.986 1540.33 235.907 1544.94 Q232.851 1549.52 227.041 1549.52 Q221.231 1549.52 218.152 1544.94 Q215.097 1540.33 215.097 1531.6 Q215.097 1522.85 218.152 1518.27 Q221.231 1513.66 227.041 1513.66 Z\" fill=\"#000000\" fill-rule=\"nonzero\" fill-opacity=\"1\" /><path clip-path=\"url(#clip760)\" d=\"M697.601 1544.91 L713.921 1544.91 L713.921 1548.85 L691.976 1548.85 L691.976 1544.91 Q694.638 1542.16 699.222 1537.53 Q703.828 1532.88 705.009 1531.53 Q707.254 1529.01 708.134 1527.27 Q709.036 1525.51 709.036 1523.82 Q709.036 1521.07 707.092 1519.33 Q705.171 1517.6 702.069 1517.6 Q699.87 1517.6 697.416 1518.36 Q694.986 1519.13 692.208 1520.68 L692.208 1515.95 Q695.032 1514.82 697.486 1514.24 Q699.939 1513.66 701.976 1513.66 Q707.347 1513.66 710.541 1516.35 Q713.735 1519.03 713.735 1523.52 Q713.735 1525.65 712.925 1527.57 Q712.138 1529.47 710.032 1532.07 Q709.453 1532.74 706.351 1535.95 Q703.249 1539.15 697.601 1544.91 Z\" fill=\"#000000\" fill-rule=\"nonzero\" fill-opacity=\"1\" /><path clip-path=\"url(#clip760)\" d=\"M723.735 1542.97 L728.62 1542.97 L728.62 1548.85 L723.735 1548.85 L723.735 1542.97 Z\" fill=\"#000000\" fill-rule=\"nonzero\" fill-opacity=\"1\" /><path clip-path=\"url(#clip760)\" d=\"M738.851 1514.29 L757.207 1514.29 L757.207 1518.22 L743.133 1518.22 L743.133 1526.7 Q744.152 1526.35 745.17 1526.19 Q746.189 1526 747.208 1526 Q752.995 1526 756.374 1529.17 Q759.754 1532.34 759.754 1537.76 Q759.754 1543.34 756.282 1546.44 Q752.809 1549.52 746.49 1549.52 Q744.314 1549.52 742.046 1549.15 Q739.8 1548.78 737.393 1548.04 L737.393 1543.34 Q739.476 1544.47 741.698 1545.03 Q743.921 1545.58 746.397 1545.58 Q750.402 1545.58 752.74 1543.48 Q755.078 1541.37 755.078 1537.76 Q755.078 1534.15 752.74 1532.04 Q750.402 1529.94 746.397 1529.94 Q744.522 1529.94 742.647 1530.35 Q740.796 1530.77 738.851 1531.65 L738.851 1514.29 Z\" fill=\"#000000\" fill-rule=\"nonzero\" fill-opacity=\"1\" /><path clip-path=\"url(#clip760)\" d=\"M1214.47 1514.29 L1232.83 1514.29 L1232.83 1518.22 L1218.75 1518.22 L1218.75 1526.7 Q1219.77 1526.35 1220.79 1526.19 Q1221.81 1526 1222.83 1526 Q1228.61 1526 1231.99 1529.17 Q1235.37 1532.34 1235.37 1537.76 Q1235.37 1543.34 1231.9 1546.44 Q1228.43 1549.52 1222.11 1549.52 Q1219.93 1549.52 1217.66 1549.15 Q1215.42 1548.78 1213.01 1548.04 L1213.01 1543.34 Q1215.09 1544.47 1217.32 1545.03 Q1219.54 1545.58 1222.02 1545.58 Q1226.02 1545.58 1228.36 1543.48 Q1230.7 1541.37 1230.7 1537.76 Q1230.7 1534.15 1228.36 1532.04 Q1226.02 1529.94 1222.02 1529.94 Q1220.14 1529.94 1218.27 1530.35 Q1216.41 1530.77 1214.47 1531.65 L1214.47 1514.29 Z\" fill=\"#000000\" fill-rule=\"nonzero\" fill-opacity=\"1\" /><path clip-path=\"url(#clip760)\" d=\"M1244.58 1542.97 L1249.47 1542.97 L1249.47 1548.85 L1244.58 1548.85 L1244.58 1542.97 Z\" fill=\"#000000\" fill-rule=\"nonzero\" fill-opacity=\"1\" /><path clip-path=\"url(#clip760)\" d=\"M1269.65 1517.37 Q1266.04 1517.37 1264.21 1520.93 Q1262.41 1524.47 1262.41 1531.6 Q1262.41 1538.71 1264.21 1542.27 Q1266.04 1545.82 1269.65 1545.82 Q1273.29 1545.82 1275.09 1542.27 Q1276.92 1538.71 1276.92 1531.6 Q1276.92 1524.47 1275.09 1520.93 Q1273.29 1517.37 1269.65 1517.37 M1269.65 1513.66 Q1275.46 1513.66 1278.52 1518.27 Q1281.6 1522.85 1281.6 1531.6 Q1281.6 1540.33 1278.52 1544.94 Q1275.46 1549.52 1269.65 1549.52 Q1263.84 1549.52 1260.77 1544.94 Q1257.71 1540.33 1257.71 1531.6 Q1257.71 1522.85 1260.77 1518.27 Q1263.84 1513.66 1269.65 1513.66 Z\" fill=\"#000000\" fill-rule=\"nonzero\" fill-opacity=\"1\" /><path clip-path=\"url(#clip760)\" d=\"M1735.06 1514.29 L1757.29 1514.29 L1757.29 1516.28 L1744.74 1548.85 L1739.86 1548.85 L1751.66 1518.22 L1735.06 1518.22 L1735.06 1514.29 Z\" fill=\"#000000\" fill-rule=\"nonzero\" fill-opacity=\"1\" /><path clip-path=\"url(#clip760)\" d=\"M1766.41 1542.97 L1771.29 1542.97 L1771.29 1548.85 L1766.41 1548.85 L1766.41 1542.97 Z\" fill=\"#000000\" fill-rule=\"nonzero\" fill-opacity=\"1\" /><path clip-path=\"url(#clip760)\" d=\"M1781.52 1514.29 L1799.88 1514.29 L1799.88 1518.22 L1785.8 1518.22 L1785.8 1526.7 Q1786.82 1526.35 1787.84 1526.19 Q1788.86 1526 1789.88 1526 Q1795.66 1526 1799.04 1529.17 Q1802.42 1532.34 1802.42 1537.76 Q1802.42 1543.34 1798.95 1546.44 Q1795.48 1549.52 1789.16 1549.52 Q1786.98 1549.52 1784.72 1549.15 Q1782.47 1548.78 1780.06 1548.04 L1780.06 1543.34 Q1782.15 1544.47 1784.37 1545.03 Q1786.59 1545.58 1789.07 1545.58 Q1793.07 1545.58 1795.41 1543.48 Q1797.75 1541.37 1797.75 1537.76 Q1797.75 1534.15 1795.41 1532.04 Q1793.07 1529.94 1789.07 1529.94 Q1787.19 1529.94 1785.32 1530.35 Q1783.47 1530.77 1781.52 1531.65 L1781.52 1514.29 Z\" fill=\"#000000\" fill-rule=\"nonzero\" fill-opacity=\"1\" /><path clip-path=\"url(#clip760)\" d=\"M2242.26 1544.91 L2249.89 1544.91 L2249.89 1518.55 L2241.58 1520.21 L2241.58 1515.95 L2249.85 1514.29 L2254.52 1514.29 L2254.52 1544.91 L2262.16 1544.91 L2262.16 1548.85 L2242.26 1548.85 L2242.26 1544.91 Z\" fill=\"#000000\" fill-rule=\"nonzero\" fill-opacity=\"1\" /><path clip-path=\"url(#clip760)\" d=\"M2281.61 1517.37 Q2278 1517.37 2276.17 1520.93 Q2274.36 1524.47 2274.36 1531.6 Q2274.36 1538.71 2276.17 1542.27 Q2278 1545.82 2281.61 1545.82 Q2285.24 1545.82 2287.05 1542.27 Q2288.88 1538.71 2288.88 1531.6 Q2288.88 1524.47 2287.05 1520.93 Q2285.24 1517.37 2281.61 1517.37 M2281.61 1513.66 Q2287.42 1513.66 2290.47 1518.27 Q2293.55 1522.85 2293.55 1531.6 Q2293.55 1540.33 2290.47 1544.94 Q2287.42 1549.52 2281.61 1549.52 Q2275.8 1549.52 2272.72 1544.94 Q2269.66 1540.33 2269.66 1531.6 Q2269.66 1522.85 2272.72 1518.27 Q2275.8 1513.66 2281.61 1513.66 Z\" fill=\"#000000\" fill-rule=\"nonzero\" fill-opacity=\"1\" /><path clip-path=\"url(#clip760)\" d=\"M2301.77 1542.97 L2306.65 1542.97 L2306.65 1548.85 L2301.77 1548.85 L2301.77 1542.97 Z\" fill=\"#000000\" fill-rule=\"nonzero\" fill-opacity=\"1\" /><path clip-path=\"url(#clip760)\" d=\"M2326.84 1517.37 Q2323.23 1517.37 2321.4 1520.93 Q2319.59 1524.47 2319.59 1531.6 Q2319.59 1538.71 2321.4 1542.27 Q2323.23 1545.82 2326.84 1545.82 Q2330.47 1545.82 2332.28 1542.27 Q2334.11 1538.71 2334.11 1531.6 Q2334.11 1524.47 2332.28 1520.93 Q2330.47 1517.37 2326.84 1517.37 M2326.84 1513.66 Q2332.65 1513.66 2335.7 1518.27 Q2338.78 1522.85 2338.78 1531.6 Q2338.78 1540.33 2335.7 1544.94 Q2332.65 1549.52 2326.84 1549.52 Q2321.03 1549.52 2317.95 1544.94 Q2314.89 1540.33 2314.89 1531.6 Q2314.89 1522.85 2317.95 1518.27 Q2321.03 1513.66 2326.84 1513.66 Z\" fill=\"#000000\" fill-rule=\"nonzero\" fill-opacity=\"1\" /><polyline clip-path=\"url(#clip760)\" style=\"stroke:#000000; stroke-linecap:round; stroke-linejoin:round; stroke-width:4; stroke-opacity:1; fill:none\" points=\"141.853,1486.45 141.853,47.2441 \"/>\n",
       "<polyline clip-path=\"url(#clip760)\" style=\"stroke:#000000; stroke-linecap:round; stroke-linejoin:round; stroke-width:4; stroke-opacity:1; fill:none\" points=\"141.853,1177.28 160.751,1177.28 \"/>\n",
       "<polyline clip-path=\"url(#clip760)\" style=\"stroke:#000000; stroke-linecap:round; stroke-linejoin:round; stroke-width:4; stroke-opacity:1; fill:none\" points=\"141.853,812.306 160.751,812.306 \"/>\n",
       "<polyline clip-path=\"url(#clip760)\" style=\"stroke:#000000; stroke-linecap:round; stroke-linejoin:round; stroke-width:4; stroke-opacity:1; fill:none\" points=\"141.853,447.33 160.751,447.33 \"/>\n",
       "<polyline clip-path=\"url(#clip760)\" style=\"stroke:#000000; stroke-linecap:round; stroke-linejoin:round; stroke-width:4; stroke-opacity:1; fill:none\" points=\"141.853,82.354 160.751,82.354 \"/>\n",
       "<path clip-path=\"url(#clip760)\" d=\"M54.5569 1190.63 L62.1958 1190.63 L62.1958 1164.26 L53.8856 1165.93 L53.8856 1161.67 L62.1495 1160 L66.8254 1160 L66.8254 1190.63 L74.4642 1190.63 L74.4642 1194.56 L54.5569 1194.56 L54.5569 1190.63 Z\" fill=\"#000000\" fill-rule=\"nonzero\" fill-opacity=\"1\" /><path clip-path=\"url(#clip760)\" d=\"M93.9086 1163.08 Q90.2975 1163.08 88.4688 1166.65 Q86.6632 1170.19 86.6632 1177.32 Q86.6632 1184.42 88.4688 1187.99 Q90.2975 1191.53 93.9086 1191.53 Q97.5428 1191.53 99.3483 1187.99 Q101.177 1184.42 101.177 1177.32 Q101.177 1170.19 99.3483 1166.65 Q97.5428 1163.08 93.9086 1163.08 M93.9086 1159.38 Q99.7187 1159.38 102.774 1163.98 Q105.853 1168.57 105.853 1177.32 Q105.853 1186.04 102.774 1190.65 Q99.7187 1195.23 93.9086 1195.23 Q88.0984 1195.23 85.0197 1190.65 Q81.9642 1186.04 81.9642 1177.32 Q81.9642 1168.57 85.0197 1163.98 Q88.0984 1159.38 93.9086 1159.38 Z\" fill=\"#000000\" fill-rule=\"nonzero\" fill-opacity=\"1\" /><path clip-path=\"url(#clip760)\" d=\"M57.7745 825.651 L74.0939 825.651 L74.0939 829.586 L52.1495 829.586 L52.1495 825.651 Q54.8115 822.896 59.3949 818.267 Q64.0013 813.614 65.1819 812.271 Q67.4272 809.748 68.3068 808.012 Q69.2096 806.253 69.2096 804.563 Q69.2096 801.808 67.2652 800.072 Q65.3439 798.336 62.2421 798.336 Q60.043 798.336 57.5893 799.1 Q55.1588 799.864 52.381 801.415 L52.381 796.693 Q55.2051 795.558 57.6588 794.98 Q60.1124 794.401 62.1495 794.401 Q67.5198 794.401 70.7142 797.086 Q73.9087 799.771 73.9087 804.262 Q73.9087 806.392 73.0985 808.313 Q72.3115 810.211 70.205 812.804 Q69.6263 813.475 66.5245 816.692 Q63.4226 819.887 57.7745 825.651 Z\" fill=\"#000000\" fill-rule=\"nonzero\" fill-opacity=\"1\" /><path clip-path=\"url(#clip760)\" d=\"M93.9086 798.105 Q90.2975 798.105 88.4688 801.669 Q86.6632 805.211 86.6632 812.341 Q86.6632 819.447 88.4688 823.012 Q90.2975 826.554 93.9086 826.554 Q97.5428 826.554 99.3483 823.012 Q101.177 819.447 101.177 812.341 Q101.177 805.211 99.3483 801.669 Q97.5428 798.105 93.9086 798.105 M93.9086 794.401 Q99.7187 794.401 102.774 799.007 Q105.853 803.591 105.853 812.341 Q105.853 821.067 102.774 825.674 Q99.7187 830.257 93.9086 830.257 Q88.0984 830.257 85.0197 825.674 Q81.9642 821.067 81.9642 812.341 Q81.9642 803.591 85.0197 799.007 Q88.0984 794.401 93.9086 794.401 Z\" fill=\"#000000\" fill-rule=\"nonzero\" fill-opacity=\"1\" /><path clip-path=\"url(#clip760)\" d=\"M67.9133 445.976 Q71.2698 446.693 73.1448 448.962 Q75.0429 451.23 75.0429 454.564 Q75.0429 459.679 71.5244 462.48 Q68.0059 465.281 61.5245 465.281 Q59.3486 465.281 57.0338 464.841 Q54.7421 464.425 52.2884 463.568 L52.2884 459.054 Q54.2328 460.189 56.5477 460.767 Q58.8625 461.346 61.3856 461.346 Q65.7837 461.346 68.0754 459.61 Q70.3902 457.874 70.3902 454.564 Q70.3902 451.508 68.2374 449.795 Q66.1078 448.059 62.2884 448.059 L58.2606 448.059 L58.2606 444.217 L62.4735 444.217 Q65.9226 444.217 67.7513 442.851 Q69.58 441.462 69.58 438.869 Q69.58 436.207 67.6819 434.795 Q65.8069 433.36 62.2884 433.36 Q60.3671 433.36 58.168 433.777 Q55.969 434.193 53.3301 435.073 L53.3301 430.906 Q55.9921 430.166 58.3069 429.795 Q60.6449 429.425 62.705 429.425 Q68.0291 429.425 71.1309 431.855 Q74.2327 434.263 74.2327 438.383 Q74.2327 441.254 72.5892 443.244 Q70.9457 445.212 67.9133 445.976 Z\" fill=\"#000000\" fill-rule=\"nonzero\" fill-opacity=\"1\" /><path clip-path=\"url(#clip760)\" d=\"M93.9086 433.129 Q90.2975 433.129 88.4688 436.693 Q86.6632 440.235 86.6632 447.365 Q86.6632 454.471 88.4688 458.036 Q90.2975 461.578 93.9086 461.578 Q97.5428 461.578 99.3483 458.036 Q101.177 454.471 101.177 447.365 Q101.177 440.235 99.3483 436.693 Q97.5428 433.129 93.9086 433.129 M93.9086 429.425 Q99.7187 429.425 102.774 434.031 Q105.853 438.615 105.853 447.365 Q105.853 456.091 102.774 460.698 Q99.7187 465.281 93.9086 465.281 Q88.0984 465.281 85.0197 460.698 Q81.9642 456.091 81.9642 447.365 Q81.9642 438.615 85.0197 434.031 Q88.0984 429.425 93.9086 429.425 Z\" fill=\"#000000\" fill-rule=\"nonzero\" fill-opacity=\"1\" /><path clip-path=\"url(#clip760)\" d=\"M66.5939 69.148 L54.7884 87.597 L66.5939 87.597 L66.5939 69.148 M65.367 65.074 L71.2466 65.074 L71.2466 87.597 L76.1772 87.597 L76.1772 91.4859 L71.2466 91.4859 L71.2466 99.634 L66.5939 99.634 L66.5939 91.4859 L50.9921 91.4859 L50.9921 86.972 L65.367 65.074 Z\" fill=\"#000000\" fill-rule=\"nonzero\" fill-opacity=\"1\" /><path clip-path=\"url(#clip760)\" d=\"M93.9086 68.1527 Q90.2975 68.1527 88.4688 71.7175 Q86.6632 75.2591 86.6632 82.3887 Q86.6632 89.4951 88.4688 93.0599 Q90.2975 96.6016 93.9086 96.6016 Q97.5428 96.6016 99.3483 93.0599 Q101.177 89.4951 101.177 82.3887 Q101.177 75.2591 99.3483 71.7175 Q97.5428 68.1527 93.9086 68.1527 M93.9086 64.449 Q99.7187 64.449 102.774 69.0554 Q105.853 73.6387 105.853 82.3887 Q105.853 91.1155 102.774 95.722 Q99.7187 100.305 93.9086 100.305 Q88.0984 100.305 85.0197 95.722 Q81.9642 91.1155 81.9642 82.3887 Q81.9642 73.6387 85.0197 69.0554 Q88.0984 64.449 93.9086 64.449 Z\" fill=\"#000000\" fill-rule=\"nonzero\" fill-opacity=\"1\" /><circle clip-path=\"url(#clip762)\" cx=\"204.426\" cy=\"1445.72\" r=\"14.4\" fill=\"#009af9\" fill-rule=\"evenodd\" fill-opacity=\"1\" stroke=\"#000000\" stroke-opacity=\"1\" stroke-width=\"3.2\"/>\n",
       "<circle clip-path=\"url(#clip762)\" cx=\"413.001\" cy=\"1315.27\" r=\"14.4\" fill=\"#009af9\" fill-rule=\"evenodd\" fill-opacity=\"1\" stroke=\"#000000\" stroke-opacity=\"1\" stroke-width=\"3.2\"/>\n",
       "<circle clip-path=\"url(#clip762)\" cx=\"621.577\" cy=\"1043.87\" r=\"14.4\" fill=\"#009af9\" fill-rule=\"evenodd\" fill-opacity=\"1\" stroke=\"#000000\" stroke-opacity=\"1\" stroke-width=\"3.2\"/>\n",
       "<circle clip-path=\"url(#clip762)\" cx=\"830.153\" cy=\"1065.07\" r=\"14.4\" fill=\"#009af9\" fill-rule=\"evenodd\" fill-opacity=\"1\" stroke=\"#000000\" stroke-opacity=\"1\" stroke-width=\"3.2\"/>\n",
       "<circle clip-path=\"url(#clip762)\" cx=\"1038.73\" cy=\"950.549\" r=\"14.4\" fill=\"#009af9\" fill-rule=\"evenodd\" fill-opacity=\"1\" stroke=\"#000000\" stroke-opacity=\"1\" stroke-width=\"3.2\"/>\n",
       "<circle clip-path=\"url(#clip762)\" cx=\"1247.3\" cy=\"956.3\" r=\"14.4\" fill=\"#009af9\" fill-rule=\"evenodd\" fill-opacity=\"1\" stroke=\"#000000\" stroke-opacity=\"1\" stroke-width=\"3.2\"/>\n",
       "<circle clip-path=\"url(#clip762)\" cx=\"1455.88\" cy=\"703.004\" r=\"14.4\" fill=\"#009af9\" fill-rule=\"evenodd\" fill-opacity=\"1\" stroke=\"#000000\" stroke-opacity=\"1\" stroke-width=\"3.2\"/>\n",
       "<circle clip-path=\"url(#clip762)\" cx=\"1664.46\" cy=\"801.111\" r=\"14.4\" fill=\"#009af9\" fill-rule=\"evenodd\" fill-opacity=\"1\" stroke=\"#000000\" stroke-opacity=\"1\" stroke-width=\"3.2\"/>\n",
       "<circle clip-path=\"url(#clip762)\" cx=\"1873.03\" cy=\"398.545\" r=\"14.4\" fill=\"#009af9\" fill-rule=\"evenodd\" fill-opacity=\"1\" stroke=\"#000000\" stroke-opacity=\"1\" stroke-width=\"3.2\"/>\n",
       "<circle clip-path=\"url(#clip762)\" cx=\"2081.61\" cy=\"127.898\" r=\"14.4\" fill=\"#009af9\" fill-rule=\"evenodd\" fill-opacity=\"1\" stroke=\"#000000\" stroke-opacity=\"1\" stroke-width=\"3.2\"/>\n",
       "<circle clip-path=\"url(#clip762)\" cx=\"2290.18\" cy=\"87.9763\" r=\"14.4\" fill=\"#009af9\" fill-rule=\"evenodd\" fill-opacity=\"1\" stroke=\"#000000\" stroke-opacity=\"1\" stroke-width=\"3.2\"/>\n",
       "<path clip-path=\"url(#clip760)\" d=\"M215.55 198.898 L489.07 198.898 L489.07 95.2176 L215.55 95.2176  Z\" fill=\"#ffffff\" fill-rule=\"evenodd\" fill-opacity=\"1\"/>\n",
       "<polyline clip-path=\"url(#clip760)\" style=\"stroke:#000000; stroke-linecap:round; stroke-linejoin:round; stroke-width:4; stroke-opacity:1; fill:none\" points=\"215.55,198.898 489.07,198.898 489.07,95.2176 215.55,95.2176 215.55,198.898 \"/>\n",
       "<circle clip-path=\"url(#clip760)\" cx=\"313.812\" cy=\"147.058\" r=\"20.48\" fill=\"#009af9\" fill-rule=\"evenodd\" fill-opacity=\"1\" stroke=\"#000000\" stroke-opacity=\"1\" stroke-width=\"4.55111\"/>\n",
       "<path clip-path=\"url(#clip760)\" d=\"M425.917 166.745 Q424.111 171.375 422.398 172.787 Q420.685 174.199 417.815 174.199 L414.412 174.199 L414.412 170.634 L416.912 170.634 Q418.672 170.634 419.644 169.8 Q420.616 168.967 421.797 165.865 L422.56 163.921 L412.074 138.412 L416.588 138.412 L424.69 158.689 L432.792 138.412 L437.306 138.412 L425.917 166.745 Z\" fill=\"#000000\" fill-rule=\"nonzero\" fill-opacity=\"1\" /><path clip-path=\"url(#clip760)\" d=\"M444.597 160.402 L452.236 160.402 L452.236 134.037 L443.926 135.703 L443.926 131.444 L452.19 129.778 L456.866 129.778 L456.866 160.402 L464.505 160.402 L464.505 164.338 L444.597 164.338 L444.597 160.402 Z\" fill=\"#000000\" fill-rule=\"nonzero\" fill-opacity=\"1\" /></svg>\n"
      ],
      "text/html": [
       "<?xml version=\"1.0\" encoding=\"utf-8\"?>\n",
       "<svg xmlns=\"http://www.w3.org/2000/svg\" xmlns:xlink=\"http://www.w3.org/1999/xlink\" width=\"600\" height=\"400\" viewBox=\"0 0 2400 1600\">\n",
       "<defs>\n",
       "  <clipPath id=\"clip810\">\n",
       "    <rect x=\"0\" y=\"0\" width=\"2400\" height=\"1600\"/>\n",
       "  </clipPath>\n",
       "</defs>\n",
       "<path clip-path=\"url(#clip810)\" d=\"M0 1600 L2400 1600 L2400 8.88178e-14 L0 8.88178e-14  Z\" fill=\"#ffffff\" fill-rule=\"evenodd\" fill-opacity=\"1\"/>\n",
       "<defs>\n",
       "  <clipPath id=\"clip811\">\n",
       "    <rect x=\"480\" y=\"0\" width=\"1681\" height=\"1600\"/>\n",
       "  </clipPath>\n",
       "</defs>\n",
       "<path clip-path=\"url(#clip810)\" d=\"M141.853 1486.45 L2352.76 1486.45 L2352.76 47.2441 L141.853 47.2441  Z\" fill=\"#ffffff\" fill-rule=\"evenodd\" fill-opacity=\"1\"/>\n",
       "<defs>\n",
       "  <clipPath id=\"clip812\">\n",
       "    <rect x=\"141\" y=\"47\" width=\"2212\" height=\"1440\"/>\n",
       "  </clipPath>\n",
       "</defs>\n",
       "<polyline clip-path=\"url(#clip812)\" style=\"stroke:#000000; stroke-linecap:round; stroke-linejoin:round; stroke-width:2; stroke-opacity:0.1; fill:none\" points=\"204.426,1486.45 204.426,47.2441 \"/>\n",
       "<polyline clip-path=\"url(#clip812)\" style=\"stroke:#000000; stroke-linecap:round; stroke-linejoin:round; stroke-width:2; stroke-opacity:0.1; fill:none\" points=\"725.865,1486.45 725.865,47.2441 \"/>\n",
       "<polyline clip-path=\"url(#clip812)\" style=\"stroke:#000000; stroke-linecap:round; stroke-linejoin:round; stroke-width:2; stroke-opacity:0.1; fill:none\" points=\"1247.3,1486.45 1247.3,47.2441 \"/>\n",
       "<polyline clip-path=\"url(#clip812)\" style=\"stroke:#000000; stroke-linecap:round; stroke-linejoin:round; stroke-width:2; stroke-opacity:0.1; fill:none\" points=\"1768.74,1486.45 1768.74,47.2441 \"/>\n",
       "<polyline clip-path=\"url(#clip812)\" style=\"stroke:#000000; stroke-linecap:round; stroke-linejoin:round; stroke-width:2; stroke-opacity:0.1; fill:none\" points=\"2290.18,1486.45 2290.18,47.2441 \"/>\n",
       "<polyline clip-path=\"url(#clip812)\" style=\"stroke:#000000; stroke-linecap:round; stroke-linejoin:round; stroke-width:2; stroke-opacity:0.1; fill:none\" points=\"141.853,1177.28 2352.76,1177.28 \"/>\n",
       "<polyline clip-path=\"url(#clip812)\" style=\"stroke:#000000; stroke-linecap:round; stroke-linejoin:round; stroke-width:2; stroke-opacity:0.1; fill:none\" points=\"141.853,812.306 2352.76,812.306 \"/>\n",
       "<polyline clip-path=\"url(#clip812)\" style=\"stroke:#000000; stroke-linecap:round; stroke-linejoin:round; stroke-width:2; stroke-opacity:0.1; fill:none\" points=\"141.853,447.33 2352.76,447.33 \"/>\n",
       "<polyline clip-path=\"url(#clip812)\" style=\"stroke:#000000; stroke-linecap:round; stroke-linejoin:round; stroke-width:2; stroke-opacity:0.1; fill:none\" points=\"141.853,82.354 2352.76,82.354 \"/>\n",
       "<polyline clip-path=\"url(#clip810)\" style=\"stroke:#000000; stroke-linecap:round; stroke-linejoin:round; stroke-width:4; stroke-opacity:1; fill:none\" points=\"141.853,1486.45 2352.76,1486.45 \"/>\n",
       "<polyline clip-path=\"url(#clip810)\" style=\"stroke:#000000; stroke-linecap:round; stroke-linejoin:round; stroke-width:4; stroke-opacity:1; fill:none\" points=\"204.426,1486.45 204.426,1467.55 \"/>\n",
       "<polyline clip-path=\"url(#clip810)\" style=\"stroke:#000000; stroke-linecap:round; stroke-linejoin:round; stroke-width:4; stroke-opacity:1; fill:none\" points=\"725.865,1486.45 725.865,1467.55 \"/>\n",
       "<polyline clip-path=\"url(#clip810)\" style=\"stroke:#000000; stroke-linecap:round; stroke-linejoin:round; stroke-width:4; stroke-opacity:1; fill:none\" points=\"1247.3,1486.45 1247.3,1467.55 \"/>\n",
       "<polyline clip-path=\"url(#clip810)\" style=\"stroke:#000000; stroke-linecap:round; stroke-linejoin:round; stroke-width:4; stroke-opacity:1; fill:none\" points=\"1768.74,1486.45 1768.74,1467.55 \"/>\n",
       "<polyline clip-path=\"url(#clip810)\" style=\"stroke:#000000; stroke-linecap:round; stroke-linejoin:round; stroke-width:4; stroke-opacity:1; fill:none\" points=\"2290.18,1486.45 2290.18,1467.55 \"/>\n",
       "<path clip-path=\"url(#clip810)\" d=\"M181.81 1517.37 Q178.199 1517.37 176.37 1520.93 Q174.565 1524.47 174.565 1531.6 Q174.565 1538.71 176.37 1542.27 Q178.199 1545.82 181.81 1545.82 Q185.444 1545.82 187.25 1542.27 Q189.079 1538.71 189.079 1531.6 Q189.079 1524.47 187.25 1520.93 Q185.444 1517.37 181.81 1517.37 M181.81 1513.66 Q187.62 1513.66 190.676 1518.27 Q193.754 1522.85 193.754 1531.6 Q193.754 1540.33 190.676 1544.94 Q187.62 1549.52 181.81 1549.52 Q176 1549.52 172.921 1544.94 Q169.866 1540.33 169.866 1531.6 Q169.866 1522.85 172.921 1518.27 Q176 1513.66 181.81 1513.66 Z\" fill=\"#000000\" fill-rule=\"nonzero\" fill-opacity=\"1\" /><path clip-path=\"url(#clip810)\" d=\"M201.972 1542.97 L206.856 1542.97 L206.856 1548.85 L201.972 1548.85 L201.972 1542.97 Z\" fill=\"#000000\" fill-rule=\"nonzero\" fill-opacity=\"1\" /><path clip-path=\"url(#clip810)\" d=\"M227.041 1517.37 Q223.43 1517.37 221.602 1520.93 Q219.796 1524.47 219.796 1531.6 Q219.796 1538.71 221.602 1542.27 Q223.43 1545.82 227.041 1545.82 Q230.676 1545.82 232.481 1542.27 Q234.31 1538.71 234.31 1531.6 Q234.31 1524.47 232.481 1520.93 Q230.676 1517.37 227.041 1517.37 M227.041 1513.66 Q232.851 1513.66 235.907 1518.27 Q238.986 1522.85 238.986 1531.6 Q238.986 1540.33 235.907 1544.94 Q232.851 1549.52 227.041 1549.52 Q221.231 1549.52 218.152 1544.94 Q215.097 1540.33 215.097 1531.6 Q215.097 1522.85 218.152 1518.27 Q221.231 1513.66 227.041 1513.66 Z\" fill=\"#000000\" fill-rule=\"nonzero\" fill-opacity=\"1\" /><path clip-path=\"url(#clip810)\" d=\"M697.601 1544.91 L713.921 1544.91 L713.921 1548.85 L691.976 1548.85 L691.976 1544.91 Q694.638 1542.16 699.222 1537.53 Q703.828 1532.88 705.009 1531.53 Q707.254 1529.01 708.134 1527.27 Q709.036 1525.51 709.036 1523.82 Q709.036 1521.07 707.092 1519.33 Q705.171 1517.6 702.069 1517.6 Q699.87 1517.6 697.416 1518.36 Q694.986 1519.13 692.208 1520.68 L692.208 1515.95 Q695.032 1514.82 697.486 1514.24 Q699.939 1513.66 701.976 1513.66 Q707.347 1513.66 710.541 1516.35 Q713.735 1519.03 713.735 1523.52 Q713.735 1525.65 712.925 1527.57 Q712.138 1529.47 710.032 1532.07 Q709.453 1532.74 706.351 1535.95 Q703.249 1539.15 697.601 1544.91 Z\" fill=\"#000000\" fill-rule=\"nonzero\" fill-opacity=\"1\" /><path clip-path=\"url(#clip810)\" d=\"M723.735 1542.97 L728.62 1542.97 L728.62 1548.85 L723.735 1548.85 L723.735 1542.97 Z\" fill=\"#000000\" fill-rule=\"nonzero\" fill-opacity=\"1\" /><path clip-path=\"url(#clip810)\" d=\"M738.851 1514.29 L757.207 1514.29 L757.207 1518.22 L743.133 1518.22 L743.133 1526.7 Q744.152 1526.35 745.17 1526.19 Q746.189 1526 747.208 1526 Q752.995 1526 756.374 1529.17 Q759.754 1532.34 759.754 1537.76 Q759.754 1543.34 756.282 1546.44 Q752.809 1549.52 746.49 1549.52 Q744.314 1549.52 742.046 1549.15 Q739.8 1548.78 737.393 1548.04 L737.393 1543.34 Q739.476 1544.47 741.698 1545.03 Q743.921 1545.58 746.397 1545.58 Q750.402 1545.58 752.74 1543.48 Q755.078 1541.37 755.078 1537.76 Q755.078 1534.15 752.74 1532.04 Q750.402 1529.94 746.397 1529.94 Q744.522 1529.94 742.647 1530.35 Q740.796 1530.77 738.851 1531.65 L738.851 1514.29 Z\" fill=\"#000000\" fill-rule=\"nonzero\" fill-opacity=\"1\" /><path clip-path=\"url(#clip810)\" d=\"M1214.47 1514.29 L1232.83 1514.29 L1232.83 1518.22 L1218.75 1518.22 L1218.75 1526.7 Q1219.77 1526.35 1220.79 1526.19 Q1221.81 1526 1222.83 1526 Q1228.61 1526 1231.99 1529.17 Q1235.37 1532.34 1235.37 1537.76 Q1235.37 1543.34 1231.9 1546.44 Q1228.43 1549.52 1222.11 1549.52 Q1219.93 1549.52 1217.66 1549.15 Q1215.42 1548.78 1213.01 1548.04 L1213.01 1543.34 Q1215.09 1544.47 1217.32 1545.03 Q1219.54 1545.58 1222.02 1545.58 Q1226.02 1545.58 1228.36 1543.48 Q1230.7 1541.37 1230.7 1537.76 Q1230.7 1534.15 1228.36 1532.04 Q1226.02 1529.94 1222.02 1529.94 Q1220.14 1529.94 1218.27 1530.35 Q1216.41 1530.77 1214.47 1531.65 L1214.47 1514.29 Z\" fill=\"#000000\" fill-rule=\"nonzero\" fill-opacity=\"1\" /><path clip-path=\"url(#clip810)\" d=\"M1244.58 1542.97 L1249.47 1542.97 L1249.47 1548.85 L1244.58 1548.85 L1244.58 1542.97 Z\" fill=\"#000000\" fill-rule=\"nonzero\" fill-opacity=\"1\" /><path clip-path=\"url(#clip810)\" d=\"M1269.65 1517.37 Q1266.04 1517.37 1264.21 1520.93 Q1262.41 1524.47 1262.41 1531.6 Q1262.41 1538.71 1264.21 1542.27 Q1266.04 1545.82 1269.65 1545.82 Q1273.29 1545.82 1275.09 1542.27 Q1276.92 1538.71 1276.92 1531.6 Q1276.92 1524.47 1275.09 1520.93 Q1273.29 1517.37 1269.65 1517.37 M1269.65 1513.66 Q1275.46 1513.66 1278.52 1518.27 Q1281.6 1522.85 1281.6 1531.6 Q1281.6 1540.33 1278.52 1544.94 Q1275.46 1549.52 1269.65 1549.52 Q1263.84 1549.52 1260.77 1544.94 Q1257.71 1540.33 1257.71 1531.6 Q1257.71 1522.85 1260.77 1518.27 Q1263.84 1513.66 1269.65 1513.66 Z\" fill=\"#000000\" fill-rule=\"nonzero\" fill-opacity=\"1\" /><path clip-path=\"url(#clip810)\" d=\"M1735.06 1514.29 L1757.29 1514.29 L1757.29 1516.28 L1744.74 1548.85 L1739.86 1548.85 L1751.66 1518.22 L1735.06 1518.22 L1735.06 1514.29 Z\" fill=\"#000000\" fill-rule=\"nonzero\" fill-opacity=\"1\" /><path clip-path=\"url(#clip810)\" d=\"M1766.41 1542.97 L1771.29 1542.97 L1771.29 1548.85 L1766.41 1548.85 L1766.41 1542.97 Z\" fill=\"#000000\" fill-rule=\"nonzero\" fill-opacity=\"1\" /><path clip-path=\"url(#clip810)\" d=\"M1781.52 1514.29 L1799.88 1514.29 L1799.88 1518.22 L1785.8 1518.22 L1785.8 1526.7 Q1786.82 1526.35 1787.84 1526.19 Q1788.86 1526 1789.88 1526 Q1795.66 1526 1799.04 1529.17 Q1802.42 1532.34 1802.42 1537.76 Q1802.42 1543.34 1798.95 1546.44 Q1795.48 1549.52 1789.16 1549.52 Q1786.98 1549.52 1784.72 1549.15 Q1782.47 1548.78 1780.06 1548.04 L1780.06 1543.34 Q1782.15 1544.47 1784.37 1545.03 Q1786.59 1545.58 1789.07 1545.58 Q1793.07 1545.58 1795.41 1543.48 Q1797.75 1541.37 1797.75 1537.76 Q1797.75 1534.15 1795.41 1532.04 Q1793.07 1529.94 1789.07 1529.94 Q1787.19 1529.94 1785.32 1530.35 Q1783.47 1530.77 1781.52 1531.65 L1781.52 1514.29 Z\" fill=\"#000000\" fill-rule=\"nonzero\" fill-opacity=\"1\" /><path clip-path=\"url(#clip810)\" d=\"M2242.26 1544.91 L2249.89 1544.91 L2249.89 1518.55 L2241.58 1520.21 L2241.58 1515.95 L2249.85 1514.29 L2254.52 1514.29 L2254.52 1544.91 L2262.16 1544.91 L2262.16 1548.85 L2242.26 1548.85 L2242.26 1544.91 Z\" fill=\"#000000\" fill-rule=\"nonzero\" fill-opacity=\"1\" /><path clip-path=\"url(#clip810)\" d=\"M2281.61 1517.37 Q2278 1517.37 2276.17 1520.93 Q2274.36 1524.47 2274.36 1531.6 Q2274.36 1538.71 2276.17 1542.27 Q2278 1545.82 2281.61 1545.82 Q2285.24 1545.82 2287.05 1542.27 Q2288.88 1538.71 2288.88 1531.6 Q2288.88 1524.47 2287.05 1520.93 Q2285.24 1517.37 2281.61 1517.37 M2281.61 1513.66 Q2287.42 1513.66 2290.47 1518.27 Q2293.55 1522.85 2293.55 1531.6 Q2293.55 1540.33 2290.47 1544.94 Q2287.42 1549.52 2281.61 1549.52 Q2275.8 1549.52 2272.72 1544.94 Q2269.66 1540.33 2269.66 1531.6 Q2269.66 1522.85 2272.72 1518.27 Q2275.8 1513.66 2281.61 1513.66 Z\" fill=\"#000000\" fill-rule=\"nonzero\" fill-opacity=\"1\" /><path clip-path=\"url(#clip810)\" d=\"M2301.77 1542.97 L2306.65 1542.97 L2306.65 1548.85 L2301.77 1548.85 L2301.77 1542.97 Z\" fill=\"#000000\" fill-rule=\"nonzero\" fill-opacity=\"1\" /><path clip-path=\"url(#clip810)\" d=\"M2326.84 1517.37 Q2323.23 1517.37 2321.4 1520.93 Q2319.59 1524.47 2319.59 1531.6 Q2319.59 1538.71 2321.4 1542.27 Q2323.23 1545.82 2326.84 1545.82 Q2330.47 1545.82 2332.28 1542.27 Q2334.11 1538.71 2334.11 1531.6 Q2334.11 1524.47 2332.28 1520.93 Q2330.47 1517.37 2326.84 1517.37 M2326.84 1513.66 Q2332.65 1513.66 2335.7 1518.27 Q2338.78 1522.85 2338.78 1531.6 Q2338.78 1540.33 2335.7 1544.94 Q2332.65 1549.52 2326.84 1549.52 Q2321.03 1549.52 2317.95 1544.94 Q2314.89 1540.33 2314.89 1531.6 Q2314.89 1522.85 2317.95 1518.27 Q2321.03 1513.66 2326.84 1513.66 Z\" fill=\"#000000\" fill-rule=\"nonzero\" fill-opacity=\"1\" /><polyline clip-path=\"url(#clip810)\" style=\"stroke:#000000; stroke-linecap:round; stroke-linejoin:round; stroke-width:4; stroke-opacity:1; fill:none\" points=\"141.853,1486.45 141.853,47.2441 \"/>\n",
       "<polyline clip-path=\"url(#clip810)\" style=\"stroke:#000000; stroke-linecap:round; stroke-linejoin:round; stroke-width:4; stroke-opacity:1; fill:none\" points=\"141.853,1177.28 160.751,1177.28 \"/>\n",
       "<polyline clip-path=\"url(#clip810)\" style=\"stroke:#000000; stroke-linecap:round; stroke-linejoin:round; stroke-width:4; stroke-opacity:1; fill:none\" points=\"141.853,812.306 160.751,812.306 \"/>\n",
       "<polyline clip-path=\"url(#clip810)\" style=\"stroke:#000000; stroke-linecap:round; stroke-linejoin:round; stroke-width:4; stroke-opacity:1; fill:none\" points=\"141.853,447.33 160.751,447.33 \"/>\n",
       "<polyline clip-path=\"url(#clip810)\" style=\"stroke:#000000; stroke-linecap:round; stroke-linejoin:round; stroke-width:4; stroke-opacity:1; fill:none\" points=\"141.853,82.354 160.751,82.354 \"/>\n",
       "<path clip-path=\"url(#clip810)\" d=\"M54.5569 1190.63 L62.1958 1190.63 L62.1958 1164.26 L53.8856 1165.93 L53.8856 1161.67 L62.1495 1160 L66.8254 1160 L66.8254 1190.63 L74.4642 1190.63 L74.4642 1194.56 L54.5569 1194.56 L54.5569 1190.63 Z\" fill=\"#000000\" fill-rule=\"nonzero\" fill-opacity=\"1\" /><path clip-path=\"url(#clip810)\" d=\"M93.9086 1163.08 Q90.2975 1163.08 88.4688 1166.65 Q86.6632 1170.19 86.6632 1177.32 Q86.6632 1184.42 88.4688 1187.99 Q90.2975 1191.53 93.9086 1191.53 Q97.5428 1191.53 99.3483 1187.99 Q101.177 1184.42 101.177 1177.32 Q101.177 1170.19 99.3483 1166.65 Q97.5428 1163.08 93.9086 1163.08 M93.9086 1159.38 Q99.7187 1159.38 102.774 1163.98 Q105.853 1168.57 105.853 1177.32 Q105.853 1186.04 102.774 1190.65 Q99.7187 1195.23 93.9086 1195.23 Q88.0984 1195.23 85.0197 1190.65 Q81.9642 1186.04 81.9642 1177.32 Q81.9642 1168.57 85.0197 1163.98 Q88.0984 1159.38 93.9086 1159.38 Z\" fill=\"#000000\" fill-rule=\"nonzero\" fill-opacity=\"1\" /><path clip-path=\"url(#clip810)\" d=\"M57.7745 825.651 L74.0939 825.651 L74.0939 829.586 L52.1495 829.586 L52.1495 825.651 Q54.8115 822.896 59.3949 818.267 Q64.0013 813.614 65.1819 812.271 Q67.4272 809.748 68.3068 808.012 Q69.2096 806.253 69.2096 804.563 Q69.2096 801.808 67.2652 800.072 Q65.3439 798.336 62.2421 798.336 Q60.043 798.336 57.5893 799.1 Q55.1588 799.864 52.381 801.415 L52.381 796.693 Q55.2051 795.558 57.6588 794.98 Q60.1124 794.401 62.1495 794.401 Q67.5198 794.401 70.7142 797.086 Q73.9087 799.771 73.9087 804.262 Q73.9087 806.392 73.0985 808.313 Q72.3115 810.211 70.205 812.804 Q69.6263 813.475 66.5245 816.692 Q63.4226 819.887 57.7745 825.651 Z\" fill=\"#000000\" fill-rule=\"nonzero\" fill-opacity=\"1\" /><path clip-path=\"url(#clip810)\" d=\"M93.9086 798.105 Q90.2975 798.105 88.4688 801.669 Q86.6632 805.211 86.6632 812.341 Q86.6632 819.447 88.4688 823.012 Q90.2975 826.554 93.9086 826.554 Q97.5428 826.554 99.3483 823.012 Q101.177 819.447 101.177 812.341 Q101.177 805.211 99.3483 801.669 Q97.5428 798.105 93.9086 798.105 M93.9086 794.401 Q99.7187 794.401 102.774 799.007 Q105.853 803.591 105.853 812.341 Q105.853 821.067 102.774 825.674 Q99.7187 830.257 93.9086 830.257 Q88.0984 830.257 85.0197 825.674 Q81.9642 821.067 81.9642 812.341 Q81.9642 803.591 85.0197 799.007 Q88.0984 794.401 93.9086 794.401 Z\" fill=\"#000000\" fill-rule=\"nonzero\" fill-opacity=\"1\" /><path clip-path=\"url(#clip810)\" d=\"M67.9133 445.976 Q71.2698 446.693 73.1448 448.962 Q75.0429 451.23 75.0429 454.564 Q75.0429 459.679 71.5244 462.48 Q68.0059 465.281 61.5245 465.281 Q59.3486 465.281 57.0338 464.841 Q54.7421 464.425 52.2884 463.568 L52.2884 459.054 Q54.2328 460.189 56.5477 460.767 Q58.8625 461.346 61.3856 461.346 Q65.7837 461.346 68.0754 459.61 Q70.3902 457.874 70.3902 454.564 Q70.3902 451.508 68.2374 449.795 Q66.1078 448.059 62.2884 448.059 L58.2606 448.059 L58.2606 444.217 L62.4735 444.217 Q65.9226 444.217 67.7513 442.851 Q69.58 441.462 69.58 438.869 Q69.58 436.207 67.6819 434.795 Q65.8069 433.36 62.2884 433.36 Q60.3671 433.36 58.168 433.777 Q55.969 434.193 53.3301 435.073 L53.3301 430.906 Q55.9921 430.166 58.3069 429.795 Q60.6449 429.425 62.705 429.425 Q68.0291 429.425 71.1309 431.855 Q74.2327 434.263 74.2327 438.383 Q74.2327 441.254 72.5892 443.244 Q70.9457 445.212 67.9133 445.976 Z\" fill=\"#000000\" fill-rule=\"nonzero\" fill-opacity=\"1\" /><path clip-path=\"url(#clip810)\" d=\"M93.9086 433.129 Q90.2975 433.129 88.4688 436.693 Q86.6632 440.235 86.6632 447.365 Q86.6632 454.471 88.4688 458.036 Q90.2975 461.578 93.9086 461.578 Q97.5428 461.578 99.3483 458.036 Q101.177 454.471 101.177 447.365 Q101.177 440.235 99.3483 436.693 Q97.5428 433.129 93.9086 433.129 M93.9086 429.425 Q99.7187 429.425 102.774 434.031 Q105.853 438.615 105.853 447.365 Q105.853 456.091 102.774 460.698 Q99.7187 465.281 93.9086 465.281 Q88.0984 465.281 85.0197 460.698 Q81.9642 456.091 81.9642 447.365 Q81.9642 438.615 85.0197 434.031 Q88.0984 429.425 93.9086 429.425 Z\" fill=\"#000000\" fill-rule=\"nonzero\" fill-opacity=\"1\" /><path clip-path=\"url(#clip810)\" d=\"M66.5939 69.148 L54.7884 87.597 L66.5939 87.597 L66.5939 69.148 M65.367 65.074 L71.2466 65.074 L71.2466 87.597 L76.1772 87.597 L76.1772 91.4859 L71.2466 91.4859 L71.2466 99.634 L66.5939 99.634 L66.5939 91.4859 L50.9921 91.4859 L50.9921 86.972 L65.367 65.074 Z\" fill=\"#000000\" fill-rule=\"nonzero\" fill-opacity=\"1\" /><path clip-path=\"url(#clip810)\" d=\"M93.9086 68.1527 Q90.2975 68.1527 88.4688 71.7175 Q86.6632 75.2591 86.6632 82.3887 Q86.6632 89.4951 88.4688 93.0599 Q90.2975 96.6016 93.9086 96.6016 Q97.5428 96.6016 99.3483 93.0599 Q101.177 89.4951 101.177 82.3887 Q101.177 75.2591 99.3483 71.7175 Q97.5428 68.1527 93.9086 68.1527 M93.9086 64.449 Q99.7187 64.449 102.774 69.0554 Q105.853 73.6387 105.853 82.3887 Q105.853 91.1155 102.774 95.722 Q99.7187 100.305 93.9086 100.305 Q88.0984 100.305 85.0197 95.722 Q81.9642 91.1155 81.9642 82.3887 Q81.9642 73.6387 85.0197 69.0554 Q88.0984 64.449 93.9086 64.449 Z\" fill=\"#000000\" fill-rule=\"nonzero\" fill-opacity=\"1\" /><circle clip-path=\"url(#clip812)\" cx=\"204.426\" cy=\"1445.72\" r=\"14.4\" fill=\"#009af9\" fill-rule=\"evenodd\" fill-opacity=\"1\" stroke=\"#000000\" stroke-opacity=\"1\" stroke-width=\"3.2\"/>\n",
       "<circle clip-path=\"url(#clip812)\" cx=\"413.001\" cy=\"1315.27\" r=\"14.4\" fill=\"#009af9\" fill-rule=\"evenodd\" fill-opacity=\"1\" stroke=\"#000000\" stroke-opacity=\"1\" stroke-width=\"3.2\"/>\n",
       "<circle clip-path=\"url(#clip812)\" cx=\"621.577\" cy=\"1043.87\" r=\"14.4\" fill=\"#009af9\" fill-rule=\"evenodd\" fill-opacity=\"1\" stroke=\"#000000\" stroke-opacity=\"1\" stroke-width=\"3.2\"/>\n",
       "<circle clip-path=\"url(#clip812)\" cx=\"830.153\" cy=\"1065.07\" r=\"14.4\" fill=\"#009af9\" fill-rule=\"evenodd\" fill-opacity=\"1\" stroke=\"#000000\" stroke-opacity=\"1\" stroke-width=\"3.2\"/>\n",
       "<circle clip-path=\"url(#clip812)\" cx=\"1038.73\" cy=\"950.549\" r=\"14.4\" fill=\"#009af9\" fill-rule=\"evenodd\" fill-opacity=\"1\" stroke=\"#000000\" stroke-opacity=\"1\" stroke-width=\"3.2\"/>\n",
       "<circle clip-path=\"url(#clip812)\" cx=\"1247.3\" cy=\"956.3\" r=\"14.4\" fill=\"#009af9\" fill-rule=\"evenodd\" fill-opacity=\"1\" stroke=\"#000000\" stroke-opacity=\"1\" stroke-width=\"3.2\"/>\n",
       "<circle clip-path=\"url(#clip812)\" cx=\"1455.88\" cy=\"703.004\" r=\"14.4\" fill=\"#009af9\" fill-rule=\"evenodd\" fill-opacity=\"1\" stroke=\"#000000\" stroke-opacity=\"1\" stroke-width=\"3.2\"/>\n",
       "<circle clip-path=\"url(#clip812)\" cx=\"1664.46\" cy=\"801.111\" r=\"14.4\" fill=\"#009af9\" fill-rule=\"evenodd\" fill-opacity=\"1\" stroke=\"#000000\" stroke-opacity=\"1\" stroke-width=\"3.2\"/>\n",
       "<circle clip-path=\"url(#clip812)\" cx=\"1873.03\" cy=\"398.545\" r=\"14.4\" fill=\"#009af9\" fill-rule=\"evenodd\" fill-opacity=\"1\" stroke=\"#000000\" stroke-opacity=\"1\" stroke-width=\"3.2\"/>\n",
       "<circle clip-path=\"url(#clip812)\" cx=\"2081.61\" cy=\"127.898\" r=\"14.4\" fill=\"#009af9\" fill-rule=\"evenodd\" fill-opacity=\"1\" stroke=\"#000000\" stroke-opacity=\"1\" stroke-width=\"3.2\"/>\n",
       "<circle clip-path=\"url(#clip812)\" cx=\"2290.18\" cy=\"87.9763\" r=\"14.4\" fill=\"#009af9\" fill-rule=\"evenodd\" fill-opacity=\"1\" stroke=\"#000000\" stroke-opacity=\"1\" stroke-width=\"3.2\"/>\n",
       "<path clip-path=\"url(#clip810)\" d=\"M215.55 198.898 L489.07 198.898 L489.07 95.2176 L215.55 95.2176  Z\" fill=\"#ffffff\" fill-rule=\"evenodd\" fill-opacity=\"1\"/>\n",
       "<polyline clip-path=\"url(#clip810)\" style=\"stroke:#000000; stroke-linecap:round; stroke-linejoin:round; stroke-width:4; stroke-opacity:1; fill:none\" points=\"215.55,198.898 489.07,198.898 489.07,95.2176 215.55,95.2176 215.55,198.898 \"/>\n",
       "<circle clip-path=\"url(#clip810)\" cx=\"313.812\" cy=\"147.058\" r=\"20.48\" fill=\"#009af9\" fill-rule=\"evenodd\" fill-opacity=\"1\" stroke=\"#000000\" stroke-opacity=\"1\" stroke-width=\"4.55111\"/>\n",
       "<path clip-path=\"url(#clip810)\" d=\"M425.917 166.745 Q424.111 171.375 422.398 172.787 Q420.685 174.199 417.815 174.199 L414.412 174.199 L414.412 170.634 L416.912 170.634 Q418.672 170.634 419.644 169.8 Q420.616 168.967 421.797 165.865 L422.56 163.921 L412.074 138.412 L416.588 138.412 L424.69 158.689 L432.792 138.412 L437.306 138.412 L425.917 166.745 Z\" fill=\"#000000\" fill-rule=\"nonzero\" fill-opacity=\"1\" /><path clip-path=\"url(#clip810)\" d=\"M444.597 160.402 L452.236 160.402 L452.236 134.037 L443.926 135.703 L443.926 131.444 L452.19 129.778 L456.866 129.778 L456.866 160.402 L464.505 160.402 L464.505 164.338 L444.597 164.338 L444.597 160.402 Z\" fill=\"#000000\" fill-rule=\"nonzero\" fill-opacity=\"1\" /></svg>\n"
      ]
     },
     "execution_count": 52,
     "metadata": {},
     "output_type": "execute_result"
    }
   ],
   "source": [
    "scatter(xdata, ydata)"
   ]
  },
  {
   "cell_type": "code",
   "execution_count": 43,
   "id": "15d54b39",
   "metadata": {},
   "outputs": [
    {
     "data": {
      "text/plain": [
       "lsqfitting (generic function with 1 method)"
      ]
     },
     "execution_count": 43,
     "metadata": {},
     "output_type": "execute_result"
    }
   ],
   "source": [
    "function lsqfitting(fitfct, (x,y) , sigma, β0)\n",
    "    res(β,(x,y)) = fitfct(x,β) .- y\n",
    "    prob = NonlinearLeastSquaresProblem(res, β0, (x,y))\n",
    "    sol = solve(prob, GaussNewton(); maxiters =1000)\n",
    "    chi2(β) = sum(abs2, res(β,(x,y)) ./ sigma)\n",
    "    return sol.u, inv(2*ForwardDiff.hessian(chi2,sol.u)), chi2(sol.u)\n",
    "end"
   ]
  },
  {
   "cell_type": "code",
   "execution_count": 44,
   "id": "018a26dc-3646-40d4-ad13-9a479ee73f80",
   "metadata": {},
   "outputs": [
    {
     "data": {
      "text/plain": [
       "quadeq (generic function with 1 method)"
      ]
     },
     "execution_count": 44,
     "metadata": {},
     "output_type": "execute_result"
    }
   ],
   "source": [
    "lineareq(x,β) = β[1] .+ β[2] .* x\n",
    "quadeq(x,β) = β[1] .+ β[2] .* x .+ β[3] .* x .^2"
   ]
  },
  {
   "cell_type": "code",
   "execution_count": 53,
   "id": "337b7b9c-21c8-429a-963c-319d57eee1c1",
   "metadata": {},
   "outputs": [
    {
     "data": {
      "text/plain": [
       "([2.353170068317384, 3.549324259690387], [0.7159090909090902 -0.10227272727272715; -0.10227272727272717 0.020454545454545437], 11.82831554147156)"
      ]
     },
     "execution_count": 53,
     "metadata": {},
     "output_type": "execute_result"
    }
   ],
   "source": [
    "linbeta, lincov, linchi2best = lsqfitting(lineareq, (xdata,ydata), sigma_y, [0.8,2.5])"
   ]
  },
  {
   "cell_type": "code",
   "execution_count": 54,
   "id": "e183eca0-a89a-46c7-9e3e-1fd1ec5e4a6b",
   "metadata": {},
   "outputs": [
    {
     "data": {
      "text/plain": [
       "([4.949403442648116, 1.818502010136565, 0.17308222495538222], [1.3059440559440567 -0.49562937062937146 0.039335664335664426; -0.4956293706293719 0.2826923076923085 -0.026223776223776307; 0.03933566433566448 -0.02622377622377631 0.0026223776223776303], 8.972371346033365)"
      ]
     },
     "execution_count": 54,
     "metadata": {},
     "output_type": "execute_result"
    }
   ],
   "source": [
    "quadbeta, quadcov, quadchi2best = lsqfitting(quadeq, (xdata,ydata), sigma_y, [0.8,2.5,0.3])"
   ]
  },
  {
   "cell_type": "code",
   "execution_count": 55,
   "id": "b79614c0-1b14-4288-b8f6-af76ec64b0b3",
   "metadata": {},
   "outputs": [
    {
     "data": {
      "text/plain": [
       "2-element Vector{Float64}:\n",
       " 0.8461141122266489\n",
       " 0.14301938838683878"
      ]
     },
     "execution_count": 55,
     "metadata": {},
     "output_type": "execute_result"
    }
   ],
   "source": [
    "sqrt.(diag(lincov))"
   ]
  },
  {
   "cell_type": "code",
   "execution_count": 56,
   "id": "f1eea1a8-dd8e-402a-bb8e-a9ce6297e302",
   "metadata": {},
   "outputs": [
    {
     "data": {
      "text/plain": [
       "3-element Vector{Float64}:\n",
       " 1.1427790932389588\n",
       " 0.5316881677189258\n",
       " 0.05120915564991899"
      ]
     },
     "execution_count": 56,
     "metadata": {},
     "output_type": "execute_result"
    }
   ],
   "source": [
    "sqrt.(diag(quadcov))"
   ]
  },
  {
   "cell_type": "code",
   "execution_count": 58,
   "id": "56ff850d-ecb0-43c3-a70c-6a96089cd92e",
   "metadata": {},
   "outputs": [
    {
     "data": {
      "text/plain": [
       "0.004183884297520657"
      ]
     },
     "execution_count": 58,
     "metadata": {},
     "output_type": "execute_result"
    }
   ],
   "source": [
    "det(lincov)"
   ]
  },
  {
   "cell_type": "code",
   "execution_count": 59,
   "id": "967d4d3b-2dc5-47e2-a28e-e7ad903086e7",
   "metadata": {},
   "outputs": [
    {
     "data": {
      "text/plain": [
       "1.097172455643526e-5"
      ]
     },
     "execution_count": 59,
     "metadata": {},
     "output_type": "execute_result"
    }
   ],
   "source": [
    "det(quadcov)"
   ]
  },
  {
   "cell_type": "code",
   "execution_count": 57,
   "id": "70f4f355-9c6f-433d-aeea-a9e95eff474a",
   "metadata": {},
   "outputs": [
    {
     "data": {
      "text/plain": [
       "0.9340541463950802"
      ]
     },
     "execution_count": 57,
     "metadata": {},
     "output_type": "execute_result"
    }
   ],
   "source": [
    "pr = exp(-(linchi2best-quadchi2best)/2)*0.5/sqrt.(diag(quadcov))[3]/sqrt(2*π)"
   ]
  },
  {
   "cell_type": "code",
   "execution_count": 65,
   "id": "57d2002b-9521-49be-a5a3-13f7e67e9ece",
   "metadata": {},
   "outputs": [
    {
     "data": {
      "text/plain": [
       "7.790448316092572"
      ]
     },
     "execution_count": 65,
     "metadata": {},
     "output_type": "execute_result"
    }
   ],
   "source": [
    "# lets try it with the covariance matrix\n",
    "sqrt(det(lincov)/det(quadcov))/sqrt(2*π)"
   ]
  },
  {
   "cell_type": "code",
   "execution_count": 61,
   "id": "6fbdae5f-31ea-4457-8356-f10c443cf394",
   "metadata": {},
   "outputs": [
    {
     "data": {
      "text/plain": [
       "0.23979470975133124"
      ]
     },
     "execution_count": 61,
     "metadata": {},
     "output_type": "execute_result"
    }
   ],
   "source": [
    "exp(-(linchi2best-quadchi2best)/2)"
   ]
  },
  {
   "cell_type": "code",
   "execution_count": 67,
   "id": "dbc2afa9-6aea-4b4e-9e79-88d0f2a6f2f0",
   "metadata": {},
   "outputs": [
    {
     "data": {
      "text/plain": [
       "0.9340541463950829"
      ]
     },
     "execution_count": 67,
     "metadata": {},
     "output_type": "execute_result"
    }
   ],
   "source": [
    "# In this case it gives the same result!\n",
    "pr2 = exp(-(linchi2best-quadchi2best)/2)*sqrt(det(lincov)/det(quadcov))/sqrt(2*π)*0.5"
   ]
  },
  {
   "cell_type": "code",
   "execution_count": null,
   "id": "9ef9cd4d-6198-440f-8f78-34bb69fe93f3",
   "metadata": {},
   "outputs": [],
   "source": []
  }
 ],
 "metadata": {
  "kernelspec": {
   "display_name": "Julia 1.11.3",
   "language": "julia",
   "name": "julia-1.11"
  },
  "language_info": {
   "file_extension": ".jl",
   "mimetype": "application/julia",
   "name": "julia",
   "version": "1.11.3"
  }
 },
 "nbformat": 4,
 "nbformat_minor": 5
}
