{
 "cells": [
  {
   "cell_type": "code",
   "execution_count": 3,
   "id": "54a80cf4",
   "metadata": {
    "scrolled": true
   },
   "outputs": [
    {
     "name": "stderr",
     "output_type": "stream",
     "text": [
      "\u001b[32m\u001b[1m  Activating\u001b[22m\u001b[39m project at `~/Documents/programming/BME-502-2025`\n",
      "\u001b[32m\u001b[1m   Resolving\u001b[22m\u001b[39m package versions...\n",
      "\u001b[32m\u001b[1m  No Changes\u001b[22m\u001b[39m to `~/Documents/programming/BME-502-2025/Project.toml`\n",
      "\u001b[32m\u001b[1m  No Changes\u001b[22m\u001b[39m to `~/Documents/programming/BME-502-2025/Manifest.toml`\n"
     ]
    }
   ],
   "source": [
    "import Pkg\n",
    "Pkg.activate(\".\")\n",
    "Pkg.add([\"Plots\",\"Distributions\",\"Random\",\"Polynomials\",\"Statistics\",\"ForwardDiff\",\"LsqFit\"])"
   ]
  },
  {
   "cell_type": "code",
   "execution_count": 4,
   "id": "63c0a258",
   "metadata": {},
   "outputs": [],
   "source": [
    "using Plots, Distributions, Random, Statistics, LsqFit, ForwardDiff, LinearAlgebra"
   ]
  },
  {
   "cell_type": "markdown",
   "id": "9f432d2a",
   "metadata": {},
   "source": [
    "# Model Selection\n",
    "\n",
    "In this chapter we will discuss on how to select between alternative models.  This question often boils down to the question on how many parameters can be supported by a model.  A typical example question would be: How many peaks can we identify in a spectrum?\n",
    "\n",
    "Before we go into the details, we need to formulate our problem in a Bayesian way:\n",
    "Let us assume that we want to compare two models or hypothesis $H_1$ and $H_2$.  The first has no parameters and the second one has one parameter $\\lambda$.  This argument can be generalized to comparing any two theories with different number of parameters.  To tell which hypothesis is the better one we calculate the posterior ratio:\n",
    "\n",
    "$$PR = \\frac{P(H_{1} \\mid D)}{P(H_{2} \\mid D)}$$\n",
    "\n",
    "if PR is greater than one we would prefer $H_1$ over $H_2$, but if PR is on the order unity then the data is not sufficient to make a decision.  We will now use Bayes theorem to get a better sense on how to calculate this ratio.\n",
    "\n",
    "$$\\frac{P(H_{1} \\mid D)}{P(H_{2} \\mid D)}=\\frac{P(D \\mid H_{1})}{P(D \\mid H_{2})}\\frac{P(H_{1})}{P(H_{2})}$$\n",
    "\n",
    "the nice thing about this ratio is that $P(D)$ cancels because it is the same for both hypothesis.  The last ratio is the ratio of priors and we should probably assume it to be of the order unity.  This is unless there is reason to believe that one hypothesis is more likely to be true then the other one.  This leaves the first ratio.  $P(D\\mid H_{1})$ is easy but $P(D\\mid H_{2})$ involves a parameter which we can get to by expressing it as\n",
    "\n",
    "$$P(D \\mid H_{2}) = \\int P(D, \\lambda \\mid H_{2})d\\lambda = \\int P(D \\mid \\lambda, H_{2})P(\\lambda \\mid H_{2})d\\lambda$$\n",
    "\n",
    "$P(D \\mid \\lambda, H_{2})$ is just the likelihood function for hypothesis $H_{2}$ with parameter $\\lambda$. $P(\\lambda \\mid H_{2})$ is the prior an reflects the knowledge of the range of $\\lambda$ that is known before the experiment.\n",
    "\n",
    "Lets now assume that $\\lambda$ must lie between two values $\\lambda_{min}$ and $\\lambda_{max}$ which will assign a uniform prior:\n",
    "\n",
    "$$P(\\lambda \\mid H_{2}) = \\frac{1}{\\lambda_{max}-\\lambda_{min}} \\quad \\textrm{for} \\quad \\lambda_{min} \\le \\lambda \\le \\lambda_{max}$$\n",
    "\n",
    "after the measurement we will find that a particular value of $\\lambda_{0}\\pm \\delta \\lambda$ yields the closest agreement with the data.  The corresponding probability $P(D \\mid \\lambda_{0},H_{2})$ will be the maximum of $H_{2}$'s likelihood function.  Let us also assume that we can represent the full likelihood as a Gaussian:\n",
    "\n",
    "$$P(D \\mid \\lambda, H_{2}) = P(D \\mid \\lambda_{0},H_{2}) \\exp \\Big[ -\\frac{(\\lambda-\\lambda_{0})^2}{2\\delta \\lambda^2} \\Big]$$\n",
    "\n",
    "since the uniform prior does not explicitly depend on $\\lambda$ we can calculate\n",
    "\n",
    "$$P(D \\mid H_{2}) = \\frac{1}{\\lambda_{max}-\\lambda_{min}} \\int_{\\lambda_{min}}^{\\lambda_{max}}P(D \\mid \\lambda, H_{2})$$\n",
    "\n",
    "Assuming that the vast majority of the Gaussian is contained in the prior interval this reduces to:\n",
    "\n",
    "$$P(D \\mid H_{2}) = \\frac{P(D \\mid \\lambda_{0},H_{2})\\delta \\lambda \\sqrt{2\\pi}}{\\lambda_{max}-\\lambda_{min}} $$\n",
    "\n",
    "Finally the posterior ratio can be written using three terms:\n",
    "\n",
    "$$\\frac{P(H_{1} \\mid D)}{P(H_{2} \\mid D)}=\\frac{P(H_{1})}{P(H_{2})}\\frac{P(D \\mid H_{1})}{P(D \\mid \\lambda_{0},H_{2})}\\frac{\\lambda_{max}-\\lambda_{min}}{\\delta \\lambda \\sqrt{2\\pi}}$$\n",
    "\n",
    "the first term is our bias with respect to the two theories (should be unity), the second tells us about how well the two theories fit the data (this should be in favor of $H_{2}$ since it has a free parameter).  The third term can be seen as penalizing the introduction of the parameter.  Since $\\lambda_{max}-\\lambda_{min}$ should, in general, be larger than $\\delta \\lambda \\sqrt{2\\pi}$ this factor is larger than one.  This factor is often called a Ockham factor after the thirteen-century Franciscan monk William of Ockham (or Occam, in Latin) who said \"it is vain to do with more what can be done with fewer\".\n",
    "But instead of blindly applying Ockams razor, we now have a quantitative tool to determine how many paramaters are supported by the data.\n",
    "\n",
    "We can also generalize this procedure to two models $H_1(\\boldsymbol\\beta)$ and $H_2(\\boldsymbol\\lambda)$ that have $k$ and $l$ parameters respectively.  Here we assume that we can fit both models using a model that results in a multivariate Gaussian likelihood function.  For example, if we perform a least-square fit of the data to the model, we can get the best parameters and the covariate matrix $\\boldsymbol\\Sigma$.\n",
    "$$\\frac{P(H_{1} \\mid D)}{P(H_{2} \\mid D)}=\\frac{P(D \\mid \\boldsymbol\\beta_{0},H_{1})}{P(D \\mid \\boldsymbol\\lambda_{0},H_{2})}\\frac{\\sqrt{(2\\pi)^k |\\boldsymbol\\Sigma_{H_1}|}}{\\sqrt{(2\\pi)^l |\\boldsymbol\\Sigma_{H_2}|}}\\frac{\\prod_{i=1}^{l}(\\lambda_{max.i}-\\lambda_{min,i})}{\\prod_{i=1}^{k}(\\beta_{max.i}-\\beta_{min,i})}$$"
   ]
  },
  {
   "cell_type": "code",
   "execution_count": 5,
   "id": "0b49f53d",
   "metadata": {},
   "outputs": [
    {
     "data": {
      "text/plain": [
       "0.0:1.0:10.0"
      ]
     },
     "execution_count": 5,
     "metadata": {},
     "output_type": "execute_result"
    }
   ],
   "source": [
    "xdata = range(0, stop=10, length=11)"
   ]
  },
  {
   "cell_type": "code",
   "execution_count": 6,
   "id": "387834cd",
   "metadata": {},
   "outputs": [
    {
     "data": {
      "text/plain": [
       "Normal{Float64}(μ=0.0, σ=3.0)"
      ]
     },
     "execution_count": 6,
     "metadata": {},
     "output_type": "execute_result"
    }
   ],
   "source": [
    "sigma_y = 3\n",
    "d = Normal(0,sigma_y)"
   ]
  },
  {
   "cell_type": "code",
   "execution_count": 16,
   "id": "68eb40ad",
   "metadata": {},
   "outputs": [
    {
     "data": {
      "text/plain": [
       "11-element Vector{Float64}:\n",
       " 3.8381408619639807\n",
       " 2.1961608222494076\n",
       " 2.2112201962888336\n",
       " 1.98553321002157\n",
       " 2.0302157682447968\n",
       " 2.435363925501719\n",
       " 1.7916912450320726\n",
       " 3.3883449045987\n",
       " 1.9838070322416947\n",
       " 3.435631260553092\n",
       " 3.6567850467429905"
      ]
     },
     "execution_count": 16,
     "metadata": {},
     "output_type": "execute_result"
    }
   ],
   "source": [
    "y_mean = zeros(length(xdata))\n",
    "y_2 = zeros(length(xdata))\n",
    "for i in 1:10\n",
    "    y_sample = 1.0 .+ 2.0 .* xdata + rand(d,length(xdata))\n",
    "    y_mean .+= y_sample\n",
    "    y_2 .+= y_sample .^2\n",
    "end\n",
    "y_mean = y_mean ./ 10\n",
    "y_std = sqrt.(y_2 ./10 .- y_mean .^2)"
   ]
  },
  {
   "cell_type": "code",
   "execution_count": 17,
   "id": "d8af2441-f8c1-4ffa-8d37-58b250bdf552",
   "metadata": {},
   "outputs": [
    {
     "data": {
      "text/plain": [
       "11-element Vector{Float64}:\n",
       " -0.48965787735235466\n",
       "  2.440041271751895\n",
       "  5.715674728175612\n",
       "  5.844591203795398\n",
       "  5.687918712640008\n",
       " 10.880329406468963\n",
       " 11.815301834671647\n",
       " 16.155317681968448\n",
       " 18.633910942675396\n",
       " 20.780695781896668\n",
       " 23.533425211897956"
      ]
     },
     "execution_count": 17,
     "metadata": {},
     "output_type": "execute_result"
    }
   ],
   "source": [
    "y_mean"
   ]
  },
  {
   "cell_type": "code",
   "execution_count": 18,
   "id": "549827ce",
   "metadata": {},
   "outputs": [
    {
     "data": {
      "image/png": "[encoded data removed]",
      "image/svg+xml": [
       "<?xml version=\"1.0\" encoding=\"utf-8\"?>\n",
       "<svg xmlns=\"http://www.w3.org/2000/svg\" xmlns:xlink=\"http://www.w3.org/1999/xlink\" width=\"600\" height=\"400\" viewBox=\"0 0 2400 1600\">\n",
       "<defs>\n",
       "  <clipPath id=\"clip100\">\n",
       "    <rect x=\"0\" y=\"0\" width=\"2400\" height=\"1600\"/>\n",
       "  </clipPath>\n",
       "</defs>\n",
       "<path clip-path=\"url(#clip100)\" d=\"M0 1600 L2400 1600 L2400 8.88178e-14 L0 8.88178e-14  Z\" fill=\"#ffffff\" fill-rule=\"evenodd\" fill-opacity=\"1\"/>\n",
       "<defs>\n",
       "  <clipPath id=\"clip101\">\n",
       "    <rect x=\"480\" y=\"0\" width=\"1681\" height=\"1600\"/>\n",
       "  </clipPath>\n",
       "</defs>\n",
       "<path clip-path=\"url(#clip100)\" d=\"M140.696 1486.45 L2352.76 1486.45 L2352.76 47.2441 L140.696 47.2441  Z\" fill=\"#ffffff\" fill-rule=\"evenodd\" fill-opacity=\"1\"/>\n",
       "<defs>\n",
       "  <clipPath id=\"clip102\">\n",
       "    <rect x=\"140\" y=\"47\" width=\"2213\" height=\"1440\"/>\n",
       "  </clipPath>\n",
       "</defs>\n",
       "<polyline clip-path=\"url(#clip102)\" style=\"stroke:#000000; stroke-linecap:round; stroke-linejoin:round; stroke-width:2; stroke-opacity:0.1; fill:none\" points=\"203.301,1486.45 203.301,47.2441 \"/>\n",
       "<polyline clip-path=\"url(#clip102)\" style=\"stroke:#000000; stroke-linecap:round; stroke-linejoin:round; stroke-width:2; stroke-opacity:0.1; fill:none\" points=\"725.013,1486.45 725.013,47.2441 \"/>\n",
       "<polyline clip-path=\"url(#clip102)\" style=\"stroke:#000000; stroke-linecap:round; stroke-linejoin:round; stroke-width:2; stroke-opacity:0.1; fill:none\" points=\"1246.73,1486.45 1246.73,47.2441 \"/>\n",
       "<polyline clip-path=\"url(#clip102)\" style=\"stroke:#000000; stroke-linecap:round; stroke-linejoin:round; stroke-width:2; stroke-opacity:0.1; fill:none\" points=\"1768.44,1486.45 1768.44,47.2441 \"/>\n",
       "<polyline clip-path=\"url(#clip102)\" style=\"stroke:#000000; stroke-linecap:round; stroke-linejoin:round; stroke-width:2; stroke-opacity:0.1; fill:none\" points=\"2290.15,1486.45 2290.15,47.2441 \"/>\n",
       "<polyline clip-path=\"url(#clip102)\" style=\"stroke:#000000; stroke-linecap:round; stroke-linejoin:round; stroke-width:2; stroke-opacity:0.1; fill:none\" points=\"140.696,1418.04 2352.76,1418.04 \"/>\n",
       "<polyline clip-path=\"url(#clip102)\" style=\"stroke:#000000; stroke-linecap:round; stroke-linejoin:round; stroke-width:2; stroke-opacity:0.1; fill:none\" points=\"140.696,1135.45 2352.76,1135.45 \"/>\n",
       "<polyline clip-path=\"url(#clip102)\" style=\"stroke:#000000; stroke-linecap:round; stroke-linejoin:round; stroke-width:2; stroke-opacity:0.1; fill:none\" points=\"140.696,852.86 2352.76,852.86 \"/>\n",
       "<polyline clip-path=\"url(#clip102)\" style=\"stroke:#000000; stroke-linecap:round; stroke-linejoin:round; stroke-width:2; stroke-opacity:0.1; fill:none\" points=\"140.696,570.269 2352.76,570.269 \"/>\n",
       "<polyline clip-path=\"url(#clip102)\" style=\"stroke:#000000; stroke-linecap:round; stroke-linejoin:round; stroke-width:2; stroke-opacity:0.1; fill:none\" points=\"140.696,287.679 2352.76,287.679 \"/>\n",
       "<polyline clip-path=\"url(#clip100)\" style=\"stroke:#000000; stroke-linecap:round; stroke-linejoin:round; stroke-width:4; stroke-opacity:1; fill:none\" points=\"140.696,1486.45 2352.76,1486.45 \"/>\n",
       "<polyline clip-path=\"url(#clip100)\" style=\"stroke:#000000; stroke-linecap:round; stroke-linejoin:round; stroke-width:4; stroke-opacity:1; fill:none\" points=\"203.301,1486.45 203.301,1467.55 \"/>\n",
       "<polyline clip-path=\"url(#clip100)\" style=\"stroke:#000000; stroke-linecap:round; stroke-linejoin:round; stroke-width:4; stroke-opacity:1; fill:none\" points=\"725.013,1486.45 725.013,1467.55 \"/>\n",
       "<polyline clip-path=\"url(#clip100)\" style=\"stroke:#000000; stroke-linecap:round; stroke-linejoin:round; stroke-width:4; stroke-opacity:1; fill:none\" points=\"1246.73,1486.45 1246.73,1467.55 \"/>\n",
       "<polyline clip-path=\"url(#clip100)\" style=\"stroke:#000000; stroke-linecap:round; stroke-linejoin:round; stroke-width:4; stroke-opacity:1; fill:none\" points=\"1768.44,1486.45 1768.44,1467.55 \"/>\n",
       "<polyline clip-path=\"url(#clip100)\" style=\"stroke:#000000; stroke-linecap:round; stroke-linejoin:round; stroke-width:4; stroke-opacity:1; fill:none\" points=\"2290.15,1486.45 2290.15,1467.55 \"/>\n",
       "<path clip-path=\"url(#clip100)\" d=\"M180.685 1517.37 Q177.074 1517.37 175.246 1520.93 Q173.44 1524.47 173.44 1531.6 Q173.44 1538.71 175.246 1542.27 Q177.074 1545.82 180.685 1545.82 Q184.32 1545.82 186.125 1542.27 Q187.954 1538.71 187.954 1531.6 Q187.954 1524.47 186.125 1520.93 Q184.32 1517.37 180.685 1517.37 M180.685 1513.66 Q186.496 1513.66 189.551 1518.27 Q192.63 1522.85 192.63 1531.6 Q192.63 1540.33 189.551 1544.94 Q186.496 1549.52 180.685 1549.52 Q174.875 1549.52 171.797 1544.94 Q168.741 1540.33 168.741 1531.6 Q168.741 1522.85 171.797 1518.27 Q174.875 1513.66 180.685 1513.66 Z\" fill=\"#000000\" fill-rule=\"nonzero\" fill-opacity=\"1\" /><path clip-path=\"url(#clip100)\" d=\"M200.847 1542.97 L205.732 1542.97 L205.732 1548.85 L200.847 1548.85 L200.847 1542.97 Z\" fill=\"#000000\" fill-rule=\"nonzero\" fill-opacity=\"1\" /><path clip-path=\"url(#clip100)\" d=\"M225.917 1517.37 Q222.306 1517.37 220.477 1520.93 Q218.671 1524.47 218.671 1531.6 Q218.671 1538.71 220.477 1542.27 Q222.306 1545.82 225.917 1545.82 Q229.551 1545.82 231.356 1542.27 Q233.185 1538.71 233.185 1531.6 Q233.185 1524.47 231.356 1520.93 Q229.551 1517.37 225.917 1517.37 M225.917 1513.66 Q231.727 1513.66 234.782 1518.27 Q237.861 1522.85 237.861 1531.6 Q237.861 1540.33 234.782 1544.94 Q231.727 1549.52 225.917 1549.52 Q220.106 1549.52 217.028 1544.94 Q213.972 1540.33 213.972 1531.6 Q213.972 1522.85 217.028 1518.27 Q220.106 1513.66 225.917 1513.66 Z\" fill=\"#000000\" fill-rule=\"nonzero\" fill-opacity=\"1\" /><path clip-path=\"url(#clip100)\" d=\"M696.75 1544.91 L713.069 1544.91 L713.069 1548.85 L691.125 1548.85 L691.125 1544.91 Q693.787 1542.16 698.37 1537.53 Q702.976 1532.88 704.157 1531.53 Q706.402 1529.01 707.282 1527.27 Q708.185 1525.51 708.185 1523.82 Q708.185 1521.07 706.24 1519.33 Q704.319 1517.6 701.217 1517.6 Q699.018 1517.6 696.564 1518.36 Q694.134 1519.13 691.356 1520.68 L691.356 1515.95 Q694.18 1514.82 696.634 1514.24 Q699.088 1513.66 701.125 1513.66 Q706.495 1513.66 709.689 1516.35 Q712.884 1519.03 712.884 1523.52 Q712.884 1525.65 712.074 1527.57 Q711.287 1529.47 709.18 1532.07 Q708.601 1532.74 705.5 1535.95 Q702.398 1539.15 696.75 1544.91 Z\" fill=\"#000000\" fill-rule=\"nonzero\" fill-opacity=\"1\" /><path clip-path=\"url(#clip100)\" d=\"M722.884 1542.97 L727.768 1542.97 L727.768 1548.85 L722.884 1548.85 L722.884 1542.97 Z\" fill=\"#000000\" fill-rule=\"nonzero\" fill-opacity=\"1\" /><path clip-path=\"url(#clip100)\" d=\"M737.999 1514.29 L756.356 1514.29 L756.356 1518.22 L742.282 1518.22 L742.282 1526.7 Q743.3 1526.35 744.319 1526.19 Q745.337 1526 746.356 1526 Q752.143 1526 755.522 1529.17 Q758.902 1532.34 758.902 1537.76 Q758.902 1543.34 755.43 1546.44 Q751.958 1549.52 745.638 1549.52 Q743.462 1549.52 741.194 1549.15 Q738.948 1548.78 736.541 1548.04 L736.541 1543.34 Q738.624 1544.47 740.847 1545.03 Q743.069 1545.58 745.546 1545.58 Q749.55 1545.58 751.888 1543.48 Q754.226 1541.37 754.226 1537.76 Q754.226 1534.15 751.888 1532.04 Q749.55 1529.94 745.546 1529.94 Q743.671 1529.94 741.796 1530.35 Q739.944 1530.77 737.999 1531.65 L737.999 1514.29 Z\" fill=\"#000000\" fill-rule=\"nonzero\" fill-opacity=\"1\" /><path clip-path=\"url(#clip100)\" d=\"M1213.89 1514.29 L1232.25 1514.29 L1232.25 1518.22 L1218.17 1518.22 L1218.17 1526.7 Q1219.19 1526.35 1220.21 1526.19 Q1221.23 1526 1222.25 1526 Q1228.03 1526 1231.41 1529.17 Q1234.79 1532.34 1234.79 1537.76 Q1234.79 1543.34 1231.32 1546.44 Q1227.85 1549.52 1221.53 1549.52 Q1219.35 1549.52 1217.08 1549.15 Q1214.84 1548.78 1212.43 1548.04 L1212.43 1543.34 Q1214.52 1544.47 1216.74 1545.03 Q1218.96 1545.58 1221.44 1545.58 Q1225.44 1545.58 1227.78 1543.48 Q1230.12 1541.37 1230.12 1537.76 Q1230.12 1534.15 1227.78 1532.04 Q1225.44 1529.94 1221.44 1529.94 Q1219.56 1529.94 1217.69 1530.35 Q1215.83 1530.77 1213.89 1531.65 L1213.89 1514.29 Z\" fill=\"#000000\" fill-rule=\"nonzero\" fill-opacity=\"1\" /><path clip-path=\"url(#clip100)\" d=\"M1244.01 1542.97 L1248.89 1542.97 L1248.89 1548.85 L1244.01 1548.85 L1244.01 1542.97 Z\" fill=\"#000000\" fill-rule=\"nonzero\" fill-opacity=\"1\" /><path clip-path=\"url(#clip100)\" d=\"M1269.08 1517.37 Q1265.46 1517.37 1263.64 1520.93 Q1261.83 1524.47 1261.83 1531.6 Q1261.83 1538.71 1263.64 1542.27 Q1265.46 1545.82 1269.08 1545.82 Q1272.71 1545.82 1274.51 1542.27 Q1276.34 1538.71 1276.34 1531.6 Q1276.34 1524.47 1274.51 1520.93 Q1272.71 1517.37 1269.08 1517.37 M1269.08 1513.66 Q1274.89 1513.66 1277.94 1518.27 Q1281.02 1522.85 1281.02 1531.6 Q1281.02 1540.33 1277.94 1544.94 Q1274.89 1549.52 1269.08 1549.52 Q1263.26 1549.52 1260.19 1544.94 Q1257.13 1540.33 1257.13 1531.6 Q1257.13 1522.85 1260.19 1518.27 Q1263.26 1513.66 1269.08 1513.66 Z\" fill=\"#000000\" fill-rule=\"nonzero\" fill-opacity=\"1\" /><path clip-path=\"url(#clip100)\" d=\"M1734.76 1514.29 L1756.98 1514.29 L1756.98 1516.28 L1744.43 1548.85 L1739.55 1548.85 L1751.35 1518.22 L1734.76 1518.22 L1734.76 1514.29 Z\" fill=\"#000000\" fill-rule=\"nonzero\" fill-opacity=\"1\" /><path clip-path=\"url(#clip100)\" d=\"M1766.1 1542.97 L1770.98 1542.97 L1770.98 1548.85 L1766.1 1548.85 L1766.1 1542.97 Z\" fill=\"#000000\" fill-rule=\"nonzero\" fill-opacity=\"1\" /><path clip-path=\"url(#clip100)\" d=\"M1781.22 1514.29 L1799.57 1514.29 L1799.57 1518.22 L1785.5 1518.22 L1785.5 1526.7 Q1786.52 1526.35 1787.54 1526.19 Q1788.55 1526 1789.57 1526 Q1795.36 1526 1798.74 1529.17 Q1802.12 1532.34 1802.12 1537.76 Q1802.12 1543.34 1798.65 1546.44 Q1795.17 1549.52 1788.85 1549.52 Q1786.68 1549.52 1784.41 1549.15 Q1782.16 1548.78 1779.76 1548.04 L1779.76 1543.34 Q1781.84 1544.47 1784.06 1545.03 Q1786.29 1545.58 1788.76 1545.58 Q1792.77 1545.58 1795.1 1543.48 Q1797.44 1541.37 1797.44 1537.76 Q1797.44 1534.15 1795.1 1532.04 Q1792.77 1529.94 1788.76 1529.94 Q1786.89 1529.94 1785.01 1530.35 Q1783.16 1530.77 1781.22 1531.65 L1781.22 1514.29 Z\" fill=\"#000000\" fill-rule=\"nonzero\" fill-opacity=\"1\" /><path clip-path=\"url(#clip100)\" d=\"M2242.22 1544.91 L2249.86 1544.91 L2249.86 1518.55 L2241.55 1520.21 L2241.55 1515.95 L2249.81 1514.29 L2254.49 1514.29 L2254.49 1544.91 L2262.13 1544.91 L2262.13 1548.85 L2242.22 1548.85 L2242.22 1544.91 Z\" fill=\"#000000\" fill-rule=\"nonzero\" fill-opacity=\"1\" /><path clip-path=\"url(#clip100)\" d=\"M2281.57 1517.37 Q2277.96 1517.37 2276.13 1520.93 Q2274.33 1524.47 2274.33 1531.6 Q2274.33 1538.71 2276.13 1542.27 Q2277.96 1545.82 2281.57 1545.82 Q2285.21 1545.82 2287.01 1542.27 Q2288.84 1538.71 2288.84 1531.6 Q2288.84 1524.47 2287.01 1520.93 Q2285.21 1517.37 2281.57 1517.37 M2281.57 1513.66 Q2287.38 1513.66 2290.44 1518.27 Q2293.52 1522.85 2293.52 1531.6 Q2293.52 1540.33 2290.44 1544.94 Q2287.38 1549.52 2281.57 1549.52 Q2275.76 1549.52 2272.69 1544.94 Q2269.63 1540.33 2269.63 1531.6 Q2269.63 1522.85 2272.69 1518.27 Q2275.76 1513.66 2281.57 1513.66 Z\" fill=\"#000000\" fill-rule=\"nonzero\" fill-opacity=\"1\" /><path clip-path=\"url(#clip100)\" d=\"M2301.74 1542.97 L2306.62 1542.97 L2306.62 1548.85 L2301.74 1548.85 L2301.74 1542.97 Z\" fill=\"#000000\" fill-rule=\"nonzero\" fill-opacity=\"1\" /><path clip-path=\"url(#clip100)\" d=\"M2326.81 1517.37 Q2323.19 1517.37 2321.37 1520.93 Q2319.56 1524.47 2319.56 1531.6 Q2319.56 1538.71 2321.37 1542.27 Q2323.19 1545.82 2326.81 1545.82 Q2330.44 1545.82 2332.25 1542.27 Q2334.07 1538.71 2334.07 1531.6 Q2334.07 1524.47 2332.25 1520.93 Q2330.44 1517.37 2326.81 1517.37 M2326.81 1513.66 Q2332.62 1513.66 2335.67 1518.27 Q2338.75 1522.85 2338.75 1531.6 Q2338.75 1540.33 2335.67 1544.94 Q2332.62 1549.52 2326.81 1549.52 Q2321 1549.52 2317.92 1544.94 Q2314.86 1540.33 2314.86 1531.6 Q2314.86 1522.85 2317.92 1518.27 Q2321 1513.66 2326.81 1513.66 Z\" fill=\"#000000\" fill-rule=\"nonzero\" fill-opacity=\"1\" /><polyline clip-path=\"url(#clip100)\" style=\"stroke:#000000; stroke-linecap:round; stroke-linejoin:round; stroke-width:4; stroke-opacity:1; fill:none\" points=\"140.696,1486.45 140.696,47.2441 \"/>\n",
       "<polyline clip-path=\"url(#clip100)\" style=\"stroke:#000000; stroke-linecap:round; stroke-linejoin:round; stroke-width:4; stroke-opacity:1; fill:none\" points=\"140.696,1418.04 159.593,1418.04 \"/>\n",
       "<polyline clip-path=\"url(#clip100)\" style=\"stroke:#000000; stroke-linecap:round; stroke-linejoin:round; stroke-width:4; stroke-opacity:1; fill:none\" points=\"140.696,1135.45 159.593,1135.45 \"/>\n",
       "<polyline clip-path=\"url(#clip100)\" style=\"stroke:#000000; stroke-linecap:round; stroke-linejoin:round; stroke-width:4; stroke-opacity:1; fill:none\" points=\"140.696,852.86 159.593,852.86 \"/>\n",
       "<polyline clip-path=\"url(#clip100)\" style=\"stroke:#000000; stroke-linecap:round; stroke-linejoin:round; stroke-width:4; stroke-opacity:1; fill:none\" points=\"140.696,570.269 159.593,570.269 \"/>\n",
       "<polyline clip-path=\"url(#clip100)\" style=\"stroke:#000000; stroke-linecap:round; stroke-linejoin:round; stroke-width:4; stroke-opacity:1; fill:none\" points=\"140.696,287.679 159.593,287.679 \"/>\n",
       "<path clip-path=\"url(#clip100)\" d=\"M92.7512 1403.84 Q89.1401 1403.84 87.3114 1407.4 Q85.5058 1410.95 85.5058 1418.08 Q85.5058 1425.18 87.3114 1428.75 Q89.1401 1432.29 92.7512 1432.29 Q96.3854 1432.29 98.1909 1428.75 Q100.02 1425.18 100.02 1418.08 Q100.02 1410.95 98.1909 1407.4 Q96.3854 1403.84 92.7512 1403.84 M92.7512 1400.14 Q98.5613 1400.14 101.617 1404.74 Q104.696 1409.33 104.696 1418.08 Q104.696 1426.8 101.617 1431.41 Q98.5613 1435.99 92.7512 1435.99 Q86.941 1435.99 83.8623 1431.41 Q80.8068 1426.8 80.8068 1418.08 Q80.8068 1409.33 83.8623 1404.74 Q86.941 1400.14 92.7512 1400.14 Z\" fill=\"#000000\" fill-rule=\"nonzero\" fill-opacity=\"1\" /><path clip-path=\"url(#clip100)\" d=\"M83.7929 1118.17 L102.149 1118.17 L102.149 1122.11 L88.0753 1122.11 L88.0753 1130.58 Q89.0938 1130.23 90.1123 1130.07 Q91.1308 1129.88 92.1493 1129.88 Q97.9363 1129.88 101.316 1133.05 Q104.696 1136.23 104.696 1141.64 Q104.696 1147.22 101.223 1150.32 Q97.7511 1153.4 91.4317 1153.4 Q89.2558 1153.4 86.9873 1153.03 Q84.7419 1152.66 82.3346 1151.92 L82.3346 1147.22 Q84.4179 1148.36 86.6401 1148.91 Q88.8623 1149.47 91.3391 1149.47 Q95.3437 1149.47 97.6817 1147.36 Q100.02 1145.25 100.02 1141.64 Q100.02 1138.03 97.6817 1135.93 Q95.3437 1133.82 91.3391 1133.82 Q89.4641 1133.82 87.5892 1134.24 Q85.7373 1134.65 83.7929 1135.53 L83.7929 1118.17 Z\" fill=\"#000000\" fill-rule=\"nonzero\" fill-opacity=\"1\" /><path clip-path=\"url(#clip100)\" d=\"M53.3995 866.205 L61.0384 866.205 L61.0384 839.839 L52.7282 841.506 L52.7282 837.247 L60.9921 835.58 L65.668 835.58 L65.668 866.205 L73.3068 866.205 L73.3068 870.14 L53.3995 870.14 L53.3995 866.205 Z\" fill=\"#000000\" fill-rule=\"nonzero\" fill-opacity=\"1\" /><path clip-path=\"url(#clip100)\" d=\"M92.7512 838.659 Q89.1401 838.659 87.3114 842.223 Q85.5058 845.765 85.5058 852.895 Q85.5058 860.001 87.3114 863.566 Q89.1401 867.108 92.7512 867.108 Q96.3854 867.108 98.1909 863.566 Q100.02 860.001 100.02 852.895 Q100.02 845.765 98.1909 842.223 Q96.3854 838.659 92.7512 838.659 M92.7512 834.955 Q98.5613 834.955 101.617 839.561 Q104.696 844.145 104.696 852.895 Q104.696 861.622 101.617 866.228 Q98.5613 870.811 92.7512 870.811 Q86.941 870.811 83.8623 866.228 Q80.8068 861.622 80.8068 852.895 Q80.8068 844.145 83.8623 839.561 Q86.941 834.955 92.7512 834.955 Z\" fill=\"#000000\" fill-rule=\"nonzero\" fill-opacity=\"1\" /><path clip-path=\"url(#clip100)\" d=\"M54.3949 583.614 L62.0337 583.614 L62.0337 557.249 L53.7236 558.915 L53.7236 554.656 L61.9874 552.989 L66.6633 552.989 L66.6633 583.614 L74.3022 583.614 L74.3022 587.549 L54.3949 587.549 L54.3949 583.614 Z\" fill=\"#000000\" fill-rule=\"nonzero\" fill-opacity=\"1\" /><path clip-path=\"url(#clip100)\" d=\"M83.7929 552.989 L102.149 552.989 L102.149 556.925 L88.0753 556.925 L88.0753 565.397 Q89.0938 565.05 90.1123 564.887 Q91.1308 564.702 92.1493 564.702 Q97.9363 564.702 101.316 567.874 Q104.696 571.045 104.696 576.461 Q104.696 582.04 101.223 585.142 Q97.7511 588.221 91.4317 588.221 Q89.2558 588.221 86.9873 587.85 Q84.7419 587.48 82.3346 586.739 L82.3346 582.04 Q84.4179 583.174 86.6401 583.73 Q88.8623 584.286 91.3391 584.286 Q95.3437 584.286 97.6817 582.179 Q100.02 580.073 100.02 576.461 Q100.02 572.85 97.6817 570.744 Q95.3437 568.637 91.3391 568.637 Q89.4641 568.637 87.5892 569.054 Q85.7373 569.471 83.7929 570.35 L83.7929 552.989 Z\" fill=\"#000000\" fill-rule=\"nonzero\" fill-opacity=\"1\" /><path clip-path=\"url(#clip100)\" d=\"M56.6171 301.024 L72.9365 301.024 L72.9365 304.959 L50.9921 304.959 L50.9921 301.024 Q53.6541 298.269 58.2375 293.639 Q62.8439 288.987 64.0245 287.644 Q66.2698 285.121 67.1494 283.385 Q68.0522 281.626 68.0522 279.936 Q68.0522 277.181 66.1078 275.445 Q64.1865 273.709 61.0847 273.709 Q58.8856 273.709 56.4319 274.473 Q54.0014 275.237 51.2236 276.788 L51.2236 272.065 Q54.0477 270.931 56.5014 270.353 Q58.955 269.774 60.9921 269.774 Q66.3624 269.774 69.5568 272.459 Q72.7513 275.144 72.7513 279.635 Q72.7513 281.764 71.9411 283.686 Q71.1541 285.584 69.0476 288.176 Q68.4689 288.848 65.367 292.065 Q62.2652 295.26 56.6171 301.024 Z\" fill=\"#000000\" fill-rule=\"nonzero\" fill-opacity=\"1\" /><path clip-path=\"url(#clip100)\" d=\"M92.7512 273.478 Q89.1401 273.478 87.3114 277.042 Q85.5058 280.584 85.5058 287.714 Q85.5058 294.82 87.3114 298.385 Q89.1401 301.926 92.7512 301.926 Q96.3854 301.926 98.1909 298.385 Q100.02 294.82 100.02 287.714 Q100.02 280.584 98.1909 277.042 Q96.3854 273.478 92.7512 273.478 M92.7512 269.774 Q98.5613 269.774 101.617 274.38 Q104.696 278.964 104.696 287.714 Q104.696 296.44 101.617 301.047 Q98.5613 305.63 92.7512 305.63 Q86.941 305.63 83.8623 301.047 Q80.8068 296.44 80.8068 287.714 Q80.8068 278.964 83.8623 274.38 Q86.941 269.774 92.7512 269.774 Z\" fill=\"#000000\" fill-rule=\"nonzero\" fill-opacity=\"1\" /><circle clip-path=\"url(#clip102)\" cx=\"203.301\" cy=\"1445.72\" r=\"14.4\" fill=\"#009af9\" fill-rule=\"evenodd\" fill-opacity=\"1\" stroke=\"#000000\" stroke-opacity=\"1\" stroke-width=\"3.2\"/>\n",
       "<circle clip-path=\"url(#clip102)\" cx=\"411.986\" cy=\"1280.13\" r=\"14.4\" fill=\"#009af9\" fill-rule=\"evenodd\" fill-opacity=\"1\" stroke=\"#000000\" stroke-opacity=\"1\" stroke-width=\"3.2\"/>\n",
       "<circle clip-path=\"url(#clip102)\" cx=\"620.671\" cy=\"1095\" r=\"14.4\" fill=\"#009af9\" fill-rule=\"evenodd\" fill-opacity=\"1\" stroke=\"#000000\" stroke-opacity=\"1\" stroke-width=\"3.2\"/>\n",
       "<circle clip-path=\"url(#clip102)\" cx=\"829.356\" cy=\"1087.72\" r=\"14.4\" fill=\"#009af9\" fill-rule=\"evenodd\" fill-opacity=\"1\" stroke=\"#000000\" stroke-opacity=\"1\" stroke-width=\"3.2\"/>\n",
       "<circle clip-path=\"url(#clip102)\" cx=\"1038.04\" cy=\"1096.57\" r=\"14.4\" fill=\"#009af9\" fill-rule=\"evenodd\" fill-opacity=\"1\" stroke=\"#000000\" stroke-opacity=\"1\" stroke-width=\"3.2\"/>\n",
       "<circle clip-path=\"url(#clip102)\" cx=\"1246.73\" cy=\"803.105\" r=\"14.4\" fill=\"#009af9\" fill-rule=\"evenodd\" fill-opacity=\"1\" stroke=\"#000000\" stroke-opacity=\"1\" stroke-width=\"3.2\"/>\n",
       "<circle clip-path=\"url(#clip102)\" cx=\"1455.41\" cy=\"750.263\" r=\"14.4\" fill=\"#009af9\" fill-rule=\"evenodd\" fill-opacity=\"1\" stroke=\"#000000\" stroke-opacity=\"1\" stroke-width=\"3.2\"/>\n",
       "<circle clip-path=\"url(#clip102)\" cx=\"1664.1\" cy=\"504.973\" r=\"14.4\" fill=\"#009af9\" fill-rule=\"evenodd\" fill-opacity=\"1\" stroke=\"#000000\" stroke-opacity=\"1\" stroke-width=\"3.2\"/>\n",
       "<circle clip-path=\"url(#clip102)\" cx=\"1872.78\" cy=\"364.888\" r=\"14.4\" fill=\"#009af9\" fill-rule=\"evenodd\" fill-opacity=\"1\" stroke=\"#000000\" stroke-opacity=\"1\" stroke-width=\"3.2\"/>\n",
       "<circle clip-path=\"url(#clip102)\" cx=\"2081.47\" cy=\"243.555\" r=\"14.4\" fill=\"#009af9\" fill-rule=\"evenodd\" fill-opacity=\"1\" stroke=\"#000000\" stroke-opacity=\"1\" stroke-width=\"3.2\"/>\n",
       "<circle clip-path=\"url(#clip102)\" cx=\"2290.15\" cy=\"87.9763\" r=\"14.4\" fill=\"#009af9\" fill-rule=\"evenodd\" fill-opacity=\"1\" stroke=\"#000000\" stroke-opacity=\"1\" stroke-width=\"3.2\"/>\n",
       "<path clip-path=\"url(#clip100)\" d=\"M214.431 198.898 L488.067 198.898 L488.067 95.2176 L214.431 95.2176  Z\" fill=\"#ffffff\" fill-rule=\"evenodd\" fill-opacity=\"1\"/>\n",
       "<polyline clip-path=\"url(#clip100)\" style=\"stroke:#000000; stroke-linecap:round; stroke-linejoin:round; stroke-width:4; stroke-opacity:1; fill:none\" points=\"214.431,198.898 488.067,198.898 488.067,95.2176 214.431,95.2176 214.431,198.898 \"/>\n",
       "<circle clip-path=\"url(#clip100)\" cx=\"312.745\" cy=\"147.058\" r=\"20.48\" fill=\"#009af9\" fill-rule=\"evenodd\" fill-opacity=\"1\" stroke=\"#000000\" stroke-opacity=\"1\" stroke-width=\"4.55111\"/>\n",
       "<path clip-path=\"url(#clip100)\" d=\"M424.901 166.745 Q423.095 171.375 421.382 172.787 Q419.67 174.199 416.799 174.199 L413.396 174.199 L413.396 170.634 L415.896 170.634 Q417.656 170.634 418.628 169.8 Q419.6 168.967 420.781 165.865 L421.545 163.921 L411.058 138.412 L415.572 138.412 L423.674 158.689 L431.776 138.412 L436.29 138.412 L424.901 166.745 Z\" fill=\"#000000\" fill-rule=\"nonzero\" fill-opacity=\"1\" /><path clip-path=\"url(#clip100)\" d=\"M443.581 160.402 L451.22 160.402 L451.22 134.037 L442.91 135.703 L442.91 131.444 L451.174 129.778 L455.85 129.778 L455.85 160.402 L463.489 160.402 L463.489 164.338 L443.581 164.338 L443.581 160.402 Z\" fill=\"#000000\" fill-rule=\"nonzero\" fill-opacity=\"1\" /></svg>\n"
      ],
      "text/html": [
       "<?xml version=\"1.0\" encoding=\"utf-8\"?>\n",
       "<svg xmlns=\"http://www.w3.org/2000/svg\" xmlns:xlink=\"http://www.w3.org/1999/xlink\" width=\"600\" height=\"400\" viewBox=\"0 0 2400 1600\">\n",
       "<defs>\n",
       "  <clipPath id=\"clip150\">\n",
       "    <rect x=\"0\" y=\"0\" width=\"2400\" height=\"1600\"/>\n",
       "  </clipPath>\n",
       "</defs>\n",
       "<path clip-path=\"url(#clip150)\" d=\"M0 1600 L2400 1600 L2400 8.88178e-14 L0 8.88178e-14  Z\" fill=\"#ffffff\" fill-rule=\"evenodd\" fill-opacity=\"1\"/>\n",
       "<defs>\n",
       "  <clipPath id=\"clip151\">\n",
       "    <rect x=\"480\" y=\"0\" width=\"1681\" height=\"1600\"/>\n",
       "  </clipPath>\n",
       "</defs>\n",
       "<path clip-path=\"url(#clip150)\" d=\"M140.696 1486.45 L2352.76 1486.45 L2352.76 47.2441 L140.696 47.2441  Z\" fill=\"#ffffff\" fill-rule=\"evenodd\" fill-opacity=\"1\"/>\n",
       "<defs>\n",
       "  <clipPath id=\"clip152\">\n",
       "    <rect x=\"140\" y=\"47\" width=\"2213\" height=\"1440\"/>\n",
       "  </clipPath>\n",
       "</defs>\n",
       "<polyline clip-path=\"url(#clip152)\" style=\"stroke:#000000; stroke-linecap:round; stroke-linejoin:round; stroke-width:2; stroke-opacity:0.1; fill:none\" points=\"203.301,1486.45 203.301,47.2441 \"/>\n",
       "<polyline clip-path=\"url(#clip152)\" style=\"stroke:#000000; stroke-linecap:round; stroke-linejoin:round; stroke-width:2; stroke-opacity:0.1; fill:none\" points=\"725.013,1486.45 725.013,47.2441 \"/>\n",
       "<polyline clip-path=\"url(#clip152)\" style=\"stroke:#000000; stroke-linecap:round; stroke-linejoin:round; stroke-width:2; stroke-opacity:0.1; fill:none\" points=\"1246.73,1486.45 1246.73,47.2441 \"/>\n",
       "<polyline clip-path=\"url(#clip152)\" style=\"stroke:#000000; stroke-linecap:round; stroke-linejoin:round; stroke-width:2; stroke-opacity:0.1; fill:none\" points=\"1768.44,1486.45 1768.44,47.2441 \"/>\n",
       "<polyline clip-path=\"url(#clip152)\" style=\"stroke:#000000; stroke-linecap:round; stroke-linejoin:round; stroke-width:2; stroke-opacity:0.1; fill:none\" points=\"2290.15,1486.45 2290.15,47.2441 \"/>\n",
       "<polyline clip-path=\"url(#clip152)\" style=\"stroke:#000000; stroke-linecap:round; stroke-linejoin:round; stroke-width:2; stroke-opacity:0.1; fill:none\" points=\"140.696,1418.04 2352.76,1418.04 \"/>\n",
       "<polyline clip-path=\"url(#clip152)\" style=\"stroke:#000000; stroke-linecap:round; stroke-linejoin:round; stroke-width:2; stroke-opacity:0.1; fill:none\" points=\"140.696,1135.45 2352.76,1135.45 \"/>\n",
       "<polyline clip-path=\"url(#clip152)\" style=\"stroke:#000000; stroke-linecap:round; stroke-linejoin:round; stroke-width:2; stroke-opacity:0.1; fill:none\" points=\"140.696,852.86 2352.76,852.86 \"/>\n",
       "<polyline clip-path=\"url(#clip152)\" style=\"stroke:#000000; stroke-linecap:round; stroke-linejoin:round; stroke-width:2; stroke-opacity:0.1; fill:none\" points=\"140.696,570.269 2352.76,570.269 \"/>\n",
       "<polyline clip-path=\"url(#clip152)\" style=\"stroke:#000000; stroke-linecap:round; stroke-linejoin:round; stroke-width:2; stroke-opacity:0.1; fill:none\" points=\"140.696,287.679 2352.76,287.679 \"/>\n",
       "<polyline clip-path=\"url(#clip150)\" style=\"stroke:#000000; stroke-linecap:round; stroke-linejoin:round; stroke-width:4; stroke-opacity:1; fill:none\" points=\"140.696,1486.45 2352.76,1486.45 \"/>\n",
       "<polyline clip-path=\"url(#clip150)\" style=\"stroke:#000000; stroke-linecap:round; stroke-linejoin:round; stroke-width:4; stroke-opacity:1; fill:none\" points=\"203.301,1486.45 203.301,1467.55 \"/>\n",
       "<polyline clip-path=\"url(#clip150)\" style=\"stroke:#000000; stroke-linecap:round; stroke-linejoin:round; stroke-width:4; stroke-opacity:1; fill:none\" points=\"725.013,1486.45 725.013,1467.55 \"/>\n",
       "<polyline clip-path=\"url(#clip150)\" style=\"stroke:#000000; stroke-linecap:round; stroke-linejoin:round; stroke-width:4; stroke-opacity:1; fill:none\" points=\"1246.73,1486.45 1246.73,1467.55 \"/>\n",
       "<polyline clip-path=\"url(#clip150)\" style=\"stroke:#000000; stroke-linecap:round; stroke-linejoin:round; stroke-width:4; stroke-opacity:1; fill:none\" points=\"1768.44,1486.45 1768.44,1467.55 \"/>\n",
       "<polyline clip-path=\"url(#clip150)\" style=\"stroke:#000000; stroke-linecap:round; stroke-linejoin:round; stroke-width:4; stroke-opacity:1; fill:none\" points=\"2290.15,1486.45 2290.15,1467.55 \"/>\n",
       "<path clip-path=\"url(#clip150)\" d=\"M180.685 1517.37 Q177.074 1517.37 175.246 1520.93 Q173.44 1524.47 173.44 1531.6 Q173.44 1538.71 175.246 1542.27 Q177.074 1545.82 180.685 1545.82 Q184.32 1545.82 186.125 1542.27 Q187.954 1538.71 187.954 1531.6 Q187.954 1524.47 186.125 1520.93 Q184.32 1517.37 180.685 1517.37 M180.685 1513.66 Q186.496 1513.66 189.551 1518.27 Q192.63 1522.85 192.63 1531.6 Q192.63 1540.33 189.551 1544.94 Q186.496 1549.52 180.685 1549.52 Q174.875 1549.52 171.797 1544.94 Q168.741 1540.33 168.741 1531.6 Q168.741 1522.85 171.797 1518.27 Q174.875 1513.66 180.685 1513.66 Z\" fill=\"#000000\" fill-rule=\"nonzero\" fill-opacity=\"1\" /><path clip-path=\"url(#clip150)\" d=\"M200.847 1542.97 L205.732 1542.97 L205.732 1548.85 L200.847 1548.85 L200.847 1542.97 Z\" fill=\"#000000\" fill-rule=\"nonzero\" fill-opacity=\"1\" /><path clip-path=\"url(#clip150)\" d=\"M225.917 1517.37 Q222.306 1517.37 220.477 1520.93 Q218.671 1524.47 218.671 1531.6 Q218.671 1538.71 220.477 1542.27 Q222.306 1545.82 225.917 1545.82 Q229.551 1545.82 231.356 1542.27 Q233.185 1538.71 233.185 1531.6 Q233.185 1524.47 231.356 1520.93 Q229.551 1517.37 225.917 1517.37 M225.917 1513.66 Q231.727 1513.66 234.782 1518.27 Q237.861 1522.85 237.861 1531.6 Q237.861 1540.33 234.782 1544.94 Q231.727 1549.52 225.917 1549.52 Q220.106 1549.52 217.028 1544.94 Q213.972 1540.33 213.972 1531.6 Q213.972 1522.85 217.028 1518.27 Q220.106 1513.66 225.917 1513.66 Z\" fill=\"#000000\" fill-rule=\"nonzero\" fill-opacity=\"1\" /><path clip-path=\"url(#clip150)\" d=\"M696.75 1544.91 L713.069 1544.91 L713.069 1548.85 L691.125 1548.85 L691.125 1544.91 Q693.787 1542.16 698.37 1537.53 Q702.976 1532.88 704.157 1531.53 Q706.402 1529.01 707.282 1527.27 Q708.185 1525.51 708.185 1523.82 Q708.185 1521.07 706.24 1519.33 Q704.319 1517.6 701.217 1517.6 Q699.018 1517.6 696.564 1518.36 Q694.134 1519.13 691.356 1520.68 L691.356 1515.95 Q694.18 1514.82 696.634 1514.24 Q699.088 1513.66 701.125 1513.66 Q706.495 1513.66 709.689 1516.35 Q712.884 1519.03 712.884 1523.52 Q712.884 1525.65 712.074 1527.57 Q711.287 1529.47 709.18 1532.07 Q708.601 1532.74 705.5 1535.95 Q702.398 1539.15 696.75 1544.91 Z\" fill=\"#000000\" fill-rule=\"nonzero\" fill-opacity=\"1\" /><path clip-path=\"url(#clip150)\" d=\"M722.884 1542.97 L727.768 1542.97 L727.768 1548.85 L722.884 1548.85 L722.884 1542.97 Z\" fill=\"#000000\" fill-rule=\"nonzero\" fill-opacity=\"1\" /><path clip-path=\"url(#clip150)\" d=\"M737.999 1514.29 L756.356 1514.29 L756.356 1518.22 L742.282 1518.22 L742.282 1526.7 Q743.3 1526.35 744.319 1526.19 Q745.337 1526 746.356 1526 Q752.143 1526 755.522 1529.17 Q758.902 1532.34 758.902 1537.76 Q758.902 1543.34 755.43 1546.44 Q751.958 1549.52 745.638 1549.52 Q743.462 1549.52 741.194 1549.15 Q738.948 1548.78 736.541 1548.04 L736.541 1543.34 Q738.624 1544.47 740.847 1545.03 Q743.069 1545.58 745.546 1545.58 Q749.55 1545.58 751.888 1543.48 Q754.226 1541.37 754.226 1537.76 Q754.226 1534.15 751.888 1532.04 Q749.55 1529.94 745.546 1529.94 Q743.671 1529.94 741.796 1530.35 Q739.944 1530.77 737.999 1531.65 L737.999 1514.29 Z\" fill=\"#000000\" fill-rule=\"nonzero\" fill-opacity=\"1\" /><path clip-path=\"url(#clip150)\" d=\"M1213.89 1514.29 L1232.25 1514.29 L1232.25 1518.22 L1218.17 1518.22 L1218.17 1526.7 Q1219.19 1526.35 1220.21 1526.19 Q1221.23 1526 1222.25 1526 Q1228.03 1526 1231.41 1529.17 Q1234.79 1532.34 1234.79 1537.76 Q1234.79 1543.34 1231.32 1546.44 Q1227.85 1549.52 1221.53 1549.52 Q1219.35 1549.52 1217.08 1549.15 Q1214.84 1548.78 1212.43 1548.04 L1212.43 1543.34 Q1214.52 1544.47 1216.74 1545.03 Q1218.96 1545.58 1221.44 1545.58 Q1225.44 1545.58 1227.78 1543.48 Q1230.12 1541.37 1230.12 1537.76 Q1230.12 1534.15 1227.78 1532.04 Q1225.44 1529.94 1221.44 1529.94 Q1219.56 1529.94 1217.69 1530.35 Q1215.83 1530.77 1213.89 1531.65 L1213.89 1514.29 Z\" fill=\"#000000\" fill-rule=\"nonzero\" fill-opacity=\"1\" /><path clip-path=\"url(#clip150)\" d=\"M1244.01 1542.97 L1248.89 1542.97 L1248.89 1548.85 L1244.01 1548.85 L1244.01 1542.97 Z\" fill=\"#000000\" fill-rule=\"nonzero\" fill-opacity=\"1\" /><path clip-path=\"url(#clip150)\" d=\"M1269.08 1517.37 Q1265.46 1517.37 1263.64 1520.93 Q1261.83 1524.47 1261.83 1531.6 Q1261.83 1538.71 1263.64 1542.27 Q1265.46 1545.82 1269.08 1545.82 Q1272.71 1545.82 1274.51 1542.27 Q1276.34 1538.71 1276.34 1531.6 Q1276.34 1524.47 1274.51 1520.93 Q1272.71 1517.37 1269.08 1517.37 M1269.08 1513.66 Q1274.89 1513.66 1277.94 1518.27 Q1281.02 1522.85 1281.02 1531.6 Q1281.02 1540.33 1277.94 1544.94 Q1274.89 1549.52 1269.08 1549.52 Q1263.26 1549.52 1260.19 1544.94 Q1257.13 1540.33 1257.13 1531.6 Q1257.13 1522.85 1260.19 1518.27 Q1263.26 1513.66 1269.08 1513.66 Z\" fill=\"#000000\" fill-rule=\"nonzero\" fill-opacity=\"1\" /><path clip-path=\"url(#clip150)\" d=\"M1734.76 1514.29 L1756.98 1514.29 L1756.98 1516.28 L1744.43 1548.85 L1739.55 1548.85 L1751.35 1518.22 L1734.76 1518.22 L1734.76 1514.29 Z\" fill=\"#000000\" fill-rule=\"nonzero\" fill-opacity=\"1\" /><path clip-path=\"url(#clip150)\" d=\"M1766.1 1542.97 L1770.98 1542.97 L1770.98 1548.85 L1766.1 1548.85 L1766.1 1542.97 Z\" fill=\"#000000\" fill-rule=\"nonzero\" fill-opacity=\"1\" /><path clip-path=\"url(#clip150)\" d=\"M1781.22 1514.29 L1799.57 1514.29 L1799.57 1518.22 L1785.5 1518.22 L1785.5 1526.7 Q1786.52 1526.35 1787.54 1526.19 Q1788.55 1526 1789.57 1526 Q1795.36 1526 1798.74 1529.17 Q1802.12 1532.34 1802.12 1537.76 Q1802.12 1543.34 1798.65 1546.44 Q1795.17 1549.52 1788.85 1549.52 Q1786.68 1549.52 1784.41 1549.15 Q1782.16 1548.78 1779.76 1548.04 L1779.76 1543.34 Q1781.84 1544.47 1784.06 1545.03 Q1786.29 1545.58 1788.76 1545.58 Q1792.77 1545.58 1795.1 1543.48 Q1797.44 1541.37 1797.44 1537.76 Q1797.44 1534.15 1795.1 1532.04 Q1792.77 1529.94 1788.76 1529.94 Q1786.89 1529.94 1785.01 1530.35 Q1783.16 1530.77 1781.22 1531.65 L1781.22 1514.29 Z\" fill=\"#000000\" fill-rule=\"nonzero\" fill-opacity=\"1\" /><path clip-path=\"url(#clip150)\" d=\"M2242.22 1544.91 L2249.86 1544.91 L2249.86 1518.55 L2241.55 1520.21 L2241.55 1515.95 L2249.81 1514.29 L2254.49 1514.29 L2254.49 1544.91 L2262.13 1544.91 L2262.13 1548.85 L2242.22 1548.85 L2242.22 1544.91 Z\" fill=\"#000000\" fill-rule=\"nonzero\" fill-opacity=\"1\" /><path clip-path=\"url(#clip150)\" d=\"M2281.57 1517.37 Q2277.96 1517.37 2276.13 1520.93 Q2274.33 1524.47 2274.33 1531.6 Q2274.33 1538.71 2276.13 1542.27 Q2277.96 1545.82 2281.57 1545.82 Q2285.21 1545.82 2287.01 1542.27 Q2288.84 1538.71 2288.84 1531.6 Q2288.84 1524.47 2287.01 1520.93 Q2285.21 1517.37 2281.57 1517.37 M2281.57 1513.66 Q2287.38 1513.66 2290.44 1518.27 Q2293.52 1522.85 2293.52 1531.6 Q2293.52 1540.33 2290.44 1544.94 Q2287.38 1549.52 2281.57 1549.52 Q2275.76 1549.52 2272.69 1544.94 Q2269.63 1540.33 2269.63 1531.6 Q2269.63 1522.85 2272.69 1518.27 Q2275.76 1513.66 2281.57 1513.66 Z\" fill=\"#000000\" fill-rule=\"nonzero\" fill-opacity=\"1\" /><path clip-path=\"url(#clip150)\" d=\"M2301.74 1542.97 L2306.62 1542.97 L2306.62 1548.85 L2301.74 1548.85 L2301.74 1542.97 Z\" fill=\"#000000\" fill-rule=\"nonzero\" fill-opacity=\"1\" /><path clip-path=\"url(#clip150)\" d=\"M2326.81 1517.37 Q2323.19 1517.37 2321.37 1520.93 Q2319.56 1524.47 2319.56 1531.6 Q2319.56 1538.71 2321.37 1542.27 Q2323.19 1545.82 2326.81 1545.82 Q2330.44 1545.82 2332.25 1542.27 Q2334.07 1538.71 2334.07 1531.6 Q2334.07 1524.47 2332.25 1520.93 Q2330.44 1517.37 2326.81 1517.37 M2326.81 1513.66 Q2332.62 1513.66 2335.67 1518.27 Q2338.75 1522.85 2338.75 1531.6 Q2338.75 1540.33 2335.67 1544.94 Q2332.62 1549.52 2326.81 1549.52 Q2321 1549.52 2317.92 1544.94 Q2314.86 1540.33 2314.86 1531.6 Q2314.86 1522.85 2317.92 1518.27 Q2321 1513.66 2326.81 1513.66 Z\" fill=\"#000000\" fill-rule=\"nonzero\" fill-opacity=\"1\" /><polyline clip-path=\"url(#clip150)\" style=\"stroke:#000000; stroke-linecap:round; stroke-linejoin:round; stroke-width:4; stroke-opacity:1; fill:none\" points=\"140.696,1486.45 140.696,47.2441 \"/>\n",
       "<polyline clip-path=\"url(#clip150)\" style=\"stroke:#000000; stroke-linecap:round; stroke-linejoin:round; stroke-width:4; stroke-opacity:1; fill:none\" points=\"140.696,1418.04 159.593,1418.04 \"/>\n",
       "<polyline clip-path=\"url(#clip150)\" style=\"stroke:#000000; stroke-linecap:round; stroke-linejoin:round; stroke-width:4; stroke-opacity:1; fill:none\" points=\"140.696,1135.45 159.593,1135.45 \"/>\n",
       "<polyline clip-path=\"url(#clip150)\" style=\"stroke:#000000; stroke-linecap:round; stroke-linejoin:round; stroke-width:4; stroke-opacity:1; fill:none\" points=\"140.696,852.86 159.593,852.86 \"/>\n",
       "<polyline clip-path=\"url(#clip150)\" style=\"stroke:#000000; stroke-linecap:round; stroke-linejoin:round; stroke-width:4; stroke-opacity:1; fill:none\" points=\"140.696,570.269 159.593,570.269 \"/>\n",
       "<polyline clip-path=\"url(#clip150)\" style=\"stroke:#000000; stroke-linecap:round; stroke-linejoin:round; stroke-width:4; stroke-opacity:1; fill:none\" points=\"140.696,287.679 159.593,287.679 \"/>\n",
       "<path clip-path=\"url(#clip150)\" d=\"M92.7512 1403.84 Q89.1401 1403.84 87.3114 1407.4 Q85.5058 1410.95 85.5058 1418.08 Q85.5058 1425.18 87.3114 1428.75 Q89.1401 1432.29 92.7512 1432.29 Q96.3854 1432.29 98.1909 1428.75 Q100.02 1425.18 100.02 1418.08 Q100.02 1410.95 98.1909 1407.4 Q96.3854 1403.84 92.7512 1403.84 M92.7512 1400.14 Q98.5613 1400.14 101.617 1404.74 Q104.696 1409.33 104.696 1418.08 Q104.696 1426.8 101.617 1431.41 Q98.5613 1435.99 92.7512 1435.99 Q86.941 1435.99 83.8623 1431.41 Q80.8068 1426.8 80.8068 1418.08 Q80.8068 1409.33 83.8623 1404.74 Q86.941 1400.14 92.7512 1400.14 Z\" fill=\"#000000\" fill-rule=\"nonzero\" fill-opacity=\"1\" /><path clip-path=\"url(#clip150)\" d=\"M83.7929 1118.17 L102.149 1118.17 L102.149 1122.11 L88.0753 1122.11 L88.0753 1130.58 Q89.0938 1130.23 90.1123 1130.07 Q91.1308 1129.88 92.1493 1129.88 Q97.9363 1129.88 101.316 1133.05 Q104.696 1136.23 104.696 1141.64 Q104.696 1147.22 101.223 1150.32 Q97.7511 1153.4 91.4317 1153.4 Q89.2558 1153.4 86.9873 1153.03 Q84.7419 1152.66 82.3346 1151.92 L82.3346 1147.22 Q84.4179 1148.36 86.6401 1148.91 Q88.8623 1149.47 91.3391 1149.47 Q95.3437 1149.47 97.6817 1147.36 Q100.02 1145.25 100.02 1141.64 Q100.02 1138.03 97.6817 1135.93 Q95.3437 1133.82 91.3391 1133.82 Q89.4641 1133.82 87.5892 1134.24 Q85.7373 1134.65 83.7929 1135.53 L83.7929 1118.17 Z\" fill=\"#000000\" fill-rule=\"nonzero\" fill-opacity=\"1\" /><path clip-path=\"url(#clip150)\" d=\"M53.3995 866.205 L61.0384 866.205 L61.0384 839.839 L52.7282 841.506 L52.7282 837.247 L60.9921 835.58 L65.668 835.58 L65.668 866.205 L73.3068 866.205 L73.3068 870.14 L53.3995 870.14 L53.3995 866.205 Z\" fill=\"#000000\" fill-rule=\"nonzero\" fill-opacity=\"1\" /><path clip-path=\"url(#clip150)\" d=\"M92.7512 838.659 Q89.1401 838.659 87.3114 842.223 Q85.5058 845.765 85.5058 852.895 Q85.5058 860.001 87.3114 863.566 Q89.1401 867.108 92.7512 867.108 Q96.3854 867.108 98.1909 863.566 Q100.02 860.001 100.02 852.895 Q100.02 845.765 98.1909 842.223 Q96.3854 838.659 92.7512 838.659 M92.7512 834.955 Q98.5613 834.955 101.617 839.561 Q104.696 844.145 104.696 852.895 Q104.696 861.622 101.617 866.228 Q98.5613 870.811 92.7512 870.811 Q86.941 870.811 83.8623 866.228 Q80.8068 861.622 80.8068 852.895 Q80.8068 844.145 83.8623 839.561 Q86.941 834.955 92.7512 834.955 Z\" fill=\"#000000\" fill-rule=\"nonzero\" fill-opacity=\"1\" /><path clip-path=\"url(#clip150)\" d=\"M54.3949 583.614 L62.0337 583.614 L62.0337 557.249 L53.7236 558.915 L53.7236 554.656 L61.9874 552.989 L66.6633 552.989 L66.6633 583.614 L74.3022 583.614 L74.3022 587.549 L54.3949 587.549 L54.3949 583.614 Z\" fill=\"#000000\" fill-rule=\"nonzero\" fill-opacity=\"1\" /><path clip-path=\"url(#clip150)\" d=\"M83.7929 552.989 L102.149 552.989 L102.149 556.925 L88.0753 556.925 L88.0753 565.397 Q89.0938 565.05 90.1123 564.887 Q91.1308 564.702 92.1493 564.702 Q97.9363 564.702 101.316 567.874 Q104.696 571.045 104.696 576.461 Q104.696 582.04 101.223 585.142 Q97.7511 588.221 91.4317 588.221 Q89.2558 588.221 86.9873 587.85 Q84.7419 587.48 82.3346 586.739 L82.3346 582.04 Q84.4179 583.174 86.6401 583.73 Q88.8623 584.286 91.3391 584.286 Q95.3437 584.286 97.6817 582.179 Q100.02 580.073 100.02 576.461 Q100.02 572.85 97.6817 570.744 Q95.3437 568.637 91.3391 568.637 Q89.4641 568.637 87.5892 569.054 Q85.7373 569.471 83.7929 570.35 L83.7929 552.989 Z\" fill=\"#000000\" fill-rule=\"nonzero\" fill-opacity=\"1\" /><path clip-path=\"url(#clip150)\" d=\"M56.6171 301.024 L72.9365 301.024 L72.9365 304.959 L50.9921 304.959 L50.9921 301.024 Q53.6541 298.269 58.2375 293.639 Q62.8439 288.987 64.0245 287.644 Q66.2698 285.121 67.1494 283.385 Q68.0522 281.626 68.0522 279.936 Q68.0522 277.181 66.1078 275.445 Q64.1865 273.709 61.0847 273.709 Q58.8856 273.709 56.4319 274.473 Q54.0014 275.237 51.2236 276.788 L51.2236 272.065 Q54.0477 270.931 56.5014 270.353 Q58.955 269.774 60.9921 269.774 Q66.3624 269.774 69.5568 272.459 Q72.7513 275.144 72.7513 279.635 Q72.7513 281.764 71.9411 283.686 Q71.1541 285.584 69.0476 288.176 Q68.4689 288.848 65.367 292.065 Q62.2652 295.26 56.6171 301.024 Z\" fill=\"#000000\" fill-rule=\"nonzero\" fill-opacity=\"1\" /><path clip-path=\"url(#clip150)\" d=\"M92.7512 273.478 Q89.1401 273.478 87.3114 277.042 Q85.5058 280.584 85.5058 287.714 Q85.5058 294.82 87.3114 298.385 Q89.1401 301.926 92.7512 301.926 Q96.3854 301.926 98.1909 298.385 Q100.02 294.82 100.02 287.714 Q100.02 280.584 98.1909 277.042 Q96.3854 273.478 92.7512 273.478 M92.7512 269.774 Q98.5613 269.774 101.617 274.38 Q104.696 278.964 104.696 287.714 Q104.696 296.44 101.617 301.047 Q98.5613 305.63 92.7512 305.63 Q86.941 305.63 83.8623 301.047 Q80.8068 296.44 80.8068 287.714 Q80.8068 278.964 83.8623 274.38 Q86.941 269.774 92.7512 269.774 Z\" fill=\"#000000\" fill-rule=\"nonzero\" fill-opacity=\"1\" /><circle clip-path=\"url(#clip152)\" cx=\"203.301\" cy=\"1445.72\" r=\"14.4\" fill=\"#009af9\" fill-rule=\"evenodd\" fill-opacity=\"1\" stroke=\"#000000\" stroke-opacity=\"1\" stroke-width=\"3.2\"/>\n",
       "<circle clip-path=\"url(#clip152)\" cx=\"411.986\" cy=\"1280.13\" r=\"14.4\" fill=\"#009af9\" fill-rule=\"evenodd\" fill-opacity=\"1\" stroke=\"#000000\" stroke-opacity=\"1\" stroke-width=\"3.2\"/>\n",
       "<circle clip-path=\"url(#clip152)\" cx=\"620.671\" cy=\"1095\" r=\"14.4\" fill=\"#009af9\" fill-rule=\"evenodd\" fill-opacity=\"1\" stroke=\"#000000\" stroke-opacity=\"1\" stroke-width=\"3.2\"/>\n",
       "<circle clip-path=\"url(#clip152)\" cx=\"829.356\" cy=\"1087.72\" r=\"14.4\" fill=\"#009af9\" fill-rule=\"evenodd\" fill-opacity=\"1\" stroke=\"#000000\" stroke-opacity=\"1\" stroke-width=\"3.2\"/>\n",
       "<circle clip-path=\"url(#clip152)\" cx=\"1038.04\" cy=\"1096.57\" r=\"14.4\" fill=\"#009af9\" fill-rule=\"evenodd\" fill-opacity=\"1\" stroke=\"#000000\" stroke-opacity=\"1\" stroke-width=\"3.2\"/>\n",
       "<circle clip-path=\"url(#clip152)\" cx=\"1246.73\" cy=\"803.105\" r=\"14.4\" fill=\"#009af9\" fill-rule=\"evenodd\" fill-opacity=\"1\" stroke=\"#000000\" stroke-opacity=\"1\" stroke-width=\"3.2\"/>\n",
       "<circle clip-path=\"url(#clip152)\" cx=\"1455.41\" cy=\"750.263\" r=\"14.4\" fill=\"#009af9\" fill-rule=\"evenodd\" fill-opacity=\"1\" stroke=\"#000000\" stroke-opacity=\"1\" stroke-width=\"3.2\"/>\n",
       "<circle clip-path=\"url(#clip152)\" cx=\"1664.1\" cy=\"504.973\" r=\"14.4\" fill=\"#009af9\" fill-rule=\"evenodd\" fill-opacity=\"1\" stroke=\"#000000\" stroke-opacity=\"1\" stroke-width=\"3.2\"/>\n",
       "<circle clip-path=\"url(#clip152)\" cx=\"1872.78\" cy=\"364.888\" r=\"14.4\" fill=\"#009af9\" fill-rule=\"evenodd\" fill-opacity=\"1\" stroke=\"#000000\" stroke-opacity=\"1\" stroke-width=\"3.2\"/>\n",
       "<circle clip-path=\"url(#clip152)\" cx=\"2081.47\" cy=\"243.555\" r=\"14.4\" fill=\"#009af9\" fill-rule=\"evenodd\" fill-opacity=\"1\" stroke=\"#000000\" stroke-opacity=\"1\" stroke-width=\"3.2\"/>\n",
       "<circle clip-path=\"url(#clip152)\" cx=\"2290.15\" cy=\"87.9763\" r=\"14.4\" fill=\"#009af9\" fill-rule=\"evenodd\" fill-opacity=\"1\" stroke=\"#000000\" stroke-opacity=\"1\" stroke-width=\"3.2\"/>\n",
       "<path clip-path=\"url(#clip150)\" d=\"M214.431 198.898 L488.067 198.898 L488.067 95.2176 L214.431 95.2176  Z\" fill=\"#ffffff\" fill-rule=\"evenodd\" fill-opacity=\"1\"/>\n",
       "<polyline clip-path=\"url(#clip150)\" style=\"stroke:#000000; stroke-linecap:round; stroke-linejoin:round; stroke-width:4; stroke-opacity:1; fill:none\" points=\"214.431,198.898 488.067,198.898 488.067,95.2176 214.431,95.2176 214.431,198.898 \"/>\n",
       "<circle clip-path=\"url(#clip150)\" cx=\"312.745\" cy=\"147.058\" r=\"20.48\" fill=\"#009af9\" fill-rule=\"evenodd\" fill-opacity=\"1\" stroke=\"#000000\" stroke-opacity=\"1\" stroke-width=\"4.55111\"/>\n",
       "<path clip-path=\"url(#clip150)\" d=\"M424.901 166.745 Q423.095 171.375 421.382 172.787 Q419.67 174.199 416.799 174.199 L413.396 174.199 L413.396 170.634 L415.896 170.634 Q417.656 170.634 418.628 169.8 Q419.6 168.967 420.781 165.865 L421.545 163.921 L411.058 138.412 L415.572 138.412 L423.674 158.689 L431.776 138.412 L436.29 138.412 L424.901 166.745 Z\" fill=\"#000000\" fill-rule=\"nonzero\" fill-opacity=\"1\" /><path clip-path=\"url(#clip150)\" d=\"M443.581 160.402 L451.22 160.402 L451.22 134.037 L442.91 135.703 L442.91 131.444 L451.174 129.778 L455.85 129.778 L455.85 160.402 L463.489 160.402 L463.489 164.338 L443.581 164.338 L443.581 160.402 Z\" fill=\"#000000\" fill-rule=\"nonzero\" fill-opacity=\"1\" /></svg>\n"
      ]
     },
     "execution_count": 18,
     "metadata": {},
     "output_type": "execute_result"
    }
   ],
   "source": [
    "scatter(xdata, y_mean)"
   ]
  },
  {
   "cell_type": "code",
   "execution_count": 23,
   "id": "20fda5f1-2c0d-4e28-a94a-c109bb76df33",
   "metadata": {},
   "outputs": [
    {
     "data": {
      "text/plain": [
       "lsqfitting (generic function with 1 method)"
      ]
     },
     "execution_count": 23,
     "metadata": {},
     "output_type": "execute_result"
    }
   ],
   "source": [
    "# this is the least-square fit function if I know sigma\n",
    "function lsqfitting(fitfct, (x,y) , sigma, β0)\n",
    "    fit = curve_fit(fitfct, x, y, 1 ./ sigma, β0)\n",
    "    chi2(β) = sum(abs2, (fitfct(x,β) .- y) ./ sigma)\n",
    "    return fit.param, inv(2*ForwardDiff.hessian(chi2,fit.param)), chi2(fit.param)\n",
    "end"
   ]
  },
  {
   "cell_type": "code",
   "execution_count": 26,
   "id": "657c0656-e59a-42f9-92b9-fa6559a5fce2",
   "metadata": {},
   "outputs": [
    {
     "data": {
      "text/plain": [
       "lsqfitting (generic function with 2 methods)"
      ]
     },
     "execution_count": 26,
     "metadata": {},
     "output_type": "execute_result"
    }
   ],
   "source": [
    "# this is the least-square fit function if I don't know sigma\n",
    "function lsqfitting(fitfct, (x,y), β0)\n",
    "    fit = curve_fit(fitfct, x, y, β0)\n",
    "    lq(β) = sum(abs2, (fitfct(x,β) .- y))\n",
    "    sigma = sqrt(lq(fit.param)/(length(x)-length(β0)))\n",
    "    chi2(β) = sum(abs2, (fitfct(x,β) .- y) ./ sigma)\n",
    "    return fit.param, inv(2*ForwardDiff.hessian(chi2,fit.param)), chi2(fit.param)\n",
    "end"
   ]
  },
  {
   "cell_type": "code",
   "execution_count": 21,
   "id": "018a26dc-3646-40d4-ad13-9a479ee73f80",
   "metadata": {},
   "outputs": [
    {
     "data": {
      "text/plain": [
       "quadeq (generic function with 1 method)"
      ]
     },
     "execution_count": 21,
     "metadata": {},
     "output_type": "execute_result"
    }
   ],
   "source": [
    "lineareq(x,β) = β[1] .+ β[2] .* x\n",
    "quadeq(x,β) = β[1] .+ β[2] .* x .+ β[3] .* x .^2"
   ]
  },
  {
   "cell_type": "code",
   "execution_count": 28,
   "id": "337b7b9c-21c8-429a-963c-319d57eee1c1",
   "metadata": {},
   "outputs": [
    {
     "data": {
      "text/plain": [
       "([-0.8001554362967592, 2.3331339527376147], [0.5202722824932721 -0.08337217915858988; -0.08337217915858987 0.017708701137396483], 3.7558196185582045)"
      ]
     },
     "execution_count": 28,
     "metadata": {},
     "output_type": "execute_result"
    }
   ],
   "source": [
    "#ydata = 1.0 .+ 2.0 .* xdata .+ rand(d,length(xdata))\n",
    "linbeta, lincov, linchi2best = lsqfitting(lineareq, (xdata,y_mean), y_std, [0.0,5.0])"
   ]
  },
  {
   "cell_type": "code",
   "execution_count": 27,
   "id": "3083e922-ff4f-49fc-9c28-23b9eedc3d72",
   "metadata": {},
   "outputs": [
    {
     "data": {
      "text/plain": [
       "([-0.7721127460465959, 2.354377983726314], [0.14624730973389 -0.020892472819127136; -0.020892472819127136 0.004178494563825428], 9.0)"
      ]
     },
     "execution_count": 27,
     "metadata": {},
     "output_type": "execute_result"
    }
   ],
   "source": [
    "#ydata = 1.0 .+ 2.0 .* xdata .+ rand(d,length(xdata))\n",
    "linbeta, lincov, linchi2best = lsqfitting(lineareq, (xdata,y_mean), [0.0,5.0])"
   ]
  },
  {
   "cell_type": "code",
   "execution_count": null,
   "id": "e183eca0-a89a-46c7-9e3e-1fd1ec5e4a6b",
   "metadata": {},
   "outputs": [],
   "source": [
    "ydata = 1.0 .+ 2.0 .* xdata + 0.2 .* xdata .^2 .+ rand(d,length(xdata))\n",
    "quadbeta, quadcov, quadchi2best = lsqfitting(quadeq, (xdata,ydata), sigma_y, [0.8,2.5,0.3])"
   ]
  },
  {
   "cell_type": "code",
   "execution_count": null,
   "id": "b79614c0-1b14-4288-b8f6-af76ec64b0b3",
   "metadata": {},
   "outputs": [],
   "source": [
    "sqrt.(diag(lincov))"
   ]
  },
  {
   "cell_type": "code",
   "execution_count": null,
   "id": "f1eea1a8-dd8e-402a-bb8e-a9ce6297e302",
   "metadata": {},
   "outputs": [],
   "source": [
    "sqrt.(diag(quadcov))"
   ]
  },
  {
   "cell_type": "code",
   "execution_count": null,
   "id": "56ff850d-ecb0-43c3-a70c-6a96089cd92e",
   "metadata": {},
   "outputs": [],
   "source": [
    "det(lincov)"
   ]
  },
  {
   "cell_type": "code",
   "execution_count": null,
   "id": "967d4d3b-2dc5-47e2-a28e-e7ad903086e7",
   "metadata": {},
   "outputs": [],
   "source": [
    "det(quadcov)"
   ]
  },
  {
   "cell_type": "code",
   "execution_count": null,
   "id": "70f4f355-9c6f-433d-aeea-a9e95eff474a",
   "metadata": {},
   "outputs": [],
   "source": [
    "pr = exp(-(linchi2best-quadchi2best)/2)*0.5/sqrt.(diag(quadcov))[3]/sqrt(2*π)"
   ]
  },
  {
   "cell_type": "code",
   "execution_count": null,
   "id": "57d2002b-9521-49be-a5a3-13f7e67e9ece",
   "metadata": {},
   "outputs": [],
   "source": [
    "# lets try it with the covariance matrix\n",
    "sqrt(det(lincov)/det(quadcov))/sqrt(2*π)"
   ]
  },
  {
   "cell_type": "code",
   "execution_count": null,
   "id": "6fbdae5f-31ea-4457-8356-f10c443cf394",
   "metadata": {},
   "outputs": [],
   "source": [
    "exp(-(linchi2best-quadchi2best)/2)"
   ]
  },
  {
   "cell_type": "code",
   "execution_count": null,
   "id": "dbc2afa9-6aea-4b4e-9e79-88d0f2a6f2f0",
   "metadata": {},
   "outputs": [],
   "source": [
    "# In this case it gives the same result!\n",
    "pr2 = exp(-(linchi2best-quadchi2best)/2)*sqrt(det(lincov)/det(quadcov))/sqrt(2*π)*0.5"
   ]
  },
  {
   "cell_type": "code",
   "execution_count": null,
   "id": "9ef9cd4d-6198-440f-8f78-34bb69fe93f3",
   "metadata": {},
   "outputs": [],
   "source": []
  }
 ],
 "metadata": {
  "kernelspec": {
   "display_name": "Julia 1.11.4",
   "language": "julia",
   "name": "julia-1.11"
  },
  "language_info": {
   "file_extension": ".jl",
   "mimetype": "application/julia",
   "name": "julia",
   "version": "1.11.4"
  }
 },
 "nbformat": 4,
 "nbformat_minor": 5
}
