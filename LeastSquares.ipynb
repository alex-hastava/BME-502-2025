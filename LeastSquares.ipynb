{
 "cells": [
  {
   "cell_type": "code",
   "execution_count": 1,
   "id": "bec37242-9cc6-48cc-9563-d52d1d2ec3b4",
   "metadata": {},
   "outputs": [
    {
     "name": "stderr",
     "output_type": "stream",
     "text": [
      "\u001b[32m\u001b[1m  Activating\u001b[22m\u001b[39m project at `c:\\Users\\Hasta\\OneDrive\\Documents\\!!SBU BME (B.E.-M.S.)\\BME 502 (Analy App Bio Syst)\\BME-502-2025`\n"
     ]
    }
   ],
   "source": [
    "import Pkg\n",
    "Pkg.activate(\".\")"
   ]
  },
  {
   "cell_type": "code",
   "execution_count": 2,
   "id": "3dca9c4f-49c3-4ed1-85a9-8bbc97198320",
   "metadata": {},
   "outputs": [
    {
     "name": "stderr",
     "output_type": "stream",
     "text": [
      "\u001b[32m\u001b[1m   Resolving\u001b[22m\u001b[39m package versions...\n",
      "\u001b[32m\u001b[1m  No Changes\u001b[22m\u001b[39m to `C:\\Users\\Hasta\\OneDrive\\Documents\\!!SBU BME (B.E.-M.S.)\\BME 502 (Analy App Bio Syst)\\BME-502-2025\\Project.toml`\n",
      "\u001b[32m\u001b[1m  No Changes\u001b[22m\u001b[39m to `C:\\Users\\Hasta\\OneDrive\\Documents\\!!SBU BME (B.E.-M.S.)\\BME 502 (Analy App Bio Syst)\\BME-502-2025\\Manifest.toml`\n"
     ]
    }
   ],
   "source": [
    "Pkg.add([\"NonlinearSolve\",\"Plots\",\"ForwardDiff\",\"LsqFit\",\"Statistics\"])"
   ]
  },
  {
   "cell_type": "markdown",
   "id": "d499e47d-17c7-4135-b505-1883441bf2d6",
   "metadata": {},
   "source": [
    "# Linear Least Squares\n",
    "We define a linear fit function as follows\n",
    "$$f(x, \\boldsymbol \\beta) = \\sum_{j = 1}^m \\beta_j \\phi_j(x)$$\n",
    "We create matrices of the independent and dependent variables\n",
    "$$X_{ij}= \\phi_j(x_{i})$$\n",
    "$$Y$$\n",
    "We express $\\mathcal{X} ^2$ as a function of the data $D$ and the parameters $\\beta$:\n",
    "$$\\mathcal{X}^2(D, \\boldsymbol{\\beta}) = \\left\\|Y - X\\boldsymbol{\\beta} \\right\\|^2\n",
    "= (Y - X\\boldsymbol{\\beta})^\\mathsf{T} (Y - X\\boldsymbol{\\beta})\n",
    "= Y^\\mathsf{T}Y- Y^\\mathsf{T}X\\boldsymbol{\\beta}- \\boldsymbol{\\beta}^\\mathsf{T}X^\\mathsf{T}Y + \\boldsymbol{\\beta}^\\mathsf{T}X^\\mathsf{T}X\\boldsymbol{\\beta}$$\n",
    "$$= Y^\\mathsf{T}Y- X^\\mathsf{T}Y\\boldsymbol{\\beta}- X^\\mathsf{T}Y\\boldsymbol{\\beta} + \\boldsymbol{\\beta}^\\mathsf{T}X^\\mathsf{T}X\\boldsymbol{\\beta}$$\n",
    "comment: we apply $(AB)^\\mathsf{T} = B^\\mathsf{T}A^\\mathsf{T}$ since all terms above are scalar\n",
    "\n",
    "We find the minimum $\\mathcal{X} ^2$ by taking the first derivative with respect to the parameters\n",
    "$$\\frac{\\partial \\mathcal{X}^2(D, \\boldsymbol{\\beta})}{\\partial \\boldsymbol{\\beta}}\n",
    "= \\frac{\\partial \\left(Y^\\mathsf{T}Y- X^\\mathsf{T}Y\\boldsymbol{\\beta}- X^\\mathsf{T}Y\\boldsymbol{\\beta} + X^\\mathsf{T}X\\boldsymbol{\\beta}^2\\right)}{\\partial \\boldsymbol{\\beta}}\n",
    "= -2X^\\mathsf{T}Y + 2X^\\mathsf{T}X\\boldsymbol{\\beta}$$\n",
    "$$-2X^\\mathsf{T}Y + 2X^\\mathsf{T}X\\boldsymbol{\\beta} = 0$$\n",
    "Best fit parameters\n",
    "$$\\boldsymbol{\\hat{\\beta}} = \\left(X^\\mathsf{T}X\\right)^{-1} X^\\mathsf{T}Y$$"
   ]
  },
  {
   "cell_type": "markdown",
   "id": "478ea596-dfad-4028-8ca0-f2516bc36265",
   "metadata": {},
   "source": [
    "# Nonlinear Least Squares\n",
    "Solution by iteration:\n",
    "$${\\beta_j}^{k+1} = {\\beta_j}^k+\\Delta \\beta_j,$$\n",
    "We begin by expanding $f(x,\\beta)$ around $\\beta^k$ using the Taylor series\n",
    "$$\\begin{align}\n",
    "f(x_i,\\boldsymbol \\beta)\n",
    "&= f^k(x_i,\\boldsymbol \\beta) +\\sum_j \\frac{\\partial f(x_i,\\boldsymbol \\beta)}{\\partial \\beta_j} \\left(\\beta_j-{\\beta_j}^k \\right) \\\\[1ex]\n",
    "&= f^k(x_i,\\boldsymbol \\beta) +\\sum_j J_{ij} \\,\\Delta\\beta_j.\n",
    "\\end{align}$$\n",
    "The residuals can now be written as:\n",
    "$$r_i = y_i - f^k(x_i, \\boldsymbol \\beta)- \\sum_{k=1}^{m} J_{ik}\\,\\Delta\\beta_k = \\Delta y_i- \\sum_{j=1}^m J_{ij}\\,\\Delta\\beta_j.$$\n",
    "<!---\n",
    "$$-2\\sum_{i=1}^n J_{ij} \\left( \\Delta y_i-\\sum_{k=1}^m J_{ik} \\, \\Delta \\beta_k \\right) = 0,$$\n",
    "$$\\sum_{i=1}^{n}\\sum_{k=1}^m J_{ij} J_{ik} \\, \\Delta \\beta_k=\\sum_{i=1}^n J_{ij} \\, \\Delta y_i \\qquad (j=1,\\ldots,m).$$\n",
    "-->\n",
    "We then solve for $\\Delta \\beta$ using the same technique as for Linear Least Squares\n",
    "$$\\left(\\mathbf{J}^\\mathsf{T} \\mathbf{J}\\right) \\Delta \\boldsymbol \\beta = \\mathbf{J}^\\mathsf{T}\\Delta \\mathbf{y}.$$\n",
    "$$\\Delta \\boldsymbol \\beta = \\left(\\mathbf{J}^\\mathsf{T} \\mathbf{J}\\right)^{-1}\\mathbf{J}^\\mathsf{T}\\Delta \\mathbf{y}$$\n",
    "<!---\n",
    "$$\\mathbf{\\left(J^TWJ\\right) \\, \\Delta \\boldsymbol \\beta=J^TW \\, \\Delta y}$$\n",
    "-->"
   ]
  },
  {
   "cell_type": "code",
   "execution_count": null,
   "id": "abb03976-8d40-47eb-9c28-d5d0dbac6304",
   "metadata": {},
   "outputs": [],
   "source": []
  }
 ],
 "metadata": {
  "kernelspec": {
   "display_name": "Julia 1.11.3",
   "language": "julia",
   "name": "julia-1.11"
  },
  "language_info": {
   "file_extension": ".jl",
   "mimetype": "application/julia",
   "name": "julia",
   "version": "1.11.3"
  }
 },
 "nbformat": 4,
 "nbformat_minor": 5
}
